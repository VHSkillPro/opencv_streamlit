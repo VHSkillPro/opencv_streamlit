{
 "cells": [
  {
   "cell_type": "code",
   "execution_count": 1,
   "metadata": {},
   "outputs": [
    {
     "name": "stdout",
     "output_type": "stream",
     "text": [
      "Train dataset: 50000\n",
      "Validation dataset: 10000\n",
      "Test dataset: 10000\n"
     ]
    }
   ],
   "source": [
    "from torchvision import datasets, transforms\n",
    "from torch.utils.data import DataLoader, random_split\n",
    "\n",
    "BATCH_SIZE = 64\n",
    "\n",
    "train_dataset = datasets.MNIST(\n",
    "    root=\"../handwriting_letter_recognition\",\n",
    "    train=True,\n",
    "    download=True,\n",
    "    transform=transforms.ToTensor(),\n",
    ")\n",
    "test_dataset = datasets.MNIST(\n",
    "    root=\"../handwriting_letter_recognition\",\n",
    "    train=False,\n",
    "    download=True,\n",
    "    transform=transforms.ToTensor(),\n",
    ")\n",
    "\n",
    "train_dataset, val_dataset = random_split(train_dataset, [50000, 10000])\n",
    "train_loader = DataLoader(dataset=train_dataset, batch_size=BATCH_SIZE, shuffle=True)\n",
    "val_loader = DataLoader(dataset=val_dataset, batch_size=BATCH_SIZE, shuffle=False)\n",
    "test_loader = DataLoader(dataset=test_dataset, batch_size=BATCH_SIZE, shuffle=False)\n",
    "\n",
    "print(f\"Train dataset: {len(train_dataset)}\")\n",
    "print(f\"Validation dataset: {len(val_dataset)}\")\n",
    "print(f\"Test dataset: {len(test_dataset)}\")"
   ]
  },
  {
   "cell_type": "code",
   "execution_count": 2,
   "metadata": {},
   "outputs": [
    {
     "name": "stdout",
     "output_type": "stream",
     "text": [
      "----------------------------------------------------------------\n",
      "        Layer (type)               Output Shape         Param #\n",
      "================================================================\n",
      "            Conv2d-1           [-1, 32, 26, 26]             320\n",
      "           Sigmoid-2           [-1, 32, 26, 26]               0\n",
      "         MaxPool2d-3           [-1, 32, 13, 13]               0\n",
      "            Linear-4                   [-1, 10]          54,090\n",
      "================================================================\n",
      "Total params: 54,410\n",
      "Trainable params: 54,410\n",
      "Non-trainable params: 0\n",
      "----------------------------------------------------------------\n",
      "Input size (MB): 0.00\n",
      "Forward/backward pass size (MB): 0.37\n",
      "Params size (MB): 0.21\n",
      "Estimated Total Size (MB): 0.58\n",
      "----------------------------------------------------------------\n"
     ]
    }
   ],
   "source": [
    "import torch\n",
    "from torch import nn, optim\n",
    "from torchsummary import summary\n",
    "\n",
    "NUM_CLASSES = 10\n",
    "LEARNING_RATE = 0.001\n",
    "\n",
    "\n",
    "class MNISTModel(nn.Module):\n",
    "    def __init__(self):\n",
    "        super(MNISTModel, self).__init__()\n",
    "        self.conv = nn.Conv2d(in_channels=1, out_channels=32, kernel_size=3)\n",
    "        self.sigmoid = nn.Sigmoid()\n",
    "        self.pool = nn.MaxPool2d(kernel_size=2, stride=2)\n",
    "        self.fc = nn.Linear(32 * 13 * 13, NUM_CLASSES)\n",
    "\n",
    "    def forward(self, x):\n",
    "        x = self.conv(x)\n",
    "        x = self.sigmoid(x)\n",
    "        x = self.pool(x)\n",
    "        x = torch.flatten(x, start_dim=1)\n",
    "        x = self.fc(x)\n",
    "        return x\n",
    "\n",
    "\n",
    "device = torch.device(\"cuda\" if torch.cuda.is_available() else \"cpu\")\n",
    "model = MNISTModel().to(device)\n",
    "criterion = nn.CrossEntropyLoss()\n",
    "optimizer = optim.Adam(model.parameters(), lr=LEARNING_RATE)\n",
    "\n",
    "summary(model, (1, 28, 28), device=device.type)"
   ]
  },
  {
   "cell_type": "code",
   "execution_count": 3,
   "metadata": {},
   "outputs": [
    {
     "name": "stderr",
     "output_type": "stream",
     "text": [
      "Epoch 0 - loss: 0.8559 - accuracy: 0.7410: 100%|██████████| 782/782 [00:00<00:00, 818.26it/s]   \n"
     ]
    },
    {
     "name": "stdout",
     "output_type": "stream",
     "text": [
      "Epoch 0 - loss: 0.8559 - accuracy: 0.7410 - val_loss: 0.3836 - val_accuracy: 0.8846\n"
     ]
    },
    {
     "name": "stderr",
     "output_type": "stream",
     "text": [
      "Epoch 1 - loss: 0.3666 - accuracy: 0.8886: 100%|██████████| 782/782 [00:07<00:00, 99.29it/s]\n"
     ]
    },
    {
     "name": "stdout",
     "output_type": "stream",
     "text": [
      "Epoch 1 - loss: 0.3666 - accuracy: 0.8886 - val_loss: 0.3271 - val_accuracy: 0.8972\n"
     ]
    },
    {
     "name": "stderr",
     "output_type": "stream",
     "text": [
      "Epoch 2 - loss: 0.3219 - accuracy: 0.9024: 100%|██████████| 782/782 [00:14<00:00, 52.57it/s] \n"
     ]
    },
    {
     "name": "stdout",
     "output_type": "stream",
     "text": [
      "Epoch 2 - loss: 0.3219 - accuracy: 0.9024 - val_loss: 0.3258 - val_accuracy: 0.9056\n"
     ]
    },
    {
     "name": "stderr",
     "output_type": "stream",
     "text": [
      "Epoch 3 - loss: 0.2734 - accuracy: 0.9198: 100%|██████████| 782/782 [00:01<00:00, 493.82it/s]   \n"
     ]
    },
    {
     "name": "stdout",
     "output_type": "stream",
     "text": [
      "Epoch 3 - loss: 0.2734 - accuracy: 0.9198 - val_loss: 0.2336 - val_accuracy: 0.9304\n"
     ]
    },
    {
     "name": "stderr",
     "output_type": "stream",
     "text": [
      "Epoch 4 - loss: 0.2321 - accuracy: 0.9308: 100%|██████████| 782/782 [00:08<00:00, 97.74it/s] \n"
     ]
    },
    {
     "name": "stdout",
     "output_type": "stream",
     "text": [
      "Epoch 4 - loss: 0.2321 - accuracy: 0.9308 - val_loss: 0.1904 - val_accuracy: 0.9467\n"
     ]
    },
    {
     "name": "stderr",
     "output_type": "stream",
     "text": [
      "Epoch 5 - loss: 0.1966 - accuracy: 0.9421: 100%|██████████| 782/782 [00:14<00:00, 52.44it/s] \n"
     ]
    },
    {
     "name": "stdout",
     "output_type": "stream",
     "text": [
      "Epoch 5 - loss: 0.1966 - accuracy: 0.9421 - val_loss: 0.1769 - val_accuracy: 0.9476\n"
     ]
    },
    {
     "name": "stderr",
     "output_type": "stream",
     "text": [
      "Epoch 6 - loss: 0.1712 - accuracy: 0.9496: 100%|██████████| 782/782 [00:01<00:00, 654.67it/s]  \n"
     ]
    },
    {
     "name": "stdout",
     "output_type": "stream",
     "text": [
      "Epoch 6 - loss: 0.1712 - accuracy: 0.9496 - val_loss: 0.1545 - val_accuracy: 0.9513\n"
     ]
    },
    {
     "name": "stderr",
     "output_type": "stream",
     "text": [
      "Epoch 7 - loss: 0.1439 - accuracy: 0.9572: 100%|██████████| 782/782 [00:07<00:00, 98.38it/s] \n"
     ]
    },
    {
     "name": "stdout",
     "output_type": "stream",
     "text": [
      "Epoch 7 - loss: 0.1439 - accuracy: 0.9572 - val_loss: 0.1460 - val_accuracy: 0.9561\n"
     ]
    },
    {
     "name": "stderr",
     "output_type": "stream",
     "text": [
      "Epoch 8 - loss: 0.1225 - accuracy: 0.9638: 100%|██████████| 782/782 [00:08<00:00, 96.38it/s]\n"
     ]
    },
    {
     "name": "stdout",
     "output_type": "stream",
     "text": [
      "Epoch 8 - loss: 0.1225 - accuracy: 0.9638 - val_loss: 0.1002 - val_accuracy: 0.9711\n"
     ]
    },
    {
     "name": "stderr",
     "output_type": "stream",
     "text": [
      "Epoch 9 - loss: 0.1153 - accuracy: 0.9651: 100%|██████████| 782/782 [00:08<00:00, 95.10it/s] \n"
     ]
    },
    {
     "name": "stdout",
     "output_type": "stream",
     "text": [
      "Epoch 9 - loss: 0.1153 - accuracy: 0.9651 - val_loss: 0.1099 - val_accuracy: 0.9678\n"
     ]
    },
    {
     "name": "stderr",
     "output_type": "stream",
     "text": [
      "Epoch 10 - loss: 0.1047 - accuracy: 0.9681: 100%|██████████| 782/782 [00:07<00:00, 103.99it/s]\n"
     ]
    },
    {
     "name": "stdout",
     "output_type": "stream",
     "text": [
      "Epoch 10 - loss: 0.1047 - accuracy: 0.9681 - val_loss: 0.1300 - val_accuracy: 0.9619\n"
     ]
    },
    {
     "name": "stderr",
     "output_type": "stream",
     "text": [
      "Epoch 11 - loss: 0.0967 - accuracy: 0.9701: 100%|██████████| 782/782 [00:07<00:00, 100.69it/s]\n"
     ]
    },
    {
     "name": "stdout",
     "output_type": "stream",
     "text": [
      "Epoch 11 - loss: 0.0967 - accuracy: 0.9701 - val_loss: 0.0949 - val_accuracy: 0.9720\n"
     ]
    },
    {
     "name": "stderr",
     "output_type": "stream",
     "text": [
      "Epoch 12 - loss: 0.0878 - accuracy: 0.9730: 100%|██████████| 782/782 [00:14<00:00, 54.48it/s]\n"
     ]
    },
    {
     "name": "stdout",
     "output_type": "stream",
     "text": [
      "Epoch 12 - loss: 0.0878 - accuracy: 0.9730 - val_loss: 0.0800 - val_accuracy: 0.9780\n"
     ]
    },
    {
     "name": "stderr",
     "output_type": "stream",
     "text": [
      "Epoch 13 - loss: 0.0774 - accuracy: 0.9764: 100%|██████████| 782/782 [00:07<00:00, 105.13it/s]\n"
     ]
    },
    {
     "name": "stdout",
     "output_type": "stream",
     "text": [
      "Epoch 13 - loss: 0.0774 - accuracy: 0.9764 - val_loss: 0.1029 - val_accuracy: 0.9688\n"
     ]
    },
    {
     "name": "stderr",
     "output_type": "stream",
     "text": [
      "Epoch 14 - loss: 0.0774 - accuracy: 0.9768: 100%|██████████| 782/782 [00:07<00:00, 97.79it/s] \n"
     ]
    },
    {
     "name": "stdout",
     "output_type": "stream",
     "text": [
      "Epoch 14 - loss: 0.0774 - accuracy: 0.9768 - val_loss: 0.0962 - val_accuracy: 0.9733\n"
     ]
    },
    {
     "name": "stderr",
     "output_type": "stream",
     "text": [
      "Epoch 15 - loss: 0.0735 - accuracy: 0.9770: 100%|██████████| 782/782 [00:08<00:00, 95.75it/s]\n"
     ]
    },
    {
     "name": "stdout",
     "output_type": "stream",
     "text": [
      "Epoch 15 - loss: 0.0735 - accuracy: 0.9770 - val_loss: 0.0907 - val_accuracy: 0.9746\n"
     ]
    },
    {
     "name": "stderr",
     "output_type": "stream",
     "text": [
      "Epoch 16 - loss: 0.0672 - accuracy: 0.9792: 100%|██████████| 782/782 [00:08<00:00, 97.55it/s]\n"
     ]
    },
    {
     "name": "stdout",
     "output_type": "stream",
     "text": [
      "Epoch 16 - loss: 0.0672 - accuracy: 0.9792 - val_loss: 0.0760 - val_accuracy: 0.9776\n"
     ]
    },
    {
     "name": "stderr",
     "output_type": "stream",
     "text": [
      "Epoch 17 - loss: 0.0634 - accuracy: 0.9802: 100%|██████████| 782/782 [00:08<00:00, 95.17it/s]\n"
     ]
    },
    {
     "name": "stdout",
     "output_type": "stream",
     "text": [
      "Epoch 17 - loss: 0.0634 - accuracy: 0.9802 - val_loss: 0.0714 - val_accuracy: 0.9791\n"
     ]
    },
    {
     "name": "stderr",
     "output_type": "stream",
     "text": [
      "Epoch 18 - loss: 0.0599 - accuracy: 0.9815: 100%|██████████| 782/782 [00:07<00:00, 97.78it/s]\n"
     ]
    },
    {
     "name": "stdout",
     "output_type": "stream",
     "text": [
      "Epoch 18 - loss: 0.0599 - accuracy: 0.9815 - val_loss: 0.0765 - val_accuracy: 0.9794\n"
     ]
    },
    {
     "name": "stderr",
     "output_type": "stream",
     "text": [
      "Epoch 19 - loss: 0.0571 - accuracy: 0.9818: 100%|██████████| 782/782 [00:14<00:00, 54.39it/s] \n"
     ]
    },
    {
     "name": "stdout",
     "output_type": "stream",
     "text": [
      "Epoch 19 - loss: 0.0571 - accuracy: 0.9818 - val_loss: 0.1035 - val_accuracy: 0.9699\n"
     ]
    }
   ],
   "source": [
    "from tqdm import tqdm\n",
    "\n",
    "history = {\n",
    "    \"accuracy\": [],\n",
    "    \"loss\": [],\n",
    "    \"val_accuracy\": [],\n",
    "    \"val_loss\": [],\n",
    "}\n",
    "\n",
    "EPOCHS = 20\n",
    "for epoch in range(EPOCHS):\n",
    "    model.train()\n",
    "    loss_sum = 0\n",
    "    correct = 0\n",
    "\n",
    "    train_pbar = tqdm(train_loader, total=len(train_loader))\n",
    "    for i, (images, labels) in enumerate(train_pbar):\n",
    "        images, labels = images.to(device), labels.to(device)\n",
    "\n",
    "        outputs = model(images)\n",
    "        loss = criterion(outputs, labels)\n",
    "\n",
    "        optimizer.zero_grad()\n",
    "        loss.backward()\n",
    "        optimizer.step()\n",
    "\n",
    "        loss_sum += loss.item()\n",
    "        probabilities = torch.softmax(outputs, dim=1)\n",
    "        predicted = torch.argmax(probabilities, dim=1)\n",
    "        correct += (predicted == labels).sum().item()\n",
    "\n",
    "        train_pbar.set_description(\n",
    "            f\"Epoch {epoch} - loss: {loss_sum / (i + 1):.4f} - accuracy: {correct / len(train_dataset):.4f}\"\n",
    "        )\n",
    "\n",
    "    val_loss_sum = 0\n",
    "    val_correct = 0\n",
    "    for images, labels in val_loader:\n",
    "        images, labels = images.to(device), labels.to(device)\n",
    "\n",
    "        outputs = model(images)\n",
    "        loss = criterion(outputs, labels)\n",
    "\n",
    "        val_loss_sum += loss.item()\n",
    "        probabilities = torch.softmax(outputs, dim=1)\n",
    "        predicted = torch.argmax(probabilities, dim=1)\n",
    "        val_correct += (predicted == labels).sum().item()\n",
    "\n",
    "    history[\"loss\"].append(loss_sum / len(train_loader))\n",
    "    history[\"accuracy\"].append(correct / len(train_dataset))\n",
    "    history[\"val_loss\"].append(val_loss_sum / len(val_loader))\n",
    "    history[\"val_accuracy\"].append(val_correct / len(val_dataset))\n",
    "\n",
    "    print(\n",
    "        f\"Epoch {epoch} - loss: {loss_sum / len(train_loader):.4f} - accuracy: {correct / len(train_dataset):.4f} - val_loss: {val_loss_sum / len(val_loader):.4f} - val_accuracy: {val_correct / len(val_dataset):.4f}\"\n",
    "    )"
   ]
  },
  {
   "cell_type": "code",
   "execution_count": 4,
   "metadata": {},
   "outputs": [],
   "source": [
    "import json\n",
    "\n",
    "with open(\"history.json\", \"w\") as f:\n",
    "    json.dump(history, f)"
   ]
  },
  {
   "cell_type": "code",
   "execution_count": 5,
   "metadata": {},
   "outputs": [],
   "source": [
    "torch.save(model.state_dict(), \"mnist_model.pth\")"
   ]
  }
 ],
 "metadata": {
  "kernelspec": {
   "display_name": "opencv_streamlit",
   "language": "python",
   "name": "python3"
  },
  "language_info": {
   "codemirror_mode": {
    "name": "ipython",
    "version": 3
   },
   "file_extension": ".py",
   "mimetype": "text/x-python",
   "name": "python",
   "nbconvert_exporter": "python",
   "pygments_lexer": "ipython3",
   "version": "3.12.2"
  }
 },
 "nbformat": 4,
 "nbformat_minor": 2
}
