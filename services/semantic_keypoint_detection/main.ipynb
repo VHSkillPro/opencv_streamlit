{
 "cells": [
  {
   "cell_type": "code",
   "execution_count": 1,
   "metadata": {},
   "outputs": [],
   "source": [
    "%load_ext autoreload\n",
    "%autoreload 2"
   ]
  },
  {
   "cell_type": "code",
   "execution_count": 2,
   "metadata": {},
   "outputs": [
    {
     "name": "stdout",
     "output_type": "stream",
     "text": [
      "/home/hazzu/Code/opencv_streamlit\n"
     ]
    }
   ],
   "source": [
    "%cd ../.."
   ]
  },
  {
   "cell_type": "code",
   "execution_count": 5,
   "metadata": {},
   "outputs": [],
   "source": [
    "import numpy as np\n",
    "\n",
    "\n",
    "def get_precision_and_recall(ground_truth: np.ndarray, pred: np.ndarray, threshold=5):\n",
    "    \"\"\"\n",
    "    Calculate precision and recall of the predicted points.\n",
    "\n",
    "    Input:\n",
    "    - ground_truth: np.ndarray of shape (N, 2) containing the ground truth points.\n",
    "    - pred: np.ndarray of shape (M, 2) containing the predicted points.\n",
    "\n",
    "    Output:\n",
    "    - (precision, recall): Tuple of floats containing the precision and recall.\n",
    "    \"\"\"\n",
    "\n",
    "    if len(ground_truth) == 0 or len(pred) == 0:\n",
    "        return (0, 0)\n",
    "\n",
    "    tp, fn, fp = 0, 0, 0\n",
    "    for point in pred:\n",
    "        distance = np.linalg.norm(ground_truth - point, axis=1)\n",
    "        if np.any(distance <= threshold):\n",
    "            tp += 1\n",
    "        else:\n",
    "            fp += 1\n",
    "\n",
    "    for point in ground_truth:\n",
    "        distance = np.linalg.norm(pred - point, axis=1)\n",
    "        if not np.any(distance <= threshold):\n",
    "            fn += 1\n",
    "\n",
    "    if tp + fp == 0 or tp + fn == 0:\n",
    "        return (0, 0)\n",
    "    return (tp / (tp + fp), tp / (tp + fn))"
   ]
  },
  {
   "cell_type": "code",
   "execution_count": 9,
   "metadata": {},
   "outputs": [
    {
     "name": "stderr",
     "output_type": "stream",
     "text": [
      "Calculating PR of shape 0: 100%|██████████| 500/500 [00:02<00:00, 233.20it/s]\n",
      "Calculating PR of shape 1: 100%|██████████| 500/500 [00:01<00:00, 290.31it/s]\n",
      "Calculating PR of shape 2: 100%|██████████| 500/500 [00:01<00:00, 350.28it/s]\n",
      "Calculating PR of shape 3: 100%|██████████| 500/500 [00:01<00:00, 313.39it/s]\n",
      "Calculating PR of shape 4: 100%|██████████| 500/500 [00:02<00:00, 226.11it/s]\n",
      "Calculating PR of shape 5: 100%|██████████| 500/500 [00:01<00:00, 345.79it/s]\n",
      "Calculating PR of shape 6: 100%|██████████| 500/500 [-1:59:40<00:00, -24.64it/s]\n",
      "Calculating PR of shape 7: 100%|██████████| 500/500 [00:01<00:00, 338.69it/s]\n"
     ]
    }
   ],
   "source": [
    "import os, cv2\n",
    "import numpy as np\n",
    "from tqdm import tqdm\n",
    "from services.semantic_keypoint_detection.services import DATATYPES\n",
    "\n",
    "sift = cv2.SIFT_create()\n",
    "orb = cv2.ORB_create()\n",
    "\n",
    "pr_sift, pr_orb = [], []\n",
    "for i in range(8):\n",
    "    _pr_sift, _pr_orb = [], []\n",
    "    for j in tqdm(range(500), f\"Calculating PR of shape {i}\"):\n",
    "        image = cv2.imread(os.path.join(DATATYPES[i], \"images\", f\"{j}.png\"))\n",
    "        ground_truth = np.load(os.path.join(DATATYPES[i], \"points\", f\"{j}.npy\"))\n",
    "        gray = cv2.cvtColor(image, cv2.COLOR_BGR2GRAY)\n",
    "\n",
    "        pred_sift = sift.detect(gray, None)\n",
    "        pref_orb = orb.detect(gray, None)\n",
    "\n",
    "        pred_sift = np.array([[kp.pt[1], kp.pt[0]] for kp in pred_sift])\n",
    "        pref_orb = np.array([[kp.pt[1], kp.pt[0]] for kp in pref_orb])\n",
    "\n",
    "        _pr_sift.append(get_precision_and_recall(ground_truth, pred_sift))\n",
    "        _pr_orb.append(get_precision_and_recall(ground_truth, pref_orb))\n",
    "\n",
    "    pr_sift.append(_pr_sift)\n",
    "    pr_orb.append(_pr_orb)"
   ]
  },
  {
   "cell_type": "code",
   "execution_count": 10,
   "metadata": {},
   "outputs": [
    {
     "name": "stdout",
     "output_type": "stream",
     "text": [
      "(8, 500, 2)\n",
      "(8, 500, 2)\n"
     ]
    }
   ],
   "source": [
    "print(np.shape(pr_sift))\n",
    "print(np.shape(pr_orb))"
   ]
  },
  {
   "cell_type": "code",
   "execution_count": 11,
   "metadata": {},
   "outputs": [],
   "source": [
    "import os\n",
    "\n",
    "np.save(os.path.join(\"./services/semantic_keypoint_detection\", \"pr_sift.npy\"), pr_sift)\n",
    "np.save(os.path.join(\"./services/semantic_keypoint_detection\", \"pr_orb.npy\"), pr_orb)"
   ]
  }
 ],
 "metadata": {
  "kernelspec": {
   "display_name": "opencv_streamlit",
   "language": "python",
   "name": "python3"
  },
  "language_info": {
   "codemirror_mode": {
    "name": "ipython",
    "version": 3
   },
   "file_extension": ".py",
   "mimetype": "text/x-python",
   "name": "python",
   "nbconvert_exporter": "python",
   "pygments_lexer": "ipython3",
   "version": "3.12.5"
  }
 },
 "nbformat": 4,
 "nbformat_minor": 2
}
