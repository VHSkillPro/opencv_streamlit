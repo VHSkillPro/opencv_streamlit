{
 "cells": [
  {
   "cell_type": "code",
   "execution_count": 1,
   "metadata": {},
   "outputs": [],
   "source": [
    "%reload_ext autoreload\n",
    "%autoreload 2"
   ]
  },
  {
   "cell_type": "code",
   "execution_count": 2,
   "metadata": {},
   "outputs": [
    {
     "name": "stdout",
     "output_type": "stream",
     "text": [
      "/home/hazzu/Code/opencv_streamlit\n"
     ]
    }
   ],
   "source": [
    "%cd \"../..\""
   ]
  },
  {
   "cell_type": "code",
   "execution_count": 4,
   "metadata": {},
   "outputs": [
    {
     "name": "stderr",
     "output_type": "stream",
     "text": [
      "  0%|          | 0/5000 [00:00<?, ?it/s]"
     ]
    },
    {
     "name": "stderr",
     "output_type": "stream",
     "text": [
      "100%|██████████| 5000/5000 [00:49<00:00, 100.53it/s]\n"
     ]
    }
   ],
   "source": [
    "import os\n",
    "import cv2\n",
    "import numpy as np\n",
    "from tqdm import tqdm\n",
    "\n",
    "from services.image_search_engine.superpoint import SuperPointFrontend\n",
    "\n",
    "DATASET_DIR = \"./services/image_search_engine/val2017\"\n",
    "images_name = os.listdir(os.path.join(DATASET_DIR, \"images\"))\n",
    "\n",
    "# fe = SuperPointFrontend(\n",
    "#     \"services/image_search_engine/superpoint_v1.pth\",\n",
    "#     nms_dist=4,\n",
    "#     conf_thresh=0.015,\n",
    "#     nn_thresh=0.7,\n",
    "#     cuda=True,\n",
    "# )\n",
    "# sift = cv2.SIFT_create()\n",
    "orb = cv2.ORB_create()\n",
    "\n",
    "number_of_keypoints = []\n",
    "for image_name in tqdm(images_name):\n",
    "    image_path = os.path.join(DATASET_DIR, \"images\", image_name)\n",
    "    image = cv2.imread(image_path)\n",
    "    gray = cv2.cvtColor(image, cv2.COLOR_BGR2GRAY)\n",
    "\n",
    "    kp, des = orb.detectAndCompute(gray, None)\n",
    "    keypoints = [\n",
    "        [kp.pt[0], kp.pt[1], kp.size, kp.angle, kp.response, kp.octave, kp.class_id]\n",
    "        for kp in kp\n",
    "    ]\n",
    "    number_of_keypoints.append(len(kp))\n",
    "\n",
    "    image_name_no_ext = os.path.splitext(image_name)[0]\n",
    "    np.save(\n",
    "        os.path.join(DATASET_DIR, \"keypoints\", f\"{image_name_no_ext}.npy\"), keypoints\n",
    "    )\n",
    "    np.save(os.path.join(DATASET_DIR, \"descriptors\", f\"{image_name_no_ext}.npy\"), des)"
   ]
  },
  {
   "cell_type": "code",
   "execution_count": 5,
   "metadata": {},
   "outputs": [
    {
     "data": {
      "image/png": "[encoded data removed]",
      "text/plain": [
       "<Figure size 640x480 with 1 Axes>"
      ]
     },
     "metadata": {},
     "output_type": "display_data"
    }
   ],
   "source": [
    "import matplotlib.pyplot as plt\n",
    "\n",
    "plt.hist(number_of_keypoints, bins=100)\n",
    "plt.show()"
   ]
  }
 ],
 "metadata": {
  "kernelspec": {
   "display_name": "opencv_streamlit",
   "language": "python",
   "name": "python3"
  },
  "language_info": {
   "codemirror_mode": {
    "name": "ipython",
    "version": 3
   },
   "file_extension": ".py",
   "mimetype": "text/x-python",
   "name": "python",
   "nbconvert_exporter": "python",
   "pygments_lexer": "ipython3",
   "version": "3.12.5"
  }
 },
 "nbformat": 4,
 "nbformat_minor": 2
}
