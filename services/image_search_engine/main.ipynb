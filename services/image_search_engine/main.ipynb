{
 "cells": [
  {
   "cell_type": "code",
   "execution_count": null,
   "metadata": {},
   "outputs": [],
   "source": [
    "%reload_ext autoreload\n",
    "%autoreload 2"
   ]
  },
  {
   "cell_type": "code",
   "execution_count": 1,
   "metadata": {},
   "outputs": [
    {
     "name": "stdout",
     "output_type": "stream",
     "text": [
      "/home/hazzu/Code/opencv_streamlit\n"
     ]
    }
   ],
   "source": [
    "%cd \"../..\""
   ]
  },
  {
   "cell_type": "code",
   "execution_count": 7,
   "metadata": {},
   "outputs": [
    {
     "name": "stderr",
     "output_type": "stream",
     "text": [
      "100%|██████████| 5000/5000 [00:38<00:00, 130.63it/s]\n"
     ]
    }
   ],
   "source": [
    "import os\n",
    "import cv2\n",
    "import numpy as np\n",
    "from tqdm import tqdm\n",
    "\n",
    "DATASET_DIR = \"./services/image_search_engine/val2017\"\n",
    "images_name = os.listdir(os.path.join(DATASET_DIR, \"images\"))\n",
    "\n",
    "orb = cv2.ORB_create()\n",
    "for image_name in tqdm(images_name):\n",
    "    image_path = os.path.join(DATASET_DIR, \"images\", image_name)\n",
    "    image = cv2.imread(image_path)\n",
    "    gray = cv2.cvtColor(image, cv2.COLOR_BGR2GRAY)\n",
    "    kp, des = orb.detectAndCompute(gray, None)\n",
    "\n",
    "    keypoints = np.array(\n",
    "        [\n",
    "            [x.pt[0], x.pt[1], x.size, x.angle, x.response, x.octave, x.class_id]\n",
    "            for x in kp\n",
    "        ],\n",
    "        dtype=np.float32,\n",
    "    )\n",
    "\n",
    "    image_name_no_ext = os.path.splitext(image_name)[0]\n",
    "    np.save(\n",
    "        os.path.join(DATASET_DIR, \"keypoints\", f\"{image_name_no_ext}.npy\"), keypoints\n",
    "    )\n",
    "    np.save(os.path.join(DATASET_DIR, \"descriptors\", f\"{image_name_no_ext}.npy\"), des)"
   ]
  }
 ],
 "metadata": {
  "kernelspec": {
   "display_name": "opencv_streamlit",
   "language": "python",
   "name": "python3"
  },
  "language_info": {
   "codemirror_mode": {
    "name": "ipython",
    "version": 3
   },
   "file_extension": ".py",
   "mimetype": "text/x-python",
   "name": "python",
   "nbconvert_exporter": "python",
   "pygments_lexer": "ipython3",
   "version": "3.12.5"
  }
 },
 "nbformat": 4,
 "nbformat_minor": 2
}
