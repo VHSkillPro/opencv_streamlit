{
 "cells": [
  {
   "cell_type": "code",
   "execution_count": 1,
   "metadata": {
    "notebookRunGroups": {
     "groupValue": "1"
    }
   },
   "outputs": [],
   "source": [
    "%reload_ext autoreload\n",
    "%autoreload 2"
   ]
  },
  {
   "cell_type": "code",
   "execution_count": 2,
   "metadata": {
    "notebookRunGroups": {
     "groupValue": "1"
    }
   },
   "outputs": [
    {
     "name": "stdout",
     "output_type": "stream",
     "text": [
      "/home/hazzu/Code/opencv_streamlit\n"
     ]
    }
   ],
   "source": [
    "%cd \"../..\""
   ]
  },
  {
   "cell_type": "markdown",
   "metadata": {},
   "source": [
    "# 1. Define function\n"
   ]
  },
  {
   "cell_type": "code",
   "execution_count": 3,
   "metadata": {
    "notebookRunGroups": {
     "groupValue": "1"
    }
   },
   "outputs": [],
   "source": [
    "import os\n",
    "import cv2\n",
    "import numpy as np\n",
    "from typing import Tuple, List\n",
    "from services.semantic_keypoint_detection.services import DATATYPES\n",
    "\n",
    "\n",
    "def read_image(type: int, name: str):\n",
    "    \"\"\"\n",
    "    Reads an image and its ground truth keypoints from the specified dataset.\n",
    "\n",
    "    :param type: The type of the dataset.\n",
    "    :param name: The name of the image.\n",
    "\n",
    "    :return (image, ground_truth): A tuple containing the image and the ground truth keypoints.\n",
    "    \"\"\"\n",
    "    image = cv2.imread(os.path.join(DATATYPES[type], \"images\", f\"{name}.png\"))\n",
    "    ground_truth = np.load(os.path.join(DATATYPES[type], \"points\", f\"{name}.npy\"))\n",
    "    ground_truth = [cv2.KeyPoint(y, x, 1, 0, 0, 0) for x, y in ground_truth]\n",
    "    return (image, ground_truth)\n",
    "\n",
    "\n",
    "def rotate_image(image: cv2.typing.MatLike, angle: int) -> cv2.typing.MatLike:\n",
    "    \"\"\"\n",
    "    Rotates an image by a given angle.\n",
    "\n",
    "    :param image: The image to rotate.\n",
    "    :param angle: The angle to rotate the image by.\n",
    "\n",
    "    :return rotated_image: The rotated image.\n",
    "    \"\"\"\n",
    "    h, w = image.shape[:2]\n",
    "    matrix_rotation = cv2.getRotationMatrix2D((w / 2, h / 2), angle, 1)\n",
    "    rotated_image = cv2.warpAffine(image, matrix_rotation, (w, h))\n",
    "    return rotated_image\n",
    "\n",
    "\n",
    "def rotate_keypoints(\n",
    "    size: Tuple[int, int], keypoints: List[cv2.KeyPoint], angle: int\n",
    ") -> List[cv2.KeyPoint]:\n",
    "    \"\"\"\n",
    "    Rotates the keypoints of an image.\n",
    "\n",
    "    :param size: The size of the image (witdh, height).\n",
    "    :param keypoints: The keypoints to rotate.\n",
    "    :param angle: The angle to rotate the keypoints by.\n",
    "\n",
    "    :return (result, idx): A tuple containing the rotated keypoints and their indices in the original list.\n",
    "    \"\"\"\n",
    "    matrix_rotation = cv2.getRotationMatrix2D((size[0] / 2, size[1] / 2), angle, 1)\n",
    "    kps = np.array([[kp.pt[0], kp.pt[1]] for kp in keypoints])\n",
    "    kps = np.concatenate([kps, np.ones((len(kps), 1))], axis=1)\n",
    "    rotated_kps = np.array(np.dot(matrix_rotation, kps.T)).T\n",
    "\n",
    "    result, idx = [], []\n",
    "    for i in range(len(rotated_kps)):\n",
    "        kp = rotated_kps[i]\n",
    "        if 0 <= kp[0] < size[0] and 0 <= kp[1] < size[1]:\n",
    "            result.append(cv2.KeyPoint(kp[0], kp[1], 1, 0, 0, 0))\n",
    "            idx.append(i)\n",
    "\n",
    "    return (result, idx)"
   ]
  },
  {
   "cell_type": "markdown",
   "metadata": {},
   "source": [
    "# 2. Cache descriptors of original image\n"
   ]
  },
  {
   "cell_type": "code",
   "execution_count": 4,
   "metadata": {},
   "outputs": [
    {
     "name": "stdout",
     "output_type": "stream",
     "text": [
      "Caching descriptors for SIFT...\n"
     ]
    },
    {
     "name": "stderr",
     "output_type": "stream",
     "text": [
      "Cache descriptors for shape type 0: 100%|██████████| 500/500 [00:00<00:00, 1132.81it/s]\n",
      "Cache descriptors for shape type 1: 100%|██████████| 500/500 [00:00<00:00, 1291.27it/s]\n",
      "Cache descriptors for shape type 2: 100%|██████████| 500/500 [00:00<00:00, 3436.71it/s]\n",
      "Cache descriptors for shape type 3: 100%|██████████| 500/500 [00:00<00:00, 1283.13it/s]\n",
      "Cache descriptors for shape type 4: 100%|██████████| 500/500 [00:00<00:00, 1197.34it/s]\n",
      "Cache descriptors for shape type 5: 100%|██████████| 500/500 [00:00<00:00, 1277.02it/s]\n",
      "Cache descriptors for shape type 6: 100%|██████████| 500/500 [00:00<00:00, 1345.90it/s]\n",
      "Cache descriptors for shape type 7: 100%|██████████| 500/500 [00:00<00:00, 1721.86it/s]\n"
     ]
    },
    {
     "name": "stdout",
     "output_type": "stream",
     "text": [
      "Caching descriptors for ORB...\n"
     ]
    },
    {
     "name": "stderr",
     "output_type": "stream",
     "text": [
      "Cache descriptors for shape type 0: 100%|██████████| 500/500 [00:00<00:00, 2698.45it/s]\n",
      "Cache descriptors for shape type 1: 100%|██████████| 500/500 [00:00<00:00, 2934.36it/s]\n",
      "Cache descriptors for shape type 2: 100%|██████████| 500/500 [00:00<00:00, 3393.24it/s]\n",
      "Cache descriptors for shape type 3: 100%|██████████| 500/500 [00:00<00:00, 2904.47it/s]\n",
      "Cache descriptors for shape type 4: 100%|██████████| 500/500 [00:00<00:00, 2527.73it/s]\n",
      "Cache descriptors for shape type 5: 100%|██████████| 500/500 [00:00<00:00, 2973.52it/s]\n",
      "Cache descriptors for shape type 6: 100%|██████████| 500/500 [00:00<00:00, 2894.08it/s]\n",
      "Cache descriptors for shape type 7: 100%|██████████| 500/500 [00:00<00:00, 3446.96it/s]\n",
      "/home/hazzu/Code/opencv_streamlit/services/keypoint_matching/superpoint.py:79: FutureWarning: You are using `torch.load` with `weights_only=False` (the current default value), which uses the default pickle module implicitly. It is possible to construct malicious pickle data which will execute arbitrary code during unpickling (See https://github.com/pytorch/pytorch/blob/main/SECURITY.md#untrusted-models for more details). In a future release, the default value for `weights_only` will be flipped to `True`. This limits the functions that could be executed during unpickling. Arbitrary objects will no longer be allowed to be loaded via this mode unless they are explicitly allowlisted by the user via `torch.serialization.add_safe_globals`. We recommend you start setting `weights_only=True` for any use case where you don't have full control of the loaded file. Please open an issue on GitHub for any issues related to this experimental feature.\n",
      "  self.net.load_state_dict(torch.load(weights_path))\n"
     ]
    },
    {
     "name": "stdout",
     "output_type": "stream",
     "text": [
      "Caching descriptors for SuperPoint...\n",
      "Run on GPU\n"
     ]
    },
    {
     "name": "stderr",
     "output_type": "stream",
     "text": [
      "Cache descriptors for shape type 0:   0%|          | 0/500 [00:00<?, ?it/s]/home/hazzu/anaconda3/envs/opencv_streamlit/lib/python3.12/site-packages/torch/nn/functional.py:4902: UserWarning: Default grid_sample and affine_grid behavior has changed to align_corners=False since 1.3.0. Please specify align_corners=True if the old behavior is desired. See the documentation of grid_sample for details.\n",
      "  warnings.warn(\n",
      "Cache descriptors for shape type 0: 100%|██████████| 500/500 [00:02<00:00, 220.20it/s]\n",
      "Cache descriptors for shape type 1: 100%|██████████| 500/500 [00:01<00:00, 291.02it/s]\n",
      "Cache descriptors for shape type 2: 100%|██████████| 500/500 [00:00<00:00, 3271.65it/s]\n",
      "Cache descriptors for shape type 3: 100%|██████████| 500/500 [00:01<00:00, 288.58it/s]\n",
      "Cache descriptors for shape type 4: 100%|██████████| 500/500 [00:01<00:00, 293.43it/s]\n",
      "Cache descriptors for shape type 5: 100%|██████████| 500/500 [00:00<00:00, -713.38it/s]\n",
      "Cache descriptors for shape type 6: 100%|██████████| 500/500 [00:01<00:00, 304.02it/s]\n",
      "Cache descriptors for shape type 7: 100%|██████████| 500/500 [00:01<00:00, 393.30it/s]\n"
     ]
    }
   ],
   "source": [
    "import cv2\n",
    "from tqdm import tqdm\n",
    "from services.keypoint_matching.superpoint import SuperPointFrontend\n",
    "\n",
    "\n",
    "def cache_descriptors(model, convert=False):\n",
    "    \"\"\"\n",
    "    Caches the descriptors of the images in the datasets.\n",
    "\n",
    "    :param model: The model to use for the caching.\n",
    "\n",
    "    :return cache_descriptors: The cached descriptors.\n",
    "    \"\"\"\n",
    "    cache_descriptors = []\n",
    "\n",
    "    for i in range(8):\n",
    "        cache_descriptors.append([])\n",
    "\n",
    "        for j in tqdm(range(500), desc=f\"Cache descriptors for shape type {i}\"):\n",
    "            image, ground_truth = read_image(i, str(j))\n",
    "            gray_scale = cv2.cvtColor(image, cv2.COLOR_BGR2GRAY)\n",
    "            if convert:\n",
    "                gray_scale = gray_scale.astype(np.float32) / 255.0\n",
    "\n",
    "            if len(ground_truth) > 0:\n",
    "                descriptors = model.compute(gray_scale, ground_truth)[1]\n",
    "            else:\n",
    "                descriptors = None\n",
    "\n",
    "            if descriptors is not None:\n",
    "                assert descriptors.shape[0] == len(\n",
    "                    ground_truth\n",
    "                ), f\"{descriptors.shape[0]} != {len(ground_truth)}\"\n",
    "            else:\n",
    "                assert len(ground_truth) == 0\n",
    "\n",
    "            cache_descriptors[i].append(descriptors)\n",
    "\n",
    "    return cache_descriptors\n",
    "\n",
    "\n",
    "print(\"Caching descriptors for SIFT...\")\n",
    "sift = cv2.SIFT_create()\n",
    "cache_sift_descriptors = cache_descriptors(sift)\n",
    "\n",
    "print(\"Caching descriptors for ORB...\")\n",
    "orb = cv2.ORB_create(edgeThreshold=0, fastThreshold=0)\n",
    "cache_orb_descriptors = cache_descriptors(orb)\n",
    "\n",
    "print(\"Caching descriptors for SuperPoint...\")\n",
    "fe = SuperPointFrontend(\n",
    "    weights_path=\"./services/keypoint_matching/superpoint_v1.pth\",\n",
    "    nms_dist=4,\n",
    "    conf_thresh=0.015,\n",
    "    nn_thresh=0.7,\n",
    "    cuda=True,\n",
    ")\n",
    "cache_superpoint_descriptors = cache_descriptors(fe, True)"
   ]
  },
  {
   "cell_type": "markdown",
   "metadata": {},
   "source": [
    "# 3. Get accuracy matching keypoints of SIFT\n"
   ]
  },
  {
   "cell_type": "code",
   "execution_count": 5,
   "metadata": {},
   "outputs": [
    {
     "name": "stderr",
     "output_type": "stream",
     "text": [
      "Angle: 0 - Shape type: 0: 100%|██████████| 500/500 [00:00<00:00, 950.41it/s] \n"
     ]
    },
    {
     "name": "stdout",
     "output_type": "stream",
     "text": [
      "Accuracy: 1.0\n"
     ]
    },
    {
     "name": "stderr",
     "output_type": "stream",
     "text": [
      "Angle: 0 - Shape type: 1: 100%|██████████| 500/500 [00:00<00:00, 1096.96it/s]\n"
     ]
    },
    {
     "name": "stdout",
     "output_type": "stream",
     "text": [
      "Accuracy: 1.0\n"
     ]
    },
    {
     "name": "stderr",
     "output_type": "stream",
     "text": [
      "Angle: 0 - Shape type: 2: 100%|██████████| 500/500 [00:00<00:00, 3231.35it/s]\n"
     ]
    },
    {
     "name": "stdout",
     "output_type": "stream",
     "text": [
      "No matches found.\n"
     ]
    },
    {
     "name": "stderr",
     "output_type": "stream",
     "text": [
      "Angle: 0 - Shape type: 3: 100%|██████████| 500/500 [00:00<00:00, 1082.21it/s]\n"
     ]
    },
    {
     "name": "stdout",
     "output_type": "stream",
     "text": [
      "Accuracy: 0.9991\n"
     ]
    },
    {
     "name": "stderr",
     "output_type": "stream",
     "text": [
      "Angle: 0 - Shape type: 4: 100%|██████████| 500/500 [00:00<00:00, 932.85it/s]\n"
     ]
    },
    {
     "name": "stdout",
     "output_type": "stream",
     "text": [
      "Accuracy: 0.9985535140844818\n"
     ]
    },
    {
     "name": "stderr",
     "output_type": "stream",
     "text": [
      "Angle: 0 - Shape type: 5: 100%|██████████| 500/500 [00:00<00:00, 1134.16it/s]\n"
     ]
    },
    {
     "name": "stdout",
     "output_type": "stream",
     "text": [
      "Accuracy: 0.999\n"
     ]
    },
    {
     "name": "stderr",
     "output_type": "stream",
     "text": [
      "Angle: 0 - Shape type: 6: 100%|██████████| 500/500 [00:00<00:00, 1140.67it/s]\n"
     ]
    },
    {
     "name": "stdout",
     "output_type": "stream",
     "text": [
      "Accuracy: 1.0\n"
     ]
    },
    {
     "name": "stderr",
     "output_type": "stream",
     "text": [
      "Angle: 0 - Shape type: 7: 100%|██████████| 500/500 [00:00<00:00, 1438.59it/s]\n"
     ]
    },
    {
     "name": "stdout",
     "output_type": "stream",
     "text": [
      "Accuracy: 0.9991158267020337\n"
     ]
    },
    {
     "name": "stderr",
     "output_type": "stream",
     "text": [
      "Angle: 10 - Shape type: 0: 100%|██████████| 500/500 [00:00<00:00, 1008.50it/s]\n"
     ]
    },
    {
     "name": "stdout",
     "output_type": "stream",
     "text": [
      "Accuracy: 0.5395415247753511\n"
     ]
    },
    {
     "name": "stderr",
     "output_type": "stream",
     "text": [
      "Angle: 10 - Shape type: 1: 100%|██████████| 500/500 [00:00<00:00, 989.60it/s] \n"
     ]
    },
    {
     "name": "stdout",
     "output_type": "stream",
     "text": [
      "Accuracy: 0.9578714285714286\n"
     ]
    },
    {
     "name": "stderr",
     "output_type": "stream",
     "text": [
      "Angle: 10 - Shape type: 2: 100%|██████████| 500/500 [00:00<00:00, 3388.02it/s]\n"
     ]
    },
    {
     "name": "stdout",
     "output_type": "stream",
     "text": [
      "No matches found.\n"
     ]
    },
    {
     "name": "stderr",
     "output_type": "stream",
     "text": [
      "Angle: 10 - Shape type: 3: 100%|██████████| 500/500 [00:00<00:00, 1106.99it/s]\n"
     ]
    },
    {
     "name": "stdout",
     "output_type": "stream",
     "text": [
      "Accuracy: 0.7650856865356864\n"
     ]
    },
    {
     "name": "stderr",
     "output_type": "stream",
     "text": [
      "Angle: 10 - Shape type: 4: 100%|██████████| 500/500 [00:00<00:00, 955.24it/s]\n"
     ]
    },
    {
     "name": "stdout",
     "output_type": "stream",
     "text": [
      "Accuracy: 0.5494152162988385\n"
     ]
    },
    {
     "name": "stderr",
     "output_type": "stream",
     "text": [
      "Angle: 10 - Shape type: 5: 100%|██████████| 500/500 [00:00<00:00, 1137.96it/s]\n"
     ]
    },
    {
     "name": "stdout",
     "output_type": "stream",
     "text": [
      "Accuracy: 0.9947\n"
     ]
    },
    {
     "name": "stderr",
     "output_type": "stream",
     "text": [
      "Angle: 10 - Shape type: 6: 100%|██████████| 500/500 [00:00<00:00, 1109.56it/s]\n"
     ]
    },
    {
     "name": "stdout",
     "output_type": "stream",
     "text": [
      "Accuracy: 0.9602666666666666\n"
     ]
    },
    {
     "name": "stderr",
     "output_type": "stream",
     "text": [
      "Angle: 10 - Shape type: 7: 100%|██████████| 500/500 [00:00<00:00, 1418.68it/s]\n"
     ]
    },
    {
     "name": "stdout",
     "output_type": "stream",
     "text": [
      "Accuracy: 0.7347466043116416\n"
     ]
    },
    {
     "name": "stderr",
     "output_type": "stream",
     "text": [
      "Angle: 20 - Shape type: 0: 100%|██████████| 500/500 [00:00<00:00, 1029.06it/s]\n"
     ]
    },
    {
     "name": "stdout",
     "output_type": "stream",
     "text": [
      "Accuracy: 0.1496388880333593\n"
     ]
    },
    {
     "name": "stderr",
     "output_type": "stream",
     "text": [
      "Angle: 20 - Shape type: 1: 100%|██████████| 500/500 [-1:59:58<00:00, -244.34it/s]\n"
     ]
    },
    {
     "name": "stdout",
     "output_type": "stream",
     "text": [
      "Accuracy: 0.6442238095238094\n"
     ]
    },
    {
     "name": "stderr",
     "output_type": "stream",
     "text": [
      "Angle: 20 - Shape type: 2: 100%|██████████| 500/500 [00:00<00:00, 3382.84it/s]\n"
     ]
    },
    {
     "name": "stdout",
     "output_type": "stream",
     "text": [
      "No matches found.\n"
     ]
    },
    {
     "name": "stderr",
     "output_type": "stream",
     "text": [
      "Angle: 20 - Shape type: 3: 100%|██████████| 500/500 [00:00<00:00, 1082.80it/s]\n"
     ]
    },
    {
     "name": "stdout",
     "output_type": "stream",
     "text": [
      "Accuracy: 0.6166024662267147\n"
     ]
    },
    {
     "name": "stderr",
     "output_type": "stream",
     "text": [
      "Angle: 20 - Shape type: 4: 100%|██████████| 500/500 [00:00<00:00, 965.86it/s]\n"
     ]
    },
    {
     "name": "stdout",
     "output_type": "stream",
     "text": [
      "Accuracy: 0.1385370326349153\n"
     ]
    },
    {
     "name": "stderr",
     "output_type": "stream",
     "text": [
      "Angle: 20 - Shape type: 5: 100%|██████████| 500/500 [00:00<00:00, 1166.66it/s]\n"
     ]
    },
    {
     "name": "stdout",
     "output_type": "stream",
     "text": [
      "Accuracy: 0.9650666666666667\n"
     ]
    },
    {
     "name": "stderr",
     "output_type": "stream",
     "text": [
      "Angle: 20 - Shape type: 6: 100%|██████████| 500/500 [00:00<00:00, 1122.76it/s]\n"
     ]
    },
    {
     "name": "stdout",
     "output_type": "stream",
     "text": [
      "Accuracy: 0.7758999999999999\n"
     ]
    },
    {
     "name": "stderr",
     "output_type": "stream",
     "text": [
      "Angle: 20 - Shape type: 7: 100%|██████████| 500/500 [00:00<00:00, 1370.81it/s]\n"
     ]
    },
    {
     "name": "stdout",
     "output_type": "stream",
     "text": [
      "Accuracy: 0.5553857714757369\n"
     ]
    },
    {
     "name": "stderr",
     "output_type": "stream",
     "text": [
      "Angle: 30 - Shape type: 0: 100%|██████████| 500/500 [00:00<00:00, 1014.58it/s]\n"
     ]
    },
    {
     "name": "stdout",
     "output_type": "stream",
     "text": [
      "Accuracy: 0.01482312021970414\n"
     ]
    },
    {
     "name": "stderr",
     "output_type": "stream",
     "text": [
      "Angle: 30 - Shape type: 1: 100%|██████████| 500/500 [00:00<00:00, 1099.10it/s]\n"
     ]
    },
    {
     "name": "stdout",
     "output_type": "stream",
     "text": [
      "Accuracy: 0.17604761904761904\n"
     ]
    },
    {
     "name": "stderr",
     "output_type": "stream",
     "text": [
      "Angle: 30 - Shape type: 2: 100%|██████████| 500/500 [00:00<00:00, 3456.32it/s]\n"
     ]
    },
    {
     "name": "stdout",
     "output_type": "stream",
     "text": [
      "No matches found.\n"
     ]
    },
    {
     "name": "stderr",
     "output_type": "stream",
     "text": [
      "Angle: 30 - Shape type: 3: 100%|██████████| 500/500 [00:00<00:00, 1118.82it/s]\n"
     ]
    },
    {
     "name": "stdout",
     "output_type": "stream",
     "text": [
      "Accuracy: 0.4627692002942504\n"
     ]
    },
    {
     "name": "stderr",
     "output_type": "stream",
     "text": [
      "Angle: 30 - Shape type: 4: 100%|██████████| 500/500 [00:00<00:00, 965.33it/s]\n"
     ]
    },
    {
     "name": "stdout",
     "output_type": "stream",
     "text": [
      "Accuracy: 0.023234400313286073\n"
     ]
    },
    {
     "name": "stderr",
     "output_type": "stream",
     "text": [
      "Angle: 30 - Shape type: 5: 100%|██████████| 500/500 [00:00<00:00, 1138.35it/s]\n"
     ]
    },
    {
     "name": "stdout",
     "output_type": "stream",
     "text": [
      "Accuracy: 0.7074446680080483\n"
     ]
    },
    {
     "name": "stderr",
     "output_type": "stream",
     "text": [
      "Angle: 30 - Shape type: 6: 100%|██████████| 500/500 [00:00<00:00, 1122.50it/s]\n"
     ]
    },
    {
     "name": "stdout",
     "output_type": "stream",
     "text": [
      "Accuracy: 0.5079666666666667\n"
     ]
    },
    {
     "name": "stderr",
     "output_type": "stream",
     "text": [
      "Angle: 30 - Shape type: 7: 100%|██████████| 500/500 [00:00<00:00, 1424.95it/s]\n"
     ]
    },
    {
     "name": "stdout",
     "output_type": "stream",
     "text": [
      "Accuracy: 0.37004110765405945\n"
     ]
    },
    {
     "name": "stderr",
     "output_type": "stream",
     "text": [
      "Angle: 40 - Shape type: 0: 100%|██████████| 500/500 [00:00<00:00, 1066.40it/s]\n"
     ]
    },
    {
     "name": "stdout",
     "output_type": "stream",
     "text": [
      "Accuracy: 0.0006327922077922078\n"
     ]
    },
    {
     "name": "stderr",
     "output_type": "stream",
     "text": [
      "Angle: 40 - Shape type: 1: 100%|██████████| 500/500 [00:00<00:00, 1141.94it/s]\n"
     ]
    },
    {
     "name": "stdout",
     "output_type": "stream",
     "text": [
      "Accuracy: 0.01714285714285714\n"
     ]
    },
    {
     "name": "stderr",
     "output_type": "stream",
     "text": [
      "Angle: 40 - Shape type: 2: 100%|██████████| 500/500 [00:00<00:00, 3355.23it/s]\n"
     ]
    },
    {
     "name": "stdout",
     "output_type": "stream",
     "text": [
      "No matches found.\n"
     ]
    },
    {
     "name": "stderr",
     "output_type": "stream",
     "text": [
      "Angle: 40 - Shape type: 3: 100%|██████████| 500/500 [00:00<00:00, 1137.87it/s]\n"
     ]
    },
    {
     "name": "stdout",
     "output_type": "stream",
     "text": [
      "Accuracy: 0.3299562550564554\n"
     ]
    },
    {
     "name": "stderr",
     "output_type": "stream",
     "text": [
      "Angle: 40 - Shape type: 4: 100%|██████████| 500/500 [00:00<00:00, 984.06it/s] \n"
     ]
    },
    {
     "name": "stdout",
     "output_type": "stream",
     "text": [
      "Accuracy: 0.004594658013923242\n"
     ]
    },
    {
     "name": "stderr",
     "output_type": "stream",
     "text": [
      "Angle: 40 - Shape type: 5: 100%|██████████| 500/500 [00:00<00:00, 1185.33it/s]\n"
     ]
    },
    {
     "name": "stdout",
     "output_type": "stream",
     "text": [
      "Accuracy: 0.2190524193548387\n"
     ]
    },
    {
     "name": "stderr",
     "output_type": "stream",
     "text": [
      "Angle: 40 - Shape type: 6: 100%|██████████| 500/500 [00:00<00:00, 1143.18it/s]\n"
     ]
    },
    {
     "name": "stdout",
     "output_type": "stream",
     "text": [
      "Accuracy: 0.2754\n"
     ]
    },
    {
     "name": "stderr",
     "output_type": "stream",
     "text": [
      "Angle: 40 - Shape type: 7: 100%|██████████| 500/500 [00:00<00:00, 1284.93it/s]\n"
     ]
    },
    {
     "name": "stdout",
     "output_type": "stream",
     "text": [
      "Accuracy: 0.21994499927630623\n"
     ]
    },
    {
     "name": "stderr",
     "output_type": "stream",
     "text": [
      "Angle: 50 - Shape type: 0: 100%|██████████| 500/500 [00:00<00:00, 1055.76it/s]\n"
     ]
    },
    {
     "name": "stdout",
     "output_type": "stream",
     "text": [
      "Accuracy: 0.0004444805194805195\n"
     ]
    },
    {
     "name": "stderr",
     "output_type": "stream",
     "text": [
      "Angle: 50 - Shape type: 1: 100%|██████████| 500/500 [00:00<00:00, 1136.69it/s]\n"
     ]
    },
    {
     "name": "stdout",
     "output_type": "stream",
     "text": [
      "Accuracy: 0.004357142857142857\n"
     ]
    },
    {
     "name": "stderr",
     "output_type": "stream",
     "text": [
      "Angle: 50 - Shape type: 2: 100%|██████████| 500/500 [00:00<00:00, 3186.22it/s]\n"
     ]
    },
    {
     "name": "stdout",
     "output_type": "stream",
     "text": [
      "No matches found.\n"
     ]
    },
    {
     "name": "stderr",
     "output_type": "stream",
     "text": [
      "Angle: 50 - Shape type: 3: 100%|██████████| 500/500 [00:00<00:00, 1152.14it/s]\n"
     ]
    },
    {
     "name": "stdout",
     "output_type": "stream",
     "text": [
      "Accuracy: 0.21248061112790573\n"
     ]
    },
    {
     "name": "stderr",
     "output_type": "stream",
     "text": [
      "Angle: 50 - Shape type: 4: 100%|██████████| 500/500 [00:00<00:00, 984.74it/s]\n"
     ]
    },
    {
     "name": "stdout",
     "output_type": "stream",
     "text": [
      "Accuracy: 0.0011180827886710242\n"
     ]
    },
    {
     "name": "stderr",
     "output_type": "stream",
     "text": [
      "Angle: 50 - Shape type: 5: 100%|██████████| 500/500 [00:00<00:00, 1184.68it/s]\n"
     ]
    },
    {
     "name": "stdout",
     "output_type": "stream",
     "text": [
      "Accuracy: 0.04310344827586207\n"
     ]
    },
    {
     "name": "stderr",
     "output_type": "stream",
     "text": [
      "Angle: 50 - Shape type: 6: 100%|██████████| 500/500 [00:00<00:00, 1085.16it/s]\n"
     ]
    },
    {
     "name": "stdout",
     "output_type": "stream",
     "text": [
      "Accuracy: 0.12886666666666668\n"
     ]
    },
    {
     "name": "stderr",
     "output_type": "stream",
     "text": [
      "Angle: 50 - Shape type: 7: 100%|██████████| 500/500 [00:00<00:00, 1440.87it/s]\n"
     ]
    },
    {
     "name": "stdout",
     "output_type": "stream",
     "text": [
      "Accuracy: 0.1587950937950938\n"
     ]
    },
    {
     "name": "stderr",
     "output_type": "stream",
     "text": [
      "Angle: 60 - Shape type: 0: 100%|██████████| 500/500 [00:00<00:00, 1053.48it/s]\n"
     ]
    },
    {
     "name": "stdout",
     "output_type": "stream",
     "text": [
      "Accuracy: 0.0\n"
     ]
    },
    {
     "name": "stderr",
     "output_type": "stream",
     "text": [
      "Angle: 60 - Shape type: 1: 100%|██████████| 500/500 [00:00<00:00, 1128.94it/s]\n"
     ]
    },
    {
     "name": "stdout",
     "output_type": "stream",
     "text": [
      "Accuracy: 0.0025\n"
     ]
    },
    {
     "name": "stderr",
     "output_type": "stream",
     "text": [
      "Angle: 60 - Shape type: 2: 100%|██████████| 500/500 [00:00<00:00, 3535.20it/s]\n"
     ]
    },
    {
     "name": "stdout",
     "output_type": "stream",
     "text": [
      "No matches found.\n"
     ]
    },
    {
     "name": "stderr",
     "output_type": "stream",
     "text": [
      "Angle: 60 - Shape type: 3: 100%|██████████| 500/500 [00:00<00:00, 1137.68it/s]\n"
     ]
    },
    {
     "name": "stdout",
     "output_type": "stream",
     "text": [
      "Accuracy: 0.11907147404135356\n"
     ]
    },
    {
     "name": "stderr",
     "output_type": "stream",
     "text": [
      "Angle: 60 - Shape type: 4: 100%|██████████| 500/500 [00:00<00:00, 1009.35it/s]\n"
     ]
    },
    {
     "name": "stdout",
     "output_type": "stream",
     "text": [
      "Accuracy: 0.0005974867724867725\n"
     ]
    },
    {
     "name": "stderr",
     "output_type": "stream",
     "text": [
      "Angle: 60 - Shape type: 5: 100%|██████████| 500/500 [00:00<00:00, 1183.89it/s]\n"
     ]
    },
    {
     "name": "stdout",
     "output_type": "stream",
     "text": [
      "Accuracy: 0.027100271002710025\n"
     ]
    },
    {
     "name": "stderr",
     "output_type": "stream",
     "text": [
      "Angle: 60 - Shape type: 6: 100%|██████████| 500/500 [00:00<00:00, 1125.90it/s]\n"
     ]
    },
    {
     "name": "stdout",
     "output_type": "stream",
     "text": [
      "Accuracy: 0.052366666666666666\n"
     ]
    },
    {
     "name": "stderr",
     "output_type": "stream",
     "text": [
      "Angle: 60 - Shape type: 7: 100%|██████████| 500/500 [00:00<00:00, 1448.52it/s]\n"
     ]
    },
    {
     "name": "stdout",
     "output_type": "stream",
     "text": [
      "Accuracy: 0.15587580061264272\n"
     ]
    },
    {
     "name": "stderr",
     "output_type": "stream",
     "text": [
      "Angle: 70 - Shape type: 0: 100%|██████████| 500/500 [00:00<00:00, 1046.81it/s]\n"
     ]
    },
    {
     "name": "stdout",
     "output_type": "stream",
     "text": [
      "Accuracy: 0.0\n"
     ]
    },
    {
     "name": "stderr",
     "output_type": "stream",
     "text": [
      "Angle: 70 - Shape type: 1: 100%|██████████| 500/500 [00:00<00:00, 1139.24it/s]\n"
     ]
    },
    {
     "name": "stdout",
     "output_type": "stream",
     "text": [
      "Accuracy: 0.0045\n"
     ]
    },
    {
     "name": "stderr",
     "output_type": "stream",
     "text": [
      "Angle: 70 - Shape type: 2: 100%|██████████| 500/500 [00:00<00:00, 3485.31it/s]\n"
     ]
    },
    {
     "name": "stdout",
     "output_type": "stream",
     "text": [
      "No matches found.\n"
     ]
    },
    {
     "name": "stderr",
     "output_type": "stream",
     "text": [
      "Angle: 70 - Shape type: 3: 100%|██████████| 500/500 [00:00<00:00, 1138.63it/s]\n"
     ]
    },
    {
     "name": "stdout",
     "output_type": "stream",
     "text": [
      "Accuracy: 0.08144392495499136\n"
     ]
    },
    {
     "name": "stderr",
     "output_type": "stream",
     "text": [
      "Angle: 70 - Shape type: 4: 100%|██████████| 500/500 [00:00<00:00, 981.46it/s]\n"
     ]
    },
    {
     "name": "stdout",
     "output_type": "stream",
     "text": [
      "Accuracy: 0.00010526315789473683\n"
     ]
    },
    {
     "name": "stderr",
     "output_type": "stream",
     "text": [
      "Angle: 70 - Shape type: 5: 100%|██████████| 500/500 [00:00<00:00, 1172.56it/s]\n"
     ]
    },
    {
     "name": "stdout",
     "output_type": "stream",
     "text": [
      "Accuracy: 0.02710027100271003\n"
     ]
    },
    {
     "name": "stderr",
     "output_type": "stream",
     "text": [
      "Angle: 70 - Shape type: 6: 100%|██████████| 500/500 [00:00<00:00, 1150.22it/s]\n"
     ]
    },
    {
     "name": "stdout",
     "output_type": "stream",
     "text": [
      "Accuracy: 0.0153\n"
     ]
    },
    {
     "name": "stderr",
     "output_type": "stream",
     "text": [
      "Angle: 70 - Shape type: 7: 100%|██████████| 500/500 [00:00<00:00, 1438.26it/s]\n"
     ]
    },
    {
     "name": "stdout",
     "output_type": "stream",
     "text": [
      "Accuracy: 0.1497175141242938\n"
     ]
    },
    {
     "name": "stderr",
     "output_type": "stream",
     "text": [
      "Angle: 80 - Shape type: 0: 100%|██████████| 500/500 [00:00<00:00, 1064.56it/s]\n"
     ]
    },
    {
     "name": "stdout",
     "output_type": "stream",
     "text": [
      "Accuracy: 9.523809523809523e-05\n"
     ]
    },
    {
     "name": "stderr",
     "output_type": "stream",
     "text": [
      "Angle: 80 - Shape type: 1: 100%|██████████| 500/500 [00:00<00:00, 1131.74it/s]\n"
     ]
    },
    {
     "name": "stdout",
     "output_type": "stream",
     "text": [
      "Accuracy: 0.0045\n"
     ]
    },
    {
     "name": "stderr",
     "output_type": "stream",
     "text": [
      "Angle: 80 - Shape type: 2: 100%|██████████| 500/500 [00:00<00:00, 3386.22it/s]\n"
     ]
    },
    {
     "name": "stdout",
     "output_type": "stream",
     "text": [
      "No matches found.\n"
     ]
    },
    {
     "name": "stderr",
     "output_type": "stream",
     "text": [
      "Angle: 80 - Shape type: 3: 100%|██████████| 500/500 [00:00<00:00, 1079.78it/s]\n"
     ]
    },
    {
     "name": "stdout",
     "output_type": "stream",
     "text": [
      "Accuracy: 0.08031522468142187\n"
     ]
    },
    {
     "name": "stderr",
     "output_type": "stream",
     "text": [
      "Angle: 80 - Shape type: 4: 100%|██████████| 500/500 [00:00<00:00, 944.39it/s] \n"
     ]
    },
    {
     "name": "stdout",
     "output_type": "stream",
     "text": [
      "Accuracy: 0.00010526315789473683\n"
     ]
    },
    {
     "name": "stderr",
     "output_type": "stream",
     "text": [
      "Angle: 80 - Shape type: 5: 100%|██████████| 500/500 [00:00<00:00, 1154.68it/s]\n"
     ]
    },
    {
     "name": "stdout",
     "output_type": "stream",
     "text": [
      "Accuracy: 0.029352226720647773\n"
     ]
    },
    {
     "name": "stderr",
     "output_type": "stream",
     "text": [
      "Angle: 80 - Shape type: 6: 100%|██████████| 500/500 [00:00<00:00, 1150.73it/s]\n"
     ]
    },
    {
     "name": "stdout",
     "output_type": "stream",
     "text": [
      "Accuracy: 0.0054666666666666665\n"
     ]
    },
    {
     "name": "stderr",
     "output_type": "stream",
     "text": [
      "Angle: 80 - Shape type: 7: 100%|██████████| 500/500 [00:00<00:00, 1444.41it/s]\n"
     ]
    },
    {
     "name": "stdout",
     "output_type": "stream",
     "text": [
      "Accuracy: 0.17141500474833807\n"
     ]
    },
    {
     "name": "stderr",
     "output_type": "stream",
     "text": [
      "Angle: 90 - Shape type: 0: 100%|██████████| 500/500 [00:00<00:00, 1069.89it/s]\n"
     ]
    },
    {
     "name": "stdout",
     "output_type": "stream",
     "text": [
      "Accuracy: 0.0\n"
     ]
    },
    {
     "name": "stderr",
     "output_type": "stream",
     "text": [
      "Angle: 90 - Shape type: 1: 100%|██████████| 500/500 [00:00<00:00, 1133.20it/s]\n"
     ]
    },
    {
     "name": "stdout",
     "output_type": "stream",
     "text": [
      "Accuracy: 0.004685714285714285\n"
     ]
    },
    {
     "name": "stderr",
     "output_type": "stream",
     "text": [
      "Angle: 90 - Shape type: 2: 100%|██████████| 500/500 [00:00<00:00, 3453.92it/s]\n"
     ]
    },
    {
     "name": "stdout",
     "output_type": "stream",
     "text": [
      "No matches found.\n"
     ]
    },
    {
     "name": "stderr",
     "output_type": "stream",
     "text": [
      "Angle: 90 - Shape type: 3: 100%|██████████| 500/500 [00:00<00:00, 1150.12it/s]\n"
     ]
    },
    {
     "name": "stdout",
     "output_type": "stream",
     "text": [
      "Accuracy: 0.08500669344042837\n"
     ]
    },
    {
     "name": "stderr",
     "output_type": "stream",
     "text": [
      "Angle: 90 - Shape type: 4: 100%|██████████| 500/500 [00:00<00:00, 1019.45it/s]\n"
     ]
    },
    {
     "name": "stdout",
     "output_type": "stream",
     "text": [
      "Accuracy: 0.0003135964912280701\n"
     ]
    },
    {
     "name": "stderr",
     "output_type": "stream",
     "text": [
      "Angle: 90 - Shape type: 5: 100%|██████████| 500/500 [00:00<00:00, 1177.60it/s]\n"
     ]
    },
    {
     "name": "stdout",
     "output_type": "stream",
     "text": [
      "Accuracy: 0.03219315895372234\n"
     ]
    },
    {
     "name": "stderr",
     "output_type": "stream",
     "text": [
      "Angle: 90 - Shape type: 6: 100%|██████████| 500/500 [00:00<00:00, 1154.34it/s]\n"
     ]
    },
    {
     "name": "stdout",
     "output_type": "stream",
     "text": [
      "Accuracy: 0.001966666666666667\n"
     ]
    },
    {
     "name": "stderr",
     "output_type": "stream",
     "text": [
      "Angle: 90 - Shape type: 7: 100%|██████████| 500/500 [00:00<00:00, 1460.24it/s]\n"
     ]
    },
    {
     "name": "stdout",
     "output_type": "stream",
     "text": [
      "Accuracy: 0.187015503875969\n"
     ]
    },
    {
     "name": "stderr",
     "output_type": "stream",
     "text": [
      "Angle: 100 - Shape type: 0: 100%|██████████| 500/500 [00:00<00:00, 1052.74it/s]\n"
     ]
    },
    {
     "name": "stdout",
     "output_type": "stream",
     "text": [
      "Accuracy: 0.0001111111111111111\n"
     ]
    },
    {
     "name": "stderr",
     "output_type": "stream",
     "text": [
      "Angle: 100 - Shape type: 1: 100%|██████████| 500/500 [00:00<00:00, 1130.98it/s]\n"
     ]
    },
    {
     "name": "stdout",
     "output_type": "stream",
     "text": [
      "Accuracy: 0.011038095238095237\n"
     ]
    },
    {
     "name": "stderr",
     "output_type": "stream",
     "text": [
      "Angle: 100 - Shape type: 2: 100%|██████████| 500/500 [00:00<00:00, 3493.05it/s]\n"
     ]
    },
    {
     "name": "stdout",
     "output_type": "stream",
     "text": [
      "No matches found.\n"
     ]
    },
    {
     "name": "stderr",
     "output_type": "stream",
     "text": [
      "Angle: 100 - Shape type: 3: 100%|██████████| 500/500 [00:00<00:00, 1130.80it/s]\n"
     ]
    },
    {
     "name": "stdout",
     "output_type": "stream",
     "text": [
      "Accuracy: 0.07615230460921844\n"
     ]
    },
    {
     "name": "stderr",
     "output_type": "stream",
     "text": [
      "Angle: 100 - Shape type: 4: 100%|██████████| 500/500 [00:00<00:00, 1004.74it/s]\n"
     ]
    },
    {
     "name": "stdout",
     "output_type": "stream",
     "text": [
      "Accuracy: 0.00015584415584415584\n"
     ]
    },
    {
     "name": "stderr",
     "output_type": "stream",
     "text": [
      "Angle: 100 - Shape type: 5: 100%|██████████| 500/500 [00:00<00:00, 1148.14it/s]\n"
     ]
    },
    {
     "name": "stdout",
     "output_type": "stream",
     "text": [
      "Accuracy: 0.028397565922920892\n"
     ]
    },
    {
     "name": "stderr",
     "output_type": "stream",
     "text": [
      "Angle: 100 - Shape type: 6: 100%|██████████| 500/500 [00:00<00:00, 1149.18it/s]\n"
     ]
    },
    {
     "name": "stdout",
     "output_type": "stream",
     "text": [
      "Accuracy: 0.0026333333333333334\n"
     ]
    },
    {
     "name": "stderr",
     "output_type": "stream",
     "text": [
      "Angle: 100 - Shape type: 7: 100%|██████████| 500/500 [00:00<00:00, 1425.43it/s]\n"
     ]
    },
    {
     "name": "stdout",
     "output_type": "stream",
     "text": [
      "Accuracy: 0.18003933136676498\n"
     ]
    },
    {
     "name": "stderr",
     "output_type": "stream",
     "text": [
      "Angle: 110 - Shape type: 0: 100%|██████████| 500/500 [00:00<00:00, 1052.16it/s]\n"
     ]
    },
    {
     "name": "stdout",
     "output_type": "stream",
     "text": [
      "Accuracy: 0.0\n"
     ]
    },
    {
     "name": "stderr",
     "output_type": "stream",
     "text": [
      "Angle: 110 - Shape type: 1: 100%|██████████| 500/500 [00:00<00:00, 1086.48it/s]\n"
     ]
    },
    {
     "name": "stdout",
     "output_type": "stream",
     "text": [
      "Accuracy: 0.022109523809523808\n"
     ]
    },
    {
     "name": "stderr",
     "output_type": "stream",
     "text": [
      "Angle: 110 - Shape type: 2: 100%|██████████| 500/500 [00:00<00:00, 3484.35it/s]\n"
     ]
    },
    {
     "name": "stdout",
     "output_type": "stream",
     "text": [
      "No matches found.\n"
     ]
    },
    {
     "name": "stderr",
     "output_type": "stream",
     "text": [
      "Angle: 110 - Shape type: 3: 100%|██████████| 500/500 [00:00<00:00, 1138.61it/s]\n"
     ]
    },
    {
     "name": "stdout",
     "output_type": "stream",
     "text": [
      "Accuracy: 0.06142841238031619\n"
     ]
    },
    {
     "name": "stderr",
     "output_type": "stream",
     "text": [
      "Angle: 110 - Shape type: 4: 100%|██████████| 500/500 [00:00<00:00, 984.48it/s]\n"
     ]
    },
    {
     "name": "stdout",
     "output_type": "stream",
     "text": [
      "Accuracy: 5.882352941176471e-05\n"
     ]
    },
    {
     "name": "stderr",
     "output_type": "stream",
     "text": [
      "Angle: 110 - Shape type: 5: 100%|██████████| 500/500 [00:00<00:00, 1191.13it/s]\n"
     ]
    },
    {
     "name": "stdout",
     "output_type": "stream",
     "text": [
      "Accuracy: 0.02631578947368421\n"
     ]
    },
    {
     "name": "stderr",
     "output_type": "stream",
     "text": [
      "Angle: 110 - Shape type: 6: 100%|██████████| 500/500 [00:00<00:00, 1147.16it/s]\n"
     ]
    },
    {
     "name": "stdout",
     "output_type": "stream",
     "text": [
      "Accuracy: 0.002333333333333333\n"
     ]
    },
    {
     "name": "stderr",
     "output_type": "stream",
     "text": [
      "Angle: 110 - Shape type: 7: 100%|██████████| 500/500 [00:00<00:00, 1413.97it/s]\n"
     ]
    },
    {
     "name": "stdout",
     "output_type": "stream",
     "text": [
      "Accuracy: 0.14803625377643503\n"
     ]
    },
    {
     "name": "stderr",
     "output_type": "stream",
     "text": [
      "Angle: 120 - Shape type: 0: 100%|██████████| 500/500 [00:00<00:00, 1051.34it/s]\n"
     ]
    },
    {
     "name": "stdout",
     "output_type": "stream",
     "text": [
      "Accuracy: 0.0\n"
     ]
    },
    {
     "name": "stderr",
     "output_type": "stream",
     "text": [
      "Angle: 120 - Shape type: 1: 100%|██████████| 500/500 [-1:59:59<00:00, -254.80it/s]\n"
     ]
    },
    {
     "name": "stdout",
     "output_type": "stream",
     "text": [
      "Accuracy: 0.02757142857142857\n"
     ]
    },
    {
     "name": "stderr",
     "output_type": "stream",
     "text": [
      "Angle: 120 - Shape type: 2: 100%|██████████| 500/500 [00:00<00:00, 3304.26it/s]\n"
     ]
    },
    {
     "name": "stdout",
     "output_type": "stream",
     "text": [
      "No matches found.\n"
     ]
    },
    {
     "name": "stderr",
     "output_type": "stream",
     "text": [
      "Angle: 120 - Shape type: 3: 100%|██████████| 500/500 [00:00<00:00, 1128.38it/s]\n"
     ]
    },
    {
     "name": "stdout",
     "output_type": "stream",
     "text": [
      "Accuracy: 0.0586\n"
     ]
    },
    {
     "name": "stderr",
     "output_type": "stream",
     "text": [
      "Angle: 120 - Shape type: 4: 100%|██████████| 500/500 [00:00<00:00, 996.83it/s] \n"
     ]
    },
    {
     "name": "stdout",
     "output_type": "stream",
     "text": [
      "Accuracy: 0.00015238095238095237\n"
     ]
    },
    {
     "name": "stderr",
     "output_type": "stream",
     "text": [
      "Angle: 120 - Shape type: 5: 100%|██████████| 500/500 [00:00<00:00, 1143.97it/s]\n"
     ]
    },
    {
     "name": "stdout",
     "output_type": "stream",
     "text": [
      "Accuracy: 0.022357723577235773\n"
     ]
    },
    {
     "name": "stderr",
     "output_type": "stream",
     "text": [
      "Angle: 120 - Shape type: 6: 100%|██████████| 500/500 [00:00<00:00, 1131.77it/s]\n"
     ]
    },
    {
     "name": "stdout",
     "output_type": "stream",
     "text": [
      "Accuracy: 0.007133333333333333\n"
     ]
    },
    {
     "name": "stderr",
     "output_type": "stream",
     "text": [
      "Angle: 120 - Shape type: 7: 100%|██████████| 500/500 [00:00<00:00, 1446.55it/s]\n"
     ]
    },
    {
     "name": "stdout",
     "output_type": "stream",
     "text": [
      "Accuracy: 0.15814696485623003\n"
     ]
    },
    {
     "name": "stderr",
     "output_type": "stream",
     "text": [
      "Angle: 130 - Shape type: 0: 100%|██████████| 500/500 [00:00<00:00, 1051.50it/s]\n"
     ]
    },
    {
     "name": "stdout",
     "output_type": "stream",
     "text": [
      "Accuracy: 0.0\n"
     ]
    },
    {
     "name": "stderr",
     "output_type": "stream",
     "text": [
      "Angle: 130 - Shape type: 1: 100%|██████████| 500/500 [00:00<00:00, 1110.34it/s]\n"
     ]
    },
    {
     "name": "stdout",
     "output_type": "stream",
     "text": [
      "Accuracy: 0.02505238095238095\n"
     ]
    },
    {
     "name": "stderr",
     "output_type": "stream",
     "text": [
      "Angle: 130 - Shape type: 2: 100%|██████████| 500/500 [00:00<00:00, 3546.16it/s]\n"
     ]
    },
    {
     "name": "stdout",
     "output_type": "stream",
     "text": [
      "No matches found.\n"
     ]
    },
    {
     "name": "stderr",
     "output_type": "stream",
     "text": [
      "Angle: 130 - Shape type: 3: 100%|██████████| 500/500 [00:00<00:00, 1149.16it/s]\n"
     ]
    },
    {
     "name": "stdout",
     "output_type": "stream",
     "text": [
      "Accuracy: 0.056513026052104204\n"
     ]
    },
    {
     "name": "stderr",
     "output_type": "stream",
     "text": [
      "Angle: 130 - Shape type: 4: 100%|██████████| 500/500 [00:00<00:00, 1001.38it/s]\n"
     ]
    },
    {
     "name": "stdout",
     "output_type": "stream",
     "text": [
      "Accuracy: 0.0002476190476190476\n"
     ]
    },
    {
     "name": "stderr",
     "output_type": "stream",
     "text": [
      "Angle: 130 - Shape type: 5: 100%|██████████| 500/500 [00:00<00:00, 1177.68it/s]\n"
     ]
    },
    {
     "name": "stdout",
     "output_type": "stream",
     "text": [
      "Accuracy: 0.01417004048582996\n"
     ]
    },
    {
     "name": "stderr",
     "output_type": "stream",
     "text": [
      "Angle: 130 - Shape type: 6: 100%|██████████| 500/500 [00:00<00:00, 1156.29it/s]\n"
     ]
    },
    {
     "name": "stdout",
     "output_type": "stream",
     "text": [
      "Accuracy: 0.0073\n"
     ]
    },
    {
     "name": "stderr",
     "output_type": "stream",
     "text": [
      "Angle: 130 - Shape type: 7: 100%|██████████| 500/500 [00:00<00:00, 1448.24it/s]\n"
     ]
    },
    {
     "name": "stdout",
     "output_type": "stream",
     "text": [
      "Accuracy: 0.1513157894736842\n"
     ]
    },
    {
     "name": "stderr",
     "output_type": "stream",
     "text": [
      "Angle: 140 - Shape type: 0: 100%|██████████| 500/500 [00:00<00:00, 1035.48it/s]\n"
     ]
    },
    {
     "name": "stdout",
     "output_type": "stream",
     "text": [
      "Accuracy: 0.0\n"
     ]
    },
    {
     "name": "stderr",
     "output_type": "stream",
     "text": [
      "Angle: 140 - Shape type: 1: 100%|██████████| 500/500 [00:00<00:00, 1130.23it/s]\n"
     ]
    },
    {
     "name": "stdout",
     "output_type": "stream",
     "text": [
      "Accuracy: 0.01031904761904762\n"
     ]
    },
    {
     "name": "stderr",
     "output_type": "stream",
     "text": [
      "Angle: 140 - Shape type: 2: 100%|██████████| 500/500 [00:00<00:00, 3480.73it/s]\n"
     ]
    },
    {
     "name": "stdout",
     "output_type": "stream",
     "text": [
      "No matches found.\n"
     ]
    },
    {
     "name": "stderr",
     "output_type": "stream",
     "text": [
      "Angle: 140 - Shape type: 3: 100%|██████████| 500/500 [00:00<00:00, 1142.46it/s]\n"
     ]
    },
    {
     "name": "stdout",
     "output_type": "stream",
     "text": [
      "Accuracy: 0.06032064128256513\n"
     ]
    },
    {
     "name": "stderr",
     "output_type": "stream",
     "text": [
      "Angle: 140 - Shape type: 4: 100%|██████████| 500/500 [00:00<00:00, 998.72it/s] \n"
     ]
    },
    {
     "name": "stdout",
     "output_type": "stream",
     "text": [
      "Accuracy: 0.00015238095238095237\n"
     ]
    },
    {
     "name": "stderr",
     "output_type": "stream",
     "text": [
      "Angle: 140 - Shape type: 5: 100%|██████████| 500/500 [00:00<00:00, 1170.12it/s]\n"
     ]
    },
    {
     "name": "stdout",
     "output_type": "stream",
     "text": [
      "Accuracy: 0.006072874493927126\n"
     ]
    },
    {
     "name": "stderr",
     "output_type": "stream",
     "text": [
      "Angle: 140 - Shape type: 6: 100%|██████████| 500/500 [00:00<00:00, 1056.31it/s]\n"
     ]
    },
    {
     "name": "stdout",
     "output_type": "stream",
     "text": [
      "Accuracy: 0.0055\n"
     ]
    },
    {
     "name": "stderr",
     "output_type": "stream",
     "text": [
      "Angle: 140 - Shape type: 7: 100%|██████████| 500/500 [00:00<00:00, 1412.95it/s]\n"
     ]
    },
    {
     "name": "stdout",
     "output_type": "stream",
     "text": [
      "Accuracy: 0.15666666666666668\n"
     ]
    },
    {
     "name": "stderr",
     "output_type": "stream",
     "text": [
      "Angle: 150 - Shape type: 0: 100%|██████████| 500/500 [00:00<00:00, 1033.92it/s]\n"
     ]
    },
    {
     "name": "stdout",
     "output_type": "stream",
     "text": [
      "Accuracy: 0.0\n"
     ]
    },
    {
     "name": "stderr",
     "output_type": "stream",
     "text": [
      "Angle: 150 - Shape type: 1: 100%|██████████| 500/500 [00:00<00:00, 1116.50it/s]\n"
     ]
    },
    {
     "name": "stdout",
     "output_type": "stream",
     "text": [
      "Accuracy: 0.002204761904761905\n"
     ]
    },
    {
     "name": "stderr",
     "output_type": "stream",
     "text": [
      "Angle: 150 - Shape type: 2: 100%|██████████| 500/500 [00:00<00:00, 3448.59it/s]\n"
     ]
    },
    {
     "name": "stdout",
     "output_type": "stream",
     "text": [
      "No matches found.\n"
     ]
    },
    {
     "name": "stderr",
     "output_type": "stream",
     "text": [
      "Angle: 150 - Shape type: 3: 100%|██████████| 500/500 [00:00<00:00, 1122.92it/s]\n"
     ]
    },
    {
     "name": "stdout",
     "output_type": "stream",
     "text": [
      "Accuracy: 0.05259236421561071\n"
     ]
    },
    {
     "name": "stderr",
     "output_type": "stream",
     "text": [
      "Angle: 150 - Shape type: 4: 100%|██████████| 500/500 [00:00<00:00, 969.44it/s]\n"
     ]
    },
    {
     "name": "stdout",
     "output_type": "stream",
     "text": [
      "Accuracy: 0.00022645502645502643\n"
     ]
    },
    {
     "name": "stderr",
     "output_type": "stream",
     "text": [
      "Angle: 150 - Shape type: 5: 100%|██████████| 500/500 [00:00<00:00, 1145.82it/s]\n"
     ]
    },
    {
     "name": "stdout",
     "output_type": "stream",
     "text": [
      "Accuracy: 0.004024144869215292\n"
     ]
    },
    {
     "name": "stderr",
     "output_type": "stream",
     "text": [
      "Angle: 150 - Shape type: 6: 100%|██████████| 500/500 [00:00<00:00, 1138.37it/s]\n"
     ]
    },
    {
     "name": "stdout",
     "output_type": "stream",
     "text": [
      "Accuracy: 0.0017333333333333333\n"
     ]
    },
    {
     "name": "stderr",
     "output_type": "stream",
     "text": [
      "Angle: 150 - Shape type: 7: 100%|██████████| 500/500 [00:00<00:00, 1387.25it/s]\n"
     ]
    },
    {
     "name": "stdout",
     "output_type": "stream",
     "text": [
      "Accuracy: 0.1461794019933555\n"
     ]
    },
    {
     "name": "stderr",
     "output_type": "stream",
     "text": [
      "Angle: 160 - Shape type: 0: 100%|██████████| 500/500 [00:00<00:00, 1039.36it/s]\n"
     ]
    },
    {
     "name": "stdout",
     "output_type": "stream",
     "text": [
      "Accuracy: 0.00010526315789473683\n"
     ]
    },
    {
     "name": "stderr",
     "output_type": "stream",
     "text": [
      "Angle: 160 - Shape type: 1: 100%|██████████| 500/500 [00:00<00:00, 1107.49it/s]\n"
     ]
    },
    {
     "name": "stdout",
     "output_type": "stream",
     "text": [
      "Accuracy: 0.0037571428571428573\n"
     ]
    },
    {
     "name": "stderr",
     "output_type": "stream",
     "text": [
      "Angle: 160 - Shape type: 2: 100%|██████████| 500/500 [00:00<00:00, 3259.35it/s]\n"
     ]
    },
    {
     "name": "stdout",
     "output_type": "stream",
     "text": [
      "No matches found.\n"
     ]
    },
    {
     "name": "stderr",
     "output_type": "stream",
     "text": [
      "Angle: 160 - Shape type: 3: 100%|██████████| 500/500 [00:00<00:00, 1112.90it/s]\n"
     ]
    },
    {
     "name": "stdout",
     "output_type": "stream",
     "text": [
      "Accuracy: 0.037083691191907624\n"
     ]
    },
    {
     "name": "stderr",
     "output_type": "stream",
     "text": [
      "Angle: 160 - Shape type: 4: 100%|██████████| 500/500 [00:00<00:00, 988.63it/s]\n"
     ]
    },
    {
     "name": "stdout",
     "output_type": "stream",
     "text": [
      "Accuracy: 0.00022645502645502643\n"
     ]
    },
    {
     "name": "stderr",
     "output_type": "stream",
     "text": [
      "Angle: 160 - Shape type: 5: 100%|██████████| 500/500 [00:00<00:00, 1142.60it/s]\n"
     ]
    },
    {
     "name": "stdout",
     "output_type": "stream",
     "text": [
      "Accuracy: 0.004\n"
     ]
    },
    {
     "name": "stderr",
     "output_type": "stream",
     "text": [
      "Angle: 160 - Shape type: 6: 100%|██████████| 500/500 [00:00<00:00, 1121.33it/s]\n"
     ]
    },
    {
     "name": "stdout",
     "output_type": "stream",
     "text": [
      "Accuracy: 0.005033333333333333\n"
     ]
    },
    {
     "name": "stderr",
     "output_type": "stream",
     "text": [
      "Angle: 160 - Shape type: 7: 100%|██████████| 500/500 [00:00<00:00, 1404.49it/s]\n"
     ]
    },
    {
     "name": "stdout",
     "output_type": "stream",
     "text": [
      "Accuracy: 0.13511326860841424\n"
     ]
    },
    {
     "name": "stderr",
     "output_type": "stream",
     "text": [
      "Angle: 170 - Shape type: 0: 100%|██████████| 500/500 [00:00<00:00, 1016.63it/s]\n"
     ]
    },
    {
     "name": "stdout",
     "output_type": "stream",
     "text": [
      "Accuracy: 0.011150752688744565\n"
     ]
    },
    {
     "name": "stderr",
     "output_type": "stream",
     "text": [
      "Angle: 170 - Shape type: 1: 100%|██████████| 500/500 [00:00<00:00, 1134.77it/s]\n"
     ]
    },
    {
     "name": "stdout",
     "output_type": "stream",
     "text": [
      "Accuracy: 0.008042857142857143\n"
     ]
    },
    {
     "name": "stderr",
     "output_type": "stream",
     "text": [
      "Angle: 170 - Shape type: 2: 100%|██████████| 500/500 [00:00<00:00, 3362.28it/s]\n"
     ]
    },
    {
     "name": "stdout",
     "output_type": "stream",
     "text": [
      "No matches found.\n"
     ]
    },
    {
     "name": "stderr",
     "output_type": "stream",
     "text": [
      "Angle: 170 - Shape type: 3: 100%|██████████| 500/500 [00:00<00:00, 1110.42it/s]\n"
     ]
    },
    {
     "name": "stdout",
     "output_type": "stream",
     "text": [
      "Accuracy: 0.016907936507936507\n"
     ]
    },
    {
     "name": "stderr",
     "output_type": "stream",
     "text": [
      "Angle: 170 - Shape type: 4: 100%|██████████| 500/500 [00:00<00:00, 979.61it/s]\n"
     ]
    },
    {
     "name": "stdout",
     "output_type": "stream",
     "text": [
      "Accuracy: 0.0011232612570011378\n"
     ]
    },
    {
     "name": "stderr",
     "output_type": "stream",
     "text": [
      "Angle: 170 - Shape type: 5: 100%|██████████| 500/500 [00:00<00:00, 1166.24it/s]\n"
     ]
    },
    {
     "name": "stdout",
     "output_type": "stream",
     "text": [
      "Accuracy: 0.0\n"
     ]
    },
    {
     "name": "stderr",
     "output_type": "stream",
     "text": [
      "Angle: 170 - Shape type: 6: 100%|██████████| 500/500 [00:00<00:00, 1098.83it/s]\n"
     ]
    },
    {
     "name": "stdout",
     "output_type": "stream",
     "text": [
      "Accuracy: 0.013900000000000001\n"
     ]
    },
    {
     "name": "stderr",
     "output_type": "stream",
     "text": [
      "Angle: 170 - Shape type: 7: 100%|██████████| 500/500 [00:00<00:00, 1421.67it/s]\n"
     ]
    },
    {
     "name": "stdout",
     "output_type": "stream",
     "text": [
      "Accuracy: 0.11911976911976913\n"
     ]
    },
    {
     "name": "stderr",
     "output_type": "stream",
     "text": [
      "Angle: 180 - Shape type: 0: 100%|██████████| 500/500 [00:00<00:00, 1014.96it/s]\n"
     ]
    },
    {
     "name": "stdout",
     "output_type": "stream",
     "text": [
      "Accuracy: 0.02109472070540388\n"
     ]
    },
    {
     "name": "stderr",
     "output_type": "stream",
     "text": [
      "Angle: 180 - Shape type: 1: 100%|██████████| 500/500 [00:00<00:00, 1080.88it/s]\n"
     ]
    },
    {
     "name": "stdout",
     "output_type": "stream",
     "text": [
      "Accuracy: 0.0047333333333333324\n"
     ]
    },
    {
     "name": "stderr",
     "output_type": "stream",
     "text": [
      "Angle: 180 - Shape type: 2: 100%|██████████| 500/500 [00:00<00:00, 3315.86it/s]\n"
     ]
    },
    {
     "name": "stdout",
     "output_type": "stream",
     "text": [
      "No matches found.\n"
     ]
    },
    {
     "name": "stderr",
     "output_type": "stream",
     "text": [
      "Angle: 180 - Shape type: 3: 100%|██████████| 500/500 [00:00<00:00, 1100.41it/s]\n"
     ]
    },
    {
     "name": "stdout",
     "output_type": "stream",
     "text": [
      "Accuracy: 0.003416666666666667\n"
     ]
    },
    {
     "name": "stderr",
     "output_type": "stream",
     "text": [
      "Angle: 180 - Shape type: 4: 100%|██████████| 500/500 [00:00<00:00, 969.78it/s]\n"
     ]
    },
    {
     "name": "stdout",
     "output_type": "stream",
     "text": [
      "Accuracy: 0.0014266827140463766\n"
     ]
    },
    {
     "name": "stderr",
     "output_type": "stream",
     "text": [
      "Angle: 180 - Shape type: 5: 100%|██████████| 500/500 [00:00<00:00, 1166.02it/s]\n"
     ]
    },
    {
     "name": "stdout",
     "output_type": "stream",
     "text": [
      "Accuracy: 0.0\n"
     ]
    },
    {
     "name": "stderr",
     "output_type": "stream",
     "text": [
      "Angle: 180 - Shape type: 6: 100%|██████████| 500/500 [00:00<00:00, 1074.88it/s]\n"
     ]
    },
    {
     "name": "stdout",
     "output_type": "stream",
     "text": [
      "Accuracy: 0.017933333333333332\n"
     ]
    },
    {
     "name": "stderr",
     "output_type": "stream",
     "text": [
      "Angle: 180 - Shape type: 7: 100%|██████████| 500/500 [00:00<00:00, 1430.95it/s]\n"
     ]
    },
    {
     "name": "stdout",
     "output_type": "stream",
     "text": [
      "Accuracy: 0.11760634920634921\n"
     ]
    },
    {
     "name": "stderr",
     "output_type": "stream",
     "text": [
      "Angle: 190 - Shape type: 0: 100%|██████████| 500/500 [00:00<00:00, 1023.73it/s]\n"
     ]
    },
    {
     "name": "stdout",
     "output_type": "stream",
     "text": [
      "Accuracy: 0.011792760946464932\n"
     ]
    },
    {
     "name": "stderr",
     "output_type": "stream",
     "text": [
      "Angle: 190 - Shape type: 1: 100%|██████████| 500/500 [00:00<00:00, 1098.93it/s]\n"
     ]
    },
    {
     "name": "stdout",
     "output_type": "stream",
     "text": [
      "Accuracy: 0.003638095238095238\n"
     ]
    },
    {
     "name": "stderr",
     "output_type": "stream",
     "text": [
      "Angle: 190 - Shape type: 2: 100%|██████████| 500/500 [00:00<00:00, 2804.15it/s]\n"
     ]
    },
    {
     "name": "stdout",
     "output_type": "stream",
     "text": [
      "No matches found.\n"
     ]
    },
    {
     "name": "stderr",
     "output_type": "stream",
     "text": [
      "Angle: 190 - Shape type: 3: 100%|██████████| 500/500 [00:00<00:00, 1051.35it/s]\n"
     ]
    },
    {
     "name": "stdout",
     "output_type": "stream",
     "text": [
      "Accuracy: 0.0252515873015873\n"
     ]
    },
    {
     "name": "stderr",
     "output_type": "stream",
     "text": [
      "Angle: 190 - Shape type: 4: 100%|██████████| 500/500 [00:00<00:00, 981.57it/s]\n"
     ]
    },
    {
     "name": "stdout",
     "output_type": "stream",
     "text": [
      "Accuracy: 0.000999703394447599\n"
     ]
    },
    {
     "name": "stderr",
     "output_type": "stream",
     "text": [
      "Angle: 190 - Shape type: 5: 100%|██████████| 500/500 [00:00<00:00, 1149.73it/s]\n"
     ]
    },
    {
     "name": "stdout",
     "output_type": "stream",
     "text": [
      "Accuracy: 0.0006666666666666666\n"
     ]
    },
    {
     "name": "stderr",
     "output_type": "stream",
     "text": [
      "Angle: 190 - Shape type: 6: 100%|██████████| 500/500 [00:00<00:00, 1129.25it/s]\n"
     ]
    },
    {
     "name": "stdout",
     "output_type": "stream",
     "text": [
      "Accuracy: 0.014633333333333333\n"
     ]
    },
    {
     "name": "stderr",
     "output_type": "stream",
     "text": [
      "Angle: 190 - Shape type: 7: 100%|██████████| 500/500 [00:00<00:00, 1416.94it/s]\n"
     ]
    },
    {
     "name": "stdout",
     "output_type": "stream",
     "text": [
      "Accuracy: 0.12235283495846876\n"
     ]
    },
    {
     "name": "stderr",
     "output_type": "stream",
     "text": [
      "Angle: 200 - Shape type: 0: 100%|██████████| 500/500 [00:00<00:00, 1037.83it/s]\n"
     ]
    },
    {
     "name": "stdout",
     "output_type": "stream",
     "text": [
      "Accuracy: 0.0002532051282051282\n"
     ]
    },
    {
     "name": "stderr",
     "output_type": "stream",
     "text": [
      "Angle: 200 - Shape type: 1: 100%|██████████| 500/500 [00:00<00:00, 1128.76it/s]\n"
     ]
    },
    {
     "name": "stdout",
     "output_type": "stream",
     "text": [
      "Accuracy: 0.002476190476190476\n"
     ]
    },
    {
     "name": "stderr",
     "output_type": "stream",
     "text": [
      "Angle: 200 - Shape type: 2: 100%|██████████| 500/500 [00:00<00:00, 3482.61it/s]\n"
     ]
    },
    {
     "name": "stdout",
     "output_type": "stream",
     "text": [
      "No matches found.\n"
     ]
    },
    {
     "name": "stderr",
     "output_type": "stream",
     "text": [
      "Angle: 200 - Shape type: 3: 100%|██████████| 500/500 [00:00<00:00, 1125.04it/s]\n"
     ]
    },
    {
     "name": "stdout",
     "output_type": "stream",
     "text": [
      "Accuracy: 0.03522282660559214\n"
     ]
    },
    {
     "name": "stderr",
     "output_type": "stream",
     "text": [
      "Angle: 200 - Shape type: 4: 100%|██████████| 500/500 [00:00<00:00, 933.74it/s]\n"
     ]
    },
    {
     "name": "stdout",
     "output_type": "stream",
     "text": [
      "Accuracy: 0.00018214285714285714\n"
     ]
    },
    {
     "name": "stderr",
     "output_type": "stream",
     "text": [
      "Angle: 200 - Shape type: 5: 100%|██████████| 500/500 [00:00<00:00, 1124.91it/s]\n"
     ]
    },
    {
     "name": "stdout",
     "output_type": "stream",
     "text": [
      "Accuracy: 0.004666666666666667\n"
     ]
    },
    {
     "name": "stderr",
     "output_type": "stream",
     "text": [
      "Angle: 200 - Shape type: 6: 100%|██████████| 500/500 [00:00<00:00, 1117.49it/s]\n"
     ]
    },
    {
     "name": "stdout",
     "output_type": "stream",
     "text": [
      "Accuracy: 0.004866666666666667\n"
     ]
    },
    {
     "name": "stderr",
     "output_type": "stream",
     "text": [
      "Angle: 200 - Shape type: 7: 100%|██████████| 500/500 [00:00<00:00, 1307.27it/s]\n"
     ]
    },
    {
     "name": "stdout",
     "output_type": "stream",
     "text": [
      "Accuracy: 0.1426470588235294\n"
     ]
    },
    {
     "name": "stderr",
     "output_type": "stream",
     "text": [
      "Angle: 210 - Shape type: 0: 100%|██████████| 500/500 [00:00<00:00, 1017.48it/s]\n"
     ]
    },
    {
     "name": "stdout",
     "output_type": "stream",
     "text": [
      "Accuracy: 0.0\n"
     ]
    },
    {
     "name": "stderr",
     "output_type": "stream",
     "text": [
      "Angle: 210 - Shape type: 1: 100%|██████████| 500/500 [00:00<00:00, 1103.30it/s]\n"
     ]
    },
    {
     "name": "stdout",
     "output_type": "stream",
     "text": [
      "Accuracy: 0.002138095238095238\n"
     ]
    },
    {
     "name": "stderr",
     "output_type": "stream",
     "text": [
      "Angle: 210 - Shape type: 2: 100%|██████████| 500/500 [00:00<00:00, 3484.07it/s]\n"
     ]
    },
    {
     "name": "stdout",
     "output_type": "stream",
     "text": [
      "No matches found.\n"
     ]
    },
    {
     "name": "stderr",
     "output_type": "stream",
     "text": [
      "Angle: 210 - Shape type: 3: 100%|██████████| 500/500 [00:00<00:00, 1089.71it/s]\n"
     ]
    },
    {
     "name": "stdout",
     "output_type": "stream",
     "text": [
      "Accuracy: 0.04629258517034068\n"
     ]
    },
    {
     "name": "stderr",
     "output_type": "stream",
     "text": [
      "Angle: 210 - Shape type: 4: 100%|██████████| 500/500 [00:00<00:00, 992.28it/s] \n"
     ]
    },
    {
     "name": "stdout",
     "output_type": "stream",
     "text": [
      "Accuracy: 0.00042023809523809527\n"
     ]
    },
    {
     "name": "stderr",
     "output_type": "stream",
     "text": [
      "Angle: 210 - Shape type: 5: 100%|██████████| 500/500 [00:00<00:00, 1160.13it/s]\n"
     ]
    },
    {
     "name": "stdout",
     "output_type": "stream",
     "text": [
      "Accuracy: 0.011401743796109993\n"
     ]
    },
    {
     "name": "stderr",
     "output_type": "stream",
     "text": [
      "Angle: 210 - Shape type: 6: 100%|██████████| 500/500 [00:00<00:00, 993.29it/s] \n"
     ]
    },
    {
     "name": "stdout",
     "output_type": "stream",
     "text": [
      "Accuracy: 0.0014666666666666667\n"
     ]
    },
    {
     "name": "stderr",
     "output_type": "stream",
     "text": [
      "Angle: 210 - Shape type: 7: 100%|██████████| 500/500 [-1:59:58<00:00, -210.47it/s]\n"
     ]
    },
    {
     "name": "stdout",
     "output_type": "stream",
     "text": [
      "Accuracy: 0.15336345381526104\n"
     ]
    },
    {
     "name": "stderr",
     "output_type": "stream",
     "text": [
      "Angle: 220 - Shape type: 0: 100%|██████████| 500/500 [00:00<00:00, 816.77it/s]\n"
     ]
    },
    {
     "name": "stdout",
     "output_type": "stream",
     "text": [
      "Accuracy: 9.523809523809523e-05\n"
     ]
    },
    {
     "name": "stderr",
     "output_type": "stream",
     "text": [
      "Angle: 220 - Shape type: 1: 100%|██████████| 500/500 [00:00<00:00, 940.44it/s] \n"
     ]
    },
    {
     "name": "stdout",
     "output_type": "stream",
     "text": [
      "Accuracy: 0.0064476190476190475\n"
     ]
    },
    {
     "name": "stderr",
     "output_type": "stream",
     "text": [
      "Angle: 220 - Shape type: 2: 100%|██████████| 500/500 [00:00<00:00, 2689.92it/s]\n"
     ]
    },
    {
     "name": "stdout",
     "output_type": "stream",
     "text": [
      "No matches found.\n"
     ]
    },
    {
     "name": "stderr",
     "output_type": "stream",
     "text": [
      "Angle: 220 - Shape type: 3: 100%|██████████| 500/500 [00:00<00:00, 998.54it/s] \n"
     ]
    },
    {
     "name": "stdout",
     "output_type": "stream",
     "text": [
      "Accuracy: 0.052104208416833664\n"
     ]
    },
    {
     "name": "stderr",
     "output_type": "stream",
     "text": [
      "Angle: 220 - Shape type: 4: 100%|██████████| 500/500 [00:00<00:00, 834.71it/s]\n"
     ]
    },
    {
     "name": "stdout",
     "output_type": "stream",
     "text": [
      "Accuracy: 0.000225\n"
     ]
    },
    {
     "name": "stderr",
     "output_type": "stream",
     "text": [
      "Angle: 220 - Shape type: 5: 100%|██████████| 500/500 [00:00<00:00, 1035.62it/s]\n"
     ]
    },
    {
     "name": "stdout",
     "output_type": "stream",
     "text": [
      "Accuracy: 0.02755376344086021\n"
     ]
    },
    {
     "name": "stderr",
     "output_type": "stream",
     "text": [
      "Angle: 220 - Shape type: 6: 100%|██████████| 500/500 [00:00<00:00, 1032.85it/s]\n"
     ]
    },
    {
     "name": "stdout",
     "output_type": "stream",
     "text": [
      "Accuracy: 0.0011666666666666665\n"
     ]
    },
    {
     "name": "stderr",
     "output_type": "stream",
     "text": [
      "Angle: 220 - Shape type: 7: 100%|██████████| 500/500 [00:00<00:00, 1345.04it/s]\n"
     ]
    },
    {
     "name": "stdout",
     "output_type": "stream",
     "text": [
      "Accuracy: 0.15823563467940369\n"
     ]
    },
    {
     "name": "stderr",
     "output_type": "stream",
     "text": [
      "Angle: 230 - Shape type: 0: 100%|██████████| 500/500 [00:00<00:00, 1047.72it/s]\n"
     ]
    },
    {
     "name": "stdout",
     "output_type": "stream",
     "text": [
      "Accuracy: 0.00011764705882352942\n"
     ]
    },
    {
     "name": "stderr",
     "output_type": "stream",
     "text": [
      "Angle: 230 - Shape type: 1: 100%|██████████| 500/500 [00:00<00:00, 1104.16it/s]\n"
     ]
    },
    {
     "name": "stdout",
     "output_type": "stream",
     "text": [
      "Accuracy: 0.02263333333333333\n"
     ]
    },
    {
     "name": "stderr",
     "output_type": "stream",
     "text": [
      "Angle: 230 - Shape type: 2: 100%|██████████| 500/500 [00:00<00:00, 3334.96it/s]\n"
     ]
    },
    {
     "name": "stdout",
     "output_type": "stream",
     "text": [
      "No matches found.\n"
     ]
    },
    {
     "name": "stderr",
     "output_type": "stream",
     "text": [
      "Angle: 230 - Shape type: 3: 100%|██████████| 500/500 [00:00<00:00, 1064.29it/s]\n"
     ]
    },
    {
     "name": "stdout",
     "output_type": "stream",
     "text": [
      "Accuracy: 0.05439450329229888\n"
     ]
    },
    {
     "name": "stderr",
     "output_type": "stream",
     "text": [
      "Angle: 230 - Shape type: 4: 100%|██████████| 500/500 [00:00<00:00, 1008.96it/s]\n"
     ]
    },
    {
     "name": "stdout",
     "output_type": "stream",
     "text": [
      "Accuracy: 0.0001\n"
     ]
    },
    {
     "name": "stderr",
     "output_type": "stream",
     "text": [
      "Angle: 230 - Shape type: 5: 100%|██████████| 500/500 [00:00<00:00, 1196.08it/s]\n"
     ]
    },
    {
     "name": "stdout",
     "output_type": "stream",
     "text": [
      "Accuracy: 0.02636916835699797\n"
     ]
    },
    {
     "name": "stderr",
     "output_type": "stream",
     "text": [
      "Angle: 230 - Shape type: 6: 100%|██████████| 500/500 [00:00<00:00, 1154.21it/s]\n"
     ]
    },
    {
     "name": "stdout",
     "output_type": "stream",
     "text": [
      "Accuracy: 0.006166666666666667\n"
     ]
    },
    {
     "name": "stderr",
     "output_type": "stream",
     "text": [
      "Angle: 230 - Shape type: 7: 100%|██████████| 500/500 [00:00<00:00, 1434.41it/s]\n"
     ]
    },
    {
     "name": "stdout",
     "output_type": "stream",
     "text": [
      "Accuracy: 0.14765512265512265\n"
     ]
    },
    {
     "name": "stderr",
     "output_type": "stream",
     "text": [
      "Angle: 240 - Shape type: 0: 100%|██████████| 500/500 [00:00<00:00, 1048.01it/s]\n"
     ]
    },
    {
     "name": "stdout",
     "output_type": "stream",
     "text": [
      "Accuracy: 0.00011764705882352942\n"
     ]
    },
    {
     "name": "stderr",
     "output_type": "stream",
     "text": [
      "Angle: 240 - Shape type: 1: 100%|██████████| 500/500 [00:00<00:00, 1098.97it/s]\n"
     ]
    },
    {
     "name": "stdout",
     "output_type": "stream",
     "text": [
      "Accuracy: 0.02736190476190476\n"
     ]
    },
    {
     "name": "stderr",
     "output_type": "stream",
     "text": [
      "Angle: 240 - Shape type: 2: 100%|██████████| 500/500 [00:00<00:00, 3531.91it/s]\n"
     ]
    },
    {
     "name": "stdout",
     "output_type": "stream",
     "text": [
      "No matches found.\n"
     ]
    },
    {
     "name": "stderr",
     "output_type": "stream",
     "text": [
      "Angle: 240 - Shape type: 3: 100%|██████████| 500/500 [00:00<00:00, 1122.37it/s]\n"
     ]
    },
    {
     "name": "stdout",
     "output_type": "stream",
     "text": [
      "Accuracy: 0.05338815579779435\n"
     ]
    },
    {
     "name": "stderr",
     "output_type": "stream",
     "text": [
      "Angle: 240 - Shape type: 4: 100%|██████████| 500/500 [00:00<00:00, 880.76it/s]\n"
     ]
    },
    {
     "name": "stdout",
     "output_type": "stream",
     "text": [
      "Accuracy: 0.000225\n"
     ]
    },
    {
     "name": "stderr",
     "output_type": "stream",
     "text": [
      "Angle: 240 - Shape type: 5: 100%|██████████| 500/500 [00:00<00:00, 1201.11it/s]\n"
     ]
    },
    {
     "name": "stdout",
     "output_type": "stream",
     "text": [
      "Accuracy: 0.026422764227642278\n"
     ]
    },
    {
     "name": "stderr",
     "output_type": "stream",
     "text": [
      "Angle: 240 - Shape type: 6: 100%|██████████| 500/500 [00:00<00:00, 904.64it/s]\n"
     ]
    },
    {
     "name": "stdout",
     "output_type": "stream",
     "text": [
      "Accuracy: 0.007066666666666666\n"
     ]
    },
    {
     "name": "stderr",
     "output_type": "stream",
     "text": [
      "Angle: 240 - Shape type: 7: 100%|██████████| 500/500 [00:00<00:00, 1330.38it/s]\n"
     ]
    },
    {
     "name": "stdout",
     "output_type": "stream",
     "text": [
      "Accuracy: 0.1524122807017544\n"
     ]
    },
    {
     "name": "stderr",
     "output_type": "stream",
     "text": [
      "Angle: 250 - Shape type: 0: 100%|██████████| 500/500 [00:00<00:00, 987.32it/s] \n"
     ]
    },
    {
     "name": "stdout",
     "output_type": "stream",
     "text": [
      "Accuracy: 0.0\n"
     ]
    },
    {
     "name": "stderr",
     "output_type": "stream",
     "text": [
      "Angle: 250 - Shape type: 1: 100%|██████████| 500/500 [00:00<00:00, 1076.94it/s]\n"
     ]
    },
    {
     "name": "stdout",
     "output_type": "stream",
     "text": [
      "Accuracy: 0.026542857142857146\n"
     ]
    },
    {
     "name": "stderr",
     "output_type": "stream",
     "text": [
      "Angle: 250 - Shape type: 2: 100%|██████████| 500/500 [00:00<00:00, 3208.89it/s]\n"
     ]
    },
    {
     "name": "stdout",
     "output_type": "stream",
     "text": [
      "No matches found.\n"
     ]
    },
    {
     "name": "stderr",
     "output_type": "stream",
     "text": [
      "Angle: 250 - Shape type: 3: 100%|██████████| 500/500 [00:00<00:00, 913.20it/s]\n"
     ]
    },
    {
     "name": "stdout",
     "output_type": "stream",
     "text": [
      "Accuracy: 0.06905320813771518\n"
     ]
    },
    {
     "name": "stderr",
     "output_type": "stream",
     "text": [
      "Angle: 250 - Shape type: 4: 100%|██████████| 500/500 [00:00<00:00, 881.25it/s]\n"
     ]
    },
    {
     "name": "stdout",
     "output_type": "stream",
     "text": [
      "Accuracy: 0.00023026315789473684\n"
     ]
    },
    {
     "name": "stderr",
     "output_type": "stream",
     "text": [
      "Angle: 250 - Shape type: 5: 100%|██████████| 500/500 [00:00<00:00, 1145.34it/s]\n"
     ]
    },
    {
     "name": "stdout",
     "output_type": "stream",
     "text": [
      "Accuracy: 0.026422764227642278\n"
     ]
    },
    {
     "name": "stderr",
     "output_type": "stream",
     "text": [
      "Angle: 250 - Shape type: 6: 100%|██████████| 500/500 [00:00<00:00, 1100.17it/s]\n"
     ]
    },
    {
     "name": "stdout",
     "output_type": "stream",
     "text": [
      "Accuracy: 0.008533333333333334\n"
     ]
    },
    {
     "name": "stderr",
     "output_type": "stream",
     "text": [
      "Angle: 250 - Shape type: 7: 100%|██████████| 500/500 [00:00<00:00, 1416.58it/s]\n"
     ]
    },
    {
     "name": "stdout",
     "output_type": "stream",
     "text": [
      "Accuracy: 0.14548022598870056\n"
     ]
    },
    {
     "name": "stderr",
     "output_type": "stream",
     "text": [
      "Angle: 260 - Shape type: 0: 100%|██████████| 500/500 [00:00<00:00, 941.84it/s] \n"
     ]
    },
    {
     "name": "stdout",
     "output_type": "stream",
     "text": [
      "Accuracy: 9.523809523809523e-05\n"
     ]
    },
    {
     "name": "stderr",
     "output_type": "stream",
     "text": [
      "Angle: 260 - Shape type: 1: 100%|██████████| 500/500 [00:00<00:00, 1003.26it/s]\n"
     ]
    },
    {
     "name": "stdout",
     "output_type": "stream",
     "text": [
      "Accuracy: 0.013090476190476189\n"
     ]
    },
    {
     "name": "stderr",
     "output_type": "stream",
     "text": [
      "Angle: 260 - Shape type: 2: 100%|██████████| 500/500 [00:00<00:00, 3447.91it/s]\n"
     ]
    },
    {
     "name": "stdout",
     "output_type": "stream",
     "text": [
      "No matches found.\n"
     ]
    },
    {
     "name": "stderr",
     "output_type": "stream",
     "text": [
      "Angle: 260 - Shape type: 3: 100%|██████████| 500/500 [00:00<00:00, 1050.22it/s]\n"
     ]
    },
    {
     "name": "stdout",
     "output_type": "stream",
     "text": [
      "Accuracy: 0.07530420618951807\n"
     ]
    },
    {
     "name": "stderr",
     "output_type": "stream",
     "text": [
      "Angle: 260 - Shape type: 4: 100%|██████████| 500/500 [00:00<00:00, 955.97it/s]\n"
     ]
    },
    {
     "name": "stdout",
     "output_type": "stream",
     "text": [
      "Accuracy: 0.00010526315789473683\n"
     ]
    },
    {
     "name": "stderr",
     "output_type": "stream",
     "text": [
      "Angle: 260 - Shape type: 5: 100%|██████████| 500/500 [00:00<00:00, 1150.62it/s]\n"
     ]
    },
    {
     "name": "stdout",
     "output_type": "stream",
     "text": [
      "Accuracy: 0.02834008097165992\n"
     ]
    },
    {
     "name": "stderr",
     "output_type": "stream",
     "text": [
      "Angle: 260 - Shape type: 6: 100%|██████████| 500/500 [00:00<00:00, 1117.90it/s]\n"
     ]
    },
    {
     "name": "stdout",
     "output_type": "stream",
     "text": [
      "Accuracy: 0.0017333333333333335\n"
     ]
    },
    {
     "name": "stderr",
     "output_type": "stream",
     "text": [
      "Angle: 260 - Shape type: 7: 100%|██████████| 500/500 [00:00<00:00, 1241.02it/s]\n"
     ]
    },
    {
     "name": "stdout",
     "output_type": "stream",
     "text": [
      "Accuracy: 0.16866096866096866\n"
     ]
    },
    {
     "name": "stderr",
     "output_type": "stream",
     "text": [
      "Angle: 270 - Shape type: 0: 100%|██████████| 500/500 [00:00<00:00, 905.04it/s]\n"
     ]
    },
    {
     "name": "stdout",
     "output_type": "stream",
     "text": [
      "Accuracy: 0.0\n"
     ]
    },
    {
     "name": "stderr",
     "output_type": "stream",
     "text": [
      "Angle: 270 - Shape type: 1: 100%|██████████| 500/500 [00:00<00:00, 1096.16it/s]\n"
     ]
    },
    {
     "name": "stdout",
     "output_type": "stream",
     "text": [
      "Accuracy: 0.005585714285714285\n"
     ]
    },
    {
     "name": "stderr",
     "output_type": "stream",
     "text": [
      "Angle: 270 - Shape type: 2: 100%|██████████| 500/500 [00:00<00:00, 3128.79it/s]\n"
     ]
    },
    {
     "name": "stdout",
     "output_type": "stream",
     "text": [
      "No matches found.\n"
     ]
    },
    {
     "name": "stderr",
     "output_type": "stream",
     "text": [
      "Angle: 270 - Shape type: 3: 100%|██████████| 500/500 [00:00<00:00, 1106.72it/s]\n"
     ]
    },
    {
     "name": "stdout",
     "output_type": "stream",
     "text": [
      "Accuracy: 0.08736852170587112\n"
     ]
    },
    {
     "name": "stderr",
     "output_type": "stream",
     "text": [
      "Angle: 270 - Shape type: 4: 100%|██████████| 500/500 [00:00<00:00, 966.08it/s]\n"
     ]
    },
    {
     "name": "stdout",
     "output_type": "stream",
     "text": [
      "Accuracy: 0.00010526315789473683\n"
     ]
    },
    {
     "name": "stderr",
     "output_type": "stream",
     "text": [
      "Angle: 270 - Shape type: 5: 100%|██████████| 500/500 [00:00<00:00, 1062.88it/s]\n"
     ]
    },
    {
     "name": "stdout",
     "output_type": "stream",
     "text": [
      "Accuracy: 0.03219315895372234\n"
     ]
    },
    {
     "name": "stderr",
     "output_type": "stream",
     "text": [
      "Angle: 270 - Shape type: 6: 100%|██████████| 500/500 [00:00<00:00, 1080.28it/s]\n"
     ]
    },
    {
     "name": "stdout",
     "output_type": "stream",
     "text": [
      "Accuracy: 0.0012333333333333335\n"
     ]
    },
    {
     "name": "stderr",
     "output_type": "stream",
     "text": [
      "Angle: 270 - Shape type: 7: 100%|██████████| 500/500 [00:00<00:00, 1431.16it/s]\n"
     ]
    },
    {
     "name": "stdout",
     "output_type": "stream",
     "text": [
      "Accuracy: 0.18500830564784052\n"
     ]
    },
    {
     "name": "stderr",
     "output_type": "stream",
     "text": [
      "Angle: 280 - Shape type: 0: 100%|██████████| 500/500 [00:00<00:00, 1040.39it/s]\n"
     ]
    },
    {
     "name": "stdout",
     "output_type": "stream",
     "text": [
      "Accuracy: 0.00010526315789473683\n"
     ]
    },
    {
     "name": "stderr",
     "output_type": "stream",
     "text": [
      "Angle: 280 - Shape type: 1: 100%|██████████| 500/500 [00:00<00:00, 1108.31it/s]\n"
     ]
    },
    {
     "name": "stdout",
     "output_type": "stream",
     "text": [
      "Accuracy: 0.0036857142857142857\n"
     ]
    },
    {
     "name": "stderr",
     "output_type": "stream",
     "text": [
      "Angle: 280 - Shape type: 2: 100%|██████████| 500/500 [00:00<00:00, 3381.40it/s]\n"
     ]
    },
    {
     "name": "stdout",
     "output_type": "stream",
     "text": [
      "No matches found.\n"
     ]
    },
    {
     "name": "stderr",
     "output_type": "stream",
     "text": [
      "Angle: 280 - Shape type: 3: 100%|██████████| 500/500 [00:00<00:00, 1059.52it/s]\n"
     ]
    },
    {
     "name": "stdout",
     "output_type": "stream",
     "text": [
      "Accuracy: 0.0825818303273213\n"
     ]
    },
    {
     "name": "stderr",
     "output_type": "stream",
     "text": [
      "Angle: 280 - Shape type: 4: 100%|██████████| 500/500 [00:00<00:00, 918.61it/s]\n"
     ]
    },
    {
     "name": "stdout",
     "output_type": "stream",
     "text": [
      "Accuracy: 0.00020634920634920634\n"
     ]
    },
    {
     "name": "stderr",
     "output_type": "stream",
     "text": [
      "Angle: 280 - Shape type: 5: 100%|██████████| 500/500 [00:00<00:00, 1140.51it/s]\n"
     ]
    },
    {
     "name": "stdout",
     "output_type": "stream",
     "text": [
      "Accuracy: 0.029411764705882353\n"
     ]
    },
    {
     "name": "stderr",
     "output_type": "stream",
     "text": [
      "Angle: 280 - Shape type: 6: 100%|██████████| 500/500 [00:00<00:00, 1133.49it/s]\n"
     ]
    },
    {
     "name": "stdout",
     "output_type": "stream",
     "text": [
      "Accuracy: 0.0017333333333333335\n"
     ]
    },
    {
     "name": "stderr",
     "output_type": "stream",
     "text": [
      "Angle: 280 - Shape type: 7: 100%|██████████| 500/500 [00:00<00:00, 1431.26it/s]\n"
     ]
    },
    {
     "name": "stdout",
     "output_type": "stream",
     "text": [
      "Accuracy: 0.18043264503441497\n"
     ]
    },
    {
     "name": "stderr",
     "output_type": "stream",
     "text": [
      "Angle: 290 - Shape type: 0: 100%|██████████| 500/500 [00:00<00:00, 1025.17it/s]\n"
     ]
    },
    {
     "name": "stdout",
     "output_type": "stream",
     "text": [
      "Accuracy: 0.0001\n"
     ]
    },
    {
     "name": "stderr",
     "output_type": "stream",
     "text": [
      "Angle: 290 - Shape type: 1: 100%|██████████| 500/500 [00:00<00:00, 1118.41it/s]\n"
     ]
    },
    {
     "name": "stdout",
     "output_type": "stream",
     "text": [
      "Accuracy: 0.003185714285714286\n"
     ]
    },
    {
     "name": "stderr",
     "output_type": "stream",
     "text": [
      "Angle: 290 - Shape type: 2: 100%|██████████| 500/500 [00:00<00:00, 3398.66it/s]\n"
     ]
    },
    {
     "name": "stdout",
     "output_type": "stream",
     "text": [
      "No matches found.\n"
     ]
    },
    {
     "name": "stderr",
     "output_type": "stream",
     "text": [
      "Angle: 290 - Shape type: 3: 100%|██████████| 500/500 [00:00<00:00, 1104.28it/s]\n"
     ]
    },
    {
     "name": "stdout",
     "output_type": "stream",
     "text": [
      "Accuracy: 0.07685927410376307\n"
     ]
    },
    {
     "name": "stderr",
     "output_type": "stream",
     "text": [
      "Angle: 290 - Shape type: 4: 100%|██████████| 500/500 [00:00<00:00, 933.72it/s]\n"
     ]
    },
    {
     "name": "stdout",
     "output_type": "stream",
     "text": [
      "Accuracy: 5.882352941176471e-05\n"
     ]
    },
    {
     "name": "stderr",
     "output_type": "stream",
     "text": [
      "Angle: 290 - Shape type: 5: 100%|██████████| 500/500 [00:00<00:00, 1138.35it/s]\n"
     ]
    },
    {
     "name": "stdout",
     "output_type": "stream",
     "text": [
      "Accuracy: 0.02631578947368421\n"
     ]
    },
    {
     "name": "stderr",
     "output_type": "stream",
     "text": [
      "Angle: 290 - Shape type: 6: 100%|██████████| 500/500 [00:00<00:00, 1114.09it/s]\n"
     ]
    },
    {
     "name": "stdout",
     "output_type": "stream",
     "text": [
      "Accuracy: 0.009666666666666665\n"
     ]
    },
    {
     "name": "stderr",
     "output_type": "stream",
     "text": [
      "Angle: 290 - Shape type: 7: 100%|██████████| 500/500 [00:00<00:00, 1401.84it/s]\n"
     ]
    },
    {
     "name": "stdout",
     "output_type": "stream",
     "text": [
      "Accuracy: 0.14954682779456194\n"
     ]
    },
    {
     "name": "stderr",
     "output_type": "stream",
     "text": [
      "Angle: 300 - Shape type: 0: 100%|██████████| 500/500 [00:00<00:00, 1014.22it/s]\n"
     ]
    },
    {
     "name": "stdout",
     "output_type": "stream",
     "text": [
      "Accuracy: 9.523809523809523e-05\n"
     ]
    },
    {
     "name": "stderr",
     "output_type": "stream",
     "text": [
      "Angle: 300 - Shape type: 1: 100%|██████████| 500/500 [00:00<00:00, 1077.85it/s]\n"
     ]
    },
    {
     "name": "stdout",
     "output_type": "stream",
     "text": [
      "Accuracy: 0.0009\n"
     ]
    },
    {
     "name": "stderr",
     "output_type": "stream",
     "text": [
      "Angle: 300 - Shape type: 2: 100%|██████████| 500/500 [00:00<00:00, 3282.21it/s]\n"
     ]
    },
    {
     "name": "stdout",
     "output_type": "stream",
     "text": [
      "No matches found.\n"
     ]
    },
    {
     "name": "stderr",
     "output_type": "stream",
     "text": [
      "Angle: 300 - Shape type: 3: 100%|██████████| 500/500 [00:00<00:00, 1107.20it/s]\n"
     ]
    },
    {
     "name": "stdout",
     "output_type": "stream",
     "text": [
      "Accuracy: 0.12371904761904762\n"
     ]
    },
    {
     "name": "stderr",
     "output_type": "stream",
     "text": [
      "Angle: 300 - Shape type: 4: 100%|██████████| 500/500 [00:00<00:00, 965.47it/s]\n"
     ]
    },
    {
     "name": "stdout",
     "output_type": "stream",
     "text": [
      "Accuracy: 0.0007424647981588847\n"
     ]
    },
    {
     "name": "stderr",
     "output_type": "stream",
     "text": [
      "Angle: 300 - Shape type: 5: 100%|██████████| 500/500 [00:00<00:00, 1011.48it/s]\n"
     ]
    },
    {
     "name": "stdout",
     "output_type": "stream",
     "text": [
      "Accuracy: 0.02371273712737127\n"
     ]
    },
    {
     "name": "stderr",
     "output_type": "stream",
     "text": [
      "Angle: 300 - Shape type: 6: 100%|██████████| 500/500 [00:00<00:00, 695.55it/s]\n"
     ]
    },
    {
     "name": "stdout",
     "output_type": "stream",
     "text": [
      "Accuracy: 0.04393333333333334\n"
     ]
    },
    {
     "name": "stderr",
     "output_type": "stream",
     "text": [
      "Angle: 300 - Shape type: 7: 100%|██████████| 500/500 [00:00<00:00, 996.96it/s] \n"
     ]
    },
    {
     "name": "stdout",
     "output_type": "stream",
     "text": [
      "Accuracy: 0.1597444089456869\n"
     ]
    },
    {
     "name": "stderr",
     "output_type": "stream",
     "text": [
      "Angle: 310 - Shape type: 0: 100%|██████████| 500/500 [-1:59:59<00:00, -256.31it/s]\n"
     ]
    },
    {
     "name": "stdout",
     "output_type": "stream",
     "text": [
      "Accuracy: 9.523809523809523e-05\n"
     ]
    },
    {
     "name": "stderr",
     "output_type": "stream",
     "text": [
      "Angle: 310 - Shape type: 1: 100%|██████████| 500/500 [00:00<00:00, 708.28it/s]\n"
     ]
    },
    {
     "name": "stdout",
     "output_type": "stream",
     "text": [
      "Accuracy: 0.002842857142857143\n"
     ]
    },
    {
     "name": "stderr",
     "output_type": "stream",
     "text": [
      "Angle: 310 - Shape type: 2: 100%|██████████| 500/500 [00:00<00:00, 2922.51it/s]\n"
     ]
    },
    {
     "name": "stdout",
     "output_type": "stream",
     "text": [
      "No matches found.\n"
     ]
    },
    {
     "name": "stderr",
     "output_type": "stream",
     "text": [
      "Angle: 310 - Shape type: 3: 100%|██████████| 500/500 [00:00<00:00, 862.57it/s]\n"
     ]
    },
    {
     "name": "stdout",
     "output_type": "stream",
     "text": [
      "Accuracy: 0.21129177547013217\n"
     ]
    },
    {
     "name": "stderr",
     "output_type": "stream",
     "text": [
      "Angle: 310 - Shape type: 4: 100%|██████████| 500/500 [00:00<00:00, 772.25it/s]\n"
     ]
    },
    {
     "name": "stdout",
     "output_type": "stream",
     "text": [
      "Accuracy: 0.001356672941396172\n"
     ]
    },
    {
     "name": "stderr",
     "output_type": "stream",
     "text": [
      "Angle: 310 - Shape type: 5: 100%|██████████| 500/500 [00:00<00:00, 874.07it/s]\n"
     ]
    },
    {
     "name": "stdout",
     "output_type": "stream",
     "text": [
      "Accuracy: 0.035931174089068825\n"
     ]
    },
    {
     "name": "stderr",
     "output_type": "stream",
     "text": [
      "Angle: 310 - Shape type: 6: 100%|██████████| 500/500 [00:00<00:00, 888.54it/s]\n"
     ]
    },
    {
     "name": "stdout",
     "output_type": "stream",
     "text": [
      "Accuracy: 0.12133333333333332\n"
     ]
    },
    {
     "name": "stderr",
     "output_type": "stream",
     "text": [
      "Angle: 310 - Shape type: 7: 100%|██████████| 500/500 [00:00<00:00, 1006.95it/s]\n"
     ]
    },
    {
     "name": "stdout",
     "output_type": "stream",
     "text": [
      "Accuracy: 0.15910087719298247\n"
     ]
    },
    {
     "name": "stderr",
     "output_type": "stream",
     "text": [
      "Angle: 320 - Shape type: 0: 100%|██████████| 500/500 [00:00<00:00, 883.17it/s]\n"
     ]
    },
    {
     "name": "stdout",
     "output_type": "stream",
     "text": [
      "Accuracy: 0.001230050505050505\n"
     ]
    },
    {
     "name": "stderr",
     "output_type": "stream",
     "text": [
      "Angle: 320 - Shape type: 1: 100%|██████████| 500/500 [00:00<00:00, 893.81it/s]\n"
     ]
    },
    {
     "name": "stdout",
     "output_type": "stream",
     "text": [
      "Accuracy: 0.01571904761904762\n"
     ]
    },
    {
     "name": "stderr",
     "output_type": "stream",
     "text": [
      "Angle: 320 - Shape type: 2: 100%|██████████| 500/500 [00:00<00:00, 3302.87it/s]\n"
     ]
    },
    {
     "name": "stdout",
     "output_type": "stream",
     "text": [
      "No matches found.\n"
     ]
    },
    {
     "name": "stderr",
     "output_type": "stream",
     "text": [
      "Angle: 320 - Shape type: 3: 100%|██████████| 500/500 [00:00<00:00, 1026.20it/s]\n"
     ]
    },
    {
     "name": "stdout",
     "output_type": "stream",
     "text": [
      "Accuracy: 0.3392321161359238\n"
     ]
    },
    {
     "name": "stderr",
     "output_type": "stream",
     "text": [
      "Angle: 320 - Shape type: 4: 100%|██████████| 500/500 [00:00<00:00, 868.72it/s]\n"
     ]
    },
    {
     "name": "stdout",
     "output_type": "stream",
     "text": [
      "Accuracy: 0.00456100413554617\n"
     ]
    },
    {
     "name": "stderr",
     "output_type": "stream",
     "text": [
      "Angle: 320 - Shape type: 5: 100%|██████████| 500/500 [00:00<00:00, 1006.42it/s]\n"
     ]
    },
    {
     "name": "stdout",
     "output_type": "stream",
     "text": [
      "Accuracy: 0.21180836707152495\n"
     ]
    },
    {
     "name": "stderr",
     "output_type": "stream",
     "text": [
      "Angle: 320 - Shape type: 6: 100%|██████████| 500/500 [00:00<00:00, 1060.35it/s]\n"
     ]
    },
    {
     "name": "stdout",
     "output_type": "stream",
     "text": [
      "Accuracy: 0.2685\n"
     ]
    },
    {
     "name": "stderr",
     "output_type": "stream",
     "text": [
      "Angle: 320 - Shape type: 7: 100%|██████████| 500/500 [00:00<00:00, 1340.77it/s]\n"
     ]
    },
    {
     "name": "stdout",
     "output_type": "stream",
     "text": [
      "Accuracy: 0.21623544973544975\n"
     ]
    },
    {
     "name": "stderr",
     "output_type": "stream",
     "text": [
      "Angle: 330 - Shape type: 0: 100%|██████████| 500/500 [00:00<00:00, 997.22it/s] \n"
     ]
    },
    {
     "name": "stdout",
     "output_type": "stream",
     "text": [
      "Accuracy: 0.017441384452135077\n"
     ]
    },
    {
     "name": "stderr",
     "output_type": "stream",
     "text": [
      "Angle: 330 - Shape type: 1: 100%|██████████| 500/500 [00:00<00:00, 1054.26it/s]\n"
     ]
    },
    {
     "name": "stdout",
     "output_type": "stream",
     "text": [
      "Accuracy: 0.15387619047619047\n"
     ]
    },
    {
     "name": "stderr",
     "output_type": "stream",
     "text": [
      "Angle: 330 - Shape type: 2: 100%|██████████| 500/500 [00:00<00:00, 3445.65it/s]\n"
     ]
    },
    {
     "name": "stdout",
     "output_type": "stream",
     "text": [
      "No matches found.\n"
     ]
    },
    {
     "name": "stderr",
     "output_type": "stream",
     "text": [
      "Angle: 330 - Shape type: 3: 100%|██████████| 500/500 [00:00<00:00, 923.86it/s] \n"
     ]
    },
    {
     "name": "stdout",
     "output_type": "stream",
     "text": [
      "Accuracy: 0.456450808154215\n"
     ]
    },
    {
     "name": "stderr",
     "output_type": "stream",
     "text": [
      "Angle: 330 - Shape type: 4: 100%|██████████| 500/500 [00:00<00:00, 825.67it/s]\n"
     ]
    },
    {
     "name": "stdout",
     "output_type": "stream",
     "text": [
      "Accuracy: 0.02141812491751783\n"
     ]
    },
    {
     "name": "stderr",
     "output_type": "stream",
     "text": [
      "Angle: 330 - Shape type: 5: 100%|██████████| 500/500 [00:00<00:00, 992.17it/s] \n"
     ]
    },
    {
     "name": "stdout",
     "output_type": "stream",
     "text": [
      "Accuracy: 0.7022132796780685\n"
     ]
    },
    {
     "name": "stderr",
     "output_type": "stream",
     "text": [
      "Angle: 330 - Shape type: 6: 100%|██████████| 500/500 [00:00<00:00, 803.56it/s]\n"
     ]
    },
    {
     "name": "stdout",
     "output_type": "stream",
     "text": [
      "Accuracy: 0.49523333333333336\n"
     ]
    },
    {
     "name": "stderr",
     "output_type": "stream",
     "text": [
      "Angle: 330 - Shape type: 7: 100%|██████████| 500/500 [00:00<00:00, 1134.65it/s]\n"
     ]
    },
    {
     "name": "stdout",
     "output_type": "stream",
     "text": [
      "Accuracy: 0.35615927999648933\n"
     ]
    },
    {
     "name": "stderr",
     "output_type": "stream",
     "text": [
      "Angle: 340 - Shape type: 0: 100%|██████████| 500/500 [00:00<00:00, 799.58it/s]\n"
     ]
    },
    {
     "name": "stdout",
     "output_type": "stream",
     "text": [
      "Accuracy: 0.14780870142208305\n"
     ]
    },
    {
     "name": "stderr",
     "output_type": "stream",
     "text": [
      "Angle: 340 - Shape type: 1: 100%|██████████| 500/500 [00:00<00:00, 1078.45it/s]\n"
     ]
    },
    {
     "name": "stdout",
     "output_type": "stream",
     "text": [
      "Accuracy: 0.6476047619047619\n"
     ]
    },
    {
     "name": "stderr",
     "output_type": "stream",
     "text": [
      "Angle: 340 - Shape type: 2: 100%|██████████| 500/500 [00:00<00:00, 3193.40it/s]\n"
     ]
    },
    {
     "name": "stdout",
     "output_type": "stream",
     "text": [
      "No matches found.\n"
     ]
    },
    {
     "name": "stderr",
     "output_type": "stream",
     "text": [
      "Angle: 340 - Shape type: 3: 100%|██████████| 500/500 [00:00<00:00, 985.82it/s] \n"
     ]
    },
    {
     "name": "stdout",
     "output_type": "stream",
     "text": [
      "Accuracy: 0.6057803762507287\n"
     ]
    },
    {
     "name": "stderr",
     "output_type": "stream",
     "text": [
      "Angle: 340 - Shape type: 4: 100%|██████████| 500/500 [00:00<00:00, 935.86it/s]\n"
     ]
    },
    {
     "name": "stdout",
     "output_type": "stream",
     "text": [
      "Accuracy: 0.14328996160612575\n"
     ]
    },
    {
     "name": "stderr",
     "output_type": "stream",
     "text": [
      "Angle: 340 - Shape type: 5: 100%|██████████| 500/500 [00:00<00:00, 1081.36it/s]\n"
     ]
    },
    {
     "name": "stdout",
     "output_type": "stream",
     "text": [
      "Accuracy: 0.9667\n"
     ]
    },
    {
     "name": "stderr",
     "output_type": "stream",
     "text": [
      "Angle: 340 - Shape type: 6: 100%|██████████| 500/500 [00:00<00:00, 1015.47it/s]\n"
     ]
    },
    {
     "name": "stdout",
     "output_type": "stream",
     "text": [
      "Accuracy: 0.7807333333333334\n"
     ]
    },
    {
     "name": "stderr",
     "output_type": "stream",
     "text": [
      "Angle: 340 - Shape type: 7: 100%|██████████| 500/500 [00:00<00:00, 1098.08it/s]\n"
     ]
    },
    {
     "name": "stdout",
     "output_type": "stream",
     "text": [
      "Accuracy: 0.5500361738225815\n"
     ]
    },
    {
     "name": "stderr",
     "output_type": "stream",
     "text": [
      "Angle: 350 - Shape type: 0: 100%|██████████| 500/500 [00:00<00:00, 898.45it/s]\n"
     ]
    },
    {
     "name": "stdout",
     "output_type": "stream",
     "text": [
      "Accuracy: 0.5456722752300787\n"
     ]
    },
    {
     "name": "stderr",
     "output_type": "stream",
     "text": [
      "Angle: 350 - Shape type: 1: 100%|██████████| 500/500 [00:00<00:00, 1052.40it/s]\n"
     ]
    },
    {
     "name": "stdout",
     "output_type": "stream",
     "text": [
      "Accuracy: 0.9573142857142858\n"
     ]
    },
    {
     "name": "stderr",
     "output_type": "stream",
     "text": [
      "Angle: 350 - Shape type: 2: 100%|██████████| 500/500 [00:00<00:00, 3122.78it/s]\n"
     ]
    },
    {
     "name": "stdout",
     "output_type": "stream",
     "text": [
      "No matches found.\n"
     ]
    },
    {
     "name": "stderr",
     "output_type": "stream",
     "text": [
      "Angle: 350 - Shape type: 3: 100%|██████████| 500/500 [00:00<00:00, 1006.52it/s]\n"
     ]
    },
    {
     "name": "stdout",
     "output_type": "stream",
     "text": [
      "Accuracy: 0.7534417624858802\n"
     ]
    },
    {
     "name": "stderr",
     "output_type": "stream",
     "text": [
      "Angle: 350 - Shape type: 4: 100%|██████████| 500/500 [00:00<00:00, 914.66it/s]\n"
     ]
    },
    {
     "name": "stdout",
     "output_type": "stream",
     "text": [
      "Accuracy: 0.5526110936129285\n"
     ]
    },
    {
     "name": "stderr",
     "output_type": "stream",
     "text": [
      "Angle: 350 - Shape type: 5: 100%|██████████| 500/500 [00:00<00:00, 1138.08it/s]\n"
     ]
    },
    {
     "name": "stdout",
     "output_type": "stream",
     "text": [
      "Accuracy: 0.9942333333333333\n"
     ]
    },
    {
     "name": "stderr",
     "output_type": "stream",
     "text": [
      "Angle: 350 - Shape type: 6: 100%|██████████| 500/500 [00:00<00:00, 1052.85it/s]\n"
     ]
    },
    {
     "name": "stdout",
     "output_type": "stream",
     "text": [
      "Accuracy: 0.9625\n"
     ]
    },
    {
     "name": "stderr",
     "output_type": "stream",
     "text": [
      "Angle: 350 - Shape type: 7: 100%|██████████| 500/500 [00:00<00:00, 1189.48it/s]"
     ]
    },
    {
     "name": "stdout",
     "output_type": "stream",
     "text": [
      "Accuracy: 0.7321881317335863\n"
     ]
    },
    {
     "name": "stderr",
     "output_type": "stream",
     "text": [
      "\n"
     ]
    }
   ],
   "source": [
    "sift = cv2.SIFT_create()\n",
    "bf_sift = cv2.BFMatcher(cv2.NORM_L2)\n",
    "accuracy_matches_sift = []\n",
    "\n",
    "for angle in range(0, 360, 10):\n",
    "    accuracy_matches_sift.append([])\n",
    "\n",
    "    for type in range(8):\n",
    "        accuracy_matches_sift[-1].append([])\n",
    "\n",
    "        for i in tqdm(range(500), f\"Angle: {angle} - Shape type: {type}\"):\n",
    "            image, ground_truth = read_image(type, str(i))\n",
    "            gray_scale = cv2.cvtColor(image, cv2.COLOR_BGR2GRAY)\n",
    "            descriptor = cache_sift_descriptors[type][i]\n",
    "\n",
    "            if descriptor is None:\n",
    "                continue\n",
    "\n",
    "            # Rotate the image and the keypoints.\n",
    "            rotated_image = rotate_image(gray_scale, angle)\n",
    "            rotated_keypoints, idx = rotate_keypoints(\n",
    "                (image.shape[1], image.shape[0]), ground_truth, angle\n",
    "            )\n",
    "\n",
    "            # Compute the descriptors of the rotated image.\n",
    "            rotated_descriptor = sift.compute(rotated_image, rotated_keypoints)[1]\n",
    "            if rotated_descriptor is not None:\n",
    "                assert len(rotated_descriptor) == len(rotated_keypoints)\n",
    "            else:\n",
    "                assert len(rotated_keypoints) == 0\n",
    "                continue\n",
    "\n",
    "            # Get the original keypoints and descriptors.\n",
    "            original_descriptor = np.array(descriptor)[idx]\n",
    "\n",
    "            # Match the descriptors of the original and rotated images.\n",
    "            if len(rotated_descriptor) == 1:\n",
    "                accuracy_matches_sift[-1][-1].append(1)\n",
    "            else:\n",
    "                matches = bf_sift.knnMatch(rotated_descriptor, original_descriptor, k=2)\n",
    "                matches = [\n",
    "                    m\n",
    "                    for m, n in matches\n",
    "                    if m.distance < 0.75 * n.distance and m.trainIdx == m.queryIdx\n",
    "                ]\n",
    "                accuracy_matches_sift[-1][-1].append(\n",
    "                    len(matches) / len(original_descriptor)\n",
    "                )\n",
    "\n",
    "        if len(accuracy_matches_sift[-1][-1]) > 0:\n",
    "            print(f\"Accuracy: {np.mean(accuracy_matches_sift[-1][-1])}\")\n",
    "        else:\n",
    "            print(\"No matches found.\")"
   ]
  },
  {
   "cell_type": "code",
   "execution_count": 6,
   "metadata": {},
   "outputs": [
    {
     "name": "stdout",
     "output_type": "stream",
     "text": [
      "Angle: 0\n",
      "Accuracy: 0.99940581098872\n",
      "Angle: 10\n",
      "Accuracy: 0.7881595546809593\n",
      "Angle: 20\n",
      "Accuracy: 0.5490263526140332\n",
      "Angle: 30\n",
      "Accuracy: 0.3204361123232021\n",
      "Angle: 40\n",
      "Accuracy: 0.1487801533445735\n",
      "Angle: 50\n",
      "Accuracy: 0.07437489233027887\n",
      "Angle: 60\n",
      "Accuracy: 0.04612020646309362\n",
      "Angle: 70\n",
      "Accuracy: 0.034927788098986355\n",
      "Angle: 80\n",
      "Accuracy: 0.03580697704764605\n",
      "Angle: 90\n",
      "Accuracy: 0.03778066947842803\n",
      "Angle: 100\n",
      "Accuracy: 0.03602597575878873\n",
      "Angle: 110\n",
      "Accuracy: 0.03155945189949225\n",
      "Angle: 120\n",
      "Accuracy: 0.032444348389885455\n",
      "Angle: 130\n",
      "Accuracy: 0.029572338489535943\n",
      "Angle: 140\n",
      "Accuracy: 0.026749381805561582\n",
      "Angle: 150\n",
      "Accuracy: 0.02254348343217012\n",
      "Angle: 160\n",
      "Accuracy: 0.020198264538142344\n",
      "Angle: 170\n",
      "Accuracy: 0.019481059341679725\n",
      "Angle: 180\n",
      "Accuracy: 0.020268073875191923\n",
      "Angle: 190\n",
      "Accuracy: 0.021438548390627105\n",
      "Angle: 200\n",
      "Accuracy: 0.02165277818916633\n",
      "Angle: 210\n",
      "Accuracy: 0.02454802684294872\n",
      "Angle: 220\n",
      "Accuracy: 0.028788643917254025\n",
      "Angle: 230\n",
      "Accuracy: 0.031119166510674104\n",
      "Angle: 240\n",
      "Accuracy: 0.032742470237394676\n",
      "Angle: 250\n",
      "Accuracy: 0.03484076316526684\n",
      "Angle: 260\n",
      "Accuracy: 0.035349594812884993\n",
      "Angle: 270\n",
      "Accuracy: 0.03791989707722436\n",
      "Angle: 280\n",
      "Accuracy: 0.0359472620809504\n",
      "Angle: 290\n",
      "Accuracy: 0.03229794826073229\n",
      "Angle: 300\n",
      "Accuracy: 0.04428493452028915\n",
      "Angle: 310\n",
      "Accuracy: 0.07108441412880649\n",
      "Angle: 320\n",
      "Accuracy: 0.14691340581099796\n",
      "Angle: 330\n",
      "Accuracy: 0.3117856879397891\n",
      "Angle: 340\n",
      "Accuracy: 0.5487648018722622\n",
      "Angle: 350\n",
      "Accuracy: 0.7881406782763773\n"
     ]
    }
   ],
   "source": [
    "for i in range(36):\n",
    "    print(f\"Angle: {i * 10}\")\n",
    "    flatten = []\n",
    "    for j in range(8):\n",
    "        flatten += accuracy_matches_sift[i][j]\n",
    "    print(f\"Accuracy: {np.mean(flatten)}\")"
   ]
  },
  {
   "cell_type": "markdown",
   "metadata": {},
   "source": [
    "# 4. Get accuracy matching keypoints of ORB\n"
   ]
  },
  {
   "cell_type": "code",
   "execution_count": 9,
   "metadata": {},
   "outputs": [
    {
     "name": "stderr",
     "output_type": "stream",
     "text": [
      "Angle: 0 - Shape type: 0:   0%|          | 0/500 [00:00<?, ?it/s]"
     ]
    },
    {
     "name": "stderr",
     "output_type": "stream",
     "text": [
      "Angle: 0 - Shape type: 0: 100%|██████████| 500/500 [00:00<00:00, 1547.82it/s]\n"
     ]
    },
    {
     "name": "stdout",
     "output_type": "stream",
     "text": [
      "Accuracy: 0.9994561736690857\n"
     ]
    },
    {
     "name": "stderr",
     "output_type": "stream",
     "text": [
      "Angle: 0 - Shape type: 1: 100%|██████████| 500/500 [00:00<00:00, 1781.94it/s]\n"
     ]
    },
    {
     "name": "stdout",
     "output_type": "stream",
     "text": [
      "Accuracy: 1.0\n"
     ]
    },
    {
     "name": "stderr",
     "output_type": "stream",
     "text": [
      "Angle: 0 - Shape type: 2: 100%|██████████| 500/500 [00:00<00:00, 3209.33it/s]\n"
     ]
    },
    {
     "name": "stdout",
     "output_type": "stream",
     "text": [
      "No matches found.\n"
     ]
    },
    {
     "name": "stderr",
     "output_type": "stream",
     "text": [
      "Angle: 0 - Shape type: 3: 100%|██████████| 500/500 [00:00<00:00, 1450.65it/s]\n"
     ]
    },
    {
     "name": "stdout",
     "output_type": "stream",
     "text": [
      "Accuracy: 0.9995499999999999\n"
     ]
    },
    {
     "name": "stderr",
     "output_type": "stream",
     "text": [
      "Angle: 0 - Shape type: 4: 100%|██████████| 500/500 [00:00<00:00, 1342.90it/s]\n"
     ]
    },
    {
     "name": "stdout",
     "output_type": "stream",
     "text": [
      "Accuracy: 0.9992767570422408\n"
     ]
    },
    {
     "name": "stderr",
     "output_type": "stream",
     "text": [
      "Angle: 0 - Shape type: 5: 100%|██████████| 500/500 [00:00<00:00, 1755.70it/s]\n"
     ]
    },
    {
     "name": "stdout",
     "output_type": "stream",
     "text": [
      "Accuracy: 0.9995\n"
     ]
    },
    {
     "name": "stderr",
     "output_type": "stream",
     "text": [
      "Angle: 0 - Shape type: 6: 100%|██████████| 500/500 [00:00<00:00, 1781.14it/s]\n"
     ]
    },
    {
     "name": "stdout",
     "output_type": "stream",
     "text": [
      "Accuracy: 1.0\n"
     ]
    },
    {
     "name": "stderr",
     "output_type": "stream",
     "text": [
      "Angle: 0 - Shape type: 7: 100%|██████████| 500/500 [00:00<00:00, 2197.35it/s]\n"
     ]
    },
    {
     "name": "stdout",
     "output_type": "stream",
     "text": [
      "Accuracy: 0.9995579133510167\n"
     ]
    },
    {
     "name": "stderr",
     "output_type": "stream",
     "text": [
      "Angle: 10 - Shape type: 0: 100%|██████████| 500/500 [00:00<00:00, 1595.44it/s]\n"
     ]
    },
    {
     "name": "stdout",
     "output_type": "stream",
     "text": [
      "Accuracy: 0.5821936975107914\n"
     ]
    },
    {
     "name": "stderr",
     "output_type": "stream",
     "text": [
      "Angle: 10 - Shape type: 1: 100%|██████████| 500/500 [00:00<00:00, 1744.16it/s]\n"
     ]
    },
    {
     "name": "stdout",
     "output_type": "stream",
     "text": [
      "Accuracy: 0.9626380952380953\n"
     ]
    },
    {
     "name": "stderr",
     "output_type": "stream",
     "text": [
      "Angle: 10 - Shape type: 2: 100%|██████████| 500/500 [00:00<00:00, 3265.73it/s]\n"
     ]
    },
    {
     "name": "stdout",
     "output_type": "stream",
     "text": [
      "No matches found.\n"
     ]
    },
    {
     "name": "stderr",
     "output_type": "stream",
     "text": [
      "Angle: 10 - Shape type: 3: 100%|██████████| 500/500 [00:00<00:00, 1733.92it/s]\n"
     ]
    },
    {
     "name": "stdout",
     "output_type": "stream",
     "text": [
      "Accuracy: 0.9169692196692197\n"
     ]
    },
    {
     "name": "stderr",
     "output_type": "stream",
     "text": [
      "Angle: 10 - Shape type: 4: 100%|██████████| 500/500 [00:00<00:00, 1495.45it/s]\n"
     ]
    },
    {
     "name": "stdout",
     "output_type": "stream",
     "text": [
      "Accuracy: 0.9441664869150893\n"
     ]
    },
    {
     "name": "stderr",
     "output_type": "stream",
     "text": [
      "Angle: 10 - Shape type: 5: 100%|██████████| 500/500 [00:00<00:00, 1814.97it/s]\n"
     ]
    },
    {
     "name": "stdout",
     "output_type": "stream",
     "text": [
      "Accuracy: 0.9926333333333334\n"
     ]
    },
    {
     "name": "stderr",
     "output_type": "stream",
     "text": [
      "Angle: 10 - Shape type: 6: 100%|██████████| 500/500 [00:00<00:00, 1828.21it/s]\n"
     ]
    },
    {
     "name": "stdout",
     "output_type": "stream",
     "text": [
      "Accuracy: 0.9927666666666667\n"
     ]
    },
    {
     "name": "stderr",
     "output_type": "stream",
     "text": [
      "Angle: 10 - Shape type: 7: 100%|██████████| 500/500 [00:00<00:00, 2213.35it/s]\n"
     ]
    },
    {
     "name": "stdout",
     "output_type": "stream",
     "text": [
      "Accuracy: 0.8219850854751434\n"
     ]
    },
    {
     "name": "stderr",
     "output_type": "stream",
     "text": [
      "Angle: 20 - Shape type: 0: 100%|██████████| 500/500 [00:00<00:00, 1607.72it/s]\n"
     ]
    },
    {
     "name": "stdout",
     "output_type": "stream",
     "text": [
      "Accuracy: 0.2918407452391359\n"
     ]
    },
    {
     "name": "stderr",
     "output_type": "stream",
     "text": [
      "Angle: 20 - Shape type: 1: 100%|██████████| 500/500 [00:00<00:00, 1749.08it/s]\n"
     ]
    },
    {
     "name": "stdout",
     "output_type": "stream",
     "text": [
      "Accuracy: 0.7624142857142856\n"
     ]
    },
    {
     "name": "stderr",
     "output_type": "stream",
     "text": [
      "Angle: 20 - Shape type: 2: 100%|██████████| 500/500 [00:00<00:00, 3376.12it/s]\n"
     ]
    },
    {
     "name": "stdout",
     "output_type": "stream",
     "text": [
      "No matches found.\n"
     ]
    },
    {
     "name": "stderr",
     "output_type": "stream",
     "text": [
      "Angle: 20 - Shape type: 3: 100%|██████████| 500/500 [00:00<00:00, 1769.82it/s]\n"
     ]
    },
    {
     "name": "stdout",
     "output_type": "stream",
     "text": [
      "Accuracy: 0.7492910563050843\n"
     ]
    },
    {
     "name": "stderr",
     "output_type": "stream",
     "text": [
      "Angle: 20 - Shape type: 4: 100%|██████████| 500/500 [00:00<00:00, 1492.78it/s]\n"
     ]
    },
    {
     "name": "stdout",
     "output_type": "stream",
     "text": [
      "Accuracy: 0.6080486213933559\n"
     ]
    },
    {
     "name": "stderr",
     "output_type": "stream",
     "text": [
      "Angle: 20 - Shape type: 5: 100%|██████████| 500/500 [00:00<00:00, 1773.46it/s]\n"
     ]
    },
    {
     "name": "stdout",
     "output_type": "stream",
     "text": [
      "Accuracy: 0.9303666666666667\n"
     ]
    },
    {
     "name": "stderr",
     "output_type": "stream",
     "text": [
      "Angle: 20 - Shape type: 6: 100%|██████████| 500/500 [00:00<00:00, 1811.43it/s]\n"
     ]
    },
    {
     "name": "stdout",
     "output_type": "stream",
     "text": [
      "Accuracy: 0.8870666666666666\n"
     ]
    },
    {
     "name": "stderr",
     "output_type": "stream",
     "text": [
      "Angle: 20 - Shape type: 7: 100%|██████████| 500/500 [00:00<00:00, 2064.60it/s]\n"
     ]
    },
    {
     "name": "stdout",
     "output_type": "stream",
     "text": [
      "Accuracy: 0.6589410853467946\n"
     ]
    },
    {
     "name": "stderr",
     "output_type": "stream",
     "text": [
      "Angle: 30 - Shape type: 0: 100%|██████████| 500/500 [00:00<00:00, 1621.12it/s]\n"
     ]
    },
    {
     "name": "stdout",
     "output_type": "stream",
     "text": [
      "Accuracy: 0.11430331296636004\n"
     ]
    },
    {
     "name": "stderr",
     "output_type": "stream",
     "text": [
      "Angle: 30 - Shape type: 1: 100%|██████████| 500/500 [00:00<00:00, 1666.77it/s]\n"
     ]
    },
    {
     "name": "stdout",
     "output_type": "stream",
     "text": [
      "Accuracy: 0.3339761904761905\n"
     ]
    },
    {
     "name": "stderr",
     "output_type": "stream",
     "text": [
      "Angle: 30 - Shape type: 2: 100%|██████████| 500/500 [00:00<00:00, 3396.19it/s]\n"
     ]
    },
    {
     "name": "stdout",
     "output_type": "stream",
     "text": [
      "No matches found.\n"
     ]
    },
    {
     "name": "stderr",
     "output_type": "stream",
     "text": [
      "Angle: 30 - Shape type: 3: 100%|██████████| 500/500 [00:00<00:00, 1755.29it/s]\n"
     ]
    },
    {
     "name": "stdout",
     "output_type": "stream",
     "text": [
      "Accuracy: 0.4739391036485225\n"
     ]
    },
    {
     "name": "stderr",
     "output_type": "stream",
     "text": [
      "Angle: 30 - Shape type: 4: 100%|██████████| 500/500 [00:00<00:00, 1517.71it/s]\n"
     ]
    },
    {
     "name": "stdout",
     "output_type": "stream",
     "text": [
      "Accuracy: 0.17352249819366156\n"
     ]
    },
    {
     "name": "stderr",
     "output_type": "stream",
     "text": [
      "Angle: 30 - Shape type: 5: 100%|██████████| 500/500 [00:00<00:00, 1798.12it/s]\n"
     ]
    },
    {
     "name": "stdout",
     "output_type": "stream",
     "text": [
      "Accuracy: 0.7085513078470824\n"
     ]
    },
    {
     "name": "stderr",
     "output_type": "stream",
     "text": [
      "Angle: 30 - Shape type: 6: 100%|██████████| 500/500 [00:00<00:00, 1748.01it/s]\n"
     ]
    },
    {
     "name": "stdout",
     "output_type": "stream",
     "text": [
      "Accuracy: 0.5341333333333335\n"
     ]
    },
    {
     "name": "stderr",
     "output_type": "stream",
     "text": [
      "Angle: 30 - Shape type: 7: 100%|██████████| 500/500 [-1:59:58<00:00, -198.93it/s]\n"
     ]
    },
    {
     "name": "stdout",
     "output_type": "stream",
     "text": [
      "Accuracy: 0.47926744022376544\n"
     ]
    },
    {
     "name": "stderr",
     "output_type": "stream",
     "text": [
      "Angle: 40 - Shape type: 0: 100%|██████████| 500/500 [00:00<00:00, 1617.24it/s]\n"
     ]
    },
    {
     "name": "stdout",
     "output_type": "stream",
     "text": [
      "Accuracy: 0.05492585710617294\n"
     ]
    },
    {
     "name": "stderr",
     "output_type": "stream",
     "text": [
      "Angle: 40 - Shape type: 1: 100%|██████████| 500/500 [00:00<00:00, 1775.66it/s]\n"
     ]
    },
    {
     "name": "stdout",
     "output_type": "stream",
     "text": [
      "Accuracy: 0.16316190476190473\n"
     ]
    },
    {
     "name": "stderr",
     "output_type": "stream",
     "text": [
      "Angle: 40 - Shape type: 2: 100%|██████████| 500/500 [00:00<00:00, 3236.43it/s]\n"
     ]
    },
    {
     "name": "stdout",
     "output_type": "stream",
     "text": [
      "No matches found.\n"
     ]
    },
    {
     "name": "stderr",
     "output_type": "stream",
     "text": [
      "Angle: 40 - Shape type: 3: 100%|██████████| 500/500 [00:00<00:00, 1760.76it/s]\n"
     ]
    },
    {
     "name": "stdout",
     "output_type": "stream",
     "text": [
      "Accuracy: 0.3207097400484174\n"
     ]
    },
    {
     "name": "stderr",
     "output_type": "stream",
     "text": [
      "Angle: 40 - Shape type: 4: 100%|██████████| 500/500 [00:00<00:00, 1509.90it/s]\n"
     ]
    },
    {
     "name": "stdout",
     "output_type": "stream",
     "text": [
      "Accuracy: 0.054434970088999335\n"
     ]
    },
    {
     "name": "stderr",
     "output_type": "stream",
     "text": [
      "Angle: 40 - Shape type: 5: 100%|██████████| 500/500 [00:00<00:00, 1839.71it/s]\n"
     ]
    },
    {
     "name": "stdout",
     "output_type": "stream",
     "text": [
      "Accuracy: 0.4487567204301075\n"
     ]
    },
    {
     "name": "stderr",
     "output_type": "stream",
     "text": [
      "Angle: 40 - Shape type: 6: 100%|██████████| 500/500 [00:00<00:00, 1712.39it/s]\n"
     ]
    },
    {
     "name": "stdout",
     "output_type": "stream",
     "text": [
      "Accuracy: 0.3135\n"
     ]
    },
    {
     "name": "stderr",
     "output_type": "stream",
     "text": [
      "Angle: 40 - Shape type: 7: 100%|██████████| 500/500 [00:00<00:00, 2303.75it/s]\n"
     ]
    },
    {
     "name": "stdout",
     "output_type": "stream",
     "text": [
      "Accuracy: 0.32520379822811435\n"
     ]
    },
    {
     "name": "stderr",
     "output_type": "stream",
     "text": [
      "Angle: 50 - Shape type: 0: 100%|██████████| 500/500 [00:00<00:00, 1606.43it/s]\n"
     ]
    },
    {
     "name": "stdout",
     "output_type": "stream",
     "text": [
      "Accuracy: 0.03050072943647436\n"
     ]
    },
    {
     "name": "stderr",
     "output_type": "stream",
     "text": [
      "Angle: 50 - Shape type: 1: 100%|██████████| 500/500 [00:00<00:00, 1656.40it/s]\n"
     ]
    },
    {
     "name": "stdout",
     "output_type": "stream",
     "text": [
      "Accuracy: 0.0948047619047619\n"
     ]
    },
    {
     "name": "stderr",
     "output_type": "stream",
     "text": [
      "Angle: 50 - Shape type: 2: 100%|██████████| 500/500 [00:00<00:00, 3382.14it/s]\n"
     ]
    },
    {
     "name": "stdout",
     "output_type": "stream",
     "text": [
      "No matches found.\n"
     ]
    },
    {
     "name": "stderr",
     "output_type": "stream",
     "text": [
      "Angle: 50 - Shape type: 3: 100%|██████████| 500/500 [00:00<00:00, 1744.23it/s]\n"
     ]
    },
    {
     "name": "stdout",
     "output_type": "stream",
     "text": [
      "Accuracy: 0.25044352218700916\n"
     ]
    },
    {
     "name": "stderr",
     "output_type": "stream",
     "text": [
      "Angle: 50 - Shape type: 4: 100%|██████████| 500/500 [00:00<00:00, 1414.91it/s]\n"
     ]
    },
    {
     "name": "stdout",
     "output_type": "stream",
     "text": [
      "Accuracy: 0.030239481822330105\n"
     ]
    },
    {
     "name": "stderr",
     "output_type": "stream",
     "text": [
      "Angle: 50 - Shape type: 5: 100%|██████████| 500/500 [00:00<00:00, 1859.32it/s]\n"
     ]
    },
    {
     "name": "stdout",
     "output_type": "stream",
     "text": [
      "Accuracy: 0.29482758620689653\n"
     ]
    },
    {
     "name": "stderr",
     "output_type": "stream",
     "text": [
      "Angle: 50 - Shape type: 6: 100%|██████████| 500/500 [00:00<00:00, 1805.20it/s]\n"
     ]
    },
    {
     "name": "stdout",
     "output_type": "stream",
     "text": [
      "Accuracy: 0.21446666666666664\n"
     ]
    },
    {
     "name": "stderr",
     "output_type": "stream",
     "text": [
      "Angle: 50 - Shape type: 7: 100%|██████████| 500/500 [00:00<00:00, 2174.24it/s]\n"
     ]
    },
    {
     "name": "stdout",
     "output_type": "stream",
     "text": [
      "Accuracy: 0.24550366300366297\n"
     ]
    },
    {
     "name": "stderr",
     "output_type": "stream",
     "text": [
      "Angle: 60 - Shape type: 0: 100%|██████████| 500/500 [00:00<00:00, 1669.53it/s]\n"
     ]
    },
    {
     "name": "stdout",
     "output_type": "stream",
     "text": [
      "Accuracy: 0.018532855831881797\n"
     ]
    },
    {
     "name": "stderr",
     "output_type": "stream",
     "text": [
      "Angle: 60 - Shape type: 1: 100%|██████████| 500/500 [00:00<00:00, 1767.48it/s]\n"
     ]
    },
    {
     "name": "stdout",
     "output_type": "stream",
     "text": [
      "Accuracy: 0.07115714285714285\n"
     ]
    },
    {
     "name": "stderr",
     "output_type": "stream",
     "text": [
      "Angle: 60 - Shape type: 2: 100%|██████████| 500/500 [00:00<00:00, 3229.88it/s]\n"
     ]
    },
    {
     "name": "stdout",
     "output_type": "stream",
     "text": [
      "No matches found.\n"
     ]
    },
    {
     "name": "stderr",
     "output_type": "stream",
     "text": [
      "Angle: 60 - Shape type: 3: 100%|██████████| 500/500 [00:00<00:00, 1792.08it/s]\n"
     ]
    },
    {
     "name": "stdout",
     "output_type": "stream",
     "text": [
      "Accuracy: 0.22215163796489099\n"
     ]
    },
    {
     "name": "stderr",
     "output_type": "stream",
     "text": [
      "Angle: 60 - Shape type: 4: 100%|██████████| 500/500 [00:00<00:00, 1548.22it/s]\n"
     ]
    },
    {
     "name": "stdout",
     "output_type": "stream",
     "text": [
      "Accuracy: 0.020152787604718357\n"
     ]
    },
    {
     "name": "stderr",
     "output_type": "stream",
     "text": [
      "Angle: 60 - Shape type: 5: 100%|██████████| 500/500 [00:00<00:00, 1871.64it/s]\n"
     ]
    },
    {
     "name": "stdout",
     "output_type": "stream",
     "text": [
      "Accuracy: 0.22381436314363146\n"
     ]
    },
    {
     "name": "stderr",
     "output_type": "stream",
     "text": [
      "Angle: 60 - Shape type: 6: 100%|██████████| 500/500 [00:00<00:00, 1805.11it/s]\n"
     ]
    },
    {
     "name": "stdout",
     "output_type": "stream",
     "text": [
      "Accuracy: 0.171\n"
     ]
    },
    {
     "name": "stderr",
     "output_type": "stream",
     "text": [
      "Angle: 60 - Shape type: 7: 100%|██████████| 500/500 [00:00<00:00, 2232.34it/s]\n"
     ]
    },
    {
     "name": "stdout",
     "output_type": "stream",
     "text": [
      "Accuracy: 0.2159984346387855\n"
     ]
    },
    {
     "name": "stderr",
     "output_type": "stream",
     "text": [
      "Angle: 70 - Shape type: 0: 100%|██████████| 500/500 [00:00<00:00, 1600.72it/s]\n"
     ]
    },
    {
     "name": "stdout",
     "output_type": "stream",
     "text": [
      "Accuracy: 0.017763688073613747\n"
     ]
    },
    {
     "name": "stderr",
     "output_type": "stream",
     "text": [
      "Angle: 70 - Shape type: 1: 100%|██████████| 500/500 [00:00<00:00, 1790.48it/s]\n"
     ]
    },
    {
     "name": "stdout",
     "output_type": "stream",
     "text": [
      "Accuracy: 0.059961904761904765\n"
     ]
    },
    {
     "name": "stderr",
     "output_type": "stream",
     "text": [
      "Angle: 70 - Shape type: 2: 100%|██████████| 500/500 [00:00<00:00, 3113.02it/s]\n"
     ]
    },
    {
     "name": "stdout",
     "output_type": "stream",
     "text": [
      "No matches found.\n"
     ]
    },
    {
     "name": "stderr",
     "output_type": "stream",
     "text": [
      "Angle: 70 - Shape type: 3: 100%|██████████| 500/500 [00:00<00:00, 1814.59it/s]\n"
     ]
    },
    {
     "name": "stdout",
     "output_type": "stream",
     "text": [
      "Accuracy: 0.2126300091591842\n"
     ]
    },
    {
     "name": "stderr",
     "output_type": "stream",
     "text": [
      "Angle: 70 - Shape type: 4: 100%|██████████| 500/500 [00:00<00:00, 1567.37it/s]\n"
     ]
    },
    {
     "name": "stdout",
     "output_type": "stream",
     "text": [
      "Accuracy: 0.013358305377710046\n"
     ]
    },
    {
     "name": "stderr",
     "output_type": "stream",
     "text": [
      "Angle: 70 - Shape type: 5: 100%|██████████| 500/500 [00:00<00:00, 1871.37it/s]\n"
     ]
    },
    {
     "name": "stdout",
     "output_type": "stream",
     "text": [
      "Accuracy: 0.18133468834688346\n"
     ]
    },
    {
     "name": "stderr",
     "output_type": "stream",
     "text": [
      "Angle: 70 - Shape type: 6: 100%|██████████| 500/500 [00:00<00:00, 1813.58it/s]\n"
     ]
    },
    {
     "name": "stdout",
     "output_type": "stream",
     "text": [
      "Accuracy: 0.14673333333333335\n"
     ]
    },
    {
     "name": "stderr",
     "output_type": "stream",
     "text": [
      "Angle: 70 - Shape type: 7: 100%|██████████| 500/500 [00:00<00:00, 2295.40it/s]\n"
     ]
    },
    {
     "name": "stdout",
     "output_type": "stream",
     "text": [
      "Accuracy: 0.21537988847310882\n"
     ]
    },
    {
     "name": "stderr",
     "output_type": "stream",
     "text": [
      "Angle: 80 - Shape type: 0: 100%|██████████| 500/500 [00:00<00:00, 1646.34it/s]\n"
     ]
    },
    {
     "name": "stdout",
     "output_type": "stream",
     "text": [
      "Accuracy: 0.01705075574498654\n"
     ]
    },
    {
     "name": "stderr",
     "output_type": "stream",
     "text": [
      "Angle: 80 - Shape type: 1: 100%|██████████| 500/500 [00:00<00:00, 1796.98it/s]\n"
     ]
    },
    {
     "name": "stdout",
     "output_type": "stream",
     "text": [
      "Accuracy: 0.05130952380952381\n"
     ]
    },
    {
     "name": "stderr",
     "output_type": "stream",
     "text": [
      "Angle: 80 - Shape type: 2: 100%|██████████| 500/500 [00:00<00:00, 3376.22it/s]\n"
     ]
    },
    {
     "name": "stdout",
     "output_type": "stream",
     "text": [
      "No matches found.\n"
     ]
    },
    {
     "name": "stderr",
     "output_type": "stream",
     "text": [
      "Angle: 80 - Shape type: 3: 100%|██████████| 500/500 [00:00<00:00, 1816.24it/s]\n"
     ]
    },
    {
     "name": "stdout",
     "output_type": "stream",
     "text": [
      "Accuracy: 0.21325361984315708\n"
     ]
    },
    {
     "name": "stderr",
     "output_type": "stream",
     "text": [
      "Angle: 80 - Shape type: 4: 100%|██████████| 500/500 [00:00<00:00, 1572.52it/s]\n"
     ]
    },
    {
     "name": "stdout",
     "output_type": "stream",
     "text": [
      "Accuracy: 0.012007359480203237\n"
     ]
    },
    {
     "name": "stderr",
     "output_type": "stream",
     "text": [
      "Angle: 80 - Shape type: 5: 100%|██████████| 500/500 [00:00<00:00, 1870.45it/s]\n"
     ]
    },
    {
     "name": "stdout",
     "output_type": "stream",
     "text": [
      "Accuracy: 0.15745614035087718\n"
     ]
    },
    {
     "name": "stderr",
     "output_type": "stream",
     "text": [
      "Angle: 80 - Shape type: 6: 100%|██████████| 500/500 [00:00<00:00, 1789.23it/s]\n"
     ]
    },
    {
     "name": "stdout",
     "output_type": "stream",
     "text": [
      "Accuracy: 0.12639999999999998\n"
     ]
    },
    {
     "name": "stderr",
     "output_type": "stream",
     "text": [
      "Angle: 80 - Shape type: 7: 100%|██████████| 500/500 [00:00<00:00, 2011.46it/s]\n"
     ]
    },
    {
     "name": "stdout",
     "output_type": "stream",
     "text": [
      "Accuracy: 0.24316564252461684\n"
     ]
    },
    {
     "name": "stderr",
     "output_type": "stream",
     "text": [
      "Angle: 90 - Shape type: 0: 100%|██████████| 500/500 [00:00<00:00, 1664.20it/s]\n"
     ]
    },
    {
     "name": "stdout",
     "output_type": "stream",
     "text": [
      "Accuracy: 0.014346679385166101\n"
     ]
    },
    {
     "name": "stderr",
     "output_type": "stream",
     "text": [
      "Angle: 90 - Shape type: 1: 100%|██████████| 500/500 [00:00<00:00, 1773.81it/s]\n"
     ]
    },
    {
     "name": "stdout",
     "output_type": "stream",
     "text": [
      "Accuracy: 0.05329523809523809\n"
     ]
    },
    {
     "name": "stderr",
     "output_type": "stream",
     "text": [
      "Angle: 90 - Shape type: 2: 100%|██████████| 500/500 [00:00<00:00, 2857.54it/s]\n"
     ]
    },
    {
     "name": "stdout",
     "output_type": "stream",
     "text": [
      "No matches found.\n"
     ]
    },
    {
     "name": "stderr",
     "output_type": "stream",
     "text": [
      "Angle: 90 - Shape type: 3: 100%|██████████| 500/500 [00:00<00:00, 1778.12it/s]\n"
     ]
    },
    {
     "name": "stdout",
     "output_type": "stream",
     "text": [
      "Accuracy: 0.21672261250574507\n"
     ]
    },
    {
     "name": "stderr",
     "output_type": "stream",
     "text": [
      "Angle: 90 - Shape type: 4: 100%|██████████| 500/500 [00:00<00:00, 1581.26it/s]\n"
     ]
    },
    {
     "name": "stdout",
     "output_type": "stream",
     "text": [
      "Accuracy: 0.008521718799237615\n"
     ]
    },
    {
     "name": "stderr",
     "output_type": "stream",
     "text": [
      "Angle: 90 - Shape type: 5: 100%|██████████| 500/500 [00:00<00:00, 1901.84it/s]\n"
     ]
    },
    {
     "name": "stdout",
     "output_type": "stream",
     "text": [
      "Accuracy: 0.14131455399061033\n"
     ]
    },
    {
     "name": "stderr",
     "output_type": "stream",
     "text": [
      "Angle: 90 - Shape type: 6: 100%|██████████| 500/500 [00:00<00:00, 1841.15it/s]\n"
     ]
    },
    {
     "name": "stdout",
     "output_type": "stream",
     "text": [
      "Accuracy: 0.1045\n"
     ]
    },
    {
     "name": "stderr",
     "output_type": "stream",
     "text": [
      "Angle: 90 - Shape type: 7: 100%|██████████| 500/500 [00:00<00:00, 2269.82it/s]\n"
     ]
    },
    {
     "name": "stdout",
     "output_type": "stream",
     "text": [
      "Accuracy: 0.271951167372679\n"
     ]
    },
    {
     "name": "stderr",
     "output_type": "stream",
     "text": [
      "Angle: 100 - Shape type: 0: 100%|██████████| 500/500 [00:00<00:00, 1689.09it/s]\n"
     ]
    },
    {
     "name": "stdout",
     "output_type": "stream",
     "text": [
      "Accuracy: 0.012754401457070564\n"
     ]
    },
    {
     "name": "stderr",
     "output_type": "stream",
     "text": [
      "Angle: 100 - Shape type: 1: 100%|██████████| 500/500 [00:00<00:00, 1797.73it/s]\n"
     ]
    },
    {
     "name": "stdout",
     "output_type": "stream",
     "text": [
      "Accuracy: 0.0654190476190476\n"
     ]
    },
    {
     "name": "stderr",
     "output_type": "stream",
     "text": [
      "Angle: 100 - Shape type: 2: 100%|██████████| 500/500 [00:00<00:00, 3429.66it/s]\n"
     ]
    },
    {
     "name": "stdout",
     "output_type": "stream",
     "text": [
      "No matches found.\n"
     ]
    },
    {
     "name": "stderr",
     "output_type": "stream",
     "text": [
      "Angle: 100 - Shape type: 3: 100%|██████████| 500/500 [00:00<00:00, 1787.43it/s]\n"
     ]
    },
    {
     "name": "stdout",
     "output_type": "stream",
     "text": [
      "Accuracy: 0.19750773608489042\n"
     ]
    },
    {
     "name": "stderr",
     "output_type": "stream",
     "text": [
      "Angle: 100 - Shape type: 4: 100%|██████████| 500/500 [00:00<00:00, 1552.76it/s]\n"
     ]
    },
    {
     "name": "stdout",
     "output_type": "stream",
     "text": [
      "Accuracy: 0.007865891596006083\n"
     ]
    },
    {
     "name": "stderr",
     "output_type": "stream",
     "text": [
      "Angle: 100 - Shape type: 5: 100%|██████████| 500/500 [00:00<00:00, 1889.44it/s]\n"
     ]
    },
    {
     "name": "stdout",
     "output_type": "stream",
     "text": [
      "Accuracy: 0.09851250845165652\n"
     ]
    },
    {
     "name": "stderr",
     "output_type": "stream",
     "text": [
      "Angle: 100 - Shape type: 6: 100%|██████████| 500/500 [00:00<00:00, 1822.94it/s]\n"
     ]
    },
    {
     "name": "stdout",
     "output_type": "stream",
     "text": [
      "Accuracy: 0.10223333333333333\n"
     ]
    },
    {
     "name": "stderr",
     "output_type": "stream",
     "text": [
      "Angle: 100 - Shape type: 7: 100%|██████████| 500/500 [00:00<00:00, 2354.69it/s]\n"
     ]
    },
    {
     "name": "stdout",
     "output_type": "stream",
     "text": [
      "Accuracy: 0.25085408691603384\n"
     ]
    },
    {
     "name": "stderr",
     "output_type": "stream",
     "text": [
      "Angle: 110 - Shape type: 0: 100%|██████████| 500/500 [00:00<00:00, 1656.73it/s]\n"
     ]
    },
    {
     "name": "stdout",
     "output_type": "stream",
     "text": [
      "Accuracy: 0.009448314206210139\n"
     ]
    },
    {
     "name": "stderr",
     "output_type": "stream",
     "text": [
      "Angle: 110 - Shape type: 1: 100%|██████████| 500/500 [00:00<00:00, 1828.60it/s]\n"
     ]
    },
    {
     "name": "stdout",
     "output_type": "stream",
     "text": [
      "Accuracy: 0.07298095238095237\n"
     ]
    },
    {
     "name": "stderr",
     "output_type": "stream",
     "text": [
      "Angle: 110 - Shape type: 2: 100%|██████████| 500/500 [00:00<00:00, 3212.49it/s]\n"
     ]
    },
    {
     "name": "stdout",
     "output_type": "stream",
     "text": [
      "No matches found.\n"
     ]
    },
    {
     "name": "stderr",
     "output_type": "stream",
     "text": [
      "Angle: 110 - Shape type: 3: 100%|██████████| 500/500 [00:00<00:00, 1833.27it/s]\n"
     ]
    },
    {
     "name": "stdout",
     "output_type": "stream",
     "text": [
      "Accuracy: 0.16785251599880857\n"
     ]
    },
    {
     "name": "stderr",
     "output_type": "stream",
     "text": [
      "Angle: 110 - Shape type: 4: 100%|██████████| 500/500 [00:00<00:00, 1522.83it/s]\n"
     ]
    },
    {
     "name": "stdout",
     "output_type": "stream",
     "text": [
      "Accuracy: 0.0063070416461165546\n"
     ]
    },
    {
     "name": "stderr",
     "output_type": "stream",
     "text": [
      "Angle: 110 - Shape type: 5: 100%|██████████| 500/500 [00:00<00:00, 1886.01it/s]\n"
     ]
    },
    {
     "name": "stdout",
     "output_type": "stream",
     "text": [
      "Accuracy: 0.0876855600539811\n"
     ]
    },
    {
     "name": "stderr",
     "output_type": "stream",
     "text": [
      "Angle: 110 - Shape type: 6: 100%|██████████| 500/500 [00:00<00:00, 1845.07it/s]\n"
     ]
    },
    {
     "name": "stdout",
     "output_type": "stream",
     "text": [
      "Accuracy: 0.10353333333333334\n"
     ]
    },
    {
     "name": "stderr",
     "output_type": "stream",
     "text": [
      "Angle: 110 - Shape type: 7: 100%|██████████| 500/500 [00:00<00:00, 2306.65it/s]\n"
     ]
    },
    {
     "name": "stdout",
     "output_type": "stream",
     "text": [
      "Accuracy: 0.22657534643939478\n"
     ]
    },
    {
     "name": "stderr",
     "output_type": "stream",
     "text": [
      "Angle: 120 - Shape type: 0: 100%|██████████| 500/500 [00:00<00:00, 1678.96it/s]\n"
     ]
    },
    {
     "name": "stdout",
     "output_type": "stream",
     "text": [
      "Accuracy: 0.00814281164132639\n"
     ]
    },
    {
     "name": "stderr",
     "output_type": "stream",
     "text": [
      "Angle: 120 - Shape type: 1: 100%|██████████| 500/500 [00:00<00:00, 1786.03it/s]\n"
     ]
    },
    {
     "name": "stdout",
     "output_type": "stream",
     "text": [
      "Accuracy: 0.06931904761904761\n"
     ]
    },
    {
     "name": "stderr",
     "output_type": "stream",
     "text": [
      "Angle: 120 - Shape type: 2: 100%|██████████| 500/500 [00:00<00:00, 3398.60it/s]\n"
     ]
    },
    {
     "name": "stdout",
     "output_type": "stream",
     "text": [
      "No matches found.\n"
     ]
    },
    {
     "name": "stderr",
     "output_type": "stream",
     "text": [
      "Angle: 120 - Shape type: 3: 100%|██████████| 500/500 [00:00<00:00, 1819.38it/s]\n"
     ]
    },
    {
     "name": "stdout",
     "output_type": "stream",
     "text": [
      "Accuracy: 0.1591007659007659\n"
     ]
    },
    {
     "name": "stderr",
     "output_type": "stream",
     "text": [
      "Angle: 120 - Shape type: 4: 100%|██████████| 500/500 [00:00<00:00, 1544.64it/s]\n"
     ]
    },
    {
     "name": "stdout",
     "output_type": "stream",
     "text": [
      "Accuracy: 0.0056942170876237465\n"
     ]
    },
    {
     "name": "stderr",
     "output_type": "stream",
     "text": [
      "Angle: 120 - Shape type: 5: 100%|██████████| 500/500 [00:00<00:00, 1864.15it/s]\n"
     ]
    },
    {
     "name": "stdout",
     "output_type": "stream",
     "text": [
      "Accuracy: 0.07110433604336043\n"
     ]
    },
    {
     "name": "stderr",
     "output_type": "stream",
     "text": [
      "Angle: 120 - Shape type: 6: 100%|██████████| 500/500 [00:00<00:00, 1808.05it/s]\n"
     ]
    },
    {
     "name": "stdout",
     "output_type": "stream",
     "text": [
      "Accuracy: 0.10123333333333331\n"
     ]
    },
    {
     "name": "stderr",
     "output_type": "stream",
     "text": [
      "Angle: 120 - Shape type: 7: 100%|██████████| 500/500 [00:00<00:00, 2355.97it/s]\n"
     ]
    },
    {
     "name": "stdout",
     "output_type": "stream",
     "text": [
      "Accuracy: 0.22336590459593653\n"
     ]
    },
    {
     "name": "stderr",
     "output_type": "stream",
     "text": [
      "Angle: 130 - Shape type: 0: 100%|██████████| 500/500 [00:00<00:00, 1677.42it/s]\n"
     ]
    },
    {
     "name": "stdout",
     "output_type": "stream",
     "text": [
      "Accuracy: 0.005520637165739652\n"
     ]
    },
    {
     "name": "stderr",
     "output_type": "stream",
     "text": [
      "Angle: 130 - Shape type: 1: 100%|██████████| 500/500 [00:00<00:00, 1600.77it/s]\n"
     ]
    },
    {
     "name": "stdout",
     "output_type": "stream",
     "text": [
      "Accuracy: 0.06968095238095237\n"
     ]
    },
    {
     "name": "stderr",
     "output_type": "stream",
     "text": [
      "Angle: 130 - Shape type: 2: 100%|██████████| 500/500 [00:00<00:00, 3434.56it/s]\n"
     ]
    },
    {
     "name": "stdout",
     "output_type": "stream",
     "text": [
      "No matches found.\n"
     ]
    },
    {
     "name": "stderr",
     "output_type": "stream",
     "text": [
      "Angle: 130 - Shape type: 3: 100%|██████████| 500/500 [00:00<00:00, 1805.78it/s]\n"
     ]
    },
    {
     "name": "stdout",
     "output_type": "stream",
     "text": [
      "Accuracy: 0.1499886942271712\n"
     ]
    },
    {
     "name": "stderr",
     "output_type": "stream",
     "text": [
      "Angle: 130 - Shape type: 4: 100%|██████████| 500/500 [00:00<00:00, 1547.50it/s]\n"
     ]
    },
    {
     "name": "stdout",
     "output_type": "stream",
     "text": [
      "Accuracy: 0.004876856229701477\n"
     ]
    },
    {
     "name": "stderr",
     "output_type": "stream",
     "text": [
      "Angle: 130 - Shape type: 5: 100%|██████████| 500/500 [00:00<00:00, 1901.22it/s]\n"
     ]
    },
    {
     "name": "stdout",
     "output_type": "stream",
     "text": [
      "Accuracy: 0.07729419703103912\n"
     ]
    },
    {
     "name": "stderr",
     "output_type": "stream",
     "text": [
      "Angle: 130 - Shape type: 6: 100%|██████████| 500/500 [00:00<00:00, 1762.25it/s]\n"
     ]
    },
    {
     "name": "stdout",
     "output_type": "stream",
     "text": [
      "Accuracy: 0.09706666666666666\n"
     ]
    },
    {
     "name": "stderr",
     "output_type": "stream",
     "text": [
      "Angle: 130 - Shape type: 7: 100%|██████████| 500/500 [00:00<00:00, 2344.54it/s]\n"
     ]
    },
    {
     "name": "stdout",
     "output_type": "stream",
     "text": [
      "Accuracy: 0.23311937514240147\n"
     ]
    },
    {
     "name": "stderr",
     "output_type": "stream",
     "text": [
      "Angle: 140 - Shape type: 0: 100%|██████████| 500/500 [00:00<00:00, 1686.72it/s]\n"
     ]
    },
    {
     "name": "stdout",
     "output_type": "stream",
     "text": [
      "Accuracy: 0.0098694554742573\n"
     ]
    },
    {
     "name": "stderr",
     "output_type": "stream",
     "text": [
      "Angle: 140 - Shape type: 1: 100%|██████████| 500/500 [00:00<00:00, 1831.47it/s]\n"
     ]
    },
    {
     "name": "stdout",
     "output_type": "stream",
     "text": [
      "Accuracy: 0.0850095238095238\n"
     ]
    },
    {
     "name": "stderr",
     "output_type": "stream",
     "text": [
      "Angle: 140 - Shape type: 2: 100%|██████████| 500/500 [00:00<00:00, 3438.68it/s]\n"
     ]
    },
    {
     "name": "stdout",
     "output_type": "stream",
     "text": [
      "No matches found.\n"
     ]
    },
    {
     "name": "stderr",
     "output_type": "stream",
     "text": [
      "Angle: 140 - Shape type: 3: 100%|██████████| 500/500 [00:00<00:00, 1846.78it/s]\n"
     ]
    },
    {
     "name": "stdout",
     "output_type": "stream",
     "text": [
      "Accuracy: 0.14750243633009164\n"
     ]
    },
    {
     "name": "stderr",
     "output_type": "stream",
     "text": [
      "Angle: 140 - Shape type: 4: 100%|██████████| 500/500 [00:00<00:00, 1505.41it/s]\n"
     ]
    },
    {
     "name": "stdout",
     "output_type": "stream",
     "text": [
      "Accuracy: 0.006255695810648025\n"
     ]
    },
    {
     "name": "stderr",
     "output_type": "stream",
     "text": [
      "Angle: 140 - Shape type: 5: 100%|██████████| 500/500 [00:00<00:00, 1755.81it/s]\n"
     ]
    },
    {
     "name": "stdout",
     "output_type": "stream",
     "text": [
      "Accuracy: 0.08049932523616735\n"
     ]
    },
    {
     "name": "stderr",
     "output_type": "stream",
     "text": [
      "Angle: 140 - Shape type: 6: 100%|██████████| 500/500 [00:00<00:00, 1844.88it/s]\n"
     ]
    },
    {
     "name": "stdout",
     "output_type": "stream",
     "text": [
      "Accuracy: 0.0998\n"
     ]
    },
    {
     "name": "stderr",
     "output_type": "stream",
     "text": [
      "Angle: 140 - Shape type: 7: 100%|██████████| 500/500 [00:00<00:00, 2363.06it/s]\n"
     ]
    },
    {
     "name": "stdout",
     "output_type": "stream",
     "text": [
      "Accuracy: 0.2797354497354497\n"
     ]
    },
    {
     "name": "stderr",
     "output_type": "stream",
     "text": [
      "Angle: 150 - Shape type: 0: 100%|██████████| 500/500 [00:00<00:00, 1536.62it/s]\n"
     ]
    },
    {
     "name": "stdout",
     "output_type": "stream",
     "text": [
      "Accuracy: 0.017928856007088236\n"
     ]
    },
    {
     "name": "stderr",
     "output_type": "stream",
     "text": [
      "Angle: 150 - Shape type: 1: 100%|██████████| 500/500 [00:00<00:00, 1844.22it/s]\n"
     ]
    },
    {
     "name": "stdout",
     "output_type": "stream",
     "text": [
      "Accuracy: 0.07669999999999999\n"
     ]
    },
    {
     "name": "stderr",
     "output_type": "stream",
     "text": [
      "Angle: 150 - Shape type: 2: 100%|██████████| 500/500 [00:00<00:00, 3459.82it/s]\n"
     ]
    },
    {
     "name": "stdout",
     "output_type": "stream",
     "text": [
      "No matches found.\n"
     ]
    },
    {
     "name": "stderr",
     "output_type": "stream",
     "text": [
      "Angle: 150 - Shape type: 3: 100%|██████████| 500/500 [00:00<00:00, 1834.33it/s]\n"
     ]
    },
    {
     "name": "stdout",
     "output_type": "stream",
     "text": [
      "Accuracy: 0.13690388880769644\n"
     ]
    },
    {
     "name": "stderr",
     "output_type": "stream",
     "text": [
      "Angle: 150 - Shape type: 4: 100%|██████████| 500/500 [00:00<00:00, 1585.19it/s]\n"
     ]
    },
    {
     "name": "stdout",
     "output_type": "stream",
     "text": [
      "Accuracy: 0.006973986707997886\n"
     ]
    },
    {
     "name": "stderr",
     "output_type": "stream",
     "text": [
      "Angle: 150 - Shape type: 5: 100%|██████████| 500/500 [00:00<00:00, 1831.45it/s]\n"
     ]
    },
    {
     "name": "stdout",
     "output_type": "stream",
     "text": [
      "Accuracy: 0.10744466800804829\n"
     ]
    },
    {
     "name": "stderr",
     "output_type": "stream",
     "text": [
      "Angle: 150 - Shape type: 6: 100%|██████████| 500/500 [00:00<00:00, 1824.20it/s]\n"
     ]
    },
    {
     "name": "stdout",
     "output_type": "stream",
     "text": [
      "Accuracy: 0.09946666666666668\n"
     ]
    },
    {
     "name": "stderr",
     "output_type": "stream",
     "text": [
      "Angle: 150 - Shape type: 7: 100%|██████████| 500/500 [00:00<00:00, 2339.80it/s]\n"
     ]
    },
    {
     "name": "stdout",
     "output_type": "stream",
     "text": [
      "Accuracy: 0.2994160877881808\n"
     ]
    },
    {
     "name": "stderr",
     "output_type": "stream",
     "text": [
      "Angle: 160 - Shape type: 0: 100%|██████████| 500/500 [00:00<00:00, 1681.38it/s]\n"
     ]
    },
    {
     "name": "stdout",
     "output_type": "stream",
     "text": [
      "Accuracy: 0.024924508326085552\n"
     ]
    },
    {
     "name": "stderr",
     "output_type": "stream",
     "text": [
      "Angle: 160 - Shape type: 1: 100%|██████████| 500/500 [00:00<00:00, 1789.78it/s]\n"
     ]
    },
    {
     "name": "stdout",
     "output_type": "stream",
     "text": [
      "Accuracy: 0.07207142857142855\n"
     ]
    },
    {
     "name": "stderr",
     "output_type": "stream",
     "text": [
      "Angle: 160 - Shape type: 2: 100%|██████████| 500/500 [00:00<00:00, 3487.56it/s]\n"
     ]
    },
    {
     "name": "stdout",
     "output_type": "stream",
     "text": [
      "No matches found.\n"
     ]
    },
    {
     "name": "stderr",
     "output_type": "stream",
     "text": [
      "Angle: 160 - Shape type: 3: 100%|██████████| 500/500 [00:00<00:00, 1840.98it/s]\n"
     ]
    },
    {
     "name": "stdout",
     "output_type": "stream",
     "text": [
      "Accuracy: 0.1101959477121566\n"
     ]
    },
    {
     "name": "stderr",
     "output_type": "stream",
     "text": [
      "Angle: 160 - Shape type: 4: 100%|██████████| 500/500 [00:00<00:00, 1570.60it/s]\n"
     ]
    },
    {
     "name": "stdout",
     "output_type": "stream",
     "text": [
      "Accuracy: 0.012589853044605387\n"
     ]
    },
    {
     "name": "stderr",
     "output_type": "stream",
     "text": [
      "Angle: 160 - Shape type: 5: 100%|██████████| 500/500 [00:00<00:00, 1849.03it/s]\n"
     ]
    },
    {
     "name": "stdout",
     "output_type": "stream",
     "text": [
      "Accuracy: 0.1506333333333333\n"
     ]
    },
    {
     "name": "stderr",
     "output_type": "stream",
     "text": [
      "Angle: 160 - Shape type: 6: 100%|██████████| 500/500 [00:00<00:00, 1732.61it/s]\n"
     ]
    },
    {
     "name": "stdout",
     "output_type": "stream",
     "text": [
      "Accuracy: 0.10473333333333334\n"
     ]
    },
    {
     "name": "stderr",
     "output_type": "stream",
     "text": [
      "Angle: 160 - Shape type: 7: 100%|██████████| 500/500 [00:00<00:00, 2358.51it/s]\n"
     ]
    },
    {
     "name": "stdout",
     "output_type": "stream",
     "text": [
      "Accuracy: 0.32651390321293233\n"
     ]
    },
    {
     "name": "stderr",
     "output_type": "stream",
     "text": [
      "Angle: 170 - Shape type: 0: 100%|██████████| 500/500 [00:00<00:00, 1699.45it/s]\n"
     ]
    },
    {
     "name": "stdout",
     "output_type": "stream",
     "text": [
      "Accuracy: 0.041464318717242515\n"
     ]
    },
    {
     "name": "stderr",
     "output_type": "stream",
     "text": [
      "Angle: 170 - Shape type: 1: 100%|██████████| 500/500 [00:00<00:00, 1803.19it/s]\n"
     ]
    },
    {
     "name": "stdout",
     "output_type": "stream",
     "text": [
      "Accuracy: 0.07176666666666666\n"
     ]
    },
    {
     "name": "stderr",
     "output_type": "stream",
     "text": [
      "Angle: 170 - Shape type: 2: 100%|██████████| 500/500 [00:00<00:00, 3471.98it/s]\n"
     ]
    },
    {
     "name": "stdout",
     "output_type": "stream",
     "text": [
      "No matches found.\n"
     ]
    },
    {
     "name": "stderr",
     "output_type": "stream",
     "text": [
      "Angle: 170 - Shape type: 3: 100%|██████████| 500/500 [00:00<00:00, 1838.34it/s]\n"
     ]
    },
    {
     "name": "stdout",
     "output_type": "stream",
     "text": [
      "Accuracy: 0.09596407285524931\n"
     ]
    },
    {
     "name": "stderr",
     "output_type": "stream",
     "text": [
      "Angle: 170 - Shape type: 4: 100%|██████████| 500/500 [00:00<00:00, 1579.46it/s]\n"
     ]
    },
    {
     "name": "stdout",
     "output_type": "stream",
     "text": [
      "Accuracy: 0.02579686551241255\n"
     ]
    },
    {
     "name": "stderr",
     "output_type": "stream",
     "text": [
      "Angle: 170 - Shape type: 5: 100%|██████████| 500/500 [00:00<00:00, 1874.66it/s]\n"
     ]
    },
    {
     "name": "stdout",
     "output_type": "stream",
     "text": [
      "Accuracy: 0.1999\n"
     ]
    },
    {
     "name": "stderr",
     "output_type": "stream",
     "text": [
      "Angle: 170 - Shape type: 6: 100%|██████████| 500/500 [00:00<00:00, 1857.33it/s]\n"
     ]
    },
    {
     "name": "stdout",
     "output_type": "stream",
     "text": [
      "Accuracy: 0.1245\n"
     ]
    },
    {
     "name": "stderr",
     "output_type": "stream",
     "text": [
      "Angle: 170 - Shape type: 7: 100%|██████████| 500/500 [00:00<00:00, 2352.03it/s]\n"
     ]
    },
    {
     "name": "stdout",
     "output_type": "stream",
     "text": [
      "Accuracy: 0.3250769600769601\n"
     ]
    },
    {
     "name": "stderr",
     "output_type": "stream",
     "text": [
      "Angle: 180 - Shape type: 0: 100%|██████████| 500/500 [00:00<00:00, 1698.98it/s]\n"
     ]
    },
    {
     "name": "stdout",
     "output_type": "stream",
     "text": [
      "Accuracy: 0.0732250247095345\n"
     ]
    },
    {
     "name": "stderr",
     "output_type": "stream",
     "text": [
      "Angle: 180 - Shape type: 1: 100%|██████████| 500/500 [00:00<00:00, 1888.64it/s]\n"
     ]
    },
    {
     "name": "stdout",
     "output_type": "stream",
     "text": [
      "Accuracy: 0.06955238095238095\n"
     ]
    },
    {
     "name": "stderr",
     "output_type": "stream",
     "text": [
      "Angle: 180 - Shape type: 2: 100%|██████████| 500/500 [00:00<00:00, 3493.83it/s]\n"
     ]
    },
    {
     "name": "stdout",
     "output_type": "stream",
     "text": [
      "No matches found.\n"
     ]
    },
    {
     "name": "stderr",
     "output_type": "stream",
     "text": [
      "Angle: 180 - Shape type: 3: 100%|██████████| 500/500 [00:00<00:00, 1824.56it/s]\n"
     ]
    },
    {
     "name": "stdout",
     "output_type": "stream",
     "text": [
      "Accuracy: 0.09620443722943722\n"
     ]
    },
    {
     "name": "stderr",
     "output_type": "stream",
     "text": [
      "Angle: 180 - Shape type: 4: 100%|██████████| 500/500 [00:00<00:00, 1445.83it/s]\n"
     ]
    },
    {
     "name": "stdout",
     "output_type": "stream",
     "text": [
      "Accuracy: 0.03609124558560021\n"
     ]
    },
    {
     "name": "stderr",
     "output_type": "stream",
     "text": [
      "Angle: 180 - Shape type: 5: 100%|██████████| 500/500 [00:00<00:00, 1944.15it/s]\n"
     ]
    },
    {
     "name": "stdout",
     "output_type": "stream",
     "text": [
      "Accuracy: 0.21969999999999998\n"
     ]
    },
    {
     "name": "stderr",
     "output_type": "stream",
     "text": [
      "Angle: 180 - Shape type: 6: 100%|██████████| 500/500 [00:00<00:00, 1886.64it/s]\n"
     ]
    },
    {
     "name": "stdout",
     "output_type": "stream",
     "text": [
      "Accuracy: 0.1374\n"
     ]
    },
    {
     "name": "stderr",
     "output_type": "stream",
     "text": [
      "Angle: 180 - Shape type: 7: 100%|██████████| 500/500 [00:00<00:00, 2339.01it/s]\n"
     ]
    },
    {
     "name": "stdout",
     "output_type": "stream",
     "text": [
      "Accuracy: 0.3424604136604137\n"
     ]
    },
    {
     "name": "stderr",
     "output_type": "stream",
     "text": [
      "Angle: 190 - Shape type: 0: 100%|██████████| 500/500 [00:00<00:00, 1710.73it/s]\n"
     ]
    },
    {
     "name": "stdout",
     "output_type": "stream",
     "text": [
      "Accuracy: 0.04198079327688663\n"
     ]
    },
    {
     "name": "stderr",
     "output_type": "stream",
     "text": [
      "Angle: 190 - Shape type: 1: 100%|██████████| 500/500 [-1:59:58<00:00, -201.39it/s]\n"
     ]
    },
    {
     "name": "stdout",
     "output_type": "stream",
     "text": [
      "Accuracy: 0.06077142857142857\n"
     ]
    },
    {
     "name": "stderr",
     "output_type": "stream",
     "text": [
      "Angle: 190 - Shape type: 2: 100%|██████████| 500/500 [00:00<00:00, 3371.65it/s]\n"
     ]
    },
    {
     "name": "stdout",
     "output_type": "stream",
     "text": [
      "No matches found.\n"
     ]
    },
    {
     "name": "stderr",
     "output_type": "stream",
     "text": [
      "Angle: 190 - Shape type: 3: 100%|██████████| 500/500 [00:00<00:00, 1876.85it/s]\n"
     ]
    },
    {
     "name": "stdout",
     "output_type": "stream",
     "text": [
      "Accuracy: 0.1026911643911644\n"
     ]
    },
    {
     "name": "stderr",
     "output_type": "stream",
     "text": [
      "Angle: 190 - Shape type: 4: 100%|██████████| 500/500 [00:00<00:00, 1601.24it/s]\n"
     ]
    },
    {
     "name": "stdout",
     "output_type": "stream",
     "text": [
      "Accuracy: 0.02439394600116922\n"
     ]
    },
    {
     "name": "stderr",
     "output_type": "stream",
     "text": [
      "Angle: 190 - Shape type: 5: 100%|██████████| 500/500 [00:00<00:00, 1851.45it/s]\n"
     ]
    },
    {
     "name": "stdout",
     "output_type": "stream",
     "text": [
      "Accuracy: 0.1812\n"
     ]
    },
    {
     "name": "stderr",
     "output_type": "stream",
     "text": [
      "Angle: 190 - Shape type: 6: 100%|██████████| 500/500 [00:00<00:00, 1917.51it/s]\n"
     ]
    },
    {
     "name": "stdout",
     "output_type": "stream",
     "text": [
      "Accuracy: 0.1265\n"
     ]
    },
    {
     "name": "stderr",
     "output_type": "stream",
     "text": [
      "Angle: 190 - Shape type: 7: 100%|██████████| 500/500 [00:00<00:00, 2334.72it/s]\n"
     ]
    },
    {
     "name": "stdout",
     "output_type": "stream",
     "text": [
      "Accuracy: 0.3281680995061277\n"
     ]
    },
    {
     "name": "stderr",
     "output_type": "stream",
     "text": [
      "Angle: 200 - Shape type: 0: 100%|██████████| 500/500 [00:00<00:00, 1696.40it/s]\n"
     ]
    },
    {
     "name": "stdout",
     "output_type": "stream",
     "text": [
      "Accuracy: 0.02685003171935838\n"
     ]
    },
    {
     "name": "stderr",
     "output_type": "stream",
     "text": [
      "Angle: 200 - Shape type: 1: 100%|██████████| 500/500 [00:00<00:00, 1839.75it/s]\n"
     ]
    },
    {
     "name": "stdout",
     "output_type": "stream",
     "text": [
      "Accuracy: 0.0554\n"
     ]
    },
    {
     "name": "stderr",
     "output_type": "stream",
     "text": [
      "Angle: 200 - Shape type: 2: 100%|██████████| 500/500 [00:00<00:00, 3254.97it/s]\n"
     ]
    },
    {
     "name": "stdout",
     "output_type": "stream",
     "text": [
      "No matches found.\n"
     ]
    },
    {
     "name": "stderr",
     "output_type": "stream",
     "text": [
      "Angle: 200 - Shape type: 3: 100%|██████████| 500/500 [00:00<00:00, 1835.26it/s]\n"
     ]
    },
    {
     "name": "stdout",
     "output_type": "stream",
     "text": [
      "Accuracy: 0.11438481636377426\n"
     ]
    },
    {
     "name": "stderr",
     "output_type": "stream",
     "text": [
      "Angle: 200 - Shape type: 4: 100%|██████████| 500/500 [00:00<00:00, 1569.17it/s]\n"
     ]
    },
    {
     "name": "stdout",
     "output_type": "stream",
     "text": [
      "Accuracy: 0.014051581141234105\n"
     ]
    },
    {
     "name": "stderr",
     "output_type": "stream",
     "text": [
      "Angle: 200 - Shape type: 5: 100%|██████████| 500/500 [00:00<00:00, 1894.46it/s]\n"
     ]
    },
    {
     "name": "stdout",
     "output_type": "stream",
     "text": [
      "Accuracy: 0.1397\n"
     ]
    },
    {
     "name": "stderr",
     "output_type": "stream",
     "text": [
      "Angle: 200 - Shape type: 6: 100%|██████████| 500/500 [00:00<00:00, 1815.01it/s]\n"
     ]
    },
    {
     "name": "stdout",
     "output_type": "stream",
     "text": [
      "Accuracy: 0.11170000000000001\n"
     ]
    },
    {
     "name": "stderr",
     "output_type": "stream",
     "text": [
      "Angle: 200 - Shape type: 7: 100%|██████████| 500/500 [00:00<00:00, 2342.12it/s]\n"
     ]
    },
    {
     "name": "stdout",
     "output_type": "stream",
     "text": [
      "Accuracy: 0.33170528817587647\n"
     ]
    },
    {
     "name": "stderr",
     "output_type": "stream",
     "text": [
      "Angle: 210 - Shape type: 0: 100%|██████████| 500/500 [00:00<00:00, 1676.45it/s]\n"
     ]
    },
    {
     "name": "stdout",
     "output_type": "stream",
     "text": [
      "Accuracy: 0.017625052282628888\n"
     ]
    },
    {
     "name": "stderr",
     "output_type": "stream",
     "text": [
      "Angle: 210 - Shape type: 1: 100%|██████████| 500/500 [00:00<00:00, 1821.79it/s]\n"
     ]
    },
    {
     "name": "stdout",
     "output_type": "stream",
     "text": [
      "Accuracy: 0.06639047619047618\n"
     ]
    },
    {
     "name": "stderr",
     "output_type": "stream",
     "text": [
      "Angle: 210 - Shape type: 2: 100%|██████████| 500/500 [00:00<00:00, 3099.01it/s]\n"
     ]
    },
    {
     "name": "stdout",
     "output_type": "stream",
     "text": [
      "No matches found.\n"
     ]
    },
    {
     "name": "stderr",
     "output_type": "stream",
     "text": [
      "Angle: 210 - Shape type: 3: 100%|██████████| 500/500 [00:00<00:00, 1672.27it/s]\n"
     ]
    },
    {
     "name": "stdout",
     "output_type": "stream",
     "text": [
      "Accuracy: 0.12937139124513872\n"
     ]
    },
    {
     "name": "stderr",
     "output_type": "stream",
     "text": [
      "Angle: 210 - Shape type: 4: 100%|██████████| 500/500 [00:00<00:00, 1497.11it/s]\n"
     ]
    },
    {
     "name": "stdout",
     "output_type": "stream",
     "text": [
      "Accuracy: 0.007340529152268815\n"
     ]
    },
    {
     "name": "stderr",
     "output_type": "stream",
     "text": [
      "Angle: 210 - Shape type: 5: 100%|██████████| 500/500 [00:00<00:00, 1456.37it/s]\n"
     ]
    },
    {
     "name": "stdout",
     "output_type": "stream",
     "text": [
      "Accuracy: 0.10187793427230045\n"
     ]
    },
    {
     "name": "stderr",
     "output_type": "stream",
     "text": [
      "Angle: 210 - Shape type: 6: 100%|██████████| 500/500 [00:00<00:00, 1392.73it/s]\n"
     ]
    },
    {
     "name": "stdout",
     "output_type": "stream",
     "text": [
      "Accuracy: 0.10430000000000002\n"
     ]
    },
    {
     "name": "stderr",
     "output_type": "stream",
     "text": [
      "Angle: 210 - Shape type: 7: 100%|██████████| 500/500 [00:00<00:00, 1814.37it/s]\n"
     ]
    },
    {
     "name": "stdout",
     "output_type": "stream",
     "text": [
      "Accuracy: 0.30930627270988714\n"
     ]
    },
    {
     "name": "stderr",
     "output_type": "stream",
     "text": [
      "Angle: 220 - Shape type: 0: 100%|██████████| 500/500 [00:00<00:00, 1588.97it/s]\n"
     ]
    },
    {
     "name": "stdout",
     "output_type": "stream",
     "text": [
      "Accuracy: 0.00803378317435607\n"
     ]
    },
    {
     "name": "stderr",
     "output_type": "stream",
     "text": [
      "Angle: 220 - Shape type: 1: 100%|██████████| 500/500 [00:00<00:00, 1693.25it/s]\n"
     ]
    },
    {
     "name": "stdout",
     "output_type": "stream",
     "text": [
      "Accuracy: 0.06934285714285712\n"
     ]
    },
    {
     "name": "stderr",
     "output_type": "stream",
     "text": [
      "Angle: 220 - Shape type: 2: 100%|██████████| 500/500 [00:00<00:00, 3255.28it/s]\n"
     ]
    },
    {
     "name": "stdout",
     "output_type": "stream",
     "text": [
      "No matches found.\n"
     ]
    },
    {
     "name": "stderr",
     "output_type": "stream",
     "text": [
      "Angle: 220 - Shape type: 3: 100%|██████████| 500/500 [00:00<00:00, 929.23it/s] \n"
     ]
    },
    {
     "name": "stdout",
     "output_type": "stream",
     "text": [
      "Accuracy: 0.14366194927317175\n"
     ]
    },
    {
     "name": "stderr",
     "output_type": "stream",
     "text": [
      "Angle: 220 - Shape type: 4: 100%|██████████| 500/500 [00:00<00:00, 1105.18it/s]\n"
     ]
    },
    {
     "name": "stdout",
     "output_type": "stream",
     "text": [
      "Accuracy: 0.005290023879729612\n"
     ]
    },
    {
     "name": "stderr",
     "output_type": "stream",
     "text": [
      "Angle: 220 - Shape type: 5: 100%|██████████| 500/500 [00:00<00:00, 1045.86it/s]\n"
     ]
    },
    {
     "name": "stdout",
     "output_type": "stream",
     "text": [
      "Accuracy: 0.09603494623655914\n"
     ]
    },
    {
     "name": "stderr",
     "output_type": "stream",
     "text": [
      "Angle: 220 - Shape type: 6: 100%|██████████| 500/500 [00:00<00:00, 1619.78it/s]\n"
     ]
    },
    {
     "name": "stdout",
     "output_type": "stream",
     "text": [
      "Accuracy: 0.10246666666666666\n"
     ]
    },
    {
     "name": "stderr",
     "output_type": "stream",
     "text": [
      "Angle: 220 - Shape type: 7: 100%|██████████| 500/500 [00:00<00:00, 1524.75it/s]\n"
     ]
    },
    {
     "name": "stdout",
     "output_type": "stream",
     "text": [
      "Accuracy: 0.2994089834515366\n"
     ]
    },
    {
     "name": "stderr",
     "output_type": "stream",
     "text": [
      "Angle: 230 - Shape type: 0: 100%|██████████| 500/500 [00:00<00:00, 1262.93it/s]\n"
     ]
    },
    {
     "name": "stdout",
     "output_type": "stream",
     "text": [
      "Accuracy: 0.0042689771433296825\n"
     ]
    },
    {
     "name": "stderr",
     "output_type": "stream",
     "text": [
      "Angle: 230 - Shape type: 1: 100%|██████████| 500/500 [00:00<00:00, 1595.36it/s]\n"
     ]
    },
    {
     "name": "stdout",
     "output_type": "stream",
     "text": [
      "Accuracy: 0.06889523809523808\n"
     ]
    },
    {
     "name": "stderr",
     "output_type": "stream",
     "text": [
      "Angle: 230 - Shape type: 2: 100%|██████████| 500/500 [00:00<00:00, 2910.90it/s]\n"
     ]
    },
    {
     "name": "stdout",
     "output_type": "stream",
     "text": [
      "No matches found.\n"
     ]
    },
    {
     "name": "stderr",
     "output_type": "stream",
     "text": [
      "Angle: 230 - Shape type: 3: 100%|██████████| 500/500 [00:00<00:00, 1776.47it/s]\n"
     ]
    },
    {
     "name": "stdout",
     "output_type": "stream",
     "text": [
      "Accuracy: 0.16015286761779748\n"
     ]
    },
    {
     "name": "stderr",
     "output_type": "stream",
     "text": [
      "Angle: 230 - Shape type: 4: 100%|██████████| 500/500 [00:00<00:00, 1541.79it/s]\n"
     ]
    },
    {
     "name": "stdout",
     "output_type": "stream",
     "text": [
      "Accuracy: 0.006141871843858588\n"
     ]
    },
    {
     "name": "stderr",
     "output_type": "stream",
     "text": [
      "Angle: 230 - Shape type: 5: 100%|██████████| 500/500 [00:00<00:00, 1824.16it/s]\n"
     ]
    },
    {
     "name": "stdout",
     "output_type": "stream",
     "text": [
      "Accuracy: 0.0790736984448952\n"
     ]
    },
    {
     "name": "stderr",
     "output_type": "stream",
     "text": [
      "Angle: 230 - Shape type: 6: 100%|██████████| 500/500 [00:00<00:00, 1816.76it/s]\n"
     ]
    },
    {
     "name": "stdout",
     "output_type": "stream",
     "text": [
      "Accuracy: 0.10506666666666667\n"
     ]
    },
    {
     "name": "stderr",
     "output_type": "stream",
     "text": [
      "Angle: 230 - Shape type: 7: 100%|██████████| 500/500 [00:00<00:00, 2304.21it/s]\n"
     ]
    },
    {
     "name": "stdout",
     "output_type": "stream",
     "text": [
      "Accuracy: 0.28089225589225586\n"
     ]
    },
    {
     "name": "stderr",
     "output_type": "stream",
     "text": [
      "Angle: 240 - Shape type: 0: 100%|██████████| 500/500 [00:00<00:00, 1424.13it/s]\n"
     ]
    },
    {
     "name": "stdout",
     "output_type": "stream",
     "text": [
      "Accuracy: 0.005319694937724998\n"
     ]
    },
    {
     "name": "stderr",
     "output_type": "stream",
     "text": [
      "Angle: 240 - Shape type: 1: 100%|██████████| 500/500 [00:00<00:00, 1701.86it/s]\n"
     ]
    },
    {
     "name": "stdout",
     "output_type": "stream",
     "text": [
      "Accuracy: 0.07439047619047619\n"
     ]
    },
    {
     "name": "stderr",
     "output_type": "stream",
     "text": [
      "Angle: 240 - Shape type: 2: 100%|██████████| 500/500 [00:00<00:00, 3445.70it/s]\n"
     ]
    },
    {
     "name": "stdout",
     "output_type": "stream",
     "text": [
      "No matches found.\n"
     ]
    },
    {
     "name": "stderr",
     "output_type": "stream",
     "text": [
      "Angle: 240 - Shape type: 3: 100%|██████████| 500/500 [00:00<00:00, 1740.71it/s]\n"
     ]
    },
    {
     "name": "stdout",
     "output_type": "stream",
     "text": [
      "Accuracy: 0.1672466143851686\n"
     ]
    },
    {
     "name": "stderr",
     "output_type": "stream",
     "text": [
      "Angle: 240 - Shape type: 4: 100%|██████████| 500/500 [00:00<00:00, 1382.97it/s]\n"
     ]
    },
    {
     "name": "stdout",
     "output_type": "stream",
     "text": [
      "Accuracy: 0.006046842448140302\n"
     ]
    },
    {
     "name": "stderr",
     "output_type": "stream",
     "text": [
      "Angle: 240 - Shape type: 5: 100%|██████████| 500/500 [00:00<00:00, 1771.86it/s]\n"
     ]
    },
    {
     "name": "stdout",
     "output_type": "stream",
     "text": [
      "Accuracy: 0.073340108401084\n"
     ]
    },
    {
     "name": "stderr",
     "output_type": "stream",
     "text": [
      "Angle: 240 - Shape type: 6: 100%|██████████| 500/500 [00:00<00:00, 1617.72it/s]\n"
     ]
    },
    {
     "name": "stdout",
     "output_type": "stream",
     "text": [
      "Accuracy: 0.10956666666666666\n"
     ]
    },
    {
     "name": "stderr",
     "output_type": "stream",
     "text": [
      "Angle: 240 - Shape type: 7: 100%|██████████| 500/500 [00:00<00:00, 2250.69it/s]\n"
     ]
    },
    {
     "name": "stdout",
     "output_type": "stream",
     "text": [
      "Accuracy: 0.25817089018843403\n"
     ]
    },
    {
     "name": "stderr",
     "output_type": "stream",
     "text": [
      "Angle: 250 - Shape type: 0: 100%|██████████| 500/500 [00:00<00:00, 1656.67it/s]\n"
     ]
    },
    {
     "name": "stdout",
     "output_type": "stream",
     "text": [
      "Accuracy: 0.005644319441188511\n"
     ]
    },
    {
     "name": "stderr",
     "output_type": "stream",
     "text": [
      "Angle: 250 - Shape type: 1: 100%|██████████| 500/500 [00:00<00:00, 1810.76it/s]\n"
     ]
    },
    {
     "name": "stdout",
     "output_type": "stream",
     "text": [
      "Accuracy: 0.08223809523809524\n"
     ]
    },
    {
     "name": "stderr",
     "output_type": "stream",
     "text": [
      "Angle: 250 - Shape type: 2: 100%|██████████| 500/500 [00:00<00:00, 3468.93it/s]\n"
     ]
    },
    {
     "name": "stdout",
     "output_type": "stream",
     "text": [
      "No matches found.\n"
     ]
    },
    {
     "name": "stderr",
     "output_type": "stream",
     "text": [
      "Angle: 250 - Shape type: 3: 100%|██████████| 500/500 [00:00<00:00, 1816.87it/s]\n"
     ]
    },
    {
     "name": "stdout",
     "output_type": "stream",
     "text": [
      "Accuracy: 0.1601868788488507\n"
     ]
    },
    {
     "name": "stderr",
     "output_type": "stream",
     "text": [
      "Angle: 250 - Shape type: 4: 100%|██████████| 500/500 [00:00<00:00, 1229.04it/s]\n"
     ]
    },
    {
     "name": "stdout",
     "output_type": "stream",
     "text": [
      "Accuracy: 0.005372032884551091\n"
     ]
    },
    {
     "name": "stderr",
     "output_type": "stream",
     "text": [
      "Angle: 250 - Shape type: 5: 100%|██████████| 500/500 [00:00<00:00, 1658.75it/s]\n"
     ]
    },
    {
     "name": "stdout",
     "output_type": "stream",
     "text": [
      "Accuracy: 0.09098915989159892\n"
     ]
    },
    {
     "name": "stderr",
     "output_type": "stream",
     "text": [
      "Angle: 250 - Shape type: 6: 100%|██████████| 500/500 [00:00<00:00, 1310.71it/s]\n"
     ]
    },
    {
     "name": "stdout",
     "output_type": "stream",
     "text": [
      "Accuracy: 0.11533333333333334\n"
     ]
    },
    {
     "name": "stderr",
     "output_type": "stream",
     "text": [
      "Angle: 250 - Shape type: 7: 100%|██████████| 500/500 [00:00<00:00, 1722.74it/s]\n"
     ]
    },
    {
     "name": "stdout",
     "output_type": "stream",
     "text": [
      "Accuracy: 0.2364451618688907\n"
     ]
    },
    {
     "name": "stderr",
     "output_type": "stream",
     "text": [
      "Angle: 260 - Shape type: 0: 100%|██████████| 500/500 [00:00<00:00, 1291.30it/s]\n"
     ]
    },
    {
     "name": "stdout",
     "output_type": "stream",
     "text": [
      "Accuracy: 0.007786402534962233\n"
     ]
    },
    {
     "name": "stderr",
     "output_type": "stream",
     "text": [
      "Angle: 260 - Shape type: 1: 100%|██████████| 500/500 [00:00<00:00, 1261.03it/s]\n"
     ]
    },
    {
     "name": "stdout",
     "output_type": "stream",
     "text": [
      "Accuracy: 0.09195238095238095\n"
     ]
    },
    {
     "name": "stderr",
     "output_type": "stream",
     "text": [
      "Angle: 260 - Shape type: 2: 100%|██████████| 500/500 [00:00<00:00, 2586.84it/s]\n"
     ]
    },
    {
     "name": "stdout",
     "output_type": "stream",
     "text": [
      "No matches found.\n"
     ]
    },
    {
     "name": "stderr",
     "output_type": "stream",
     "text": [
      "Angle: 260 - Shape type: 3: 100%|██████████| 500/500 [00:00<00:00, 1682.37it/s]\n"
     ]
    },
    {
     "name": "stdout",
     "output_type": "stream",
     "text": [
      "Accuracy: 0.17639482694814687\n"
     ]
    },
    {
     "name": "stderr",
     "output_type": "stream",
     "text": [
      "Angle: 260 - Shape type: 4: 100%|██████████| 500/500 [00:00<00:00, 1458.46it/s]\n"
     ]
    },
    {
     "name": "stdout",
     "output_type": "stream",
     "text": [
      "Accuracy: 0.005444595948699978\n"
     ]
    },
    {
     "name": "stderr",
     "output_type": "stream",
     "text": [
      "Angle: 260 - Shape type: 5: 100%|██████████| 500/500 [00:00<00:00, 1682.34it/s]\n"
     ]
    },
    {
     "name": "stdout",
     "output_type": "stream",
     "text": [
      "Accuracy: 0.10404858299595143\n"
     ]
    },
    {
     "name": "stderr",
     "output_type": "stream",
     "text": [
      "Angle: 260 - Shape type: 6: 100%|██████████| 500/500 [00:00<00:00, 1494.30it/s]\n"
     ]
    },
    {
     "name": "stdout",
     "output_type": "stream",
     "text": [
      "Accuracy: 0.11683333333333333\n"
     ]
    },
    {
     "name": "stderr",
     "output_type": "stream",
     "text": [
      "Angle: 260 - Shape type: 7: 100%|██████████| 500/500 [00:00<00:00, 1710.15it/s]\n"
     ]
    },
    {
     "name": "stdout",
     "output_type": "stream",
     "text": [
      "Accuracy: 0.2480849397516064\n"
     ]
    },
    {
     "name": "stderr",
     "output_type": "stream",
     "text": [
      "Angle: 270 - Shape type: 0: 100%|██████████| 500/500 [00:00<00:00, 1442.48it/s]\n"
     ]
    },
    {
     "name": "stdout",
     "output_type": "stream",
     "text": [
      "Accuracy: 0.009920730850520941\n"
     ]
    },
    {
     "name": "stderr",
     "output_type": "stream",
     "text": [
      "Angle: 270 - Shape type: 1: 100%|██████████| 500/500 [00:00<00:00, 1727.27it/s]\n"
     ]
    },
    {
     "name": "stdout",
     "output_type": "stream",
     "text": [
      "Accuracy: 0.07770476190476192\n"
     ]
    },
    {
     "name": "stderr",
     "output_type": "stream",
     "text": [
      "Angle: 270 - Shape type: 2: 100%|██████████| 500/500 [00:00<00:00, 3194.32it/s]\n"
     ]
    },
    {
     "name": "stdout",
     "output_type": "stream",
     "text": [
      "No matches found.\n"
     ]
    },
    {
     "name": "stderr",
     "output_type": "stream",
     "text": [
      "Angle: 270 - Shape type: 3: 100%|██████████| 500/500 [00:00<00:00, 1746.69it/s]\n"
     ]
    },
    {
     "name": "stdout",
     "output_type": "stream",
     "text": [
      "Accuracy: 0.18990256173991113\n"
     ]
    },
    {
     "name": "stderr",
     "output_type": "stream",
     "text": [
      "Angle: 270 - Shape type: 4: 100%|██████████| 500/500 [00:00<00:00, 1506.40it/s]\n"
     ]
    },
    {
     "name": "stdout",
     "output_type": "stream",
     "text": [
      "Accuracy: 0.006492046596340507\n"
     ]
    },
    {
     "name": "stderr",
     "output_type": "stream",
     "text": [
      "Angle: 270 - Shape type: 5: 100%|██████████| 500/500 [00:00<00:00, 1595.63it/s]\n"
     ]
    },
    {
     "name": "stdout",
     "output_type": "stream",
     "text": [
      "Accuracy: 0.12655935613682093\n"
     ]
    },
    {
     "name": "stderr",
     "output_type": "stream",
     "text": [
      "Angle: 270 - Shape type: 6: 100%|██████████| 500/500 [00:00<00:00, 1584.15it/s]\n"
     ]
    },
    {
     "name": "stdout",
     "output_type": "stream",
     "text": [
      "Accuracy: 0.11763333333333333\n"
     ]
    },
    {
     "name": "stderr",
     "output_type": "stream",
     "text": [
      "Angle: 270 - Shape type: 7: 100%|██████████| 500/500 [00:00<00:00, 2110.24it/s]\n"
     ]
    },
    {
     "name": "stdout",
     "output_type": "stream",
     "text": [
      "Accuracy: 0.25765629719118094\n"
     ]
    },
    {
     "name": "stderr",
     "output_type": "stream",
     "text": [
      "Angle: 280 - Shape type: 0: 100%|██████████| 500/500 [00:00<00:00, 1263.67it/s]\n"
     ]
    },
    {
     "name": "stdout",
     "output_type": "stream",
     "text": [
      "Accuracy: 0.012796698997565198\n"
     ]
    },
    {
     "name": "stderr",
     "output_type": "stream",
     "text": [
      "Angle: 280 - Shape type: 1: 100%|██████████| 500/500 [00:00<00:00, 1286.56it/s]\n"
     ]
    },
    {
     "name": "stdout",
     "output_type": "stream",
     "text": [
      "Accuracy: 0.06092857142857143\n"
     ]
    },
    {
     "name": "stderr",
     "output_type": "stream",
     "text": [
      "Angle: 280 - Shape type: 2: 100%|██████████| 500/500 [00:00<00:00, 2843.80it/s]\n"
     ]
    },
    {
     "name": "stdout",
     "output_type": "stream",
     "text": [
      "No matches found.\n"
     ]
    },
    {
     "name": "stderr",
     "output_type": "stream",
     "text": [
      "Angle: 280 - Shape type: 3: 100%|██████████| 500/500 [00:00<00:00, 1450.47it/s]\n"
     ]
    },
    {
     "name": "stdout",
     "output_type": "stream",
     "text": [
      "Accuracy: 0.19777672227572027\n"
     ]
    },
    {
     "name": "stderr",
     "output_type": "stream",
     "text": [
      "Angle: 280 - Shape type: 4: 100%|██████████| 500/500 [00:00<00:00, 1235.99it/s]\n"
     ]
    },
    {
     "name": "stdout",
     "output_type": "stream",
     "text": [
      "Accuracy: 0.009591581890151805\n"
     ]
    },
    {
     "name": "stderr",
     "output_type": "stream",
     "text": [
      "Angle: 280 - Shape type: 5: 100%|██████████| 500/500 [00:00<00:00, 1694.68it/s]\n"
     ]
    },
    {
     "name": "stdout",
     "output_type": "stream",
     "text": [
      "Accuracy: 0.14357674104124407\n"
     ]
    },
    {
     "name": "stderr",
     "output_type": "stream",
     "text": [
      "Angle: 280 - Shape type: 6: 100%|██████████| 500/500 [00:00<00:00, 1724.23it/s]\n"
     ]
    },
    {
     "name": "stdout",
     "output_type": "stream",
     "text": [
      "Accuracy: 0.12176666666666668\n"
     ]
    },
    {
     "name": "stderr",
     "output_type": "stream",
     "text": [
      "Angle: 280 - Shape type: 7: 100%|██████████| 500/500 [00:00<00:00, 2229.44it/s]\n"
     ]
    },
    {
     "name": "stdout",
     "output_type": "stream",
     "text": [
      "Accuracy: 0.25021304490331037\n"
     ]
    },
    {
     "name": "stderr",
     "output_type": "stream",
     "text": [
      "Angle: 290 - Shape type: 0: 100%|██████████| 500/500 [00:00<00:00, 1462.23it/s]\n"
     ]
    },
    {
     "name": "stdout",
     "output_type": "stream",
     "text": [
      "Accuracy: 0.0138477168118247\n"
     ]
    },
    {
     "name": "stderr",
     "output_type": "stream",
     "text": [
      "Angle: 290 - Shape type: 1: 100%|██████████| 500/500 [00:00<00:00, 1167.36it/s]\n"
     ]
    },
    {
     "name": "stdout",
     "output_type": "stream",
     "text": [
      "Accuracy: 0.06774761904761904\n"
     ]
    },
    {
     "name": "stderr",
     "output_type": "stream",
     "text": [
      "Angle: 290 - Shape type: 2: 100%|██████████| 500/500 [00:00<00:00, 3126.68it/s]\n"
     ]
    },
    {
     "name": "stdout",
     "output_type": "stream",
     "text": [
      "No matches found.\n"
     ]
    },
    {
     "name": "stderr",
     "output_type": "stream",
     "text": [
      "Angle: 290 - Shape type: 3: 100%|██████████| 500/500 [00:00<00:00, 1690.24it/s]\n"
     ]
    },
    {
     "name": "stdout",
     "output_type": "stream",
     "text": [
      "Accuracy: 0.1942521128392872\n"
     ]
    },
    {
     "name": "stderr",
     "output_type": "stream",
     "text": [
      "Angle: 290 - Shape type: 4: 100%|██████████| 500/500 [00:00<00:00, 1445.16it/s]\n"
     ]
    },
    {
     "name": "stdout",
     "output_type": "stream",
     "text": [
      "Accuracy: 0.013361042398199179\n"
     ]
    },
    {
     "name": "stderr",
     "output_type": "stream",
     "text": [
      "Angle: 290 - Shape type: 5: 100%|██████████| 500/500 [00:00<00:00, 1705.72it/s]\n"
     ]
    },
    {
     "name": "stdout",
     "output_type": "stream",
     "text": [
      "Accuracy: 0.1658906882591093\n"
     ]
    },
    {
     "name": "stderr",
     "output_type": "stream",
     "text": [
      "Angle: 290 - Shape type: 6: 100%|██████████| 500/500 [00:00<00:00, 1607.62it/s]\n"
     ]
    },
    {
     "name": "stdout",
     "output_type": "stream",
     "text": [
      "Accuracy: 0.15226666666666666\n"
     ]
    },
    {
     "name": "stderr",
     "output_type": "stream",
     "text": [
      "Angle: 290 - Shape type: 7: 100%|██████████| 500/500 [00:00<00:00, 2082.33it/s]\n"
     ]
    },
    {
     "name": "stdout",
     "output_type": "stream",
     "text": [
      "Accuracy: 0.23027861698556565\n"
     ]
    },
    {
     "name": "stderr",
     "output_type": "stream",
     "text": [
      "Angle: 300 - Shape type: 0: 100%|██████████| 500/500 [00:00<00:00, 1230.10it/s]\n"
     ]
    },
    {
     "name": "stdout",
     "output_type": "stream",
     "text": [
      "Accuracy: 0.01802473924103316\n"
     ]
    },
    {
     "name": "stderr",
     "output_type": "stream",
     "text": [
      "Angle: 300 - Shape type: 1: 100%|██████████| 500/500 [00:00<00:00, 1695.74it/s]\n"
     ]
    },
    {
     "name": "stdout",
     "output_type": "stream",
     "text": [
      "Accuracy: 0.0743095238095238\n"
     ]
    },
    {
     "name": "stderr",
     "output_type": "stream",
     "text": [
      "Angle: 300 - Shape type: 2: 100%|██████████| 500/500 [00:00<00:00, 3151.16it/s]\n"
     ]
    },
    {
     "name": "stdout",
     "output_type": "stream",
     "text": [
      "No matches found.\n"
     ]
    },
    {
     "name": "stderr",
     "output_type": "stream",
     "text": [
      "Angle: 300 - Shape type: 3: 100%|██████████| 500/500 [00:00<00:00, 1680.90it/s]\n"
     ]
    },
    {
     "name": "stdout",
     "output_type": "stream",
     "text": [
      "Accuracy: 0.20501269286269286\n"
     ]
    },
    {
     "name": "stderr",
     "output_type": "stream",
     "text": [
      "Angle: 300 - Shape type: 4: 100%|██████████| 500/500 [00:00<00:00, 1392.43it/s]\n"
     ]
    },
    {
     "name": "stdout",
     "output_type": "stream",
     "text": [
      "Accuracy: 0.019468497755280156\n"
     ]
    },
    {
     "name": "stderr",
     "output_type": "stream",
     "text": [
      "Angle: 300 - Shape type: 5: 100%|██████████| 500/500 [00:00<00:00, 1392.41it/s]\n"
     ]
    },
    {
     "name": "stdout",
     "output_type": "stream",
     "text": [
      "Accuracy: 0.21348238482384824\n"
     ]
    },
    {
     "name": "stderr",
     "output_type": "stream",
     "text": [
      "Angle: 300 - Shape type: 6: 100%|██████████| 500/500 [00:00<00:00, 1461.66it/s]\n"
     ]
    },
    {
     "name": "stdout",
     "output_type": "stream",
     "text": [
      "Accuracy: 0.18606666666666666\n"
     ]
    },
    {
     "name": "stderr",
     "output_type": "stream",
     "text": [
      "Angle: 300 - Shape type: 7: 100%|██████████| 500/500 [00:00<00:00, 1600.32it/s]\n"
     ]
    },
    {
     "name": "stdout",
     "output_type": "stream",
     "text": [
      "Accuracy: 0.2457832547289416\n"
     ]
    },
    {
     "name": "stderr",
     "output_type": "stream",
     "text": [
      "Angle: 310 - Shape type: 0: 100%|██████████| 500/500 [00:00<00:00, 1247.36it/s]\n"
     ]
    },
    {
     "name": "stdout",
     "output_type": "stream",
     "text": [
      "Accuracy: 0.026372131662443652\n"
     ]
    },
    {
     "name": "stderr",
     "output_type": "stream",
     "text": [
      "Angle: 310 - Shape type: 1: 100%|██████████| 500/500 [00:00<00:00, 1529.74it/s]\n"
     ]
    },
    {
     "name": "stdout",
     "output_type": "stream",
     "text": [
      "Accuracy: 0.09479999999999998\n"
     ]
    },
    {
     "name": "stderr",
     "output_type": "stream",
     "text": [
      "Angle: 310 - Shape type: 2: 100%|██████████| 500/500 [00:00<00:00, 3233.74it/s]\n"
     ]
    },
    {
     "name": "stdout",
     "output_type": "stream",
     "text": [
      "No matches found.\n"
     ]
    },
    {
     "name": "stderr",
     "output_type": "stream",
     "text": [
      "Angle: 310 - Shape type: 3: 100%|██████████| 500/500 [00:00<00:00, 1529.61it/s]\n"
     ]
    },
    {
     "name": "stdout",
     "output_type": "stream",
     "text": [
      "Accuracy: 0.2524530106944936\n"
     ]
    },
    {
     "name": "stderr",
     "output_type": "stream",
     "text": [
      "Angle: 310 - Shape type: 4: 100%|██████████| 500/500 [00:00<00:00, 1365.76it/s]\n"
     ]
    },
    {
     "name": "stdout",
     "output_type": "stream",
     "text": [
      "Accuracy: 0.029335330125231793\n"
     ]
    },
    {
     "name": "stderr",
     "output_type": "stream",
     "text": [
      "Angle: 310 - Shape type: 5: 100%|██████████| 500/500 [00:00<00:00, 1382.18it/s]\n"
     ]
    },
    {
     "name": "stdout",
     "output_type": "stream",
     "text": [
      "Accuracy: 0.2964237516869096\n"
     ]
    },
    {
     "name": "stderr",
     "output_type": "stream",
     "text": [
      "Angle: 310 - Shape type: 6: 100%|██████████| 500/500 [00:00<00:00, 1343.88it/s]\n"
     ]
    },
    {
     "name": "stdout",
     "output_type": "stream",
     "text": [
      "Accuracy: 0.22843333333333335\n"
     ]
    },
    {
     "name": "stderr",
     "output_type": "stream",
     "text": [
      "Angle: 310 - Shape type: 7: 100%|██████████| 500/500 [00:00<00:00, 1837.07it/s]\n"
     ]
    },
    {
     "name": "stdout",
     "output_type": "stream",
     "text": [
      "Accuracy: 0.2666038457156878\n"
     ]
    },
    {
     "name": "stderr",
     "output_type": "stream",
     "text": [
      "Angle: 320 - Shape type: 0: 100%|██████████| 500/500 [00:00<00:00, 1361.86it/s]\n"
     ]
    },
    {
     "name": "stdout",
     "output_type": "stream",
     "text": [
      "Accuracy: 0.057877996052421374\n"
     ]
    },
    {
     "name": "stderr",
     "output_type": "stream",
     "text": [
      "Angle: 320 - Shape type: 1: 100%|██████████| 500/500 [00:00<00:00, 1668.75it/s]\n"
     ]
    },
    {
     "name": "stdout",
     "output_type": "stream",
     "text": [
      "Accuracy: 0.15335238095238093\n"
     ]
    },
    {
     "name": "stderr",
     "output_type": "stream",
     "text": [
      "Angle: 320 - Shape type: 2: 100%|██████████| 500/500 [00:00<00:00, 3388.86it/s]\n"
     ]
    },
    {
     "name": "stdout",
     "output_type": "stream",
     "text": [
      "No matches found.\n"
     ]
    },
    {
     "name": "stderr",
     "output_type": "stream",
     "text": [
      "Angle: 320 - Shape type: 3: 100%|██████████| 500/500 [00:00<00:00, 1693.75it/s]\n"
     ]
    },
    {
     "name": "stdout",
     "output_type": "stream",
     "text": [
      "Accuracy: 0.3329176279076079\n"
     ]
    },
    {
     "name": "stderr",
     "output_type": "stream",
     "text": [
      "Angle: 320 - Shape type: 4: 100%|██████████| 500/500 [-1:59:58<00:00, -219.26it/s]\n"
     ]
    },
    {
     "name": "stdout",
     "output_type": "stream",
     "text": [
      "Accuracy: 0.056754962802072866\n"
     ]
    },
    {
     "name": "stderr",
     "output_type": "stream",
     "text": [
      "Angle: 320 - Shape type: 5: 100%|██████████| 500/500 [00:00<00:00, 1444.18it/s]\n"
     ]
    },
    {
     "name": "stdout",
     "output_type": "stream",
     "text": [
      "Accuracy: 0.4480431848852901\n"
     ]
    },
    {
     "name": "stderr",
     "output_type": "stream",
     "text": [
      "Angle: 320 - Shape type: 6: 100%|██████████| 500/500 [00:00<00:00, 1746.74it/s]\n"
     ]
    },
    {
     "name": "stdout",
     "output_type": "stream",
     "text": [
      "Accuracy: 0.31460000000000005\n"
     ]
    },
    {
     "name": "stderr",
     "output_type": "stream",
     "text": [
      "Angle: 320 - Shape type: 7: 100%|██████████| 500/500 [00:00<00:00, 2379.09it/s]\n"
     ]
    },
    {
     "name": "stdout",
     "output_type": "stream",
     "text": [
      "Accuracy: 0.34428587153587153\n"
     ]
    },
    {
     "name": "stderr",
     "output_type": "stream",
     "text": [
      "Angle: 330 - Shape type: 0: 100%|██████████| 500/500 [00:00<00:00, 1615.62it/s]\n"
     ]
    },
    {
     "name": "stdout",
     "output_type": "stream",
     "text": [
      "Accuracy: 0.12353039116351971\n"
     ]
    },
    {
     "name": "stderr",
     "output_type": "stream",
     "text": [
      "Angle: 330 - Shape type: 1: 100%|██████████| 500/500 [00:00<00:00, 1714.41it/s]\n"
     ]
    },
    {
     "name": "stdout",
     "output_type": "stream",
     "text": [
      "Accuracy: 0.34680952380952373\n"
     ]
    },
    {
     "name": "stderr",
     "output_type": "stream",
     "text": [
      "Angle: 330 - Shape type: 2: 100%|██████████| 500/500 [00:00<00:00, 3338.04it/s]\n"
     ]
    },
    {
     "name": "stdout",
     "output_type": "stream",
     "text": [
      "No matches found.\n"
     ]
    },
    {
     "name": "stderr",
     "output_type": "stream",
     "text": [
      "Angle: 330 - Shape type: 3: 100%|██████████| 500/500 [00:00<00:00, 1799.62it/s]\n"
     ]
    },
    {
     "name": "stdout",
     "output_type": "stream",
     "text": [
      "Accuracy: 0.47843559802477637\n"
     ]
    },
    {
     "name": "stderr",
     "output_type": "stream",
     "text": [
      "Angle: 330 - Shape type: 4: 100%|██████████| 500/500 [00:00<00:00, 1323.46it/s]\n"
     ]
    },
    {
     "name": "stdout",
     "output_type": "stream",
     "text": [
      "Accuracy: 0.17415427769585376\n"
     ]
    },
    {
     "name": "stderr",
     "output_type": "stream",
     "text": [
      "Angle: 330 - Shape type: 5: 100%|██████████| 500/500 [00:00<00:00, 1874.94it/s]\n"
     ]
    },
    {
     "name": "stdout",
     "output_type": "stream",
     "text": [
      "Accuracy: 0.6924547283702213\n"
     ]
    },
    {
     "name": "stderr",
     "output_type": "stream",
     "text": [
      "Angle: 330 - Shape type: 6: 100%|██████████| 500/500 [00:00<00:00, 1523.59it/s]\n"
     ]
    },
    {
     "name": "stdout",
     "output_type": "stream",
     "text": [
      "Accuracy: 0.5338333333333333\n"
     ]
    },
    {
     "name": "stderr",
     "output_type": "stream",
     "text": [
      "Angle: 330 - Shape type: 7: 100%|██████████| 500/500 [00:00<00:00, 2325.77it/s]\n"
     ]
    },
    {
     "name": "stdout",
     "output_type": "stream",
     "text": [
      "Accuracy: 0.4699377772467474\n"
     ]
    },
    {
     "name": "stderr",
     "output_type": "stream",
     "text": [
      "Angle: 340 - Shape type: 0: 100%|██████████| 500/500 [00:00<00:00, 1366.68it/s]\n"
     ]
    },
    {
     "name": "stdout",
     "output_type": "stream",
     "text": [
      "Accuracy: 0.2878629621601798\n"
     ]
    },
    {
     "name": "stderr",
     "output_type": "stream",
     "text": [
      "Angle: 340 - Shape type: 1: 100%|██████████| 500/500 [00:00<00:00, 1737.04it/s]\n"
     ]
    },
    {
     "name": "stdout",
     "output_type": "stream",
     "text": [
      "Accuracy: 0.7716714285714286\n"
     ]
    },
    {
     "name": "stderr",
     "output_type": "stream",
     "text": [
      "Angle: 340 - Shape type: 2: 100%|██████████| 500/500 [00:00<00:00, 3363.15it/s]\n"
     ]
    },
    {
     "name": "stdout",
     "output_type": "stream",
     "text": [
      "No matches found.\n"
     ]
    },
    {
     "name": "stderr",
     "output_type": "stream",
     "text": [
      "Angle: 340 - Shape type: 3: 100%|██████████| 500/500 [00:00<00:00, 1796.22it/s]\n"
     ]
    },
    {
     "name": "stdout",
     "output_type": "stream",
     "text": [
      "Accuracy: 0.7458373152644047\n"
     ]
    },
    {
     "name": "stderr",
     "output_type": "stream",
     "text": [
      "Angle: 340 - Shape type: 4: 100%|██████████| 500/500 [00:00<00:00, 1478.75it/s]\n"
     ]
    },
    {
     "name": "stdout",
     "output_type": "stream",
     "text": [
      "Accuracy: 0.6092128612840773\n"
     ]
    },
    {
     "name": "stderr",
     "output_type": "stream",
     "text": [
      "Angle: 340 - Shape type: 5: 100%|██████████| 500/500 [00:00<00:00, 1722.81it/s]\n"
     ]
    },
    {
     "name": "stdout",
     "output_type": "stream",
     "text": [
      "Accuracy: 0.9375666666666667\n"
     ]
    },
    {
     "name": "stderr",
     "output_type": "stream",
     "text": [
      "Angle: 340 - Shape type: 6: 100%|██████████| 500/500 [00:00<00:00, 1674.80it/s]\n"
     ]
    },
    {
     "name": "stdout",
     "output_type": "stream",
     "text": [
      "Accuracy: 0.8811333333333334\n"
     ]
    },
    {
     "name": "stderr",
     "output_type": "stream",
     "text": [
      "Angle: 340 - Shape type: 7: 100%|██████████| 500/500 [00:00<00:00, 2147.02it/s]\n"
     ]
    },
    {
     "name": "stdout",
     "output_type": "stream",
     "text": [
      "Accuracy: 0.6837671946895247\n"
     ]
    },
    {
     "name": "stderr",
     "output_type": "stream",
     "text": [
      "Angle: 350 - Shape type: 0: 100%|██████████| 500/500 [00:00<00:00, 1654.15it/s]\n"
     ]
    },
    {
     "name": "stdout",
     "output_type": "stream",
     "text": [
      "Accuracy: 0.5877614785578449\n"
     ]
    },
    {
     "name": "stderr",
     "output_type": "stream",
     "text": [
      "Angle: 350 - Shape type: 1: 100%|██████████| 500/500 [00:00<00:00, 1812.76it/s]\n"
     ]
    },
    {
     "name": "stdout",
     "output_type": "stream",
     "text": [
      "Accuracy: 0.965647619047619\n"
     ]
    },
    {
     "name": "stderr",
     "output_type": "stream",
     "text": [
      "Angle: 350 - Shape type: 2: 100%|██████████| 500/500 [00:00<00:00, 3523.97it/s]\n"
     ]
    },
    {
     "name": "stdout",
     "output_type": "stream",
     "text": [
      "No matches found.\n"
     ]
    },
    {
     "name": "stderr",
     "output_type": "stream",
     "text": [
      "Angle: 350 - Shape type: 3: 100%|██████████| 500/500 [00:00<00:00, 1851.46it/s]\n"
     ]
    },
    {
     "name": "stdout",
     "output_type": "stream",
     "text": [
      "Accuracy: 0.9028845407860113\n"
     ]
    },
    {
     "name": "stderr",
     "output_type": "stream",
     "text": [
      "Angle: 350 - Shape type: 4: 100%|██████████| 500/500 [00:00<00:00, 1527.04it/s]\n"
     ]
    },
    {
     "name": "stdout",
     "output_type": "stream",
     "text": [
      "Accuracy: 0.943232735425531\n"
     ]
    },
    {
     "name": "stderr",
     "output_type": "stream",
     "text": [
      "Angle: 350 - Shape type: 5: 100%|██████████| 500/500 [00:00<00:00, 1834.47it/s]\n"
     ]
    },
    {
     "name": "stdout",
     "output_type": "stream",
     "text": [
      "Accuracy: 0.9913\n"
     ]
    },
    {
     "name": "stderr",
     "output_type": "stream",
     "text": [
      "Angle: 350 - Shape type: 6: 100%|██████████| 500/500 [00:00<00:00, 1738.41it/s]\n"
     ]
    },
    {
     "name": "stdout",
     "output_type": "stream",
     "text": [
      "Accuracy: 0.9953\n"
     ]
    },
    {
     "name": "stderr",
     "output_type": "stream",
     "text": [
      "Angle: 350 - Shape type: 7: 100%|██████████| 500/500 [00:00<00:00, 2293.66it/s]"
     ]
    },
    {
     "name": "stdout",
     "output_type": "stream",
     "text": [
      "Accuracy: 0.8457272777727324\n"
     ]
    },
    {
     "name": "stderr",
     "output_type": "stream",
     "text": [
      "\n"
     ]
    }
   ],
   "source": [
    "orb = cv2.ORB_create(edgeThreshold=0, fastThreshold=0)\n",
    "bf_orb = cv2.BFMatcher(cv2.NORM_HAMMING, crossCheck=True)\n",
    "accuracy_matches_orb = []\n",
    "\n",
    "for angle in range(0, 360, 10):\n",
    "    accuracy_matches_orb.append([])\n",
    "\n",
    "    for type in range(8):\n",
    "        accuracy_matches_orb[-1].append([])\n",
    "\n",
    "        for i in tqdm(range(500), f\"Angle: {angle} - Shape type: {type}\"):\n",
    "            image, ground_truth = read_image(type, str(i))\n",
    "            gray_scale = cv2.cvtColor(image, cv2.COLOR_BGR2GRAY)\n",
    "            descriptor = cache_orb_descriptors[type][i]\n",
    "\n",
    "            if descriptor is None:\n",
    "                continue\n",
    "\n",
    "            # Rotate the image and the keypoints.\n",
    "            rotated_image = rotate_image(gray_scale, angle)\n",
    "            rotated_keypoints, idx = rotate_keypoints(\n",
    "                (image.shape[1], image.shape[0]), ground_truth, angle\n",
    "            )\n",
    "\n",
    "            # Compute the descriptors of the rotated image.\n",
    "            rotated_descriptor = orb.compute(rotated_image, rotated_keypoints)[1]\n",
    "            if rotated_descriptor is not None:\n",
    "                assert len(rotated_descriptor) == len(rotated_keypoints)\n",
    "            else:\n",
    "                assert len(rotated_keypoints) == 0\n",
    "                continue\n",
    "\n",
    "            # Get the original keypoints and descriptors.\n",
    "            original_descriptor = np.array(descriptor)[idx]\n",
    "\n",
    "            # Match the descriptors of the original and rotated images.\n",
    "            if len(rotated_descriptor) == 1:\n",
    "                accuracy_matches_orb[-1][-1].append(1)\n",
    "            else:\n",
    "                matches = bf_orb.match(rotated_descriptor, original_descriptor)\n",
    "                matches = [m for m in matches if m.trainIdx == m.queryIdx]\n",
    "                accuracy_matches_orb[-1][-1].append(\n",
    "                    len(matches) / len(original_descriptor)\n",
    "                )\n",
    "\n",
    "        if len(accuracy_matches_orb[-1][-1]) > 0:\n",
    "            print(f\"Accuracy: {np.mean(accuracy_matches_orb[-1][-1])}\")\n",
    "        else:\n",
    "            print(\"No matches found.\")"
   ]
  },
  {
   "cell_type": "code",
   "execution_count": 10,
   "metadata": {},
   "outputs": [
    {
     "name": "stdout",
     "output_type": "stream",
     "text": [
      "Angle: 0\n",
      "Accuracy: 0.9996223863455721\n",
      "Angle: 10\n",
      "Accuracy: 0.8904585558897983\n",
      "Angle: 20\n",
      "Accuracy: 0.7001511527266256\n",
      "Angle: 30\n",
      "Accuracy: 0.39835639133403716\n",
      "Angle: 40\n",
      "Accuracy: 0.23544552022054208\n",
      "Angle: 50\n",
      "Accuracy: 0.16145194048092804\n",
      "Angle: 60\n",
      "Accuracy: 0.1305645378651016\n",
      "Angle: 70\n",
      "Accuracy: 0.11667570371269598\n",
      "Angle: 80\n",
      "Accuracy: 0.1114618020463434\n",
      "Angle: 90\n",
      "Accuracy: 0.1084289350336079\n",
      "Angle: 100\n",
      "Accuracy: 0.09795824060050774\n",
      "Angle: 110\n",
      "Accuracy: 0.08971309645150964\n",
      "Angle: 120\n",
      "Accuracy: 0.08370406936850529\n",
      "Angle: 130\n",
      "Accuracy: 0.08264135214361899\n",
      "Angle: 140\n",
      "Accuracy: 0.0904216079147379\n",
      "Angle: 150\n",
      "Accuracy: 0.09474493103735496\n",
      "Angle: 160\n",
      "Accuracy: 0.10228440214799132\n",
      "Angle: 170\n",
      "Accuracy: 0.11620761522558028\n",
      "Angle: 180\n",
      "Accuracy: 0.13170642944033528\n",
      "Angle: 190\n",
      "Accuracy: 0.1148340809076005\n",
      "Angle: 200\n",
      "Accuracy: 0.1029375944221676\n",
      "Angle: 210\n",
      "Accuracy: 0.09486399306401053\n",
      "Angle: 220\n",
      "Accuracy: 0.0933793222045747\n",
      "Angle: 230\n",
      "Accuracy: 0.0914450438270937\n",
      "Angle: 240\n",
      "Accuracy: 0.09163518363238168\n",
      "Angle: 250\n",
      "Accuracy: 0.09344152653446511\n",
      "Angle: 260\n",
      "Accuracy: 0.10088402131380343\n",
      "Angle: 270\n",
      "Accuracy: 0.10541499800021574\n",
      "Angle: 280\n",
      "Accuracy: 0.10712635828958797\n",
      "Angle: 290\n",
      "Accuracy: 0.11393367899855034\n",
      "Angle: 300\n",
      "Accuracy: 0.1311360218550954\n",
      "Angle: 310\n",
      "Accuracy: 0.16467253634454326\n",
      "Angle: 320\n",
      "Accuracy: 0.23748486517565404\n",
      "Angle: 330\n",
      "Accuracy: 0.3983938117581891\n",
      "Angle: 340\n",
      "Accuracy: 0.7035007586105936\n",
      "Angle: 350\n",
      "Accuracy: 0.8925384950671186\n"
     ]
    }
   ],
   "source": [
    "for i in range(36):\n",
    "    print(f\"Angle: {i * 10}\")\n",
    "    flatten = []\n",
    "    for j in range(8):\n",
    "        flatten += accuracy_matches_orb[i][j]\n",
    "    print(f\"Accuracy: {np.mean(flatten)}\")"
   ]
  },
  {
   "cell_type": "markdown",
   "metadata": {},
   "source": [
    "# 5. Get accuracy matching keypoints of SuperPoint\n"
   ]
  },
  {
   "cell_type": "code",
   "execution_count": 11,
   "metadata": {},
   "outputs": [
    {
     "name": "stderr",
     "output_type": "stream",
     "text": [
      "/home/hazzu/Code/opencv_streamlit/services/keypoint_matching/superpoint.py:79: FutureWarning: You are using `torch.load` with `weights_only=False` (the current default value), which uses the default pickle module implicitly. It is possible to construct malicious pickle data which will execute arbitrary code during unpickling (See https://github.com/pytorch/pytorch/blob/main/SECURITY.md#untrusted-models for more details). In a future release, the default value for `weights_only` will be flipped to `True`. This limits the functions that could be executed during unpickling. Arbitrary objects will no longer be allowed to be loaded via this mode unless they are explicitly allowlisted by the user via `torch.serialization.add_safe_globals`. We recommend you start setting `weights_only=True` for any use case where you don't have full control of the loaded file. Please open an issue on GitHub for any issues related to this experimental feature.\n",
      "  self.net.load_state_dict(torch.load(weights_path))\n"
     ]
    },
    {
     "name": "stdout",
     "output_type": "stream",
     "text": [
      "Run on GPU\n"
     ]
    },
    {
     "name": "stderr",
     "output_type": "stream",
     "text": [
      "Angle: 0 - Shape type: 0:   0%|          | 0/500 [00:00<?, ?it/s]/home/hazzu/anaconda3/envs/opencv_streamlit/lib/python3.12/site-packages/torch/nn/functional.py:4902: UserWarning: Default grid_sample and affine_grid behavior has changed to align_corners=False since 1.3.0. Please specify align_corners=True if the old behavior is desired. See the documentation of grid_sample for details.\n",
      "  warnings.warn(\n",
      "Angle: 0 - Shape type: 0: 100%|██████████| 500/500 [00:02<00:00, 245.06it/s]\n"
     ]
    },
    {
     "name": "stdout",
     "output_type": "stream",
     "text": [
      "Accuracy: 1.0\n"
     ]
    },
    {
     "name": "stderr",
     "output_type": "stream",
     "text": [
      "Angle: 0 - Shape type: 1: 100%|██████████| 500/500 [00:01<00:00, 290.72it/s]\n"
     ]
    },
    {
     "name": "stdout",
     "output_type": "stream",
     "text": [
      "Accuracy: 1.0\n"
     ]
    },
    {
     "name": "stderr",
     "output_type": "stream",
     "text": [
      "Angle: 0 - Shape type: 2: 100%|██████████| 500/500 [00:00<00:00, 3321.26it/s]\n"
     ]
    },
    {
     "name": "stdout",
     "output_type": "stream",
     "text": [
      "No matches found.\n"
     ]
    },
    {
     "name": "stderr",
     "output_type": "stream",
     "text": [
      "Angle: 0 - Shape type: 3: 100%|██████████| 500/500 [00:01<00:00, 299.39it/s]\n"
     ]
    },
    {
     "name": "stdout",
     "output_type": "stream",
     "text": [
      "Accuracy: 1.0\n"
     ]
    },
    {
     "name": "stderr",
     "output_type": "stream",
     "text": [
      "Angle: 0 - Shape type: 4: 100%|██████████| 500/500 [00:01<00:00, 274.84it/s]\n"
     ]
    },
    {
     "name": "stdout",
     "output_type": "stream",
     "text": [
      "Accuracy: 1.0\n"
     ]
    },
    {
     "name": "stderr",
     "output_type": "stream",
     "text": [
      "Angle: 0 - Shape type: 5: 100%|██████████| 500/500 [00:02<00:00, 214.88it/s]\n"
     ]
    },
    {
     "name": "stdout",
     "output_type": "stream",
     "text": [
      "Accuracy: 1.0\n"
     ]
    },
    {
     "name": "stderr",
     "output_type": "stream",
     "text": [
      "Angle: 0 - Shape type: 6: 100%|██████████| 500/500 [00:01<00:00, 265.97it/s]\n"
     ]
    },
    {
     "name": "stdout",
     "output_type": "stream",
     "text": [
      "Accuracy: 1.0\n"
     ]
    },
    {
     "name": "stderr",
     "output_type": "stream",
     "text": [
      "Angle: 0 - Shape type: 7: 100%|██████████| 500/500 [00:01<00:00, 363.72it/s]\n"
     ]
    },
    {
     "name": "stdout",
     "output_type": "stream",
     "text": [
      "Accuracy: 1.0\n"
     ]
    },
    {
     "name": "stderr",
     "output_type": "stream",
     "text": [
      "Angle: 10 - Shape type: 0: 100%|██████████| 500/500 [00:01<00:00, 265.78it/s]\n"
     ]
    },
    {
     "name": "stdout",
     "output_type": "stream",
     "text": [
      "Accuracy: 0.8264935125109872\n"
     ]
    },
    {
     "name": "stderr",
     "output_type": "stream",
     "text": [
      "Angle: 10 - Shape type: 1: 100%|██████████| 500/500 [00:01<00:00, 279.21it/s]\n"
     ]
    },
    {
     "name": "stdout",
     "output_type": "stream",
     "text": [
      "Accuracy: 0.9976285714285714\n"
     ]
    },
    {
     "name": "stderr",
     "output_type": "stream",
     "text": [
      "Angle: 10 - Shape type: 2: 100%|██████████| 500/500 [00:00<00:00, 3202.13it/s]\n"
     ]
    },
    {
     "name": "stdout",
     "output_type": "stream",
     "text": [
      "No matches found.\n"
     ]
    },
    {
     "name": "stderr",
     "output_type": "stream",
     "text": [
      "Angle: 10 - Shape type: 3: 100%|██████████| 500/500 [00:01<00:00, 265.36it/s]\n"
     ]
    },
    {
     "name": "stdout",
     "output_type": "stream",
     "text": [
      "Accuracy: 0.9456232101232102\n"
     ]
    },
    {
     "name": "stderr",
     "output_type": "stream",
     "text": [
      "Angle: 10 - Shape type: 4: 100%|██████████| 500/500 [00:01<00:00, 255.11it/s]\n"
     ]
    },
    {
     "name": "stdout",
     "output_type": "stream",
     "text": [
      "Accuracy: 0.9533480341086166\n"
     ]
    },
    {
     "name": "stderr",
     "output_type": "stream",
     "text": [
      "Angle: 10 - Shape type: 5: 100%|██████████| 500/500 [00:00<00:00, -559.01it/s]\n"
     ]
    },
    {
     "name": "stdout",
     "output_type": "stream",
     "text": [
      "Accuracy: 0.9859666666666667\n"
     ]
    },
    {
     "name": "stderr",
     "output_type": "stream",
     "text": [
      "Angle: 10 - Shape type: 6: 100%|██████████| 500/500 [00:01<00:00, 283.61it/s]\n"
     ]
    },
    {
     "name": "stdout",
     "output_type": "stream",
     "text": [
      "Accuracy: 0.9937333333333334\n"
     ]
    },
    {
     "name": "stderr",
     "output_type": "stream",
     "text": [
      "Angle: 10 - Shape type: 7: 100%|██████████| 500/500 [00:01<00:00, 391.65it/s]\n"
     ]
    },
    {
     "name": "stdout",
     "output_type": "stream",
     "text": [
      "Accuracy: 0.831670884349012\n"
     ]
    },
    {
     "name": "stderr",
     "output_type": "stream",
     "text": [
      "Angle: 20 - Shape type: 0: 100%|██████████| 500/500 [00:01<00:00, 279.28it/s]\n"
     ]
    },
    {
     "name": "stdout",
     "output_type": "stream",
     "text": [
      "Accuracy: 0.6338823305435751\n"
     ]
    },
    {
     "name": "stderr",
     "output_type": "stream",
     "text": [
      "Angle: 20 - Shape type: 1: 100%|██████████| 500/500 [00:01<00:00, 286.94it/s]\n"
     ]
    },
    {
     "name": "stdout",
     "output_type": "stream",
     "text": [
      "Accuracy: 0.963052380952381\n"
     ]
    },
    {
     "name": "stderr",
     "output_type": "stream",
     "text": [
      "Angle: 20 - Shape type: 2: 100%|██████████| 500/500 [00:00<00:00, 3191.29it/s]\n"
     ]
    },
    {
     "name": "stdout",
     "output_type": "stream",
     "text": [
      "No matches found.\n"
     ]
    },
    {
     "name": "stderr",
     "output_type": "stream",
     "text": [
      "Angle: 20 - Shape type: 3: 100%|██████████| 500/500 [00:01<00:00, 284.55it/s]\n"
     ]
    },
    {
     "name": "stdout",
     "output_type": "stream",
     "text": [
      "Accuracy: 0.8915023631456497\n"
     ]
    },
    {
     "name": "stderr",
     "output_type": "stream",
     "text": [
      "Angle: 20 - Shape type: 4: 100%|██████████| 500/500 [00:01<00:00, 269.21it/s]\n"
     ]
    },
    {
     "name": "stdout",
     "output_type": "stream",
     "text": [
      "Accuracy: 0.8596756207501242\n"
     ]
    },
    {
     "name": "stderr",
     "output_type": "stream",
     "text": [
      "Angle: 20 - Shape type: 5: 100%|██████████| 500/500 [00:01<00:00, 284.94it/s]\n"
     ]
    },
    {
     "name": "stdout",
     "output_type": "stream",
     "text": [
      "Accuracy: 0.9709000000000001\n"
     ]
    },
    {
     "name": "stderr",
     "output_type": "stream",
     "text": [
      "Angle: 20 - Shape type: 6: 100%|██████████| 500/500 [00:01<00:00, 278.32it/s]\n"
     ]
    },
    {
     "name": "stdout",
     "output_type": "stream",
     "text": [
      "Accuracy: 0.9734333333333334\n"
     ]
    },
    {
     "name": "stderr",
     "output_type": "stream",
     "text": [
      "Angle: 20 - Shape type: 7: 100%|██████████| 500/500 [00:01<00:00, 399.74it/s]\n"
     ]
    },
    {
     "name": "stdout",
     "output_type": "stream",
     "text": [
      "Accuracy: 0.669848879254156\n"
     ]
    },
    {
     "name": "stderr",
     "output_type": "stream",
     "text": [
      "Angle: 30 - Shape type: 0: 100%|██████████| 500/500 [00:01<00:00, 268.75it/s]\n"
     ]
    },
    {
     "name": "stdout",
     "output_type": "stream",
     "text": [
      "Accuracy: 0.2742855243318934\n"
     ]
    },
    {
     "name": "stderr",
     "output_type": "stream",
     "text": [
      "Angle: 30 - Shape type: 1: 100%|██████████| 500/500 [00:01<00:00, 263.48it/s]\n"
     ]
    },
    {
     "name": "stdout",
     "output_type": "stream",
     "text": [
      "Accuracy: 0.6819190476190475\n"
     ]
    },
    {
     "name": "stderr",
     "output_type": "stream",
     "text": [
      "Angle: 30 - Shape type: 2: 100%|██████████| 500/500 [00:00<00:00, 3093.22it/s]\n"
     ]
    },
    {
     "name": "stdout",
     "output_type": "stream",
     "text": [
      "No matches found.\n"
     ]
    },
    {
     "name": "stderr",
     "output_type": "stream",
     "text": [
      "Angle: 30 - Shape type: 3: 100%|██████████| 500/500 [00:01<00:00, 271.45it/s]\n"
     ]
    },
    {
     "name": "stdout",
     "output_type": "stream",
     "text": [
      "Accuracy: 0.6585328499156154\n"
     ]
    },
    {
     "name": "stderr",
     "output_type": "stream",
     "text": [
      "Angle: 30 - Shape type: 4: 100%|██████████| 500/500 [00:01<00:00, 264.17it/s]\n"
     ]
    },
    {
     "name": "stdout",
     "output_type": "stream",
     "text": [
      "Accuracy: 0.49165169634583683\n"
     ]
    },
    {
     "name": "stderr",
     "output_type": "stream",
     "text": [
      "Angle: 30 - Shape type: 5: 100%|██████████| 500/500 [00:01<00:00, 276.72it/s]\n"
     ]
    },
    {
     "name": "stdout",
     "output_type": "stream",
     "text": [
      "Accuracy: 0.907310529845741\n"
     ]
    },
    {
     "name": "stderr",
     "output_type": "stream",
     "text": [
      "Angle: 30 - Shape type: 6: 100%|██████████| 500/500 [00:01<00:00, 280.52it/s]\n"
     ]
    },
    {
     "name": "stdout",
     "output_type": "stream",
     "text": [
      "Accuracy: 0.8174666666666667\n"
     ]
    },
    {
     "name": "stderr",
     "output_type": "stream",
     "text": [
      "Angle: 30 - Shape type: 7: 100%|██████████| 500/500 [00:01<00:00, 410.95it/s]\n"
     ]
    },
    {
     "name": "stdout",
     "output_type": "stream",
     "text": [
      "Accuracy: 0.37709446259898066\n"
     ]
    },
    {
     "name": "stderr",
     "output_type": "stream",
     "text": [
      "Angle: 40 - Shape type: 0: 100%|██████████| 500/500 [00:01<00:00, 275.36it/s]\n"
     ]
    },
    {
     "name": "stdout",
     "output_type": "stream",
     "text": [
      "Accuracy: 0.06927492088724821\n"
     ]
    },
    {
     "name": "stderr",
     "output_type": "stream",
     "text": [
      "Angle: 40 - Shape type: 1: 100%|██████████| 500/500 [00:01<00:00, 278.07it/s]\n"
     ]
    },
    {
     "name": "stdout",
     "output_type": "stream",
     "text": [
      "Accuracy: 0.22568095238095237\n"
     ]
    },
    {
     "name": "stderr",
     "output_type": "stream",
     "text": [
      "Angle: 40 - Shape type: 2: 100%|██████████| 500/500 [00:00<00:00, 3157.44it/s]\n"
     ]
    },
    {
     "name": "stdout",
     "output_type": "stream",
     "text": [
      "No matches found.\n"
     ]
    },
    {
     "name": "stderr",
     "output_type": "stream",
     "text": [
      "Angle: 40 - Shape type: 3: 100%|██████████| 500/500 [-1:59:59<00:00, -477.84it/s]\n"
     ]
    },
    {
     "name": "stdout",
     "output_type": "stream",
     "text": [
      "Accuracy: 0.36055628851220034\n"
     ]
    },
    {
     "name": "stderr",
     "output_type": "stream",
     "text": [
      "Angle: 40 - Shape type: 4: 100%|██████████| 500/500 [00:01<00:00, 260.90it/s]\n"
     ]
    },
    {
     "name": "stdout",
     "output_type": "stream",
     "text": [
      "Accuracy: 0.09812071286747706\n"
     ]
    },
    {
     "name": "stderr",
     "output_type": "stream",
     "text": [
      "Angle: 40 - Shape type: 5: 100%|██████████| 500/500 [00:01<00:00, 270.11it/s]\n"
     ]
    },
    {
     "name": "stdout",
     "output_type": "stream",
     "text": [
      "Accuracy: 0.6515120967741935\n"
     ]
    },
    {
     "name": "stderr",
     "output_type": "stream",
     "text": [
      "Angle: 40 - Shape type: 6: 100%|██████████| 500/500 [00:01<00:00, 277.43it/s]\n"
     ]
    },
    {
     "name": "stdout",
     "output_type": "stream",
     "text": [
      "Accuracy: 0.39663333333333334\n"
     ]
    },
    {
     "name": "stderr",
     "output_type": "stream",
     "text": [
      "Angle: 40 - Shape type: 7: 100%|██████████| 500/500 [00:01<00:00, 406.98it/s]\n"
     ]
    },
    {
     "name": "stdout",
     "output_type": "stream",
     "text": [
      "Accuracy: 0.2135053312104984\n"
     ]
    },
    {
     "name": "stderr",
     "output_type": "stream",
     "text": [
      "Angle: 50 - Shape type: 0: 100%|██████████| 500/500 [00:01<00:00, 270.66it/s]\n"
     ]
    },
    {
     "name": "stdout",
     "output_type": "stream",
     "text": [
      "Accuracy: 0.005925200479776501\n"
     ]
    },
    {
     "name": "stderr",
     "output_type": "stream",
     "text": [
      "Angle: 50 - Shape type: 1: 100%|██████████| 500/500 [00:01<00:00, 280.90it/s]\n"
     ]
    },
    {
     "name": "stdout",
     "output_type": "stream",
     "text": [
      "Accuracy: 0.047266666666666665\n"
     ]
    },
    {
     "name": "stderr",
     "output_type": "stream",
     "text": [
      "Angle: 50 - Shape type: 2: 100%|██████████| 500/500 [00:00<00:00, 3233.15it/s]\n"
     ]
    },
    {
     "name": "stdout",
     "output_type": "stream",
     "text": [
      "No matches found.\n"
     ]
    },
    {
     "name": "stderr",
     "output_type": "stream",
     "text": [
      "Angle: 50 - Shape type: 3: 100%|██████████| 500/500 [00:01<00:00, 269.84it/s]\n"
     ]
    },
    {
     "name": "stdout",
     "output_type": "stream",
     "text": [
      "Accuracy: 0.1725028923425717\n"
     ]
    },
    {
     "name": "stderr",
     "output_type": "stream",
     "text": [
      "Angle: 50 - Shape type: 4: 100%|██████████| 500/500 [00:01<00:00, 268.66it/s]\n"
     ]
    },
    {
     "name": "stdout",
     "output_type": "stream",
     "text": [
      "Accuracy: 0.005558729813913144\n"
     ]
    },
    {
     "name": "stderr",
     "output_type": "stream",
     "text": [
      "Angle: 50 - Shape type: 5: 100%|██████████| 500/500 [00:01<00:00, 279.92it/s]\n"
     ]
    },
    {
     "name": "stdout",
     "output_type": "stream",
     "text": [
      "Accuracy: 0.2390466531440162\n"
     ]
    },
    {
     "name": "stderr",
     "output_type": "stream",
     "text": [
      "Angle: 50 - Shape type: 6: 100%|██████████| 500/500 [00:01<00:00, 279.68it/s]\n"
     ]
    },
    {
     "name": "stdout",
     "output_type": "stream",
     "text": [
      "Accuracy: 0.09659999999999999\n"
     ]
    },
    {
     "name": "stderr",
     "output_type": "stream",
     "text": [
      "Angle: 50 - Shape type: 7: 100%|██████████| 500/500 [00:01<00:00, 412.44it/s]\n"
     ]
    },
    {
     "name": "stdout",
     "output_type": "stream",
     "text": [
      "Accuracy: 0.15816017316017317\n"
     ]
    },
    {
     "name": "stderr",
     "output_type": "stream",
     "text": [
      "Angle: 60 - Shape type: 0: 100%|██████████| 500/500 [00:01<00:00, 269.98it/s]\n"
     ]
    },
    {
     "name": "stdout",
     "output_type": "stream",
     "text": [
      "Accuracy: 0.0003836598184424271\n"
     ]
    },
    {
     "name": "stderr",
     "output_type": "stream",
     "text": [
      "Angle: 60 - Shape type: 1: 100%|██████████| 500/500 [00:01<00:00, 274.75it/s]\n"
     ]
    },
    {
     "name": "stdout",
     "output_type": "stream",
     "text": [
      "Accuracy: 0.020685714285714283\n"
     ]
    },
    {
     "name": "stderr",
     "output_type": "stream",
     "text": [
      "Angle: 60 - Shape type: 2: 100%|██████████| 500/500 [00:00<00:00, 3113.12it/s]\n"
     ]
    },
    {
     "name": "stdout",
     "output_type": "stream",
     "text": [
      "No matches found.\n"
     ]
    },
    {
     "name": "stderr",
     "output_type": "stream",
     "text": [
      "Angle: 60 - Shape type: 3: 100%|██████████| 500/500 [00:01<00:00, 282.92it/s]\n"
     ]
    },
    {
     "name": "stdout",
     "output_type": "stream",
     "text": [
      "Accuracy: 0.09466915280168292\n"
     ]
    },
    {
     "name": "stderr",
     "output_type": "stream",
     "text": [
      "Angle: 60 - Shape type: 4: 100%|██████████| 500/500 [00:01<00:00, 271.09it/s]\n"
     ]
    },
    {
     "name": "stdout",
     "output_type": "stream",
     "text": [
      "Accuracy: 0.0007214701081830335\n"
     ]
    },
    {
     "name": "stderr",
     "output_type": "stream",
     "text": [
      "Angle: 60 - Shape type: 5: 100%|██████████| 500/500 [00:01<00:00, 288.90it/s]\n"
     ]
    },
    {
     "name": "stdout",
     "output_type": "stream",
     "text": [
      "Accuracy: 0.07215447154471544\n"
     ]
    },
    {
     "name": "stderr",
     "output_type": "stream",
     "text": [
      "Angle: 60 - Shape type: 6: 100%|██████████| 500/500 [00:01<00:00, 276.32it/s]\n"
     ]
    },
    {
     "name": "stdout",
     "output_type": "stream",
     "text": [
      "Accuracy: 0.04446666666666667\n"
     ]
    },
    {
     "name": "stderr",
     "output_type": "stream",
     "text": [
      "Angle: 60 - Shape type: 7: 100%|██████████| 500/500 [-1:59:59<00:00, -397.36it/s]\n"
     ]
    },
    {
     "name": "stdout",
     "output_type": "stream",
     "text": [
      "Accuracy: 0.15229044834307992\n"
     ]
    },
    {
     "name": "stderr",
     "output_type": "stream",
     "text": [
      "Angle: 70 - Shape type: 0: 100%|██████████| 500/500 [00:01<00:00, 250.78it/s]\n"
     ]
    },
    {
     "name": "stdout",
     "output_type": "stream",
     "text": [
      "Accuracy: 0.0\n"
     ]
    },
    {
     "name": "stderr",
     "output_type": "stream",
     "text": [
      "Angle: 70 - Shape type: 1: 100%|██████████| 500/500 [00:01<00:00, 285.42it/s]\n"
     ]
    },
    {
     "name": "stdout",
     "output_type": "stream",
     "text": [
      "Accuracy: 0.013952380952380952\n"
     ]
    },
    {
     "name": "stderr",
     "output_type": "stream",
     "text": [
      "Angle: 70 - Shape type: 2: 100%|██████████| 500/500 [00:00<00:00, 3208.66it/s]\n"
     ]
    },
    {
     "name": "stdout",
     "output_type": "stream",
     "text": [
      "No matches found.\n"
     ]
    },
    {
     "name": "stderr",
     "output_type": "stream",
     "text": [
      "Angle: 70 - Shape type: 3: 100%|██████████| 500/500 [00:01<00:00, 278.97it/s]\n"
     ]
    },
    {
     "name": "stdout",
     "output_type": "stream",
     "text": [
      "Accuracy: 0.07377598926894703\n"
     ]
    },
    {
     "name": "stderr",
     "output_type": "stream",
     "text": [
      "Angle: 70 - Shape type: 4: 100%|██████████| 500/500 [00:01<00:00, 271.24it/s]\n"
     ]
    },
    {
     "name": "stdout",
     "output_type": "stream",
     "text": [
      "Accuracy: 0.0002536231884057971\n"
     ]
    },
    {
     "name": "stderr",
     "output_type": "stream",
     "text": [
      "Angle: 70 - Shape type: 5: 100%|██████████| 500/500 [00:01<00:00, 291.54it/s]\n"
     ]
    },
    {
     "name": "stdout",
     "output_type": "stream",
     "text": [
      "Accuracy: 0.0494579945799458\n"
     ]
    },
    {
     "name": "stderr",
     "output_type": "stream",
     "text": [
      "Angle: 70 - Shape type: 6: 100%|██████████| 500/500 [00:01<00:00, 280.03it/s]\n"
     ]
    },
    {
     "name": "stdout",
     "output_type": "stream",
     "text": [
      "Accuracy: 0.0325\n"
     ]
    },
    {
     "name": "stderr",
     "output_type": "stream",
     "text": [
      "Angle: 70 - Shape type: 7: 100%|██████████| 500/500 [00:01<00:00, 402.57it/s]\n"
     ]
    },
    {
     "name": "stdout",
     "output_type": "stream",
     "text": [
      "Accuracy: 0.1450094161958569\n"
     ]
    },
    {
     "name": "stderr",
     "output_type": "stream",
     "text": [
      "Angle: 80 - Shape type: 0: 100%|██████████| 500/500 [00:01<00:00, 273.34it/s]\n"
     ]
    },
    {
     "name": "stdout",
     "output_type": "stream",
     "text": [
      "Accuracy: 0.0\n"
     ]
    },
    {
     "name": "stderr",
     "output_type": "stream",
     "text": [
      "Angle: 80 - Shape type: 1: 100%|██████████| 500/500 [00:01<00:00, 276.59it/s]\n"
     ]
    },
    {
     "name": "stdout",
     "output_type": "stream",
     "text": [
      "Accuracy: 0.01439047619047619\n"
     ]
    },
    {
     "name": "stderr",
     "output_type": "stream",
     "text": [
      "Angle: 80 - Shape type: 2: 100%|██████████| 500/500 [00:00<00:00, 3157.68it/s]\n"
     ]
    },
    {
     "name": "stdout",
     "output_type": "stream",
     "text": [
      "No matches found.\n"
     ]
    },
    {
     "name": "stderr",
     "output_type": "stream",
     "text": [
      "Angle: 80 - Shape type: 3: 100%|██████████| 500/500 [00:01<00:00, 279.12it/s]\n"
     ]
    },
    {
     "name": "stdout",
     "output_type": "stream",
     "text": [
      "Accuracy: 0.0744466800804829\n"
     ]
    },
    {
     "name": "stderr",
     "output_type": "stream",
     "text": [
      "Angle: 80 - Shape type: 4: 100%|██████████| 500/500 [00:01<00:00, 269.51it/s]\n"
     ]
    },
    {
     "name": "stdout",
     "output_type": "stream",
     "text": [
      "Accuracy: 8.695652173913043e-05\n"
     ]
    },
    {
     "name": "stderr",
     "output_type": "stream",
     "text": [
      "Angle: 80 - Shape type: 5: 100%|██████████| 500/500 [00:01<00:00, 286.49it/s]\n"
     ]
    },
    {
     "name": "stdout",
     "output_type": "stream",
     "text": [
      "Accuracy: 0.04014844804318488\n"
     ]
    },
    {
     "name": "stderr",
     "output_type": "stream",
     "text": [
      "Angle: 80 - Shape type: 6: 100%|██████████| 500/500 [00:01<00:00, 275.45it/s]\n"
     ]
    },
    {
     "name": "stdout",
     "output_type": "stream",
     "text": [
      "Accuracy: 0.02803333333333333\n"
     ]
    },
    {
     "name": "stderr",
     "output_type": "stream",
     "text": [
      "Angle: 80 - Shape type: 7: 100%|██████████| 500/500 [00:01<00:00, 397.71it/s]\n"
     ]
    },
    {
     "name": "stdout",
     "output_type": "stream",
     "text": [
      "Accuracy: 0.16951566951566951\n"
     ]
    },
    {
     "name": "stderr",
     "output_type": "stream",
     "text": [
      "Angle: 90 - Shape type: 0: 100%|██████████| 500/500 [00:01<00:00, 275.18it/s]\n"
     ]
    },
    {
     "name": "stdout",
     "output_type": "stream",
     "text": [
      "Accuracy: 0.0\n"
     ]
    },
    {
     "name": "stderr",
     "output_type": "stream",
     "text": [
      "Angle: 90 - Shape type: 1: 100%|██████████| 500/500 [00:01<00:00, 284.20it/s]\n"
     ]
    },
    {
     "name": "stdout",
     "output_type": "stream",
     "text": [
      "Accuracy: 0.014023809523809525\n"
     ]
    },
    {
     "name": "stderr",
     "output_type": "stream",
     "text": [
      "Angle: 90 - Shape type: 2: 100%|██████████| 500/500 [00:00<00:00, 3168.56it/s]\n"
     ]
    },
    {
     "name": "stdout",
     "output_type": "stream",
     "text": [
      "No matches found.\n"
     ]
    },
    {
     "name": "stderr",
     "output_type": "stream",
     "text": [
      "Angle: 90 - Shape type: 3: 100%|██████████| 500/500 [00:01<00:00, 283.78it/s]\n"
     ]
    },
    {
     "name": "stdout",
     "output_type": "stream",
     "text": [
      "Accuracy: 0.08433734939759036\n"
     ]
    },
    {
     "name": "stderr",
     "output_type": "stream",
     "text": [
      "Angle: 90 - Shape type: 4: 100%|██████████| 500/500 [00:00<00:00, -679.66it/s]\n"
     ]
    },
    {
     "name": "stdout",
     "output_type": "stream",
     "text": [
      "Accuracy: 0.0\n"
     ]
    },
    {
     "name": "stderr",
     "output_type": "stream",
     "text": [
      "Angle: 90 - Shape type: 5: 100%|██████████| 500/500 [00:01<00:00, 282.54it/s]\n"
     ]
    },
    {
     "name": "stdout",
     "output_type": "stream",
     "text": [
      "Accuracy: 0.03621730382293763\n"
     ]
    },
    {
     "name": "stderr",
     "output_type": "stream",
     "text": [
      "Angle: 90 - Shape type: 6: 100%|██████████| 500/500 [00:01<00:00, 287.93it/s]\n"
     ]
    },
    {
     "name": "stdout",
     "output_type": "stream",
     "text": [
      "Accuracy: 0.03236666666666666\n"
     ]
    },
    {
     "name": "stderr",
     "output_type": "stream",
     "text": [
      "Angle: 90 - Shape type: 7: 100%|██████████| 500/500 [00:01<00:00, 381.78it/s]\n"
     ]
    },
    {
     "name": "stdout",
     "output_type": "stream",
     "text": [
      "Accuracy: 0.1867732558139535\n"
     ]
    },
    {
     "name": "stderr",
     "output_type": "stream",
     "text": [
      "Angle: 100 - Shape type: 0: 100%|██████████| 500/500 [00:01<00:00, 272.81it/s]\n"
     ]
    },
    {
     "name": "stdout",
     "output_type": "stream",
     "text": [
      "Accuracy: 0.0\n"
     ]
    },
    {
     "name": "stderr",
     "output_type": "stream",
     "text": [
      "Angle: 100 - Shape type: 1: 100%|██████████| 500/500 [00:01<00:00, 280.94it/s]\n"
     ]
    },
    {
     "name": "stdout",
     "output_type": "stream",
     "text": [
      "Accuracy: 0.021276190476190476\n"
     ]
    },
    {
     "name": "stderr",
     "output_type": "stream",
     "text": [
      "Angle: 100 - Shape type: 2: 100%|██████████| 500/500 [00:00<00:00, 3288.67it/s]\n"
     ]
    },
    {
     "name": "stdout",
     "output_type": "stream",
     "text": [
      "No matches found.\n"
     ]
    },
    {
     "name": "stderr",
     "output_type": "stream",
     "text": [
      "Angle: 100 - Shape type: 3: 100%|██████████| 500/500 [00:01<00:00, 275.00it/s]\n"
     ]
    },
    {
     "name": "stdout",
     "output_type": "stream",
     "text": [
      "Accuracy: 0.07615230460921844\n"
     ]
    },
    {
     "name": "stderr",
     "output_type": "stream",
     "text": [
      "Angle: 100 - Shape type: 4: 100%|██████████| 500/500 [00:01<00:00, 264.79it/s]\n"
     ]
    },
    {
     "name": "stdout",
     "output_type": "stream",
     "text": [
      "Accuracy: 0.0\n"
     ]
    },
    {
     "name": "stderr",
     "output_type": "stream",
     "text": [
      "Angle: 100 - Shape type: 5: 100%|██████████| 500/500 [00:01<00:00, 289.08it/s]\n"
     ]
    },
    {
     "name": "stdout",
     "output_type": "stream",
     "text": [
      "Accuracy: 0.030087897227856656\n"
     ]
    },
    {
     "name": "stderr",
     "output_type": "stream",
     "text": [
      "Angle: 100 - Shape type: 6: 100%|██████████| 500/500 [00:01<00:00, 275.92it/s]\n"
     ]
    },
    {
     "name": "stdout",
     "output_type": "stream",
     "text": [
      "Accuracy: 0.0299\n"
     ]
    },
    {
     "name": "stderr",
     "output_type": "stream",
     "text": [
      "Angle: 100 - Shape type: 7: 100%|██████████| 500/500 [00:01<00:00, 381.12it/s]\n"
     ]
    },
    {
     "name": "stdout",
     "output_type": "stream",
     "text": [
      "Accuracy: 0.17699115044247787\n"
     ]
    },
    {
     "name": "stderr",
     "output_type": "stream",
     "text": [
      "Angle: 110 - Shape type: 0: 100%|██████████| 500/500 [00:01<00:00, 269.61it/s]\n"
     ]
    },
    {
     "name": "stdout",
     "output_type": "stream",
     "text": [
      "Accuracy: 0.0\n"
     ]
    },
    {
     "name": "stderr",
     "output_type": "stream",
     "text": [
      "Angle: 110 - Shape type: 1: 100%|██████████| 500/500 [00:01<00:00, 276.85it/s]\n"
     ]
    },
    {
     "name": "stdout",
     "output_type": "stream",
     "text": [
      "Accuracy: 0.028757142857142853\n"
     ]
    },
    {
     "name": "stderr",
     "output_type": "stream",
     "text": [
      "Angle: 110 - Shape type: 2: 100%|██████████| 500/500 [00:00<00:00, 3175.80it/s]\n"
     ]
    },
    {
     "name": "stdout",
     "output_type": "stream",
     "text": [
      "No matches found.\n"
     ]
    },
    {
     "name": "stderr",
     "output_type": "stream",
     "text": [
      "Angle: 110 - Shape type: 3: 100%|██████████| 500/500 [00:01<00:00, 284.71it/s]\n"
     ]
    },
    {
     "name": "stdout",
     "output_type": "stream",
     "text": [
      "Accuracy: 0.06012024048096192\n"
     ]
    },
    {
     "name": "stderr",
     "output_type": "stream",
     "text": [
      "Angle: 110 - Shape type: 4: 100%|██████████| 500/500 [00:01<00:00, 265.99it/s]\n"
     ]
    },
    {
     "name": "stdout",
     "output_type": "stream",
     "text": [
      "Accuracy: 0.0\n"
     ]
    },
    {
     "name": "stderr",
     "output_type": "stream",
     "text": [
      "Angle: 110 - Shape type: 5: 100%|██████████| 500/500 [00:01<00:00, 273.68it/s]\n"
     ]
    },
    {
     "name": "stdout",
     "output_type": "stream",
     "text": [
      "Accuracy: 0.028171390013495275\n"
     ]
    },
    {
     "name": "stderr",
     "output_type": "stream",
     "text": [
      "Angle: 110 - Shape type: 6: 100%|██████████| 500/500 [00:01<00:00, 269.60it/s]\n"
     ]
    },
    {
     "name": "stdout",
     "output_type": "stream",
     "text": [
      "Accuracy: 0.028699999999999996\n"
     ]
    },
    {
     "name": "stderr",
     "output_type": "stream",
     "text": [
      "Angle: 110 - Shape type: 7: 100%|██████████| 500/500 [00:01<00:00, 412.63it/s]\n"
     ]
    },
    {
     "name": "stdout",
     "output_type": "stream",
     "text": [
      "Accuracy: 0.14803625377643503\n"
     ]
    },
    {
     "name": "stderr",
     "output_type": "stream",
     "text": [
      "Angle: 120 - Shape type: 0: 100%|██████████| 500/500 [00:01<00:00, 276.52it/s]\n"
     ]
    },
    {
     "name": "stdout",
     "output_type": "stream",
     "text": [
      "Accuracy: 0.0\n"
     ]
    },
    {
     "name": "stderr",
     "output_type": "stream",
     "text": [
      "Angle: 120 - Shape type: 1: 100%|██████████| 500/500 [00:00<00:00, -507.99it/s]\n"
     ]
    },
    {
     "name": "stdout",
     "output_type": "stream",
     "text": [
      "Accuracy: 0.029457142857142855\n"
     ]
    },
    {
     "name": "stderr",
     "output_type": "stream",
     "text": [
      "Angle: 120 - Shape type: 2: 100%|██████████| 500/500 [00:00<00:00, 3227.61it/s]\n"
     ]
    },
    {
     "name": "stdout",
     "output_type": "stream",
     "text": [
      "No matches found.\n"
     ]
    },
    {
     "name": "stderr",
     "output_type": "stream",
     "text": [
      "Angle: 120 - Shape type: 3: 100%|██████████| 500/500 [00:01<00:00, 276.36it/s]\n"
     ]
    },
    {
     "name": "stdout",
     "output_type": "stream",
     "text": [
      "Accuracy: 0.058\n"
     ]
    },
    {
     "name": "stderr",
     "output_type": "stream",
     "text": [
      "Angle: 120 - Shape type: 4: 100%|██████████| 500/500 [00:01<00:00, 268.88it/s]\n"
     ]
    },
    {
     "name": "stdout",
     "output_type": "stream",
     "text": [
      "Accuracy: 0.0\n"
     ]
    },
    {
     "name": "stderr",
     "output_type": "stream",
     "text": [
      "Angle: 120 - Shape type: 5: 100%|██████████| 500/500 [00:01<00:00, 271.91it/s]\n"
     ]
    },
    {
     "name": "stdout",
     "output_type": "stream",
     "text": [
      "Accuracy: 0.022357723577235773\n"
     ]
    },
    {
     "name": "stderr",
     "output_type": "stream",
     "text": [
      "Angle: 120 - Shape type: 6: 100%|██████████| 500/500 [00:01<00:00, 258.58it/s]\n"
     ]
    },
    {
     "name": "stdout",
     "output_type": "stream",
     "text": [
      "Accuracy: 0.0294\n"
     ]
    },
    {
     "name": "stderr",
     "output_type": "stream",
     "text": [
      "Angle: 120 - Shape type: 7: 100%|██████████| 500/500 [00:01<00:00, 306.79it/s]\n"
     ]
    },
    {
     "name": "stdout",
     "output_type": "stream",
     "text": [
      "Accuracy: 0.15654952076677317\n"
     ]
    },
    {
     "name": "stderr",
     "output_type": "stream",
     "text": [
      "Angle: 130 - Shape type: 0: 100%|██████████| 500/500 [00:02<00:00, 236.65it/s]\n"
     ]
    },
    {
     "name": "stdout",
     "output_type": "stream",
     "text": [
      "Accuracy: 0.0\n"
     ]
    },
    {
     "name": "stderr",
     "output_type": "stream",
     "text": [
      "Angle: 130 - Shape type: 1: 100%|██████████| 500/500 [00:01<00:00, 276.98it/s]\n"
     ]
    },
    {
     "name": "stdout",
     "output_type": "stream",
     "text": [
      "Accuracy: 0.026033333333333332\n"
     ]
    },
    {
     "name": "stderr",
     "output_type": "stream",
     "text": [
      "Angle: 130 - Shape type: 2: 100%|██████████| 500/500 [00:00<00:00, 3127.62it/s]\n"
     ]
    },
    {
     "name": "stdout",
     "output_type": "stream",
     "text": [
      "No matches found.\n"
     ]
    },
    {
     "name": "stderr",
     "output_type": "stream",
     "text": [
      "Angle: 130 - Shape type: 3: 100%|██████████| 500/500 [00:01<00:00, 283.85it/s]\n"
     ]
    },
    {
     "name": "stdout",
     "output_type": "stream",
     "text": [
      "Accuracy: 0.056112224448897796\n"
     ]
    },
    {
     "name": "stderr",
     "output_type": "stream",
     "text": [
      "Angle: 130 - Shape type: 4: 100%|██████████| 500/500 [00:01<00:00, 267.20it/s]\n"
     ]
    },
    {
     "name": "stdout",
     "output_type": "stream",
     "text": [
      "Accuracy: 0.0\n"
     ]
    },
    {
     "name": "stderr",
     "output_type": "stream",
     "text": [
      "Angle: 130 - Shape type: 5: 100%|██████████| 500/500 [00:01<00:00, 287.62it/s]\n"
     ]
    },
    {
     "name": "stdout",
     "output_type": "stream",
     "text": [
      "Accuracy: 0.01417004048582996\n"
     ]
    },
    {
     "name": "stderr",
     "output_type": "stream",
     "text": [
      "Angle: 130 - Shape type: 6: 100%|██████████| 500/500 [00:01<00:00, 287.07it/s]\n"
     ]
    },
    {
     "name": "stdout",
     "output_type": "stream",
     "text": [
      "Accuracy: 0.038799999999999994\n"
     ]
    },
    {
     "name": "stderr",
     "output_type": "stream",
     "text": [
      "Angle: 130 - Shape type: 7: 100%|██████████| 500/500 [00:01<00:00, 433.43it/s]\n"
     ]
    },
    {
     "name": "stdout",
     "output_type": "stream",
     "text": [
      "Accuracy: 0.1513157894736842\n"
     ]
    },
    {
     "name": "stderr",
     "output_type": "stream",
     "text": [
      "Angle: 140 - Shape type: 0: 100%|██████████| 500/500 [00:01<00:00, 274.84it/s]\n"
     ]
    },
    {
     "name": "stdout",
     "output_type": "stream",
     "text": [
      "Accuracy: 0.00045874125874125876\n"
     ]
    },
    {
     "name": "stderr",
     "output_type": "stream",
     "text": [
      "Angle: 140 - Shape type: 1: 100%|██████████| 500/500 [00:01<00:00, 302.77it/s]\n"
     ]
    },
    {
     "name": "stdout",
     "output_type": "stream",
     "text": [
      "Accuracy: 0.015957142857142857\n"
     ]
    },
    {
     "name": "stderr",
     "output_type": "stream",
     "text": [
      "Angle: 140 - Shape type: 2: 100%|██████████| 500/500 [00:00<00:00, 3257.66it/s]\n"
     ]
    },
    {
     "name": "stdout",
     "output_type": "stream",
     "text": [
      "No matches found.\n"
     ]
    },
    {
     "name": "stderr",
     "output_type": "stream",
     "text": [
      "Angle: 140 - Shape type: 3: 100%|██████████| 500/500 [00:01<00:00, 308.87it/s]\n"
     ]
    },
    {
     "name": "stdout",
     "output_type": "stream",
     "text": [
      "Accuracy: 0.06012024048096192\n"
     ]
    },
    {
     "name": "stderr",
     "output_type": "stream",
     "text": [
      "Angle: 140 - Shape type: 4: 100%|██████████| 500/500 [00:01<00:00, 292.00it/s]\n"
     ]
    },
    {
     "name": "stdout",
     "output_type": "stream",
     "text": [
      "Accuracy: 0.0\n"
     ]
    },
    {
     "name": "stderr",
     "output_type": "stream",
     "text": [
      "Angle: 140 - Shape type: 5: 100%|██████████| 500/500 [00:01<00:00, 291.46it/s]\n"
     ]
    },
    {
     "name": "stdout",
     "output_type": "stream",
     "text": [
      "Accuracy: 0.006072874493927126\n"
     ]
    },
    {
     "name": "stderr",
     "output_type": "stream",
     "text": [
      "Angle: 140 - Shape type: 6: 100%|██████████| 500/500 [-1:59:59<00:00, -476.93it/s]\n"
     ]
    },
    {
     "name": "stdout",
     "output_type": "stream",
     "text": [
      "Accuracy: 0.03073333333333333\n"
     ]
    },
    {
     "name": "stderr",
     "output_type": "stream",
     "text": [
      "Angle: 140 - Shape type: 7: 100%|██████████| 500/500 [00:01<00:00, 392.96it/s]\n"
     ]
    },
    {
     "name": "stdout",
     "output_type": "stream",
     "text": [
      "Accuracy: 0.15666666666666668\n"
     ]
    },
    {
     "name": "stderr",
     "output_type": "stream",
     "text": [
      "Angle: 150 - Shape type: 0: 100%|██████████| 500/500 [00:01<00:00, 285.20it/s]\n"
     ]
    },
    {
     "name": "stdout",
     "output_type": "stream",
     "text": [
      "Accuracy: 0.003244412877737056\n"
     ]
    },
    {
     "name": "stderr",
     "output_type": "stream",
     "text": [
      "Angle: 150 - Shape type: 1: 100%|██████████| 500/500 [00:01<00:00, 301.88it/s]\n"
     ]
    },
    {
     "name": "stdout",
     "output_type": "stream",
     "text": [
      "Accuracy: 0.008333333333333331\n"
     ]
    },
    {
     "name": "stderr",
     "output_type": "stream",
     "text": [
      "Angle: 150 - Shape type: 2: 100%|██████████| 500/500 [00:00<00:00, 3203.86it/s]\n"
     ]
    },
    {
     "name": "stdout",
     "output_type": "stream",
     "text": [
      "No matches found.\n"
     ]
    },
    {
     "name": "stderr",
     "output_type": "stream",
     "text": [
      "Angle: 150 - Shape type: 3: 100%|██████████| 500/500 [00:01<00:00, 298.49it/s]\n"
     ]
    },
    {
     "name": "stdout",
     "output_type": "stream",
     "text": [
      "Accuracy: 0.052104208416833664\n"
     ]
    },
    {
     "name": "stderr",
     "output_type": "stream",
     "text": [
      "Angle: 150 - Shape type: 4: 100%|██████████| 500/500 [00:01<00:00, 285.95it/s]\n"
     ]
    },
    {
     "name": "stdout",
     "output_type": "stream",
     "text": [
      "Accuracy: 0.00015384615384615385\n"
     ]
    },
    {
     "name": "stderr",
     "output_type": "stream",
     "text": [
      "Angle: 150 - Shape type: 5: 100%|██████████| 500/500 [00:01<00:00, 287.48it/s]\n"
     ]
    },
    {
     "name": "stdout",
     "output_type": "stream",
     "text": [
      "Accuracy: 0.004527162977867203\n"
     ]
    },
    {
     "name": "stderr",
     "output_type": "stream",
     "text": [
      "Angle: 150 - Shape type: 6: 100%|██████████| 500/500 [00:01<00:00, 291.70it/s]\n"
     ]
    },
    {
     "name": "stdout",
     "output_type": "stream",
     "text": [
      "Accuracy: 0.021666666666666664\n"
     ]
    },
    {
     "name": "stderr",
     "output_type": "stream",
     "text": [
      "Angle: 150 - Shape type: 7: 100%|██████████| 500/500 [00:01<00:00, 444.66it/s]\n"
     ]
    },
    {
     "name": "stdout",
     "output_type": "stream",
     "text": [
      "Accuracy: 0.1461794019933555\n"
     ]
    },
    {
     "name": "stderr",
     "output_type": "stream",
     "text": [
      "Angle: 160 - Shape type: 0: 100%|██████████| 500/500 [00:01<00:00, 287.55it/s]\n"
     ]
    },
    {
     "name": "stdout",
     "output_type": "stream",
     "text": [
      "Accuracy: 0.011327891059562736\n"
     ]
    },
    {
     "name": "stderr",
     "output_type": "stream",
     "text": [
      "Angle: 160 - Shape type: 1: 100%|██████████| 500/500 [00:01<00:00, 292.76it/s]\n"
     ]
    },
    {
     "name": "stdout",
     "output_type": "stream",
     "text": [
      "Accuracy: 0.006857142857142856\n"
     ]
    },
    {
     "name": "stderr",
     "output_type": "stream",
     "text": [
      "Angle: 160 - Shape type: 2: 100%|██████████| 500/500 [00:00<00:00, 2951.08it/s]\n"
     ]
    },
    {
     "name": "stdout",
     "output_type": "stream",
     "text": [
      "No matches found.\n"
     ]
    },
    {
     "name": "stderr",
     "output_type": "stream",
     "text": [
      "Angle: 160 - Shape type: 3: 100%|██████████| 500/500 [00:01<00:00, 285.29it/s]\n"
     ]
    },
    {
     "name": "stdout",
     "output_type": "stream",
     "text": [
      "Accuracy: 0.036072144288577156\n"
     ]
    },
    {
     "name": "stderr",
     "output_type": "stream",
     "text": [
      "Angle: 160 - Shape type: 4: 100%|██████████| 500/500 [00:01<00:00, 277.83it/s]\n"
     ]
    },
    {
     "name": "stdout",
     "output_type": "stream",
     "text": [
      "Accuracy: 0.00015384615384615385\n"
     ]
    },
    {
     "name": "stderr",
     "output_type": "stream",
     "text": [
      "Angle: 160 - Shape type: 5: 100%|██████████| 500/500 [00:01<00:00, 299.48it/s]\n"
     ]
    },
    {
     "name": "stdout",
     "output_type": "stream",
     "text": [
      "Accuracy: 0.004\n"
     ]
    },
    {
     "name": "stderr",
     "output_type": "stream",
     "text": [
      "Angle: 160 - Shape type: 6: 100%|██████████| 500/500 [00:01<00:00, 295.55it/s]\n"
     ]
    },
    {
     "name": "stdout",
     "output_type": "stream",
     "text": [
      "Accuracy: 0.022600000000000002\n"
     ]
    },
    {
     "name": "stderr",
     "output_type": "stream",
     "text": [
      "Angle: 160 - Shape type: 7: 100%|██████████| 500/500 [00:01<00:00, 470.56it/s]\n"
     ]
    },
    {
     "name": "stdout",
     "output_type": "stream",
     "text": [
      "Accuracy: 0.13268608414239483\n"
     ]
    },
    {
     "name": "stderr",
     "output_type": "stream",
     "text": [
      "Angle: 170 - Shape type: 0: 100%|██████████| 500/500 [00:01<00:00, 295.09it/s]\n"
     ]
    },
    {
     "name": "stdout",
     "output_type": "stream",
     "text": [
      "Accuracy: 0.016939666487157817\n"
     ]
    },
    {
     "name": "stderr",
     "output_type": "stream",
     "text": [
      "Angle: 170 - Shape type: 1: 100%|██████████| 500/500 [00:01<00:00, 301.60it/s]\n"
     ]
    },
    {
     "name": "stdout",
     "output_type": "stream",
     "text": [
      "Accuracy: 0.005142857142857143\n"
     ]
    },
    {
     "name": "stderr",
     "output_type": "stream",
     "text": [
      "Angle: 170 - Shape type: 2: 100%|██████████| 500/500 [00:00<00:00, 3096.70it/s]\n"
     ]
    },
    {
     "name": "stdout",
     "output_type": "stream",
     "text": [
      "No matches found.\n"
     ]
    },
    {
     "name": "stderr",
     "output_type": "stream",
     "text": [
      "Angle: 170 - Shape type: 3: 100%|██████████| 500/500 [00:01<00:00, 299.43it/s]\n"
     ]
    },
    {
     "name": "stdout",
     "output_type": "stream",
     "text": [
      "Accuracy: 0.014366666666666666\n"
     ]
    },
    {
     "name": "stderr",
     "output_type": "stream",
     "text": [
      "Angle: 170 - Shape type: 4: 100%|██████████| 500/500 [00:00<00:00, -567.75it/s]\n"
     ]
    },
    {
     "name": "stdout",
     "output_type": "stream",
     "text": [
      "Accuracy: 0.0003771858122901767\n"
     ]
    },
    {
     "name": "stderr",
     "output_type": "stream",
     "text": [
      "Angle: 170 - Shape type: 5: 100%|██████████| 500/500 [00:01<00:00, 299.09it/s]\n"
     ]
    },
    {
     "name": "stdout",
     "output_type": "stream",
     "text": [
      "Accuracy: 0.0005\n"
     ]
    },
    {
     "name": "stderr",
     "output_type": "stream",
     "text": [
      "Angle: 170 - Shape type: 6: 100%|██████████| 500/500 [00:01<00:00, 292.01it/s]\n"
     ]
    },
    {
     "name": "stdout",
     "output_type": "stream",
     "text": [
      "Accuracy: 0.02393333333333333\n"
     ]
    },
    {
     "name": "stderr",
     "output_type": "stream",
     "text": [
      "Angle: 170 - Shape type: 7: 100%|██████████| 500/500 [00:01<00:00, 420.01it/s]\n"
     ]
    },
    {
     "name": "stdout",
     "output_type": "stream",
     "text": [
      "Accuracy: 0.11212121212121212\n"
     ]
    },
    {
     "name": "stderr",
     "output_type": "stream",
     "text": [
      "Angle: 180 - Shape type: 0: 100%|██████████| 500/500 [00:01<00:00, 275.46it/s]\n"
     ]
    },
    {
     "name": "stdout",
     "output_type": "stream",
     "text": [
      "Accuracy: 0.020916055728323273\n"
     ]
    },
    {
     "name": "stderr",
     "output_type": "stream",
     "text": [
      "Angle: 180 - Shape type: 1: 100%|██████████| 500/500 [00:02<00:00, 212.77it/s]\n"
     ]
    },
    {
     "name": "stdout",
     "output_type": "stream",
     "text": [
      "Accuracy: 0.0028571428571428567\n"
     ]
    },
    {
     "name": "stderr",
     "output_type": "stream",
     "text": [
      "Angle: 180 - Shape type: 2: 100%|██████████| 500/500 [00:00<00:00, 2815.48it/s]\n"
     ]
    },
    {
     "name": "stdout",
     "output_type": "stream",
     "text": [
      "No matches found.\n"
     ]
    },
    {
     "name": "stderr",
     "output_type": "stream",
     "text": [
      "Angle: 180 - Shape type: 3: 100%|██████████| 500/500 [00:02<00:00, 236.94it/s]\n"
     ]
    },
    {
     "name": "stdout",
     "output_type": "stream",
     "text": [
      "Accuracy: 0.0003333333333333333\n"
     ]
    },
    {
     "name": "stderr",
     "output_type": "stream",
     "text": [
      "Angle: 180 - Shape type: 4: 100%|██████████| 500/500 [00:02<00:00, 248.65it/s]\n"
     ]
    },
    {
     "name": "stdout",
     "output_type": "stream",
     "text": [
      "Accuracy: 0.0004986043880879723\n"
     ]
    },
    {
     "name": "stderr",
     "output_type": "stream",
     "text": [
      "Angle: 180 - Shape type: 5: 100%|██████████| 500/500 [00:01<00:00, 266.91it/s]\n"
     ]
    },
    {
     "name": "stdout",
     "output_type": "stream",
     "text": [
      "Accuracy: 0.0005\n"
     ]
    },
    {
     "name": "stderr",
     "output_type": "stream",
     "text": [
      "Angle: 180 - Shape type: 6: 100%|██████████| 500/500 [00:01<00:00, 256.56it/s]\n"
     ]
    },
    {
     "name": "stdout",
     "output_type": "stream",
     "text": [
      "Accuracy: 0.029433333333333332\n"
     ]
    },
    {
     "name": "stderr",
     "output_type": "stream",
     "text": [
      "Angle: 180 - Shape type: 7: 100%|██████████| 500/500 [00:01<00:00, 354.59it/s]\n"
     ]
    },
    {
     "name": "stdout",
     "output_type": "stream",
     "text": [
      "Accuracy: 0.112\n"
     ]
    },
    {
     "name": "stderr",
     "output_type": "stream",
     "text": [
      "Angle: 190 - Shape type: 0: 100%|██████████| 500/500 [00:01<00:00, 259.22it/s]\n"
     ]
    },
    {
     "name": "stdout",
     "output_type": "stream",
     "text": [
      "Accuracy: 0.016461281877413095\n"
     ]
    },
    {
     "name": "stderr",
     "output_type": "stream",
     "text": [
      "Angle: 190 - Shape type: 1: 100%|██████████| 500/500 [00:01<00:00, 293.15it/s]\n"
     ]
    },
    {
     "name": "stdout",
     "output_type": "stream",
     "text": [
      "Accuracy: 0.003428571428571428\n"
     ]
    },
    {
     "name": "stderr",
     "output_type": "stream",
     "text": [
      "Angle: 190 - Shape type: 2: 100%|██████████| 500/500 [00:00<00:00, 3268.03it/s]\n"
     ]
    },
    {
     "name": "stdout",
     "output_type": "stream",
     "text": [
      "No matches found.\n"
     ]
    },
    {
     "name": "stderr",
     "output_type": "stream",
     "text": [
      "Angle: 190 - Shape type: 3: 100%|██████████| 500/500 [00:01<00:00, 297.20it/s]\n"
     ]
    },
    {
     "name": "stdout",
     "output_type": "stream",
     "text": [
      "Accuracy: 0.022404040404040405\n"
     ]
    },
    {
     "name": "stderr",
     "output_type": "stream",
     "text": [
      "Angle: 190 - Shape type: 4: 100%|██████████| 500/500 [00:01<00:00, 286.36it/s]\n"
     ]
    },
    {
     "name": "stdout",
     "output_type": "stream",
     "text": [
      "Accuracy: 0.00031266968325791857\n"
     ]
    },
    {
     "name": "stderr",
     "output_type": "stream",
     "text": [
      "Angle: 190 - Shape type: 5: 100%|██████████| 500/500 [00:01<00:00, 310.23it/s]\n"
     ]
    },
    {
     "name": "stdout",
     "output_type": "stream",
     "text": [
      "Accuracy: 0.0005\n"
     ]
    },
    {
     "name": "stderr",
     "output_type": "stream",
     "text": [
      "Angle: 190 - Shape type: 6: 100%|██████████| 500/500 [00:01<00:00, 304.75it/s]\n"
     ]
    },
    {
     "name": "stdout",
     "output_type": "stream",
     "text": [
      "Accuracy: 0.02296666666666667\n"
     ]
    },
    {
     "name": "stderr",
     "output_type": "stream",
     "text": [
      "Angle: 190 - Shape type: 7: 100%|██████████| 500/500 [00:01<00:00, 358.20it/s]\n"
     ]
    },
    {
     "name": "stdout",
     "output_type": "stream",
     "text": [
      "Accuracy: 0.11830985915492957\n"
     ]
    },
    {
     "name": "stderr",
     "output_type": "stream",
     "text": [
      "Angle: 200 - Shape type: 0: 100%|██████████| 500/500 [00:00<00:00, -969.31it/s]\n"
     ]
    },
    {
     "name": "stdout",
     "output_type": "stream",
     "text": [
      "Accuracy: 0.010731671793125298\n"
     ]
    },
    {
     "name": "stderr",
     "output_type": "stream",
     "text": [
      "Angle: 200 - Shape type: 1: 100%|██████████| 500/500 [00:02<00:00, 238.84it/s]\n"
     ]
    },
    {
     "name": "stdout",
     "output_type": "stream",
     "text": [
      "Accuracy: 0.004571428571428571\n"
     ]
    },
    {
     "name": "stderr",
     "output_type": "stream",
     "text": [
      "Angle: 200 - Shape type: 2: 100%|██████████| 500/500 [00:00<00:00, 2790.16it/s]\n"
     ]
    },
    {
     "name": "stdout",
     "output_type": "stream",
     "text": [
      "No matches found.\n"
     ]
    },
    {
     "name": "stderr",
     "output_type": "stream",
     "text": [
      "Angle: 200 - Shape type: 3: 100%|██████████| 500/500 [00:02<00:00, 207.89it/s]\n"
     ]
    },
    {
     "name": "stdout",
     "output_type": "stream",
     "text": [
      "Accuracy: 0.034290803829881984\n"
     ]
    },
    {
     "name": "stderr",
     "output_type": "stream",
     "text": [
      "Angle: 200 - Shape type: 4: 100%|██████████| 500/500 [00:02<00:00, 225.63it/s]\n"
     ]
    },
    {
     "name": "stdout",
     "output_type": "stream",
     "text": [
      "Accuracy: 0.00025918131116489527\n"
     ]
    },
    {
     "name": "stderr",
     "output_type": "stream",
     "text": [
      "Angle: 200 - Shape type: 5: 100%|██████████| 500/500 [00:02<00:00, 243.91it/s]\n"
     ]
    },
    {
     "name": "stdout",
     "output_type": "stream",
     "text": [
      "Accuracy: 0.0045\n"
     ]
    },
    {
     "name": "stderr",
     "output_type": "stream",
     "text": [
      "Angle: 200 - Shape type: 6: 100%|██████████| 500/500 [00:01<00:00, 288.66it/s]\n"
     ]
    },
    {
     "name": "stdout",
     "output_type": "stream",
     "text": [
      "Accuracy: 0.019333333333333334\n"
     ]
    },
    {
     "name": "stderr",
     "output_type": "stream",
     "text": [
      "Angle: 200 - Shape type: 7: 100%|██████████| 500/500 [00:01<00:00, 403.39it/s]\n"
     ]
    },
    {
     "name": "stdout",
     "output_type": "stream",
     "text": [
      "Accuracy: 0.13529411764705881\n"
     ]
    },
    {
     "name": "stderr",
     "output_type": "stream",
     "text": [
      "Angle: 210 - Shape type: 0: 100%|██████████| 500/500 [00:01<00:00, 274.24it/s]\n"
     ]
    },
    {
     "name": "stdout",
     "output_type": "stream",
     "text": [
      "Accuracy: 0.004752330566813186\n"
     ]
    },
    {
     "name": "stderr",
     "output_type": "stream",
     "text": [
      "Angle: 210 - Shape type: 1: 100%|██████████| 500/500 [00:01<00:00, 278.44it/s]\n"
     ]
    },
    {
     "name": "stdout",
     "output_type": "stream",
     "text": [
      "Accuracy: 0.008204761904761904\n"
     ]
    },
    {
     "name": "stderr",
     "output_type": "stream",
     "text": [
      "Angle: 210 - Shape type: 2: 100%|██████████| 500/500 [00:00<00:00, 3078.23it/s]\n"
     ]
    },
    {
     "name": "stdout",
     "output_type": "stream",
     "text": [
      "No matches found.\n"
     ]
    },
    {
     "name": "stderr",
     "output_type": "stream",
     "text": [
      "Angle: 210 - Shape type: 3: 100%|██████████| 500/500 [00:01<00:00, 260.59it/s]\n"
     ]
    },
    {
     "name": "stdout",
     "output_type": "stream",
     "text": [
      "Accuracy: 0.04634268537074148\n"
     ]
    },
    {
     "name": "stderr",
     "output_type": "stream",
     "text": [
      "Angle: 210 - Shape type: 4: 100%|██████████| 500/500 [00:01<00:00, 257.14it/s]\n"
     ]
    },
    {
     "name": "stdout",
     "output_type": "stream",
     "text": [
      "Accuracy: 0.0\n"
     ]
    },
    {
     "name": "stderr",
     "output_type": "stream",
     "text": [
      "Angle: 210 - Shape type: 5: 100%|██████████| 500/500 [00:01<00:00, 281.37it/s]\n"
     ]
    },
    {
     "name": "stdout",
     "output_type": "stream",
     "text": [
      "Accuracy: 0.01056338028169014\n"
     ]
    },
    {
     "name": "stderr",
     "output_type": "stream",
     "text": [
      "Angle: 210 - Shape type: 6: 100%|██████████| 500/500 [00:01<00:00, 293.77it/s]\n"
     ]
    },
    {
     "name": "stdout",
     "output_type": "stream",
     "text": [
      "Accuracy: 0.021066666666666668\n"
     ]
    },
    {
     "name": "stderr",
     "output_type": "stream",
     "text": [
      "Angle: 210 - Shape type: 7: 100%|██████████| 500/500 [00:01<00:00, 421.50it/s]\n"
     ]
    },
    {
     "name": "stdout",
     "output_type": "stream",
     "text": [
      "Accuracy: 0.14759036144578314\n"
     ]
    },
    {
     "name": "stderr",
     "output_type": "stream",
     "text": [
      "Angle: 220 - Shape type: 0: 100%|██████████| 500/500 [00:01<00:00, 276.08it/s]\n"
     ]
    },
    {
     "name": "stdout",
     "output_type": "stream",
     "text": [
      "Accuracy: 0.0014456866804692893\n"
     ]
    },
    {
     "name": "stderr",
     "output_type": "stream",
     "text": [
      "Angle: 220 - Shape type: 1: 100%|██████████| 500/500 [00:01<00:00, 285.74it/s]\n"
     ]
    },
    {
     "name": "stdout",
     "output_type": "stream",
     "text": [
      "Accuracy: 0.019042857142857146\n"
     ]
    },
    {
     "name": "stderr",
     "output_type": "stream",
     "text": [
      "Angle: 220 - Shape type: 2: 100%|██████████| 500/500 [00:00<00:00, 3167.38it/s]\n"
     ]
    },
    {
     "name": "stdout",
     "output_type": "stream",
     "text": [
      "No matches found.\n"
     ]
    },
    {
     "name": "stderr",
     "output_type": "stream",
     "text": [
      "Angle: 220 - Shape type: 3: 100%|██████████| 500/500 [00:01<00:00, 288.58it/s]\n"
     ]
    },
    {
     "name": "stdout",
     "output_type": "stream",
     "text": [
      "Accuracy: 0.05235470941883767\n"
     ]
    },
    {
     "name": "stderr",
     "output_type": "stream",
     "text": [
      "Angle: 220 - Shape type: 4: 100%|██████████| 500/500 [00:01<00:00, 284.83it/s]\n"
     ]
    },
    {
     "name": "stdout",
     "output_type": "stream",
     "text": [
      "Accuracy: 0.0\n"
     ]
    },
    {
     "name": "stderr",
     "output_type": "stream",
     "text": [
      "Angle: 220 - Shape type: 5: 100%|██████████| 500/500 [-1:59:59<00:00, -439.32it/s]\n"
     ]
    },
    {
     "name": "stdout",
     "output_type": "stream",
     "text": [
      "Accuracy: 0.02620967741935484\n"
     ]
    },
    {
     "name": "stderr",
     "output_type": "stream",
     "text": [
      "Angle: 220 - Shape type: 6: 100%|██████████| 500/500 [00:01<00:00, 301.32it/s]\n"
     ]
    },
    {
     "name": "stdout",
     "output_type": "stream",
     "text": [
      "Accuracy: 0.025366666666666666\n"
     ]
    },
    {
     "name": "stderr",
     "output_type": "stream",
     "text": [
      "Angle: 220 - Shape type: 7: 100%|██████████| 500/500 [00:01<00:00, 415.75it/s]\n"
     ]
    },
    {
     "name": "stdout",
     "output_type": "stream",
     "text": [
      "Accuracy: 0.1519756838905775\n"
     ]
    },
    {
     "name": "stderr",
     "output_type": "stream",
     "text": [
      "Angle: 230 - Shape type: 0: 100%|██████████| 500/500 [00:01<00:00, 287.28it/s]\n"
     ]
    },
    {
     "name": "stdout",
     "output_type": "stream",
     "text": [
      "Accuracy: 0.0\n"
     ]
    },
    {
     "name": "stderr",
     "output_type": "stream",
     "text": [
      "Angle: 230 - Shape type: 1: 100%|██████████| 500/500 [00:01<00:00, 292.95it/s]\n"
     ]
    },
    {
     "name": "stdout",
     "output_type": "stream",
     "text": [
      "Accuracy: 0.031638095238095236\n"
     ]
    },
    {
     "name": "stderr",
     "output_type": "stream",
     "text": [
      "Angle: 230 - Shape type: 2: 100%|██████████| 500/500 [00:00<00:00, 3279.42it/s]\n"
     ]
    },
    {
     "name": "stdout",
     "output_type": "stream",
     "text": [
      "No matches found.\n"
     ]
    },
    {
     "name": "stderr",
     "output_type": "stream",
     "text": [
      "Angle: 230 - Shape type: 3: 100%|██████████| 500/500 [00:01<00:00, 298.91it/s]\n"
     ]
    },
    {
     "name": "stdout",
     "output_type": "stream",
     "text": [
      "Accuracy: 0.05410821643286573\n"
     ]
    },
    {
     "name": "stderr",
     "output_type": "stream",
     "text": [
      "Angle: 230 - Shape type: 4: 100%|██████████| 500/500 [00:01<00:00, 283.43it/s]\n"
     ]
    },
    {
     "name": "stdout",
     "output_type": "stream",
     "text": [
      "Accuracy: 0.0\n"
     ]
    },
    {
     "name": "stderr",
     "output_type": "stream",
     "text": [
      "Angle: 230 - Shape type: 5: 100%|██████████| 500/500 [00:01<00:00, 294.57it/s]\n"
     ]
    },
    {
     "name": "stdout",
     "output_type": "stream",
     "text": [
      "Accuracy: 0.02636916835699797\n"
     ]
    },
    {
     "name": "stderr",
     "output_type": "stream",
     "text": [
      "Angle: 230 - Shape type: 6: 100%|██████████| 500/500 [00:01<00:00, 289.02it/s]\n"
     ]
    },
    {
     "name": "stdout",
     "output_type": "stream",
     "text": [
      "Accuracy: 0.03453333333333333\n"
     ]
    },
    {
     "name": "stderr",
     "output_type": "stream",
     "text": [
      "Angle: 230 - Shape type: 7: 100%|██████████| 500/500 [00:01<00:00, 418.77it/s]\n"
     ]
    },
    {
     "name": "stdout",
     "output_type": "stream",
     "text": [
      "Accuracy: 0.14242424242424243\n"
     ]
    },
    {
     "name": "stderr",
     "output_type": "stream",
     "text": [
      "Angle: 240 - Shape type: 0: 100%|██████████| 500/500 [00:01<00:00, 277.62it/s]\n"
     ]
    },
    {
     "name": "stdout",
     "output_type": "stream",
     "text": [
      "Accuracy: 0.0\n"
     ]
    },
    {
     "name": "stderr",
     "output_type": "stream",
     "text": [
      "Angle: 240 - Shape type: 1: 100%|██████████| 500/500 [00:01<00:00, 290.48it/s]\n"
     ]
    },
    {
     "name": "stdout",
     "output_type": "stream",
     "text": [
      "Accuracy: 0.03431904761904762\n"
     ]
    },
    {
     "name": "stderr",
     "output_type": "stream",
     "text": [
      "Angle: 240 - Shape type: 2: 100%|██████████| 500/500 [00:00<00:00, 3151.19it/s]\n"
     ]
    },
    {
     "name": "stdout",
     "output_type": "stream",
     "text": [
      "No matches found.\n"
     ]
    },
    {
     "name": "stderr",
     "output_type": "stream",
     "text": [
      "Angle: 240 - Shape type: 3: 100%|██████████| 500/500 [00:01<00:00, 292.79it/s]\n"
     ]
    },
    {
     "name": "stdout",
     "output_type": "stream",
     "text": [
      "Accuracy: 0.05220883534136546\n"
     ]
    },
    {
     "name": "stderr",
     "output_type": "stream",
     "text": [
      "Angle: 240 - Shape type: 4: 100%|██████████| 500/500 [00:01<00:00, 277.87it/s]\n"
     ]
    },
    {
     "name": "stdout",
     "output_type": "stream",
     "text": [
      "Accuracy: 0.0\n"
     ]
    },
    {
     "name": "stderr",
     "output_type": "stream",
     "text": [
      "Angle: 240 - Shape type: 5: 100%|██████████| 500/500 [00:01<00:00, 289.59it/s]\n"
     ]
    },
    {
     "name": "stdout",
     "output_type": "stream",
     "text": [
      "Accuracy: 0.027100271002710025\n"
     ]
    },
    {
     "name": "stderr",
     "output_type": "stream",
     "text": [
      "Angle: 240 - Shape type: 6: 100%|██████████| 500/500 [00:01<00:00, 295.17it/s]\n"
     ]
    },
    {
     "name": "stdout",
     "output_type": "stream",
     "text": [
      "Accuracy: 0.03786666666666666\n"
     ]
    },
    {
     "name": "stderr",
     "output_type": "stream",
     "text": [
      "Angle: 240 - Shape type: 7: 100%|██████████| 500/500 [00:01<00:00, 423.94it/s]\n"
     ]
    },
    {
     "name": "stdout",
     "output_type": "stream",
     "text": [
      "Accuracy: 0.14912280701754385\n"
     ]
    },
    {
     "name": "stderr",
     "output_type": "stream",
     "text": [
      "Angle: 250 - Shape type: 0: 100%|██████████| 500/500 [00:01<00:00, 294.24it/s]\n"
     ]
    },
    {
     "name": "stdout",
     "output_type": "stream",
     "text": [
      "Accuracy: 0.0\n"
     ]
    },
    {
     "name": "stderr",
     "output_type": "stream",
     "text": [
      "Angle: 250 - Shape type: 1: 100%|██████████| 500/500 [00:01<00:00, 299.06it/s]\n"
     ]
    },
    {
     "name": "stdout",
     "output_type": "stream",
     "text": [
      "Accuracy: 0.030833333333333334\n"
     ]
    },
    {
     "name": "stderr",
     "output_type": "stream",
     "text": [
      "Angle: 250 - Shape type: 2: 100%|██████████| 500/500 [00:00<00:00, 3186.75it/s]\n"
     ]
    },
    {
     "name": "stdout",
     "output_type": "stream",
     "text": [
      "No matches found.\n"
     ]
    },
    {
     "name": "stderr",
     "output_type": "stream",
     "text": [
      "Angle: 250 - Shape type: 3: 100%|██████████| 500/500 [-1:59:59<00:00, -455.35it/s]\n"
     ]
    },
    {
     "name": "stdout",
     "output_type": "stream",
     "text": [
      "Accuracy: 0.06639839034205232\n"
     ]
    },
    {
     "name": "stderr",
     "output_type": "stream",
     "text": [
      "Angle: 250 - Shape type: 4: 100%|██████████| 500/500 [00:01<00:00, 280.45it/s]\n"
     ]
    },
    {
     "name": "stdout",
     "output_type": "stream",
     "text": [
      "Accuracy: 0.0\n"
     ]
    },
    {
     "name": "stderr",
     "output_type": "stream",
     "text": [
      "Angle: 250 - Shape type: 5: 100%|██████████| 500/500 [00:01<00:00, 300.25it/s]\n"
     ]
    },
    {
     "name": "stdout",
     "output_type": "stream",
     "text": [
      "Accuracy: 0.027439024390243903\n"
     ]
    },
    {
     "name": "stderr",
     "output_type": "stream",
     "text": [
      "Angle: 250 - Shape type: 6: 100%|██████████| 500/500 [00:01<00:00, 262.61it/s]\n"
     ]
    },
    {
     "name": "stdout",
     "output_type": "stream",
     "text": [
      "Accuracy: 0.03613333333333333\n"
     ]
    },
    {
     "name": "stderr",
     "output_type": "stream",
     "text": [
      "Angle: 250 - Shape type: 7: 100%|██████████| 500/500 [00:01<00:00, 341.31it/s]\n"
     ]
    },
    {
     "name": "stdout",
     "output_type": "stream",
     "text": [
      "Accuracy: 0.1440677966101695\n"
     ]
    },
    {
     "name": "stderr",
     "output_type": "stream",
     "text": [
      "Angle: 260 - Shape type: 0: 100%|██████████| 500/500 [00:01<00:00, 266.24it/s]\n"
     ]
    },
    {
     "name": "stdout",
     "output_type": "stream",
     "text": [
      "Accuracy: 0.0\n"
     ]
    },
    {
     "name": "stderr",
     "output_type": "stream",
     "text": [
      "Angle: 260 - Shape type: 1: 100%|██████████| 500/500 [00:01<00:00, 262.22it/s]\n"
     ]
    },
    {
     "name": "stdout",
     "output_type": "stream",
     "text": [
      "Accuracy: 0.02137142857142857\n"
     ]
    },
    {
     "name": "stderr",
     "output_type": "stream",
     "text": [
      "Angle: 260 - Shape type: 2: 100%|██████████| 500/500 [00:00<00:00, 2944.39it/s]\n"
     ]
    },
    {
     "name": "stdout",
     "output_type": "stream",
     "text": [
      "No matches found.\n"
     ]
    },
    {
     "name": "stderr",
     "output_type": "stream",
     "text": [
      "Angle: 260 - Shape type: 3: 100%|██████████| 500/500 [00:02<00:00, 229.96it/s]\n"
     ]
    },
    {
     "name": "stdout",
     "output_type": "stream",
     "text": [
      "Accuracy: 0.07243460764587525\n"
     ]
    },
    {
     "name": "stderr",
     "output_type": "stream",
     "text": [
      "Angle: 260 - Shape type: 4: 100%|██████████| 500/500 [00:02<00:00, 223.40it/s]\n"
     ]
    },
    {
     "name": "stdout",
     "output_type": "stream",
     "text": [
      "Accuracy: 0.0\n"
     ]
    },
    {
     "name": "stderr",
     "output_type": "stream",
     "text": [
      "Angle: 260 - Shape type: 5: 100%|██████████| 500/500 [00:01<00:00, 251.41it/s]\n"
     ]
    },
    {
     "name": "stdout",
     "output_type": "stream",
     "text": [
      "Accuracy: 0.03188259109311741\n"
     ]
    },
    {
     "name": "stderr",
     "output_type": "stream",
     "text": [
      "Angle: 260 - Shape type: 6: 100%|██████████| 500/500 [00:01<00:00, 280.20it/s]\n"
     ]
    },
    {
     "name": "stdout",
     "output_type": "stream",
     "text": [
      "Accuracy: 0.0285\n"
     ]
    },
    {
     "name": "stderr",
     "output_type": "stream",
     "text": [
      "Angle: 260 - Shape type: 7: 100%|██████████| 500/500 [00:01<00:00, 361.84it/s]\n"
     ]
    },
    {
     "name": "stdout",
     "output_type": "stream",
     "text": [
      "Accuracy: 0.16809116809116809\n"
     ]
    },
    {
     "name": "stderr",
     "output_type": "stream",
     "text": [
      "Angle: 270 - Shape type: 0: 100%|██████████| 500/500 [00:02<00:00, 241.88it/s]\n"
     ]
    },
    {
     "name": "stdout",
     "output_type": "stream",
     "text": [
      "Accuracy: 0.00040404040404040404\n"
     ]
    },
    {
     "name": "stderr",
     "output_type": "stream",
     "text": [
      "Angle: 270 - Shape type: 1: 100%|██████████| 500/500 [00:02<00:00, 242.16it/s]\n"
     ]
    },
    {
     "name": "stdout",
     "output_type": "stream",
     "text": [
      "Accuracy: 0.010757142857142856\n"
     ]
    },
    {
     "name": "stderr",
     "output_type": "stream",
     "text": [
      "Angle: 270 - Shape type: 2: 100%|██████████| 500/500 [00:00<00:00, 2768.67it/s]\n"
     ]
    },
    {
     "name": "stdout",
     "output_type": "stream",
     "text": [
      "No matches found.\n"
     ]
    },
    {
     "name": "stderr",
     "output_type": "stream",
     "text": [
      "Angle: 270 - Shape type: 3: 100%|██████████| 500/500 [00:01<00:00, 275.18it/s]\n"
     ]
    },
    {
     "name": "stdout",
     "output_type": "stream",
     "text": [
      "Accuracy: 0.08433734939759036\n"
     ]
    },
    {
     "name": "stderr",
     "output_type": "stream",
     "text": [
      "Angle: 270 - Shape type: 4: 100%|██████████| 500/500 [00:01<00:00, 275.24it/s]\n"
     ]
    },
    {
     "name": "stdout",
     "output_type": "stream",
     "text": [
      "Accuracy: 0.0\n"
     ]
    },
    {
     "name": "stderr",
     "output_type": "stream",
     "text": [
      "Angle: 270 - Shape type: 5: 100%|██████████| 500/500 [00:01<00:00, 281.68it/s]\n"
     ]
    },
    {
     "name": "stdout",
     "output_type": "stream",
     "text": [
      "Accuracy: 0.039738430583501\n"
     ]
    },
    {
     "name": "stderr",
     "output_type": "stream",
     "text": [
      "Angle: 270 - Shape type: 6: 100%|██████████| 500/500 [00:01<00:00, 295.84it/s]\n"
     ]
    },
    {
     "name": "stdout",
     "output_type": "stream",
     "text": [
      "Accuracy: 0.030400000000000003\n"
     ]
    },
    {
     "name": "stderr",
     "output_type": "stream",
     "text": [
      "Angle: 270 - Shape type: 7: 100%|██████████| 500/500 [-1:59:59<00:00, -312.65it/s]\n"
     ]
    },
    {
     "name": "stdout",
     "output_type": "stream",
     "text": [
      "Accuracy: 0.18410852713178294\n"
     ]
    },
    {
     "name": "stderr",
     "output_type": "stream",
     "text": [
      "Angle: 280 - Shape type: 0: 100%|██████████| 500/500 [00:01<00:00, 285.41it/s]\n"
     ]
    },
    {
     "name": "stdout",
     "output_type": "stream",
     "text": [
      "Accuracy: 0.0\n"
     ]
    },
    {
     "name": "stderr",
     "output_type": "stream",
     "text": [
      "Angle: 280 - Shape type: 1: 100%|██████████| 500/500 [00:01<00:00, 301.15it/s]\n"
     ]
    },
    {
     "name": "stdout",
     "output_type": "stream",
     "text": [
      "Accuracy: 0.008857142857142857\n"
     ]
    },
    {
     "name": "stderr",
     "output_type": "stream",
     "text": [
      "Angle: 280 - Shape type: 2: 100%|██████████| 500/500 [00:00<00:00, 2864.11it/s]\n"
     ]
    },
    {
     "name": "stdout",
     "output_type": "stream",
     "text": [
      "No matches found.\n"
     ]
    },
    {
     "name": "stderr",
     "output_type": "stream",
     "text": [
      "Angle: 280 - Shape type: 3: 100%|██████████| 500/500 [00:01<00:00, 289.47it/s]\n"
     ]
    },
    {
     "name": "stdout",
     "output_type": "stream",
     "text": [
      "Accuracy: 0.07615230460921844\n"
     ]
    },
    {
     "name": "stderr",
     "output_type": "stream",
     "text": [
      "Angle: 280 - Shape type: 4: 100%|██████████| 500/500 [00:01<00:00, 274.47it/s]\n"
     ]
    },
    {
     "name": "stdout",
     "output_type": "stream",
     "text": [
      "Accuracy: 0.0\n"
     ]
    },
    {
     "name": "stderr",
     "output_type": "stream",
     "text": [
      "Angle: 280 - Shape type: 5: 100%|██████████| 500/500 [00:01<00:00, 288.06it/s]\n"
     ]
    },
    {
     "name": "stdout",
     "output_type": "stream",
     "text": [
      "Accuracy: 0.03955375253549696\n"
     ]
    },
    {
     "name": "stderr",
     "output_type": "stream",
     "text": [
      "Angle: 280 - Shape type: 6: 100%|██████████| 500/500 [00:01<00:00, 294.11it/s]\n"
     ]
    },
    {
     "name": "stdout",
     "output_type": "stream",
     "text": [
      "Accuracy: 0.030066666666666665\n"
     ]
    },
    {
     "name": "stderr",
     "output_type": "stream",
     "text": [
      "Angle: 280 - Shape type: 7: 100%|██████████| 500/500 [00:01<00:00, 414.85it/s]\n"
     ]
    },
    {
     "name": "stdout",
     "output_type": "stream",
     "text": [
      "Accuracy: 0.17846607669616518\n"
     ]
    },
    {
     "name": "stderr",
     "output_type": "stream",
     "text": [
      "Angle: 290 - Shape type: 0: 100%|██████████| 500/500 [00:01<00:00, 291.23it/s]\n"
     ]
    },
    {
     "name": "stdout",
     "output_type": "stream",
     "text": [
      "Accuracy: 0.0\n"
     ]
    },
    {
     "name": "stderr",
     "output_type": "stream",
     "text": [
      "Angle: 290 - Shape type: 1: 100%|██████████| 500/500 [00:01<00:00, 298.01it/s]\n"
     ]
    },
    {
     "name": "stdout",
     "output_type": "stream",
     "text": [
      "Accuracy: 0.012285714285714285\n"
     ]
    },
    {
     "name": "stderr",
     "output_type": "stream",
     "text": [
      "Angle: 290 - Shape type: 2: 100%|██████████| 500/500 [00:00<00:00, 3264.72it/s]\n"
     ]
    },
    {
     "name": "stdout",
     "output_type": "stream",
     "text": [
      "No matches found.\n"
     ]
    },
    {
     "name": "stderr",
     "output_type": "stream",
     "text": [
      "Angle: 290 - Shape type: 3: 100%|██████████| 500/500 [00:01<00:00, 278.85it/s]\n"
     ]
    },
    {
     "name": "stdout",
     "output_type": "stream",
     "text": [
      "Accuracy: 0.06012024048096192\n"
     ]
    },
    {
     "name": "stderr",
     "output_type": "stream",
     "text": [
      "Angle: 290 - Shape type: 4: 100%|██████████| 500/500 [00:01<00:00, 279.30it/s]\n"
     ]
    },
    {
     "name": "stdout",
     "output_type": "stream",
     "text": [
      "Accuracy: 0.00013333333333333334\n"
     ]
    },
    {
     "name": "stderr",
     "output_type": "stream",
     "text": [
      "Angle: 290 - Shape type: 5: 100%|██████████| 500/500 [00:01<00:00, 283.07it/s]\n"
     ]
    },
    {
     "name": "stdout",
     "output_type": "stream",
     "text": [
      "Accuracy: 0.04291497975708502\n"
     ]
    },
    {
     "name": "stderr",
     "output_type": "stream",
     "text": [
      "Angle: 290 - Shape type: 6: 100%|██████████| 500/500 [00:01<00:00, 293.15it/s]\n"
     ]
    },
    {
     "name": "stdout",
     "output_type": "stream",
     "text": [
      "Accuracy: 0.029033333333333335\n"
     ]
    },
    {
     "name": "stderr",
     "output_type": "stream",
     "text": [
      "Angle: 290 - Shape type: 7: 100%|██████████| 500/500 [00:01<00:00, 435.88it/s]\n"
     ]
    },
    {
     "name": "stdout",
     "output_type": "stream",
     "text": [
      "Accuracy: 0.14803625377643503\n"
     ]
    },
    {
     "name": "stderr",
     "output_type": "stream",
     "text": [
      "Angle: 300 - Shape type: 0: 100%|██████████| 500/500 [00:01<00:00, 282.75it/s]\n"
     ]
    },
    {
     "name": "stdout",
     "output_type": "stream",
     "text": [
      "Accuracy: 0.00029292929292929295\n"
     ]
    },
    {
     "name": "stderr",
     "output_type": "stream",
     "text": [
      "Angle: 300 - Shape type: 1: 100%|██████████| 500/500 [00:01<00:00, 293.62it/s]\n"
     ]
    },
    {
     "name": "stdout",
     "output_type": "stream",
     "text": [
      "Accuracy: 0.021590476190476188\n"
     ]
    },
    {
     "name": "stderr",
     "output_type": "stream",
     "text": [
      "Angle: 300 - Shape type: 2: 100%|██████████| 500/500 [00:00<00:00, 3261.63it/s]\n"
     ]
    },
    {
     "name": "stdout",
     "output_type": "stream",
     "text": [
      "No matches found.\n"
     ]
    },
    {
     "name": "stderr",
     "output_type": "stream",
     "text": [
      "Angle: 300 - Shape type: 3: 100%|██████████| 500/500 [00:01<00:00, 290.12it/s]\n"
     ]
    },
    {
     "name": "stdout",
     "output_type": "stream",
     "text": [
      "Accuracy: 0.08793809523809523\n"
     ]
    },
    {
     "name": "stderr",
     "output_type": "stream",
     "text": [
      "Angle: 300 - Shape type: 4: 100%|██████████| 500/500 [00:01<00:00, 284.10it/s]\n"
     ]
    },
    {
     "name": "stdout",
     "output_type": "stream",
     "text": [
      "Accuracy: 0.0005116687699929485\n"
     ]
    },
    {
     "name": "stderr",
     "output_type": "stream",
     "text": [
      "Angle: 300 - Shape type: 5: 100%|██████████| 500/500 [-1:59:59<00:00, -448.91it/s]\n"
     ]
    },
    {
     "name": "stdout",
     "output_type": "stream",
     "text": [
      "Accuracy: 0.06297425474254742\n"
     ]
    },
    {
     "name": "stderr",
     "output_type": "stream",
     "text": [
      "Angle: 300 - Shape type: 6: 100%|██████████| 500/500 [00:01<00:00, 298.12it/s]\n"
     ]
    },
    {
     "name": "stdout",
     "output_type": "stream",
     "text": [
      "Accuracy: 0.03936666666666667\n"
     ]
    },
    {
     "name": "stderr",
     "output_type": "stream",
     "text": [
      "Angle: 300 - Shape type: 7: 100%|██████████| 500/500 [00:01<00:00, 450.56it/s]\n"
     ]
    },
    {
     "name": "stdout",
     "output_type": "stream",
     "text": [
      "Accuracy: 0.15894568690095848\n"
     ]
    },
    {
     "name": "stderr",
     "output_type": "stream",
     "text": [
      "Angle: 310 - Shape type: 0: 100%|██████████| 500/500 [00:01<00:00, 267.95it/s]\n"
     ]
    },
    {
     "name": "stdout",
     "output_type": "stream",
     "text": [
      "Accuracy: 0.006220809506116584\n"
     ]
    },
    {
     "name": "stderr",
     "output_type": "stream",
     "text": [
      "Angle: 310 - Shape type: 1: 100%|██████████| 500/500 [00:01<00:00, 288.75it/s]\n"
     ]
    },
    {
     "name": "stdout",
     "output_type": "stream",
     "text": [
      "Accuracy: 0.05136666666666666\n"
     ]
    },
    {
     "name": "stderr",
     "output_type": "stream",
     "text": [
      "Angle: 310 - Shape type: 2: 100%|██████████| 500/500 [00:00<00:00, 2587.40it/s]\n"
     ]
    },
    {
     "name": "stdout",
     "output_type": "stream",
     "text": [
      "No matches found.\n"
     ]
    },
    {
     "name": "stderr",
     "output_type": "stream",
     "text": [
      "Angle: 310 - Shape type: 3: 100%|██████████| 500/500 [00:01<00:00, 251.41it/s]\n"
     ]
    },
    {
     "name": "stdout",
     "output_type": "stream",
     "text": [
      "Accuracy: 0.18630596746829214\n"
     ]
    },
    {
     "name": "stderr",
     "output_type": "stream",
     "text": [
      "Angle: 310 - Shape type: 4: 100%|██████████| 500/500 [00:02<00:00, 246.12it/s]\n"
     ]
    },
    {
     "name": "stdout",
     "output_type": "stream",
     "text": [
      "Accuracy: 0.006451460631144272\n"
     ]
    },
    {
     "name": "stderr",
     "output_type": "stream",
     "text": [
      "Angle: 310 - Shape type: 5: 100%|██████████| 500/500 [00:02<00:00, 248.15it/s]\n"
     ]
    },
    {
     "name": "stdout",
     "output_type": "stream",
     "text": [
      "Accuracy: 0.23869770580296895\n"
     ]
    },
    {
     "name": "stderr",
     "output_type": "stream",
     "text": [
      "Angle: 310 - Shape type: 6: 100%|██████████| 500/500 [00:01<00:00, 267.68it/s]\n"
     ]
    },
    {
     "name": "stdout",
     "output_type": "stream",
     "text": [
      "Accuracy: 0.11413333333333334\n"
     ]
    },
    {
     "name": "stderr",
     "output_type": "stream",
     "text": [
      "Angle: 310 - Shape type: 7: 100%|██████████| 500/500 [00:01<00:00, 434.03it/s]\n"
     ]
    },
    {
     "name": "stdout",
     "output_type": "stream",
     "text": [
      "Accuracy: 0.16557017543859648\n"
     ]
    },
    {
     "name": "stderr",
     "output_type": "stream",
     "text": [
      "Angle: 320 - Shape type: 0: 100%|██████████| 500/500 [00:01<00:00, 262.90it/s]\n"
     ]
    },
    {
     "name": "stdout",
     "output_type": "stream",
     "text": [
      "Accuracy: 0.06943800740526243\n"
     ]
    },
    {
     "name": "stderr",
     "output_type": "stream",
     "text": [
      "Angle: 320 - Shape type: 1: 100%|██████████| 500/500 [00:01<00:00, 266.69it/s]\n"
     ]
    },
    {
     "name": "stdout",
     "output_type": "stream",
     "text": [
      "Accuracy: 0.25704285714285713\n"
     ]
    },
    {
     "name": "stderr",
     "output_type": "stream",
     "text": [
      "Angle: 320 - Shape type: 2: 100%|██████████| 500/500 [00:00<00:00, 3012.69it/s]\n"
     ]
    },
    {
     "name": "stdout",
     "output_type": "stream",
     "text": [
      "No matches found.\n"
     ]
    },
    {
     "name": "stderr",
     "output_type": "stream",
     "text": [
      "Angle: 320 - Shape type: 3: 100%|██████████| 500/500 [00:01<00:00, 276.52it/s]\n"
     ]
    },
    {
     "name": "stdout",
     "output_type": "stream",
     "text": [
      "Accuracy: 0.39491087847801276\n"
     ]
    },
    {
     "name": "stderr",
     "output_type": "stream",
     "text": [
      "Angle: 320 - Shape type: 4: 100%|██████████| 500/500 [00:01<00:00, 259.31it/s]\n"
     ]
    },
    {
     "name": "stdout",
     "output_type": "stream",
     "text": [
      "Accuracy: 0.09936993891378615\n"
     ]
    },
    {
     "name": "stderr",
     "output_type": "stream",
     "text": [
      "Angle: 320 - Shape type: 5: 100%|██████████| 500/500 [00:01<00:00, 253.10it/s]\n"
     ]
    },
    {
     "name": "stdout",
     "output_type": "stream",
     "text": [
      "Accuracy: 0.6668016194331984\n"
     ]
    },
    {
     "name": "stderr",
     "output_type": "stream",
     "text": [
      "Angle: 320 - Shape type: 6: 100%|██████████| 500/500 [00:02<00:00, 205.94it/s]\n"
     ]
    },
    {
     "name": "stdout",
     "output_type": "stream",
     "text": [
      "Accuracy: 0.4741666666666667\n"
     ]
    },
    {
     "name": "stderr",
     "output_type": "stream",
     "text": [
      "Angle: 320 - Shape type: 7: 100%|██████████| 500/500 [00:01<00:00, 413.22it/s]\n"
     ]
    },
    {
     "name": "stdout",
     "output_type": "stream",
     "text": [
      "Accuracy: 0.22537810337810338\n"
     ]
    },
    {
     "name": "stderr",
     "output_type": "stream",
     "text": [
      "Angle: 330 - Shape type: 0: 100%|██████████| 500/500 [00:01<00:00, 273.50it/s]\n"
     ]
    },
    {
     "name": "stdout",
     "output_type": "stream",
     "text": [
      "Accuracy: 0.2700246796435472\n"
     ]
    },
    {
     "name": "stderr",
     "output_type": "stream",
     "text": [
      "Angle: 330 - Shape type: 1: 100%|██████████| 500/500 [-1:59:59<00:00, -459.77it/s]\n"
     ]
    },
    {
     "name": "stdout",
     "output_type": "stream",
     "text": [
      "Accuracy: 0.6766380952380951\n"
     ]
    },
    {
     "name": "stderr",
     "output_type": "stream",
     "text": [
      "Angle: 330 - Shape type: 2: 100%|██████████| 500/500 [00:00<00:00, 3243.90it/s]\n"
     ]
    },
    {
     "name": "stdout",
     "output_type": "stream",
     "text": [
      "No matches found.\n"
     ]
    },
    {
     "name": "stderr",
     "output_type": "stream",
     "text": [
      "Angle: 330 - Shape type: 3: 100%|██████████| 500/500 [00:01<00:00, 262.76it/s]\n"
     ]
    },
    {
     "name": "stdout",
     "output_type": "stream",
     "text": [
      "Accuracy: 0.6347192164326433\n"
     ]
    },
    {
     "name": "stderr",
     "output_type": "stream",
     "text": [
      "Angle: 330 - Shape type: 4: 100%|██████████| 500/500 [00:01<00:00, 262.95it/s]\n"
     ]
    },
    {
     "name": "stdout",
     "output_type": "stream",
     "text": [
      "Accuracy: 0.43041337789657796\n"
     ]
    },
    {
     "name": "stderr",
     "output_type": "stream",
     "text": [
      "Angle: 330 - Shape type: 5: 100%|██████████| 500/500 [00:01<00:00, 294.88it/s]\n"
     ]
    },
    {
     "name": "stdout",
     "output_type": "stream",
     "text": [
      "Accuracy: 0.8921864520456069\n"
     ]
    },
    {
     "name": "stderr",
     "output_type": "stream",
     "text": [
      "Angle: 330 - Shape type: 6: 100%|██████████| 500/500 [00:01<00:00, 295.51it/s]\n"
     ]
    },
    {
     "name": "stdout",
     "output_type": "stream",
     "text": [
      "Accuracy: 0.8070666666666666\n"
     ]
    },
    {
     "name": "stderr",
     "output_type": "stream",
     "text": [
      "Angle: 330 - Shape type: 7: 100%|██████████| 500/500 [00:01<00:00, 456.03it/s]\n"
     ]
    },
    {
     "name": "stdout",
     "output_type": "stream",
     "text": [
      "Accuracy: 0.3913957489538885\n"
     ]
    },
    {
     "name": "stderr",
     "output_type": "stream",
     "text": [
      "Angle: 340 - Shape type: 0: 100%|██████████| 500/500 [00:01<00:00, 278.90it/s]\n"
     ]
    },
    {
     "name": "stdout",
     "output_type": "stream",
     "text": [
      "Accuracy: 0.6672437312454508\n"
     ]
    },
    {
     "name": "stderr",
     "output_type": "stream",
     "text": [
      "Angle: 340 - Shape type: 1: 100%|██████████| 500/500 [00:01<00:00, 283.80it/s]\n"
     ]
    },
    {
     "name": "stdout",
     "output_type": "stream",
     "text": [
      "Accuracy: 0.9602619047619048\n"
     ]
    },
    {
     "name": "stderr",
     "output_type": "stream",
     "text": [
      "Angle: 340 - Shape type: 2: 100%|██████████| 500/500 [00:00<00:00, 3267.44it/s]\n"
     ]
    },
    {
     "name": "stdout",
     "output_type": "stream",
     "text": [
      "No matches found.\n"
     ]
    },
    {
     "name": "stderr",
     "output_type": "stream",
     "text": [
      "Angle: 340 - Shape type: 3: 100%|██████████| 500/500 [00:01<00:00, 263.79it/s]\n"
     ]
    },
    {
     "name": "stdout",
     "output_type": "stream",
     "text": [
      "Accuracy: 0.8661695024950948\n"
     ]
    },
    {
     "name": "stderr",
     "output_type": "stream",
     "text": [
      "Angle: 340 - Shape type: 4: 100%|██████████| 500/500 [00:01<00:00, 272.34it/s]\n"
     ]
    },
    {
     "name": "stdout",
     "output_type": "stream",
     "text": [
      "Accuracy: 0.8393090075019121\n"
     ]
    },
    {
     "name": "stderr",
     "output_type": "stream",
     "text": [
      "Angle: 340 - Shape type: 5: 100%|██████████| 500/500 [00:01<00:00, 280.74it/s]\n"
     ]
    },
    {
     "name": "stdout",
     "output_type": "stream",
     "text": [
      "Accuracy: 0.9694\n"
     ]
    },
    {
     "name": "stderr",
     "output_type": "stream",
     "text": [
      "Angle: 340 - Shape type: 6: 100%|██████████| 500/500 [00:02<00:00, 245.25it/s]\n"
     ]
    },
    {
     "name": "stdout",
     "output_type": "stream",
     "text": [
      "Accuracy: 0.9627\n"
     ]
    },
    {
     "name": "stderr",
     "output_type": "stream",
     "text": [
      "Angle: 340 - Shape type: 7: 100%|██████████| 500/500 [00:01<00:00, 385.36it/s]\n"
     ]
    },
    {
     "name": "stdout",
     "output_type": "stream",
     "text": [
      "Accuracy: 0.6837931216571993\n"
     ]
    },
    {
     "name": "stderr",
     "output_type": "stream",
     "text": [
      "Angle: 350 - Shape type: 0: 100%|██████████| 500/500 [00:01<00:00, 279.88it/s]\n"
     ]
    },
    {
     "name": "stdout",
     "output_type": "stream",
     "text": [
      "Accuracy: 0.8387840394450138\n"
     ]
    },
    {
     "name": "stderr",
     "output_type": "stream",
     "text": [
      "Angle: 350 - Shape type: 1: 100%|██████████| 500/500 [00:01<00:00, 275.30it/s]\n"
     ]
    },
    {
     "name": "stdout",
     "output_type": "stream",
     "text": [
      "Accuracy: 0.9982619047619048\n"
     ]
    },
    {
     "name": "stderr",
     "output_type": "stream",
     "text": [
      "Angle: 350 - Shape type: 2: 100%|██████████| 500/500 [00:00<00:00, 3010.77it/s]\n"
     ]
    },
    {
     "name": "stdout",
     "output_type": "stream",
     "text": [
      "No matches found.\n"
     ]
    },
    {
     "name": "stderr",
     "output_type": "stream",
     "text": [
      "Angle: 350 - Shape type: 3: 100%|██████████| 500/500 [00:01<00:00, 272.30it/s]\n"
     ]
    },
    {
     "name": "stdout",
     "output_type": "stream",
     "text": [
      "Accuracy: 0.9443771767448238\n"
     ]
    },
    {
     "name": "stderr",
     "output_type": "stream",
     "text": [
      "Angle: 350 - Shape type: 4: 100%|██████████| 500/500 [00:01<00:00, 274.00it/s]\n"
     ]
    },
    {
     "name": "stdout",
     "output_type": "stream",
     "text": [
      "Accuracy: 0.9503662936554417\n"
     ]
    },
    {
     "name": "stderr",
     "output_type": "stream",
     "text": [
      "Angle: 350 - Shape type: 5: 100%|██████████| 500/500 [00:01<00:00, 291.26it/s]\n"
     ]
    },
    {
     "name": "stdout",
     "output_type": "stream",
     "text": [
      "Accuracy: 0.9841666666666667\n"
     ]
    },
    {
     "name": "stderr",
     "output_type": "stream",
     "text": [
      "Angle: 350 - Shape type: 6: 100%|██████████| 500/500 [00:00<00:00, -514.13it/s]\n"
     ]
    },
    {
     "name": "stdout",
     "output_type": "stream",
     "text": [
      "Accuracy: 0.9933\n"
     ]
    },
    {
     "name": "stderr",
     "output_type": "stream",
     "text": [
      "Angle: 350 - Shape type: 7: 100%|██████████| 500/500 [00:01<00:00, 404.43it/s]"
     ]
    },
    {
     "name": "stdout",
     "output_type": "stream",
     "text": [
      "Accuracy: 0.8316574755211119\n"
     ]
    },
    {
     "name": "stderr",
     "output_type": "stream",
     "text": [
      "\n"
     ]
    }
   ],
   "source": [
    "from services.keypoint_matching.superpoint import SuperPointFrontend\n",
    "\n",
    "fe = SuperPointFrontend(\n",
    "    weights_path=\"./services/keypoint_matching/superpoint_v1.pth\",\n",
    "    nms_dist=4,\n",
    "    conf_thresh=0.015,\n",
    "    nn_thresh=0.7,\n",
    "    cuda=True,\n",
    ")\n",
    "bf_sift = cv2.BFMatcher(cv2.NORM_L2)\n",
    "accuracy_matches_superpoint = []\n",
    "\n",
    "for angle in range(0, 360, 10):\n",
    "    accuracy_matches_superpoint.append([])\n",
    "\n",
    "    for type in range(8):\n",
    "        accuracy_matches_superpoint[-1].append([])\n",
    "\n",
    "        for i in tqdm(range(500), f\"Angle: {angle} - Shape type: {type}\"):\n",
    "            image, ground_truth = read_image(type, str(i))\n",
    "            gray_scale = cv2.cvtColor(image, cv2.COLOR_BGR2GRAY)\n",
    "            gray_scale = gray_scale.astype(np.float32) / 255.0\n",
    "            descriptor = cache_superpoint_descriptors[type][i]\n",
    "\n",
    "            if descriptor is None:\n",
    "                continue\n",
    "\n",
    "            # Rotate the image and the keypoints.\n",
    "            rotated_image = rotate_image(gray_scale, angle)\n",
    "            rotated_keypoints, idx = rotate_keypoints(\n",
    "                (image.shape[1], image.shape[0]), ground_truth, angle\n",
    "            )\n",
    "\n",
    "            # Compute the descriptors of the rotated image.\n",
    "            rotated_descriptor = fe.compute(rotated_image, rotated_keypoints)[1]\n",
    "            if rotated_descriptor is not None:\n",
    "                assert len(rotated_descriptor) == len(rotated_keypoints)\n",
    "            else:\n",
    "                assert len(rotated_keypoints) == 0\n",
    "                continue\n",
    "\n",
    "            # Get the original keypoints and descriptors.\n",
    "            original_descriptor = np.array(descriptor)[idx]\n",
    "\n",
    "            # Match the descriptors of the original and rotated images.\n",
    "            if len(rotated_descriptor) == 1:\n",
    "                accuracy_matches_superpoint[-1][-1].append(1)\n",
    "            else:\n",
    "                matches = bf_sift.knnMatch(rotated_descriptor, original_descriptor, k=2)\n",
    "                matches = [\n",
    "                    m\n",
    "                    for m, n in matches\n",
    "                    if m.distance < 0.75 * n.distance and m.trainIdx == m.queryIdx\n",
    "                ]\n",
    "                accuracy_matches_superpoint[-1][-1].append(\n",
    "                    len(matches) / len(original_descriptor)\n",
    "                )\n",
    "\n",
    "        if len(accuracy_matches_superpoint[-1][-1]) > 0:\n",
    "            print(f\"Accuracy: {np.mean(accuracy_matches_superpoint[-1][-1])}\")\n",
    "        else:\n",
    "            print(\"No matches found.\")"
   ]
  },
  {
   "cell_type": "code",
   "execution_count": 12,
   "metadata": {},
   "outputs": [
    {
     "name": "stdout",
     "output_type": "stream",
     "text": [
      "Angle: 0\n",
      "Accuracy: 1.0\n",
      "Angle: 10\n",
      "Accuracy: 0.9378956268344535\n",
      "Angle: 20\n",
      "Accuracy: 0.8604612551499848\n",
      "Angle: 30\n",
      "Accuracy: 0.6121989346471783\n",
      "Angle: 40\n",
      "Accuracy: 0.2912652832943284\n",
      "Angle: 50\n",
      "Accuracy: 0.10048076426910854\n",
      "Angle: 60\n",
      "Accuracy: 0.0503773490000224\n",
      "Angle: 70\n",
      "Accuracy: 0.04058819485603551\n",
      "Angle: 80\n",
      "Accuracy: 0.04116957401439487\n",
      "Angle: 90\n",
      "Accuracy: 0.044158501975213565\n",
      "Angle: 100\n",
      "Accuracy: 0.041555517433632116\n",
      "Angle: 110\n",
      "Accuracy: 0.036596040341527705\n",
      "Angle: 120\n",
      "Accuracy: 0.035833153231035225\n",
      "Angle: 130\n",
      "Accuracy: 0.03439995955919523\n",
      "Angle: 140\n",
      "Accuracy: 0.031452963475435386\n",
      "Angle: 150\n",
      "Accuracy: 0.026978807860416017\n",
      "Angle: 160\n",
      "Accuracy: 0.024628004847423175\n",
      "Angle: 170\n",
      "Accuracy: 0.0203092656820278\n",
      "Angle: 180\n",
      "Accuracy: 0.020524217724477146\n",
      "Angle: 190\n",
      "Accuracy: 0.022365608056624367\n",
      "Angle: 200\n",
      "Accuracy: 0.024800514709684685\n",
      "Angle: 210\n",
      "Accuracy: 0.028361442178221417\n",
      "Angle: 220\n",
      "Accuracy: 0.03371017004963795\n",
      "Angle: 230\n",
      "Accuracy: 0.0361486195923282\n",
      "Angle: 240\n",
      "Accuracy: 0.03794303435659978\n",
      "Angle: 250\n",
      "Accuracy: 0.039181374015355465\n",
      "Angle: 260\n",
      "Accuracy: 0.040600153885611695\n",
      "Angle: 270\n",
      "Accuracy: 0.04368491313684485\n",
      "Angle: 280\n",
      "Accuracy: 0.041267458649626165\n",
      "Angle: 290\n",
      "Accuracy: 0.03637972035986476\n",
      "Angle: 300\n",
      "Accuracy: 0.047075113891804396\n",
      "Angle: 310\n",
      "Accuracy: 0.10624895748720298\n",
      "Angle: 320\n",
      "Accuracy: 0.3170612494498164\n",
      "Angle: 330\n",
      "Accuracy: 0.5975198925763178\n",
      "Angle: 340\n",
      "Accuracy: 0.8594220006323341\n",
      "Angle: 350\n",
      "Accuracy: 0.9396621644320999\n"
     ]
    }
   ],
   "source": [
    "for i in range(36):\n",
    "    print(f\"Angle: {i * 10}\")\n",
    "    flatten = []\n",
    "    for j in range(8):\n",
    "        flatten += accuracy_matches_superpoint[i][j]\n",
    "    print(f\"Accuracy: {np.mean(flatten)}\")"
   ]
  },
  {
   "cell_type": "markdown",
   "metadata": {},
   "source": [
    "# 6. Convert result to Numpy array\n"
   ]
  },
  {
   "cell_type": "code",
   "execution_count": 13,
   "metadata": {},
   "outputs": [],
   "source": [
    "results_sift = []\n",
    "results_orb = []\n",
    "results_superpoint = []\n",
    "\n",
    "for i in range(36):\n",
    "    flatten = []\n",
    "    for j in range(8):\n",
    "        flatten += accuracy_matches_sift[i][j]\n",
    "    results_sift.append(np.mean(flatten))\n",
    "\n",
    "    flatten = []\n",
    "    for j in range(8):\n",
    "        flatten += accuracy_matches_orb[i][j]\n",
    "    results_orb.append(np.mean(flatten))\n",
    "\n",
    "    flatten = []\n",
    "    for j in range(8):\n",
    "        flatten += accuracy_matches_superpoint[i][j]\n",
    "    results_superpoint.append(np.mean(flatten))\n",
    "\n",
    "np.save(\"./services/keypoint_matching/results_sift.npy\", results_sift)\n",
    "np.save(\"./services/keypoint_matching/results_orb.npy\", results_orb)\n",
    "np.save(\"./services/keypoint_matching/results_superpoint.npy\", results_superpoint)"
   ]
  }
 ],
 "metadata": {
  "kernelspec": {
   "display_name": "opencv_streamlit",
   "language": "python",
   "name": "python3"
  },
  "language_info": {
   "codemirror_mode": {
    "name": "ipython",
    "version": 3
   },
   "file_extension": ".py",
   "mimetype": "text/x-python",
   "name": "python",
   "nbconvert_exporter": "python",
   "pygments_lexer": "ipython3",
   "version": "3.12.5"
  }
 },
 "nbformat": 4,
 "nbformat_minor": 2
}
