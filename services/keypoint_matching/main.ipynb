{
 "cells": [
  {
   "cell_type": "code",
   "execution_count": 8,
   "metadata": {},
   "outputs": [
    {
     "name": "stdout",
     "output_type": "stream",
     "text": [
      "The autoreload extension is already loaded. To reload it, use:\n",
      "  %reload_ext autoreload\n"
     ]
    }
   ],
   "source": [
    "%load_ext autoreload\n",
    "%autoreload 2"
   ]
  },
  {
   "cell_type": "code",
   "execution_count": 3,
   "metadata": {},
   "outputs": [
    {
     "name": "stdout",
     "output_type": "stream",
     "text": [
      "/home/hazzu/Code/opencv_streamlit\n"
     ]
    }
   ],
   "source": [
    "%cd \"../..\""
   ]
  },
  {
   "cell_type": "code",
   "execution_count": 4,
   "metadata": {},
   "outputs": [],
   "source": [
    "import numpy as np\n",
    "\n",
    "pr_sift = np.load(\"./services/semantic_keypoint_detection/pr_sift.npy\")\n",
    "pr_orb = np.load(\"./services/semantic_keypoint_detection/pr_orb.npy\")\n",
    "\n",
    "pr_sift_fulls = []\n",
    "pr_orb_fulls = []\n",
    "for i in range(8):\n",
    "    pr_sift_fulls.append(\n",
    "        np.where(np.logical_and(pr_sift[i][:, 0] == 1, pr_sift[i][:, 1] == 1))[0]\n",
    "    )\n",
    "    pr_orb_fulls.append(\n",
    "        np.where(np.logical_and(pr_orb[i][:, 0] == 1, pr_orb[i][:, 1] == 1))[0]\n",
    "    )"
   ]
  },
  {
   "cell_type": "code",
   "execution_count": 15,
   "metadata": {},
   "outputs": [],
   "source": [
    "import os\n",
    "import cv2\n",
    "from services.semantic_keypoint_detection.services import DATATYPES\n",
    "\n",
    "\n",
    "accuracy_rotations_orb = []\n",
    "orb = cv2.ORB_create()\n",
    "bf = cv2.BFMatcher(cv2.NORM_HAMMING, crossCheck=True)\n",
    "\n",
    "for alpha in range(0, 360, 10):\n",
    "    accuracy_orb = []\n",
    "    for i in range(8):\n",
    "        for id in pr_orb_fulls[i]:\n",
    "            # Read image\n",
    "            image = cv2.imread(os.path.join(DATATYPES[i], \"images\", f\"{id}.png\"))\n",
    "\n",
    "            # Rotate image\n",
    "            rotate_matrix = cv2.getRotationMatrix2D(\n",
    "                ((image.shape[1] - 1) / 2.0, (image.shape[0] - 1) / 2.0), alpha, 1.0\n",
    "            )\n",
    "            image_rotated = cv2.warpAffine(\n",
    "                image.copy(), rotate_matrix, (image.shape[1], image.shape[0])\n",
    "            )\n",
    "\n",
    "            # Convert to gray\n",
    "            gray_image = cv2.cvtColor(image, cv2.COLOR_BGR2GRAY)\n",
    "            gray_image_rotated = cv2.cvtColor(image_rotated, cv2.COLOR_BGR2GRAY)\n",
    "\n",
    "            # Detect keypoints\n",
    "            original_keypoints, original_descriptions = orb.detectAndCompute(\n",
    "                gray_image, None\n",
    "            )\n",
    "\n",
    "            rotated_keypoints, rotated_descriptions = orb.detectAndCompute(\n",
    "                gray_image_rotated, None\n",
    "            )\n",
    "\n",
    "            if original_descriptions is None or rotated_descriptions is None:\n",
    "                accuracy_orb.append(0)\n",
    "            else:\n",
    "                matches = bf.match(original_descriptions, rotated_descriptions)\n",
    "                accuracy_orb.append(len(matches) / len(original_keypoints))\n",
    "\n",
    "    accuracy_rotations_orb.append(np.mean(accuracy_orb))"
   ]
  },
  {
   "cell_type": "code",
   "execution_count": 16,
   "metadata": {},
   "outputs": [
    {
     "name": "stdout",
     "output_type": "stream",
     "text": [
      "[np.float64(1.0), np.float64(0.7615478498524831), np.float64(0.7140348921093023), np.float64(0.6406711496218809), np.float64(0.5964494208151195), np.float64(0.5606805897209441), np.float64(0.5302790657736745), np.float64(0.46426593916030234), np.float64(0.46075388495352193), np.float64(0.4789170832962869), np.float64(0.47891516916946614), np.float64(0.5084310010535589), np.float64(0.5465325837584832), np.float64(0.6048654853621758), np.float64(0.6570556862031721), np.float64(0.696563564918054), np.float64(0.7368502929996472), np.float64(0.8030259557056824), np.float64(1.0), np.float64(0.7605598914507316), np.float64(0.7111665535513085), np.float64(0.6411726145756784), np.float64(0.5967942484013264), np.float64(0.5588021868171329), np.float64(0.5295127822487702), np.float64(0.46349965563539813), np.float64(0.46093956134609493), np.float64(0.4789170832962869), np.float64(0.48007263239589487), np.float64(0.5078562884098808), np.float64(0.5465325837584832), np.float64(0.6060149106495322), np.float64(0.656959230934303), np.float64(0.6979544661061154), np.float64(0.736084009474743), np.float64(0.8014550744796287)]\n"
     ]
    }
   ],
   "source": [
    "print(accuracy_rotations_orb)"
   ]
  },
  {
   "cell_type": "code",
   "execution_count": 17,
   "metadata": {},
   "outputs": [],
   "source": [
    "import os\n",
    "import cv2\n",
    "from services.semantic_keypoint_detection.services import DATATYPES\n",
    "\n",
    "\n",
    "accuracy_rotations_sift = []\n",
    "sift = cv2.SIFT_create()\n",
    "bf = cv2.BFMatcher()\n",
    "\n",
    "for alpha in range(0, 360, 10):\n",
    "    accuracy_sift = []\n",
    "    for i in range(8):\n",
    "        for id in pr_sift_fulls[i]:\n",
    "            # Read image\n",
    "            image = cv2.imread(os.path.join(DATATYPES[i], \"images\", f\"{id}.png\"))\n",
    "\n",
    "            # Rotate image\n",
    "            rotate_matrix = cv2.getRotationMatrix2D(\n",
    "                ((image.shape[1] - 1) / 2.0, (image.shape[0] - 1) / 2.0), alpha, 1.0\n",
    "            )\n",
    "            image_rotated = cv2.warpAffine(\n",
    "                image.copy(), rotate_matrix, (image.shape[1], image.shape[0])\n",
    "            )\n",
    "\n",
    "            # Convert to gray\n",
    "            gray_image = cv2.cvtColor(image, cv2.COLOR_BGR2GRAY)\n",
    "            gray_image_rotated = cv2.cvtColor(image_rotated, cv2.COLOR_BGR2GRAY)\n",
    "\n",
    "            # Detect keypoints\n",
    "            original_keypoints, original_descriptions = sift.detectAndCompute(\n",
    "                gray_image, None\n",
    "            )\n",
    "\n",
    "            rotated_keypoints, rotated_descriptions = sift.detectAndCompute(\n",
    "                gray_image_rotated, None\n",
    "            )\n",
    "\n",
    "            if original_descriptions is None or rotated_descriptions is None:\n",
    "                accuracy_sift.append(0)\n",
    "            else:\n",
    "                matches = bf.match(original_descriptions, rotated_descriptions)\n",
    "                accuracy_sift.append(len(matches) / len(original_keypoints))\n",
    "\n",
    "    accuracy_rotations_sift.append(np.mean(accuracy_sift))"
   ]
  },
  {
   "cell_type": "code",
   "execution_count": 18,
   "metadata": {},
   "outputs": [
    {
     "name": "stdout",
     "output_type": "stream",
     "text": [
      "[np.float64(1.0), np.float64(1.0), np.float64(1.0), np.float64(0.9859154929577465), np.float64(0.9859154929577465), np.float64(0.9859154929577465), np.float64(1.0), np.float64(1.0), np.float64(0.9577464788732394), np.float64(0.9577464788732394), np.float64(1.0), np.float64(1.0), np.float64(0.9859154929577465), np.float64(0.971830985915493), np.float64(0.971830985915493), np.float64(0.971830985915493), np.float64(1.0), np.float64(0.9859154929577465), np.float64(0.9859154929577465), np.float64(1.0), np.float64(1.0), np.float64(0.9859154929577465), np.float64(0.971830985915493), np.float64(1.0), np.float64(1.0), np.float64(1.0), np.float64(0.9577464788732394), np.float64(0.9577464788732394), np.float64(1.0), np.float64(1.0), np.float64(1.0), np.float64(0.971830985915493), np.float64(0.9859154929577465), np.float64(0.9859154929577465), np.float64(1.0), np.float64(0.9859154929577465)]\n"
     ]
    }
   ],
   "source": [
    "print(accuracy_rotations_sift)"
   ]
  },
  {
   "cell_type": "code",
   "execution_count": 19,
   "metadata": {},
   "outputs": [],
   "source": [
    "np.save(\n",
    "    os.path.join(\"./services/keypoint_matching/accuracy_rotations_sift.npy\"),\n",
    "    accuracy_rotations_sift,\n",
    ")\n",
    "np.save(\n",
    "    os.path.join(\"./services/keypoint_matching/accuracy_rotations_orb.npy\"),\n",
    "    accuracy_rotations_orb,\n",
    ")"
   ]
  }
 ],
 "metadata": {
  "kernelspec": {
   "display_name": "opencv_streamlit",
   "language": "python",
   "name": "python3"
  },
  "language_info": {
   "codemirror_mode": {
    "name": "ipython",
    "version": 3
   },
   "file_extension": ".py",
   "mimetype": "text/x-python",
   "name": "python",
   "nbconvert_exporter": "python",
   "pygments_lexer": "ipython3",
   "version": "3.12.5"
  }
 },
 "nbformat": 4,
 "nbformat_minor": 2
}
