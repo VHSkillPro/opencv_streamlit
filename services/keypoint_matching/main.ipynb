{
 "cells": [
  {
   "cell_type": "code",
   "execution_count": 2,
   "metadata": {
    "notebookRunGroups": {
     "groupValue": "1"
    }
   },
   "outputs": [],
   "source": [
    "%reload_ext autoreload\n",
    "%autoreload 2"
   ]
  },
  {
   "cell_type": "code",
   "execution_count": 3,
   "metadata": {
    "notebookRunGroups": {
     "groupValue": "1"
    }
   },
   "outputs": [
    {
     "name": "stdout",
     "output_type": "stream",
     "text": [
      "/home/hazzu/Code/opencv_streamlit\n"
     ]
    }
   ],
   "source": [
    "%cd \"../..\""
   ]
  },
  {
   "cell_type": "markdown",
   "metadata": {},
   "source": [
    "# 1. Define function\n"
   ]
  },
  {
   "cell_type": "code",
   "execution_count": 4,
   "metadata": {
    "notebookRunGroups": {
     "groupValue": "1"
    }
   },
   "outputs": [],
   "source": [
    "import os\n",
    "import cv2\n",
    "import numpy as np\n",
    "from typing import Tuple, List\n",
    "from services.semantic_keypoint_detection.services import DATATYPES\n",
    "\n",
    "\n",
    "def read_image(type: int, name: str):\n",
    "    \"\"\"\n",
    "    Reads an image and its ground truth keypoints from the specified dataset.\n",
    "\n",
    "    :param type: The type of the dataset.\n",
    "    :param name: The name of the image.\n",
    "\n",
    "    :return (image, ground_truth): A tuple containing the image and the ground truth keypoints.\n",
    "    \"\"\"\n",
    "    image = cv2.imread(os.path.join(DATATYPES[type], \"images\", f\"{name}.png\"))\n",
    "    ground_truth = np.load(os.path.join(DATATYPES[type], \"points\", f\"{name}.npy\"))\n",
    "    ground_truth = [cv2.KeyPoint(y, x, 1, 0, 0, 0) for x, y in ground_truth]\n",
    "    return (image, ground_truth)\n",
    "\n",
    "\n",
    "def rotate_image(image: cv2.typing.MatLike, angle: int) -> cv2.typing.MatLike:\n",
    "    \"\"\"\n",
    "    Rotates an image by a given angle.\n",
    "\n",
    "    :param image: The image to rotate.\n",
    "    :param angle: The angle to rotate the image by.\n",
    "\n",
    "    :return rotated_image: The rotated image.\n",
    "    \"\"\"\n",
    "    h, w = image.shape[:2]\n",
    "    matrix_rotation = cv2.getRotationMatrix2D((w / 2, h / 2), angle, 1)\n",
    "    rotated_image = cv2.warpAffine(image, matrix_rotation, (w, h))\n",
    "    return rotated_image\n",
    "\n",
    "\n",
    "def rotate_keypoints(\n",
    "    size: Tuple[int, int], keypoints: List[cv2.KeyPoint], angle: int\n",
    ") -> List[cv2.KeyPoint]:\n",
    "    \"\"\"\n",
    "    Rotates the keypoints of an image.\n",
    "\n",
    "    :param size: The size of the image (witdh, height).\n",
    "    :param keypoints: The keypoints to rotate.\n",
    "    :param angle: The angle to rotate the keypoints by.\n",
    "\n",
    "    :return (result, idx): A tuple containing the rotated keypoints and their indices in the original list.\n",
    "    \"\"\"\n",
    "    matrix_rotation = cv2.getRotationMatrix2D((size[0] / 2, size[1] / 2), angle, 1)\n",
    "    kps = np.array([[kp.pt[0], kp.pt[1]] for kp in keypoints])\n",
    "    kps = np.concatenate([kps, np.ones((len(kps), 1))], axis=1)\n",
    "    rotated_kps = np.array(np.dot(matrix_rotation, kps.T)).T\n",
    "\n",
    "    result, idx = [], []\n",
    "    for i in range(len(rotated_kps)):\n",
    "        kp = rotated_kps[i]\n",
    "        if 0 <= kp[0] < size[0] and 0 <= kp[1] < size[1]:\n",
    "            result.append(cv2.KeyPoint(kp[0], kp[1], 1, 0, 0, 0))\n",
    "            idx.append(i)\n",
    "\n",
    "    return (result, idx)"
   ]
  },
  {
   "cell_type": "markdown",
   "metadata": {},
   "source": [
    "# 2. Cache descriptors of original image\n"
   ]
  },
  {
   "cell_type": "code",
   "execution_count": 18,
   "metadata": {},
   "outputs": [
    {
     "name": "stdout",
     "output_type": "stream",
     "text": [
      "Caching descriptors for SIFT...\n"
     ]
    },
    {
     "name": "stderr",
     "output_type": "stream",
     "text": [
      "Cache descriptors for shape type 0: 100%|██████████| 500/500 [00:00<00:00, 1276.52it/s]\n",
      "Cache descriptors for shape type 1: 100%|██████████| 500/500 [00:00<00:00, 1269.82it/s]\n",
      "Cache descriptors for shape type 2: 100%|██████████| 500/500 [00:00<00:00, 3482.42it/s]\n",
      "Cache descriptors for shape type 3: 100%|██████████| 500/500 [00:00<00:00, 1337.11it/s]\n",
      "Cache descriptors for shape type 4: 100%|██████████| 500/500 [00:00<00:00, 1095.46it/s]\n",
      "Cache descriptors for shape type 5: 100%|██████████| 500/500 [00:00<00:00, 1279.41it/s]\n",
      "Cache descriptors for shape type 6: 100%|██████████| 500/500 [00:00<00:00, 1371.22it/s]\n",
      "Cache descriptors for shape type 7: 100%|██████████| 500/500 [00:00<00:00, 1735.02it/s]\n"
     ]
    },
    {
     "name": "stdout",
     "output_type": "stream",
     "text": [
      "Caching descriptors for ORB...\n"
     ]
    },
    {
     "name": "stderr",
     "output_type": "stream",
     "text": [
      "Cache descriptors for shape type 0: 100%|██████████| 500/500 [00:00<00:00, 2820.77it/s]\n",
      "Cache descriptors for shape type 1: 100%|██████████| 500/500 [00:00<00:00, 3008.61it/s]\n",
      "Cache descriptors for shape type 2: 100%|██████████| 500/500 [00:00<00:00, 3157.87it/s]\n",
      "Cache descriptors for shape type 3: 100%|██████████| 500/500 [00:00<00:00, 2873.65it/s]\n",
      "Cache descriptors for shape type 4: 100%|██████████| 500/500 [00:00<00:00, 2536.79it/s]\n",
      "Cache descriptors for shape type 5: 100%|██████████| 500/500 [00:00<00:00, 3051.44it/s]\n",
      "Cache descriptors for shape type 6: 100%|██████████| 500/500 [00:00<00:00, 2923.70it/s]\n",
      "Cache descriptors for shape type 7: 100%|██████████| 500/500 [00:00<00:00, 3414.82it/s]\n",
      "/home/hazzu/Code/opencv_streamlit/services/keypoint_matching/superpoint.py:79: FutureWarning: You are using `torch.load` with `weights_only=False` (the current default value), which uses the default pickle module implicitly. It is possible to construct malicious pickle data which will execute arbitrary code during unpickling (See https://github.com/pytorch/pytorch/blob/main/SECURITY.md#untrusted-models for more details). In a future release, the default value for `weights_only` will be flipped to `True`. This limits the functions that could be executed during unpickling. Arbitrary objects will no longer be allowed to be loaded via this mode unless they are explicitly allowlisted by the user via `torch.serialization.add_safe_globals`. We recommend you start setting `weights_only=True` for any use case where you don't have full control of the loaded file. Please open an issue on GitHub for any issues related to this experimental feature.\n",
      "  self.net.load_state_dict(torch.load(weights_path))\n"
     ]
    },
    {
     "name": "stdout",
     "output_type": "stream",
     "text": [
      "Caching descriptors for SuperPoint...\n",
      "Run on GPU\n"
     ]
    },
    {
     "name": "stderr",
     "output_type": "stream",
     "text": [
      "Cache descriptors for shape type 0: 100%|██████████| 500/500 [00:01<00:00, 258.19it/s]\n",
      "Cache descriptors for shape type 1: 100%|██████████| 500/500 [00:01<00:00, 319.63it/s]\n",
      "Cache descriptors for shape type 2: 100%|██████████| 500/500 [00:00<00:00, 3364.88it/s]\n",
      "Cache descriptors for shape type 3: 100%|██████████| 500/500 [00:01<00:00, 313.37it/s]\n",
      "Cache descriptors for shape type 4: 100%|██████████| 500/500 [00:01<00:00, 303.26it/s]\n",
      "Cache descriptors for shape type 5: 100%|██████████| 500/500 [00:01<00:00, 311.93it/s]\n",
      "Cache descriptors for shape type 6: 100%|██████████| 500/500 [-1:59:59<00:00, -492.66it/s]\n",
      "Cache descriptors for shape type 7: 100%|██████████| 500/500 [00:01<00:00, 411.19it/s]\n"
     ]
    }
   ],
   "source": [
    "import cv2\n",
    "from tqdm import tqdm\n",
    "from services.keypoint_matching.superpoint import SuperPointFrontend\n",
    "\n",
    "\n",
    "def cache_descriptors(model, convert=False):\n",
    "    \"\"\"\n",
    "    Caches the descriptors of the images in the datasets.\n",
    "\n",
    "    :param model: The model to use for the caching.\n",
    "\n",
    "    :return cache_descriptors: The cached descriptors.\n",
    "    \"\"\"\n",
    "    cache_descriptors = []\n",
    "\n",
    "    for i in range(8):\n",
    "        cache_descriptors.append([])\n",
    "\n",
    "        for j in tqdm(range(500), desc=f\"Cache descriptors for shape type {i}\"):\n",
    "            image, ground_truth = read_image(i, str(j))\n",
    "            gray_scale = cv2.cvtColor(image, cv2.COLOR_BGR2GRAY)\n",
    "            if convert:\n",
    "                gray_scale = gray_scale.astype(np.float32) / 255.0\n",
    "\n",
    "            if len(ground_truth) > 0:\n",
    "                descriptors = model.compute(gray_scale, ground_truth)[1]\n",
    "            else:\n",
    "                descriptors = None\n",
    "\n",
    "            if descriptors is not None:\n",
    "                assert descriptors.shape[0] == len(\n",
    "                    ground_truth\n",
    "                ), f\"{descriptors.shape[0]} != {len(ground_truth)}\"\n",
    "            else:\n",
    "                assert len(ground_truth) == 0\n",
    "\n",
    "            cache_descriptors[i].append(descriptors)\n",
    "\n",
    "    return cache_descriptors\n",
    "\n",
    "\n",
    "print(\"Caching descriptors for SIFT...\")\n",
    "sift = cv2.SIFT_create()\n",
    "cache_sift_descriptors = cache_descriptors(sift)\n",
    "\n",
    "print(\"Caching descriptors for ORB...\")\n",
    "orb = cv2.ORB_create(edgeThreshold=0, fastThreshold=0)\n",
    "cache_orb_descriptors = cache_descriptors(orb)\n",
    "\n",
    "print(\"Caching descriptors for SuperPoint...\")\n",
    "fe = SuperPointFrontend(\n",
    "    weights_path=\"./services/keypoint_matching/superpoint_v1.pth\",\n",
    "    nms_dist=4,\n",
    "    conf_thresh=0.015,\n",
    "    nn_thresh=0.7,\n",
    "    cuda=True,\n",
    ")\n",
    "cache_superpoint_descriptors = cache_descriptors(fe, True)"
   ]
  },
  {
   "cell_type": "markdown",
   "metadata": {},
   "source": [
    "# 3. Get accuracy matching keypoints of SIFT\n"
   ]
  },
  {
   "cell_type": "code",
   "execution_count": 6,
   "metadata": {},
   "outputs": [
    {
     "name": "stderr",
     "output_type": "stream",
     "text": [
      "Angle: 0 - Shape type: 0: 100%|██████████| 500/500 [00:00<00:00, 929.72it/s]\n"
     ]
    },
    {
     "name": "stdout",
     "output_type": "stream",
     "text": [
      "Accuracy: 1.0\n"
     ]
    },
    {
     "name": "stderr",
     "output_type": "stream",
     "text": [
      "Angle: 0 - Shape type: 1: 100%|██████████| 500/500 [00:00<00:00, 915.69it/s] \n"
     ]
    },
    {
     "name": "stdout",
     "output_type": "stream",
     "text": [
      "Accuracy: 1.0\n"
     ]
    },
    {
     "name": "stderr",
     "output_type": "stream",
     "text": [
      "Angle: 0 - Shape type: 2: 100%|██████████| 500/500 [00:00<00:00, 2861.87it/s]\n"
     ]
    },
    {
     "name": "stdout",
     "output_type": "stream",
     "text": [
      "No matches found.\n"
     ]
    },
    {
     "name": "stderr",
     "output_type": "stream",
     "text": [
      "Angle: 0 - Shape type: 3: 100%|██████████| 500/500 [00:00<00:00, 973.10it/s]\n"
     ]
    },
    {
     "name": "stdout",
     "output_type": "stream",
     "text": [
      "Accuracy: 0.9991\n"
     ]
    },
    {
     "name": "stderr",
     "output_type": "stream",
     "text": [
      "Angle: 0 - Shape type: 4: 100%|██████████| 500/500 [00:00<00:00, 888.03it/s]\n"
     ]
    },
    {
     "name": "stdout",
     "output_type": "stream",
     "text": [
      "Accuracy: 0.9985535140844818\n"
     ]
    },
    {
     "name": "stderr",
     "output_type": "stream",
     "text": [
      "Angle: 0 - Shape type: 5: 100%|██████████| 500/500 [00:00<00:00, 1019.41it/s]\n"
     ]
    },
    {
     "name": "stdout",
     "output_type": "stream",
     "text": [
      "Accuracy: 0.999\n"
     ]
    },
    {
     "name": "stderr",
     "output_type": "stream",
     "text": [
      "Angle: 0 - Shape type: 6: 100%|██████████| 500/500 [00:00<00:00, 999.50it/s] \n"
     ]
    },
    {
     "name": "stdout",
     "output_type": "stream",
     "text": [
      "Accuracy: 1.0\n"
     ]
    },
    {
     "name": "stderr",
     "output_type": "stream",
     "text": [
      "Angle: 0 - Shape type: 7: 100%|██████████| 500/500 [00:00<00:00, 1293.23it/s]\n"
     ]
    },
    {
     "name": "stdout",
     "output_type": "stream",
     "text": [
      "Accuracy: 0.9991158267020337\n"
     ]
    },
    {
     "name": "stderr",
     "output_type": "stream",
     "text": [
      "Angle: 10 - Shape type: 0: 100%|██████████| 500/500 [00:00<00:00, 930.50it/s]\n"
     ]
    },
    {
     "name": "stdout",
     "output_type": "stream",
     "text": [
      "Accuracy: 0.5868615842238012\n"
     ]
    },
    {
     "name": "stderr",
     "output_type": "stream",
     "text": [
      "Angle: 10 - Shape type: 1: 100%|██████████| 500/500 [00:00<00:00, 1017.74it/s]\n"
     ]
    },
    {
     "name": "stdout",
     "output_type": "stream",
     "text": [
      "Accuracy: 0.9589428571428573\n"
     ]
    },
    {
     "name": "stderr",
     "output_type": "stream",
     "text": [
      "Angle: 10 - Shape type: 2: 100%|██████████| 500/500 [00:00<00:00, 2877.83it/s]\n"
     ]
    },
    {
     "name": "stdout",
     "output_type": "stream",
     "text": [
      "No matches found.\n"
     ]
    },
    {
     "name": "stderr",
     "output_type": "stream",
     "text": [
      "Angle: 10 - Shape type: 3: 100%|██████████| 500/500 [00:00<00:00, 952.51it/s]\n"
     ]
    },
    {
     "name": "stdout",
     "output_type": "stream",
     "text": [
      "Accuracy: 0.8202739205239206\n"
     ]
    },
    {
     "name": "stderr",
     "output_type": "stream",
     "text": [
      "Angle: 10 - Shape type: 4: 100%|██████████| 500/500 [00:00<00:00, 889.45it/s]\n"
     ]
    },
    {
     "name": "stdout",
     "output_type": "stream",
     "text": [
      "Accuracy: 0.655840420619617\n"
     ]
    },
    {
     "name": "stderr",
     "output_type": "stream",
     "text": [
      "Angle: 10 - Shape type: 5: 100%|██████████| 500/500 [00:00<00:00, 1038.54it/s]\n"
     ]
    },
    {
     "name": "stdout",
     "output_type": "stream",
     "text": [
      "Accuracy: 0.9951\n"
     ]
    },
    {
     "name": "stderr",
     "output_type": "stream",
     "text": [
      "Angle: 10 - Shape type: 6: 100%|██████████| 500/500 [00:00<00:00, 1013.39it/s]\n"
     ]
    },
    {
     "name": "stdout",
     "output_type": "stream",
     "text": [
      "Accuracy: 0.9632333333333334\n"
     ]
    },
    {
     "name": "stderr",
     "output_type": "stream",
     "text": [
      "Angle: 10 - Shape type: 7: 100%|██████████| 500/500 [00:00<00:00, 1240.66it/s]\n"
     ]
    },
    {
     "name": "stdout",
     "output_type": "stream",
     "text": [
      "Accuracy: 0.7683530091835807\n"
     ]
    },
    {
     "name": "stderr",
     "output_type": "stream",
     "text": [
      "Angle: 20 - Shape type: 0: 100%|██████████| 500/500 [00:00<00:00, 928.22it/s]\n"
     ]
    },
    {
     "name": "stdout",
     "output_type": "stream",
     "text": [
      "Accuracy: 0.2177063770564206\n"
     ]
    },
    {
     "name": "stderr",
     "output_type": "stream",
     "text": [
      "Angle: 20 - Shape type: 1: 100%|██████████| 500/500 [00:00<00:00, 1008.08it/s]\n"
     ]
    },
    {
     "name": "stdout",
     "output_type": "stream",
     "text": [
      "Accuracy: 0.6636238095238095\n"
     ]
    },
    {
     "name": "stderr",
     "output_type": "stream",
     "text": [
      "Angle: 20 - Shape type: 2: 100%|██████████| 500/500 [00:00<00:00, 2902.04it/s]\n"
     ]
    },
    {
     "name": "stdout",
     "output_type": "stream",
     "text": [
      "No matches found.\n"
     ]
    },
    {
     "name": "stderr",
     "output_type": "stream",
     "text": [
      "Angle: 20 - Shape type: 3: 100%|██████████| 500/500 [00:00<00:00, 1008.64it/s]\n"
     ]
    },
    {
     "name": "stdout",
     "output_type": "stream",
     "text": [
      "Accuracy: 0.7111124847096791\n"
     ]
    },
    {
     "name": "stderr",
     "output_type": "stream",
     "text": [
      "Angle: 20 - Shape type: 4: 100%|██████████| 500/500 [00:00<00:00, 873.97it/s]\n"
     ]
    },
    {
     "name": "stdout",
     "output_type": "stream",
     "text": [
      "Accuracy: 0.39727201571513804\n"
     ]
    },
    {
     "name": "stderr",
     "output_type": "stream",
     "text": [
      "Angle: 20 - Shape type: 5: 100%|██████████| 500/500 [00:00<00:00, 1037.88it/s]\n"
     ]
    },
    {
     "name": "stdout",
     "output_type": "stream",
     "text": [
      "Accuracy: 0.9678333333333332\n"
     ]
    },
    {
     "name": "stderr",
     "output_type": "stream",
     "text": [
      "Angle: 20 - Shape type: 6: 100%|██████████| 500/500 [00:00<00:00, 973.88it/s] \n"
     ]
    },
    {
     "name": "stdout",
     "output_type": "stream",
     "text": [
      "Accuracy: 0.7990333333333333\n"
     ]
    },
    {
     "name": "stderr",
     "output_type": "stream",
     "text": [
      "Angle: 20 - Shape type: 7: 100%|██████████| 500/500 [00:00<00:00, 1297.62it/s]\n"
     ]
    },
    {
     "name": "stdout",
     "output_type": "stream",
     "text": [
      "Accuracy: 0.592927438526487\n"
     ]
    },
    {
     "name": "stderr",
     "output_type": "stream",
     "text": [
      "Angle: 30 - Shape type: 0: 100%|██████████| 500/500 [00:00<00:00, 758.55it/s]\n"
     ]
    },
    {
     "name": "stdout",
     "output_type": "stream",
     "text": [
      "Accuracy: 0.0843513074057596\n"
     ]
    },
    {
     "name": "stderr",
     "output_type": "stream",
     "text": [
      "Angle: 30 - Shape type: 1: 100%|██████████| 500/500 [00:00<00:00, 723.53it/s]\n"
     ]
    },
    {
     "name": "stdout",
     "output_type": "stream",
     "text": [
      "Accuracy: 0.30711904761904757\n"
     ]
    },
    {
     "name": "stderr",
     "output_type": "stream",
     "text": [
      "Angle: 30 - Shape type: 2: 100%|██████████| 500/500 [00:00<00:00, 2646.23it/s]\n"
     ]
    },
    {
     "name": "stdout",
     "output_type": "stream",
     "text": [
      "No matches found.\n"
     ]
    },
    {
     "name": "stderr",
     "output_type": "stream",
     "text": [
      "Angle: 30 - Shape type: 3: 100%|██████████| 500/500 [00:00<00:00, 943.19it/s]\n"
     ]
    },
    {
     "name": "stdout",
     "output_type": "stream",
     "text": [
      "Accuracy: 0.5954563583822101\n"
     ]
    },
    {
     "name": "stderr",
     "output_type": "stream",
     "text": [
      "Angle: 30 - Shape type: 4: 100%|██████████| 500/500 [00:00<00:00, 614.82it/s]\n"
     ]
    },
    {
     "name": "stdout",
     "output_type": "stream",
     "text": [
      "Accuracy: 0.36524117193686284\n"
     ]
    },
    {
     "name": "stderr",
     "output_type": "stream",
     "text": [
      "Angle: 30 - Shape type: 5: 100%|██████████| 500/500 [-1:59:59<00:00, -305.67it/s]\n"
     ]
    },
    {
     "name": "stdout",
     "output_type": "stream",
     "text": [
      "Accuracy: 0.7153252850435948\n"
     ]
    },
    {
     "name": "stderr",
     "output_type": "stream",
     "text": [
      "Angle: 30 - Shape type: 6: 100%|██████████| 500/500 [00:00<00:00, 850.60it/s]\n"
     ]
    },
    {
     "name": "stdout",
     "output_type": "stream",
     "text": [
      "Accuracy: 0.5809000000000001\n"
     ]
    },
    {
     "name": "stderr",
     "output_type": "stream",
     "text": [
      "Angle: 30 - Shape type: 7: 100%|██████████| 500/500 [00:00<00:00, 896.20it/s]\n"
     ]
    },
    {
     "name": "stdout",
     "output_type": "stream",
     "text": [
      "Accuracy: 0.41138827287170665\n"
     ]
    },
    {
     "name": "stderr",
     "output_type": "stream",
     "text": [
      "Angle: 40 - Shape type: 0: 100%|██████████| 500/500 [00:00<00:00, 831.60it/s]\n"
     ]
    },
    {
     "name": "stdout",
     "output_type": "stream",
     "text": [
      "Accuracy: 0.06456754123589392\n"
     ]
    },
    {
     "name": "stderr",
     "output_type": "stream",
     "text": [
      "Angle: 40 - Shape type: 1: 100%|██████████| 500/500 [00:00<00:00, 892.72it/s]\n"
     ]
    },
    {
     "name": "stdout",
     "output_type": "stream",
     "text": [
      "Accuracy: 0.33368571428571425\n"
     ]
    },
    {
     "name": "stderr",
     "output_type": "stream",
     "text": [
      "Angle: 40 - Shape type: 2: 100%|██████████| 500/500 [00:00<00:00, 2736.50it/s]\n"
     ]
    },
    {
     "name": "stdout",
     "output_type": "stream",
     "text": [
      "No matches found.\n"
     ]
    },
    {
     "name": "stderr",
     "output_type": "stream",
     "text": [
      "Angle: 40 - Shape type: 3: 100%|██████████| 500/500 [00:00<00:00, 905.57it/s]\n"
     ]
    },
    {
     "name": "stdout",
     "output_type": "stream",
     "text": [
      "Accuracy: 0.4937289553021016\n"
     ]
    },
    {
     "name": "stderr",
     "output_type": "stream",
     "text": [
      "Angle: 40 - Shape type: 4: 100%|██████████| 500/500 [00:00<00:00, 809.73it/s]\n"
     ]
    },
    {
     "name": "stdout",
     "output_type": "stream",
     "text": [
      "Accuracy: 0.36641775688228945\n"
     ]
    },
    {
     "name": "stderr",
     "output_type": "stream",
     "text": [
      "Angle: 40 - Shape type: 5: 100%|██████████| 500/500 [00:00<00:00, 1000.80it/s]\n"
     ]
    },
    {
     "name": "stdout",
     "output_type": "stream",
     "text": [
      "Accuracy: 0.24647177419354838\n"
     ]
    },
    {
     "name": "stderr",
     "output_type": "stream",
     "text": [
      "Angle: 40 - Shape type: 6: 100%|██████████| 500/500 [00:00<00:00, 903.70it/s]\n"
     ]
    },
    {
     "name": "stdout",
     "output_type": "stream",
     "text": [
      "Accuracy: 0.4173333333333334\n"
     ]
    },
    {
     "name": "stderr",
     "output_type": "stream",
     "text": [
      "Angle: 40 - Shape type: 7: 100%|██████████| 500/500 [00:00<00:00, 1192.22it/s]\n"
     ]
    },
    {
     "name": "stdout",
     "output_type": "stream",
     "text": [
      "Accuracy: 0.2623357771914003\n"
     ]
    },
    {
     "name": "stderr",
     "output_type": "stream",
     "text": [
      "Angle: 50 - Shape type: 0: 100%|██████████| 500/500 [00:00<00:00, 811.71it/s]\n"
     ]
    },
    {
     "name": "stdout",
     "output_type": "stream",
     "text": [
      "Accuracy: 0.07856565660838963\n"
     ]
    },
    {
     "name": "stderr",
     "output_type": "stream",
     "text": [
      "Angle: 50 - Shape type: 1: 100%|██████████| 500/500 [00:00<00:00, 893.18it/s]\n"
     ]
    },
    {
     "name": "stdout",
     "output_type": "stream",
     "text": [
      "Accuracy: 0.43821428571428567\n"
     ]
    },
    {
     "name": "stderr",
     "output_type": "stream",
     "text": [
      "Angle: 50 - Shape type: 2: 100%|██████████| 500/500 [00:00<00:00, 2648.57it/s]\n"
     ]
    },
    {
     "name": "stdout",
     "output_type": "stream",
     "text": [
      "No matches found.\n"
     ]
    },
    {
     "name": "stderr",
     "output_type": "stream",
     "text": [
      "Angle: 50 - Shape type: 3: 100%|██████████| 500/500 [00:00<00:00, 796.23it/s]\n"
     ]
    },
    {
     "name": "stdout",
     "output_type": "stream",
     "text": [
      "Accuracy: 0.39531533374218747\n"
     ]
    },
    {
     "name": "stderr",
     "output_type": "stream",
     "text": [
      "Angle: 50 - Shape type: 4: 100%|██████████| 500/500 [00:00<00:00, 815.38it/s]\n"
     ]
    },
    {
     "name": "stdout",
     "output_type": "stream",
     "text": [
      "Accuracy: 0.36489789138749734\n"
     ]
    },
    {
     "name": "stderr",
     "output_type": "stream",
     "text": [
      "Angle: 50 - Shape type: 5: 100%|██████████| 500/500 [00:00<00:00, 993.87it/s] \n"
     ]
    },
    {
     "name": "stdout",
     "output_type": "stream",
     "text": [
      "Accuracy: 0.13607167004732929\n"
     ]
    },
    {
     "name": "stderr",
     "output_type": "stream",
     "text": [
      "Angle: 50 - Shape type: 6: 100%|██████████| 500/500 [00:00<00:00, 817.73it/s]\n"
     ]
    },
    {
     "name": "stdout",
     "output_type": "stream",
     "text": [
      "Accuracy: 0.33976666666666666\n"
     ]
    },
    {
     "name": "stderr",
     "output_type": "stream",
     "text": [
      "Angle: 50 - Shape type: 7: 100%|██████████| 500/500 [00:00<00:00, 1059.46it/s]\n"
     ]
    },
    {
     "name": "stdout",
     "output_type": "stream",
     "text": [
      "Accuracy: 0.22268882632518994\n"
     ]
    },
    {
     "name": "stderr",
     "output_type": "stream",
     "text": [
      "Angle: 60 - Shape type: 0: 100%|██████████| 500/500 [00:00<00:00, 647.21it/s]\n"
     ]
    },
    {
     "name": "stdout",
     "output_type": "stream",
     "text": [
      "Accuracy: 0.10721919609542621\n"
     ]
    },
    {
     "name": "stderr",
     "output_type": "stream",
     "text": [
      "Angle: 60 - Shape type: 1: 100%|██████████| 500/500 [00:00<00:00, 881.79it/s]\n"
     ]
    },
    {
     "name": "stdout",
     "output_type": "stream",
     "text": [
      "Accuracy: 0.4806809523809524\n"
     ]
    },
    {
     "name": "stderr",
     "output_type": "stream",
     "text": [
      "Angle: 60 - Shape type: 2: 100%|██████████| 500/500 [00:00<00:00, 2899.72it/s]\n"
     ]
    },
    {
     "name": "stdout",
     "output_type": "stream",
     "text": [
      "No matches found.\n"
     ]
    },
    {
     "name": "stderr",
     "output_type": "stream",
     "text": [
      "Angle: 60 - Shape type: 3: 100%|██████████| 500/500 [00:00<00:00, 959.79it/s]\n"
     ]
    },
    {
     "name": "stdout",
     "output_type": "stream",
     "text": [
      "Accuracy: 0.31974730423525605\n"
     ]
    },
    {
     "name": "stderr",
     "output_type": "stream",
     "text": [
      "Angle: 60 - Shape type: 4: 100%|██████████| 500/500 [00:00<00:00, 777.44it/s]\n"
     ]
    },
    {
     "name": "stdout",
     "output_type": "stream",
     "text": [
      "Accuracy: 0.3581634839275996\n"
     ]
    },
    {
     "name": "stderr",
     "output_type": "stream",
     "text": [
      "Angle: 60 - Shape type: 5: 100%|██████████| 500/500 [00:00<00:00, 1024.56it/s]\n"
     ]
    },
    {
     "name": "stdout",
     "output_type": "stream",
     "text": [
      "Accuracy: 0.24898373983739838\n"
     ]
    },
    {
     "name": "stderr",
     "output_type": "stream",
     "text": [
      "Angle: 60 - Shape type: 6: 100%|██████████| 500/500 [00:00<00:00, 911.72it/s]\n"
     ]
    },
    {
     "name": "stdout",
     "output_type": "stream",
     "text": [
      "Accuracy: 0.31983333333333336\n"
     ]
    },
    {
     "name": "stderr",
     "output_type": "stream",
     "text": [
      "Angle: 60 - Shape type: 7: 100%|██████████| 500/500 [00:00<00:00, 922.31it/s] \n"
     ]
    },
    {
     "name": "stdout",
     "output_type": "stream",
     "text": [
      "Accuracy: 0.2372189133154045\n"
     ]
    },
    {
     "name": "stderr",
     "output_type": "stream",
     "text": [
      "Angle: 70 - Shape type: 0: 100%|██████████| 500/500 [00:00<00:00, 669.78it/s]\n"
     ]
    },
    {
     "name": "stdout",
     "output_type": "stream",
     "text": [
      "Accuracy: 0.15418670988270497\n"
     ]
    },
    {
     "name": "stderr",
     "output_type": "stream",
     "text": [
      "Angle: 70 - Shape type: 1: 100%|██████████| 500/500 [00:00<00:00, 1013.50it/s]\n"
     ]
    },
    {
     "name": "stdout",
     "output_type": "stream",
     "text": [
      "Accuracy: 0.45410476190476184\n"
     ]
    },
    {
     "name": "stderr",
     "output_type": "stream",
     "text": [
      "Angle: 70 - Shape type: 2: 100%|██████████| 500/500 [00:00<00:00, 2896.09it/s]\n"
     ]
    },
    {
     "name": "stdout",
     "output_type": "stream",
     "text": [
      "No matches found.\n"
     ]
    },
    {
     "name": "stderr",
     "output_type": "stream",
     "text": [
      "Angle: 70 - Shape type: 3: 100%|██████████| 500/500 [00:00<00:00, 953.68it/s]\n"
     ]
    },
    {
     "name": "stdout",
     "output_type": "stream",
     "text": [
      "Accuracy: 0.28633596450497856\n"
     ]
    },
    {
     "name": "stderr",
     "output_type": "stream",
     "text": [
      "Angle: 70 - Shape type: 4: 100%|██████████| 500/500 [00:00<00:00, 809.15it/s]\n"
     ]
    },
    {
     "name": "stdout",
     "output_type": "stream",
     "text": [
      "Accuracy: 0.36121651759614054\n"
     ]
    },
    {
     "name": "stderr",
     "output_type": "stream",
     "text": [
      "Angle: 70 - Shape type: 5: 100%|██████████| 500/500 [00:00<00:00, 920.25it/s]\n"
     ]
    },
    {
     "name": "stdout",
     "output_type": "stream",
     "text": [
      "Accuracy: 0.4000677506775067\n"
     ]
    },
    {
     "name": "stderr",
     "output_type": "stream",
     "text": [
      "Angle: 70 - Shape type: 6: 100%|██████████| 500/500 [00:00<00:00, 875.65it/s]\n"
     ]
    },
    {
     "name": "stdout",
     "output_type": "stream",
     "text": [
      "Accuracy: 0.30383333333333334\n"
     ]
    },
    {
     "name": "stderr",
     "output_type": "stream",
     "text": [
      "Angle: 70 - Shape type: 7: 100%|██████████| 500/500 [00:00<00:00, 1155.59it/s]\n"
     ]
    },
    {
     "name": "stdout",
     "output_type": "stream",
     "text": [
      "Accuracy: 0.2648175271056627\n"
     ]
    },
    {
     "name": "stderr",
     "output_type": "stream",
     "text": [
      "Angle: 80 - Shape type: 0: 100%|██████████| 500/500 [00:00<00:00, 911.94it/s]\n"
     ]
    },
    {
     "name": "stdout",
     "output_type": "stream",
     "text": [
      "Accuracy: 0.20992404730060657\n"
     ]
    },
    {
     "name": "stderr",
     "output_type": "stream",
     "text": [
      "Angle: 80 - Shape type: 1: 100%|██████████| 500/500 [00:00<00:00, 987.50it/s] \n"
     ]
    },
    {
     "name": "stdout",
     "output_type": "stream",
     "text": [
      "Accuracy: 0.38834285714285716\n"
     ]
    },
    {
     "name": "stderr",
     "output_type": "stream",
     "text": [
      "Angle: 80 - Shape type: 2: 100%|██████████| 500/500 [00:00<00:00, 2623.48it/s]\n"
     ]
    },
    {
     "name": "stdout",
     "output_type": "stream",
     "text": [
      "No matches found.\n"
     ]
    },
    {
     "name": "stderr",
     "output_type": "stream",
     "text": [
      "Angle: 80 - Shape type: 3: 100%|██████████| 500/500 [00:00<00:00, 976.69it/s] \n"
     ]
    },
    {
     "name": "stdout",
     "output_type": "stream",
     "text": [
      "Accuracy: 0.2803168438983329\n"
     ]
    },
    {
     "name": "stderr",
     "output_type": "stream",
     "text": [
      "Angle: 80 - Shape type: 4: 100%|██████████| 500/500 [00:00<00:00, 810.26it/s]\n"
     ]
    },
    {
     "name": "stdout",
     "output_type": "stream",
     "text": [
      "Accuracy: 0.3487864959076694\n"
     ]
    },
    {
     "name": "stderr",
     "output_type": "stream",
     "text": [
      "Angle: 80 - Shape type: 5: 100%|██████████| 500/500 [00:00<00:00, 1016.81it/s]\n"
     ]
    },
    {
     "name": "stdout",
     "output_type": "stream",
     "text": [
      "Accuracy: 0.5483468286099865\n"
     ]
    },
    {
     "name": "stderr",
     "output_type": "stream",
     "text": [
      "Angle: 80 - Shape type: 6: 100%|██████████| 500/500 [00:00<00:00, 981.36it/s] \n"
     ]
    },
    {
     "name": "stdout",
     "output_type": "stream",
     "text": [
      "Accuracy: 0.3165666666666666\n"
     ]
    },
    {
     "name": "stderr",
     "output_type": "stream",
     "text": [
      "Angle: 80 - Shape type: 7: 100%|██████████| 500/500 [00:00<00:00, 1269.98it/s]\n"
     ]
    },
    {
     "name": "stdout",
     "output_type": "stream",
     "text": [
      "Accuracy: 0.3132845905281803\n"
     ]
    },
    {
     "name": "stderr",
     "output_type": "stream",
     "text": [
      "Angle: 90 - Shape type: 0: 100%|██████████| 500/500 [00:00<00:00, 834.96it/s]\n"
     ]
    },
    {
     "name": "stdout",
     "output_type": "stream",
     "text": [
      "Accuracy: 0.2413201845109317\n"
     ]
    },
    {
     "name": "stderr",
     "output_type": "stream",
     "text": [
      "Angle: 90 - Shape type: 1: 100%|██████████| 500/500 [00:00<00:00, 1022.74it/s]\n"
     ]
    },
    {
     "name": "stdout",
     "output_type": "stream",
     "text": [
      "Accuracy: 0.3583619047619047\n"
     ]
    },
    {
     "name": "stderr",
     "output_type": "stream",
     "text": [
      "Angle: 90 - Shape type: 2: 100%|██████████| 500/500 [00:00<00:00, 2934.39it/s]\n"
     ]
    },
    {
     "name": "stdout",
     "output_type": "stream",
     "text": [
      "No matches found.\n"
     ]
    },
    {
     "name": "stderr",
     "output_type": "stream",
     "text": [
      "Angle: 90 - Shape type: 3: 100%|██████████| 500/500 [00:00<00:00, 1014.29it/s]\n"
     ]
    },
    {
     "name": "stdout",
     "output_type": "stream",
     "text": [
      "Accuracy: 0.2820453196959221\n"
     ]
    },
    {
     "name": "stderr",
     "output_type": "stream",
     "text": [
      "Angle: 90 - Shape type: 4: 100%|██████████| 500/500 [00:00<00:00, 889.69it/s]\n"
     ]
    },
    {
     "name": "stdout",
     "output_type": "stream",
     "text": [
      "Accuracy: 0.3401677469856893\n"
     ]
    },
    {
     "name": "stderr",
     "output_type": "stream",
     "text": [
      "Angle: 90 - Shape type: 5: 100%|██████████| 500/500 [00:00<00:00, 1065.97it/s]\n"
     ]
    },
    {
     "name": "stdout",
     "output_type": "stream",
     "text": [
      "Accuracy: 0.6749161636485579\n"
     ]
    },
    {
     "name": "stderr",
     "output_type": "stream",
     "text": [
      "Angle: 90 - Shape type: 6: 100%|██████████| 500/500 [00:00<00:00, 1056.10it/s]\n"
     ]
    },
    {
     "name": "stdout",
     "output_type": "stream",
     "text": [
      "Accuracy: 0.3313666666666667\n"
     ]
    },
    {
     "name": "stderr",
     "output_type": "stream",
     "text": [
      "Angle: 90 - Shape type: 7: 100%|██████████| 500/500 [00:00<00:00, 1303.54it/s]\n"
     ]
    },
    {
     "name": "stdout",
     "output_type": "stream",
     "text": [
      "Accuracy: 0.33207549072374654\n"
     ]
    },
    {
     "name": "stderr",
     "output_type": "stream",
     "text": [
      "Angle: 100 - Shape type: 0: 100%|██████████| 500/500 [00:00<00:00, 958.98it/s]\n"
     ]
    },
    {
     "name": "stdout",
     "output_type": "stream",
     "text": [
      "Accuracy: 0.192651231991825\n"
     ]
    },
    {
     "name": "stderr",
     "output_type": "stream",
     "text": [
      "Angle: 100 - Shape type: 1: 100%|██████████| 500/500 [00:00<00:00, 955.91it/s]\n"
     ]
    },
    {
     "name": "stdout",
     "output_type": "stream",
     "text": [
      "Accuracy: 0.3902904761904762\n"
     ]
    },
    {
     "name": "stderr",
     "output_type": "stream",
     "text": [
      "Angle: 100 - Shape type: 2: 100%|██████████| 500/500 [00:00<00:00, 2963.27it/s]\n"
     ]
    },
    {
     "name": "stdout",
     "output_type": "stream",
     "text": [
      "No matches found.\n"
     ]
    },
    {
     "name": "stderr",
     "output_type": "stream",
     "text": [
      "Angle: 100 - Shape type: 3: 100%|██████████| 500/500 [00:00<00:00, 1043.34it/s]\n"
     ]
    },
    {
     "name": "stdout",
     "output_type": "stream",
     "text": [
      "Accuracy: 0.28942688351505985\n"
     ]
    },
    {
     "name": "stderr",
     "output_type": "stream",
     "text": [
      "Angle: 100 - Shape type: 4: 100%|██████████| 500/500 [00:00<00:00, 818.09it/s]\n"
     ]
    },
    {
     "name": "stdout",
     "output_type": "stream",
     "text": [
      "Accuracy: 0.34313855485337647\n"
     ]
    },
    {
     "name": "stderr",
     "output_type": "stream",
     "text": [
      "Angle: 100 - Shape type: 5: 100%|██████████| 500/500 [00:00<00:00, 1053.98it/s]\n"
     ]
    },
    {
     "name": "stdout",
     "output_type": "stream",
     "text": [
      "Accuracy: 0.7793779580797836\n"
     ]
    },
    {
     "name": "stderr",
     "output_type": "stream",
     "text": [
      "Angle: 100 - Shape type: 6: 100%|██████████| 500/500 [00:00<00:00, 997.17it/s] \n"
     ]
    },
    {
     "name": "stdout",
     "output_type": "stream",
     "text": [
      "Accuracy: 0.32483333333333336\n"
     ]
    },
    {
     "name": "stderr",
     "output_type": "stream",
     "text": [
      "Angle: 100 - Shape type: 7: 100%|██████████| 500/500 [00:00<00:00, 1216.65it/s]\n"
     ]
    },
    {
     "name": "stdout",
     "output_type": "stream",
     "text": [
      "Accuracy: 0.3409594829948812\n"
     ]
    },
    {
     "name": "stderr",
     "output_type": "stream",
     "text": [
      "Angle: 110 - Shape type: 0: 100%|██████████| 500/500 [00:00<00:00, 940.80it/s]\n"
     ]
    },
    {
     "name": "stdout",
     "output_type": "stream",
     "text": [
      "Accuracy: 0.13486897834152722\n"
     ]
    },
    {
     "name": "stderr",
     "output_type": "stream",
     "text": [
      "Angle: 110 - Shape type: 1: 100%|██████████| 500/500 [00:00<00:00, 964.35it/s]\n"
     ]
    },
    {
     "name": "stdout",
     "output_type": "stream",
     "text": [
      "Accuracy: 0.45168095238095235\n"
     ]
    },
    {
     "name": "stderr",
     "output_type": "stream",
     "text": [
      "Angle: 110 - Shape type: 2: 100%|██████████| 500/500 [00:00<00:00, 2998.99it/s]\n"
     ]
    },
    {
     "name": "stdout",
     "output_type": "stream",
     "text": [
      "No matches found.\n"
     ]
    },
    {
     "name": "stderr",
     "output_type": "stream",
     "text": [
      "Angle: 110 - Shape type: 3: 100%|██████████| 500/500 [00:00<00:00, 1020.56it/s]\n"
     ]
    },
    {
     "name": "stdout",
     "output_type": "stream",
     "text": [
      "Accuracy: 0.29838603280487047\n"
     ]
    },
    {
     "name": "stderr",
     "output_type": "stream",
     "text": [
      "Angle: 110 - Shape type: 4: 100%|██████████| 500/500 [00:00<00:00, 869.42it/s]\n"
     ]
    },
    {
     "name": "stdout",
     "output_type": "stream",
     "text": [
      "Accuracy: 0.3368983078607796\n"
     ]
    },
    {
     "name": "stderr",
     "output_type": "stream",
     "text": [
      "Angle: 110 - Shape type: 5: 100%|██████████| 500/500 [00:00<00:00, 1017.58it/s]\n"
     ]
    },
    {
     "name": "stdout",
     "output_type": "stream",
     "text": [
      "Accuracy: 0.809885290148448\n"
     ]
    },
    {
     "name": "stderr",
     "output_type": "stream",
     "text": [
      "Angle: 110 - Shape type: 6: 100%|██████████| 500/500 [-1:59:59<00:00, -253.39it/s]\n"
     ]
    },
    {
     "name": "stdout",
     "output_type": "stream",
     "text": [
      "Accuracy: 0.3229666666666667\n"
     ]
    },
    {
     "name": "stderr",
     "output_type": "stream",
     "text": [
      "Angle: 110 - Shape type: 7: 100%|██████████| 500/500 [00:00<00:00, 1284.63it/s]\n"
     ]
    },
    {
     "name": "stdout",
     "output_type": "stream",
     "text": [
      "Accuracy: 0.3090439268687003\n"
     ]
    },
    {
     "name": "stderr",
     "output_type": "stream",
     "text": [
      "Angle: 120 - Shape type: 0: 100%|██████████| 500/500 [00:00<00:00, 784.27it/s]\n"
     ]
    },
    {
     "name": "stdout",
     "output_type": "stream",
     "text": [
      "Accuracy: 0.09730397067845098\n"
     ]
    },
    {
     "name": "stderr",
     "output_type": "stream",
     "text": [
      "Angle: 120 - Shape type: 1: 100%|██████████| 500/500 [00:00<00:00, 935.00it/s]\n"
     ]
    },
    {
     "name": "stdout",
     "output_type": "stream",
     "text": [
      "Accuracy: 0.4832095238095238\n"
     ]
    },
    {
     "name": "stderr",
     "output_type": "stream",
     "text": [
      "Angle: 120 - Shape type: 2: 100%|██████████| 500/500 [00:00<00:00, 2956.58it/s]\n"
     ]
    },
    {
     "name": "stdout",
     "output_type": "stream",
     "text": [
      "No matches found.\n"
     ]
    },
    {
     "name": "stderr",
     "output_type": "stream",
     "text": [
      "Angle: 120 - Shape type: 3: 100%|██████████| 500/500 [00:00<00:00, 997.07it/s] \n"
     ]
    },
    {
     "name": "stdout",
     "output_type": "stream",
     "text": [
      "Accuracy: 0.31589924519924517\n"
     ]
    },
    {
     "name": "stderr",
     "output_type": "stream",
     "text": [
      "Angle: 120 - Shape type: 4: 100%|██████████| 500/500 [00:00<00:00, 865.63it/s]\n"
     ]
    },
    {
     "name": "stdout",
     "output_type": "stream",
     "text": [
      "Accuracy: 0.339620172689443\n"
     ]
    },
    {
     "name": "stderr",
     "output_type": "stream",
     "text": [
      "Angle: 120 - Shape type: 5: 100%|██████████| 500/500 [00:00<00:00, 974.36it/s] \n"
     ]
    },
    {
     "name": "stdout",
     "output_type": "stream",
     "text": [
      "Accuracy: 0.7914634146341463\n"
     ]
    },
    {
     "name": "stderr",
     "output_type": "stream",
     "text": [
      "Angle: 120 - Shape type: 6: 100%|██████████| 500/500 [00:00<00:00, 1011.59it/s]\n"
     ]
    },
    {
     "name": "stdout",
     "output_type": "stream",
     "text": [
      "Accuracy: 0.32906666666666673\n"
     ]
    },
    {
     "name": "stderr",
     "output_type": "stream",
     "text": [
      "Angle: 120 - Shape type: 7: 100%|██████████| 500/500 [00:00<00:00, 1282.07it/s]\n"
     ]
    },
    {
     "name": "stdout",
     "output_type": "stream",
     "text": [
      "Accuracy: 0.29660571058334634\n"
     ]
    },
    {
     "name": "stderr",
     "output_type": "stream",
     "text": [
      "Angle: 130 - Shape type: 0: 100%|██████████| 500/500 [00:00<00:00, 955.94it/s]\n"
     ]
    },
    {
     "name": "stdout",
     "output_type": "stream",
     "text": [
      "Accuracy: 0.0784845585875665\n"
     ]
    },
    {
     "name": "stderr",
     "output_type": "stream",
     "text": [
      "Angle: 130 - Shape type: 1: 100%|██████████| 500/500 [00:00<00:00, 1023.40it/s]\n"
     ]
    },
    {
     "name": "stdout",
     "output_type": "stream",
     "text": [
      "Accuracy: 0.4403714285714286\n"
     ]
    },
    {
     "name": "stderr",
     "output_type": "stream",
     "text": [
      "Angle: 130 - Shape type: 2: 100%|██████████| 500/500 [00:00<00:00, 2981.50it/s]\n"
     ]
    },
    {
     "name": "stdout",
     "output_type": "stream",
     "text": [
      "No matches found.\n"
     ]
    },
    {
     "name": "stderr",
     "output_type": "stream",
     "text": [
      "Angle: 130 - Shape type: 3: 100%|██████████| 500/500 [00:00<00:00, 1019.00it/s]\n"
     ]
    },
    {
     "name": "stdout",
     "output_type": "stream",
     "text": [
      "Accuracy: 0.3460193502778673\n"
     ]
    },
    {
     "name": "stderr",
     "output_type": "stream",
     "text": [
      "Angle: 130 - Shape type: 4: 100%|██████████| 500/500 [00:00<00:00, 900.93it/s]\n"
     ]
    },
    {
     "name": "stdout",
     "output_type": "stream",
     "text": [
      "Accuracy: 0.3420832822803743\n"
     ]
    },
    {
     "name": "stderr",
     "output_type": "stream",
     "text": [
      "Angle: 130 - Shape type: 5: 100%|██████████| 500/500 [00:00<00:00, 1067.84it/s]\n"
     ]
    },
    {
     "name": "stdout",
     "output_type": "stream",
     "text": [
      "Accuracy: 0.7262145748987854\n"
     ]
    },
    {
     "name": "stderr",
     "output_type": "stream",
     "text": [
      "Angle: 130 - Shape type: 6: 100%|██████████| 500/500 [00:00<00:00, 1008.00it/s]\n"
     ]
    },
    {
     "name": "stdout",
     "output_type": "stream",
     "text": [
      "Accuracy: 0.3370666666666666\n"
     ]
    },
    {
     "name": "stderr",
     "output_type": "stream",
     "text": [
      "Angle: 130 - Shape type: 7: 100%|██████████| 500/500 [00:00<00:00, 1294.81it/s]\n"
     ]
    },
    {
     "name": "stdout",
     "output_type": "stream",
     "text": [
      "Accuracy: 0.2727506868131868\n"
     ]
    },
    {
     "name": "stderr",
     "output_type": "stream",
     "text": [
      "Angle: 140 - Shape type: 0: 100%|██████████| 500/500 [00:00<00:00, 919.72it/s]\n"
     ]
    },
    {
     "name": "stdout",
     "output_type": "stream",
     "text": [
      "Accuracy: 0.08161468257310103\n"
     ]
    },
    {
     "name": "stderr",
     "output_type": "stream",
     "text": [
      "Angle: 140 - Shape type: 1: 100%|██████████| 500/500 [00:00<00:00, 1026.67it/s]\n"
     ]
    },
    {
     "name": "stdout",
     "output_type": "stream",
     "text": [
      "Accuracy: 0.3586523809523809\n"
     ]
    },
    {
     "name": "stderr",
     "output_type": "stream",
     "text": [
      "Angle: 140 - Shape type: 2: 100%|██████████| 500/500 [00:00<00:00, 2964.07it/s]\n"
     ]
    },
    {
     "name": "stdout",
     "output_type": "stream",
     "text": [
      "No matches found.\n"
     ]
    },
    {
     "name": "stderr",
     "output_type": "stream",
     "text": [
      "Angle: 140 - Shape type: 3: 100%|██████████| 500/500 [00:00<00:00, 1012.04it/s]\n"
     ]
    },
    {
     "name": "stdout",
     "output_type": "stream",
     "text": [
      "Accuracy: 0.3870047064936844\n"
     ]
    },
    {
     "name": "stderr",
     "output_type": "stream",
     "text": [
      "Angle: 140 - Shape type: 4: 100%|██████████| 500/500 [00:00<00:00, 902.53it/s]\n"
     ]
    },
    {
     "name": "stdout",
     "output_type": "stream",
     "text": [
      "Accuracy: 0.32822229528202673\n"
     ]
    },
    {
     "name": "stderr",
     "output_type": "stream",
     "text": [
      "Angle: 140 - Shape type: 5: 100%|██████████| 500/500 [00:00<00:00, 901.69it/s] \n"
     ]
    },
    {
     "name": "stdout",
     "output_type": "stream",
     "text": [
      "Accuracy: 0.6304318488529014\n"
     ]
    },
    {
     "name": "stderr",
     "output_type": "stream",
     "text": [
      "Angle: 140 - Shape type: 6: 100%|██████████| 500/500 [00:00<00:00, 958.96it/s]\n"
     ]
    },
    {
     "name": "stdout",
     "output_type": "stream",
     "text": [
      "Accuracy: 0.3320000000000001\n"
     ]
    },
    {
     "name": "stderr",
     "output_type": "stream",
     "text": [
      "Angle: 140 - Shape type: 7: 100%|██████████| 500/500 [00:00<00:00, 1282.63it/s]\n"
     ]
    },
    {
     "name": "stdout",
     "output_type": "stream",
     "text": [
      "Accuracy: 0.2604063899063899\n"
     ]
    },
    {
     "name": "stderr",
     "output_type": "stream",
     "text": [
      "Angle: 150 - Shape type: 0: 100%|██████████| 500/500 [00:00<00:00, 966.32it/s]\n"
     ]
    },
    {
     "name": "stdout",
     "output_type": "stream",
     "text": [
      "Accuracy: 0.10324139512177788\n"
     ]
    },
    {
     "name": "stderr",
     "output_type": "stream",
     "text": [
      "Angle: 150 - Shape type: 1: 100%|██████████| 500/500 [00:00<00:00, 994.43it/s] \n"
     ]
    },
    {
     "name": "stdout",
     "output_type": "stream",
     "text": [
      "Accuracy: 0.311547619047619\n"
     ]
    },
    {
     "name": "stderr",
     "output_type": "stream",
     "text": [
      "Angle: 150 - Shape type: 2: 100%|██████████| 500/500 [00:00<00:00, 2961.78it/s]\n"
     ]
    },
    {
     "name": "stdout",
     "output_type": "stream",
     "text": [
      "No matches found.\n"
     ]
    },
    {
     "name": "stderr",
     "output_type": "stream",
     "text": [
      "Angle: 150 - Shape type: 3: 100%|██████████| 500/500 [00:00<00:00, 890.87it/s]\n"
     ]
    },
    {
     "name": "stdout",
     "output_type": "stream",
     "text": [
      "Accuracy: 0.4275151257115185\n"
     ]
    },
    {
     "name": "stderr",
     "output_type": "stream",
     "text": [
      "Angle: 150 - Shape type: 4: 100%|██████████| 500/500 [00:00<00:00, 818.03it/s]\n"
     ]
    },
    {
     "name": "stdout",
     "output_type": "stream",
     "text": [
      "Accuracy: 0.32825418385103206\n"
     ]
    },
    {
     "name": "stderr",
     "output_type": "stream",
     "text": [
      "Angle: 150 - Shape type: 5: 100%|██████████| 500/500 [00:00<00:00, 1069.25it/s]\n"
     ]
    },
    {
     "name": "stdout",
     "output_type": "stream",
     "text": [
      "Accuracy: 0.5622736418511066\n"
     ]
    },
    {
     "name": "stderr",
     "output_type": "stream",
     "text": [
      "Angle: 150 - Shape type: 6: 100%|██████████| 500/500 [00:00<00:00, 1018.09it/s]\n"
     ]
    },
    {
     "name": "stdout",
     "output_type": "stream",
     "text": [
      "Accuracy: 0.3255333333333333\n"
     ]
    },
    {
     "name": "stderr",
     "output_type": "stream",
     "text": [
      "Angle: 150 - Shape type: 7: 100%|██████████| 500/500 [00:00<00:00, 1295.43it/s]\n"
     ]
    },
    {
     "name": "stdout",
     "output_type": "stream",
     "text": [
      "Accuracy: 0.2333465722170041\n"
     ]
    },
    {
     "name": "stderr",
     "output_type": "stream",
     "text": [
      "Angle: 160 - Shape type: 0: 100%|██████████| 500/500 [00:00<00:00, 948.30it/s]\n"
     ]
    },
    {
     "name": "stdout",
     "output_type": "stream",
     "text": [
      "Accuracy: 0.14859528493653124\n"
     ]
    },
    {
     "name": "stderr",
     "output_type": "stream",
     "text": [
      "Angle: 160 - Shape type: 1: 100%|██████████| 500/500 [00:00<00:00, 1003.43it/s]\n"
     ]
    },
    {
     "name": "stdout",
     "output_type": "stream",
     "text": [
      "Accuracy: 0.35255714285714285\n"
     ]
    },
    {
     "name": "stderr",
     "output_type": "stream",
     "text": [
      "Angle: 160 - Shape type: 2: 100%|██████████| 500/500 [00:00<00:00, 2913.70it/s]\n"
     ]
    },
    {
     "name": "stdout",
     "output_type": "stream",
     "text": [
      "No matches found.\n"
     ]
    },
    {
     "name": "stderr",
     "output_type": "stream",
     "text": [
      "Angle: 160 - Shape type: 3: 100%|██████████| 500/500 [00:00<00:00, 1014.79it/s]\n"
     ]
    },
    {
     "name": "stdout",
     "output_type": "stream",
     "text": [
      "Accuracy: 0.4654362481664144\n"
     ]
    },
    {
     "name": "stderr",
     "output_type": "stream",
     "text": [
      "Angle: 160 - Shape type: 4: 100%|██████████| 500/500 [00:00<00:00, 898.46it/s]\n"
     ]
    },
    {
     "name": "stdout",
     "output_type": "stream",
     "text": [
      "Accuracy: 0.3287303610077239\n"
     ]
    },
    {
     "name": "stderr",
     "output_type": "stream",
     "text": [
      "Angle: 160 - Shape type: 5: 100%|██████████| 500/500 [00:00<00:00, 1040.40it/s]\n"
     ]
    },
    {
     "name": "stdout",
     "output_type": "stream",
     "text": [
      "Accuracy: 0.4745\n"
     ]
    },
    {
     "name": "stderr",
     "output_type": "stream",
     "text": [
      "Angle: 160 - Shape type: 6: 100%|██████████| 500/500 [00:00<00:00, 1026.68it/s]\n"
     ]
    },
    {
     "name": "stdout",
     "output_type": "stream",
     "text": [
      "Accuracy: 0.3176333333333334\n"
     ]
    },
    {
     "name": "stderr",
     "output_type": "stream",
     "text": [
      "Angle: 160 - Shape type: 7: 100%|██████████| 500/500 [00:00<00:00, 1262.82it/s]\n"
     ]
    },
    {
     "name": "stdout",
     "output_type": "stream",
     "text": [
      "Accuracy: 0.21597977714482566\n"
     ]
    },
    {
     "name": "stderr",
     "output_type": "stream",
     "text": [
      "Angle: 170 - Shape type: 0: 100%|██████████| 500/500 [00:00<00:00, 942.64it/s]\n"
     ]
    },
    {
     "name": "stdout",
     "output_type": "stream",
     "text": [
      "Accuracy: 0.20482139014912534\n"
     ]
    },
    {
     "name": "stderr",
     "output_type": "stream",
     "text": [
      "Angle: 170 - Shape type: 1: 100%|██████████| 500/500 [00:00<00:00, 1013.18it/s]\n"
     ]
    },
    {
     "name": "stdout",
     "output_type": "stream",
     "text": [
      "Accuracy: 0.4616666666666666\n"
     ]
    },
    {
     "name": "stderr",
     "output_type": "stream",
     "text": [
      "Angle: 170 - Shape type: 2: 100%|██████████| 500/500 [00:00<00:00, 2963.61it/s]\n"
     ]
    },
    {
     "name": "stdout",
     "output_type": "stream",
     "text": [
      "No matches found.\n"
     ]
    },
    {
     "name": "stderr",
     "output_type": "stream",
     "text": [
      "Angle: 170 - Shape type: 3: 100%|██████████| 500/500 [00:00<00:00, 994.82it/s] \n"
     ]
    },
    {
     "name": "stdout",
     "output_type": "stream",
     "text": [
      "Accuracy: 0.5006596885141003\n"
     ]
    },
    {
     "name": "stderr",
     "output_type": "stream",
     "text": [
      "Angle: 170 - Shape type: 4: 100%|██████████| 500/500 [00:00<00:00, 764.42it/s]\n"
     ]
    },
    {
     "name": "stdout",
     "output_type": "stream",
     "text": [
      "Accuracy: 0.33335887333014474\n"
     ]
    },
    {
     "name": "stderr",
     "output_type": "stream",
     "text": [
      "Angle: 170 - Shape type: 5: 100%|██████████| 500/500 [00:00<00:00, 1021.93it/s]\n"
     ]
    },
    {
     "name": "stdout",
     "output_type": "stream",
     "text": [
      "Accuracy: 0.4262333333333333\n"
     ]
    },
    {
     "name": "stderr",
     "output_type": "stream",
     "text": [
      "Angle: 170 - Shape type: 6: 100%|██████████| 500/500 [00:00<00:00, 992.74it/s] \n"
     ]
    },
    {
     "name": "stdout",
     "output_type": "stream",
     "text": [
      "Accuracy: 0.3305666666666667\n"
     ]
    },
    {
     "name": "stderr",
     "output_type": "stream",
     "text": [
      "Angle: 170 - Shape type: 7: 100%|██████████| 500/500 [00:00<00:00, 1263.38it/s]\n"
     ]
    },
    {
     "name": "stdout",
     "output_type": "stream",
     "text": [
      "Accuracy: 0.2102862457407912\n"
     ]
    },
    {
     "name": "stderr",
     "output_type": "stream",
     "text": [
      "Angle: 180 - Shape type: 0: 100%|██████████| 500/500 [00:00<00:00, 945.84it/s]\n"
     ]
    },
    {
     "name": "stdout",
     "output_type": "stream",
     "text": [
      "Accuracy: 0.24137534073427291\n"
     ]
    },
    {
     "name": "stderr",
     "output_type": "stream",
     "text": [
      "Angle: 180 - Shape type: 1: 100%|██████████| 500/500 [00:00<00:00, 1006.42it/s]\n"
     ]
    },
    {
     "name": "stdout",
     "output_type": "stream",
     "text": [
      "Accuracy: 0.5143523809523809\n"
     ]
    },
    {
     "name": "stderr",
     "output_type": "stream",
     "text": [
      "Angle: 180 - Shape type: 2: 100%|██████████| 500/500 [00:00<00:00, 2927.54it/s]\n"
     ]
    },
    {
     "name": "stdout",
     "output_type": "stream",
     "text": [
      "No matches found.\n"
     ]
    },
    {
     "name": "stderr",
     "output_type": "stream",
     "text": [
      "Angle: 180 - Shape type: 3: 100%|██████████| 500/500 [00:00<00:00, 1021.49it/s]\n"
     ]
    },
    {
     "name": "stdout",
     "output_type": "stream",
     "text": [
      "Accuracy: 0.5156561688311687\n"
     ]
    },
    {
     "name": "stderr",
     "output_type": "stream",
     "text": [
      "Angle: 180 - Shape type: 4: 100%|██████████| 500/500 [00:00<00:00, 889.16it/s]\n"
     ]
    },
    {
     "name": "stdout",
     "output_type": "stream",
     "text": [
      "Accuracy: 0.333425959172416\n"
     ]
    },
    {
     "name": "stderr",
     "output_type": "stream",
     "text": [
      "Angle: 180 - Shape type: 5: 100%|██████████| 500/500 [00:00<00:00, 1080.03it/s]\n"
     ]
    },
    {
     "name": "stdout",
     "output_type": "stream",
     "text": [
      "Accuracy: 0.41910000000000003\n"
     ]
    },
    {
     "name": "stderr",
     "output_type": "stream",
     "text": [
      "Angle: 180 - Shape type: 6: 100%|██████████| 500/500 [00:00<00:00, 1026.01it/s]\n"
     ]
    },
    {
     "name": "stdout",
     "output_type": "stream",
     "text": [
      "Accuracy: 0.33696666666666664\n"
     ]
    },
    {
     "name": "stderr",
     "output_type": "stream",
     "text": [
      "Angle: 180 - Shape type: 7: 100%|██████████| 500/500 [00:00<00:00, 1317.03it/s]\n"
     ]
    },
    {
     "name": "stdout",
     "output_type": "stream",
     "text": [
      "Accuracy: 0.21270879338526397\n"
     ]
    },
    {
     "name": "stderr",
     "output_type": "stream",
     "text": [
      "Angle: 190 - Shape type: 0: 100%|██████████| 500/500 [00:00<00:00, 936.56it/s]\n"
     ]
    },
    {
     "name": "stdout",
     "output_type": "stream",
     "text": [
      "Accuracy: 0.21428731730177414\n"
     ]
    },
    {
     "name": "stderr",
     "output_type": "stream",
     "text": [
      "Angle: 190 - Shape type: 1: 100%|██████████| 500/500 [00:00<00:00, 1017.31it/s]\n"
     ]
    },
    {
     "name": "stdout",
     "output_type": "stream",
     "text": [
      "Accuracy: 0.4642142857142857\n"
     ]
    },
    {
     "name": "stderr",
     "output_type": "stream",
     "text": [
      "Angle: 190 - Shape type: 2: 100%|██████████| 500/500 [00:00<00:00, 2906.21it/s]\n"
     ]
    },
    {
     "name": "stdout",
     "output_type": "stream",
     "text": [
      "No matches found.\n"
     ]
    },
    {
     "name": "stderr",
     "output_type": "stream",
     "text": [
      "Angle: 190 - Shape type: 3: 100%|██████████| 500/500 [00:00<00:00, 1030.41it/s]\n"
     ]
    },
    {
     "name": "stdout",
     "output_type": "stream",
     "text": [
      "Accuracy: 0.4935524475524476\n"
     ]
    },
    {
     "name": "stderr",
     "output_type": "stream",
     "text": [
      "Angle: 190 - Shape type: 4: 100%|██████████| 500/500 [00:00<00:00, 915.07it/s]\n"
     ]
    },
    {
     "name": "stdout",
     "output_type": "stream",
     "text": [
      "Accuracy: 0.3277798678584451\n"
     ]
    },
    {
     "name": "stderr",
     "output_type": "stream",
     "text": [
      "Angle: 190 - Shape type: 5: 100%|██████████| 500/500 [00:00<00:00, 1044.86it/s]\n"
     ]
    },
    {
     "name": "stdout",
     "output_type": "stream",
     "text": [
      "Accuracy: 0.441\n"
     ]
    },
    {
     "name": "stderr",
     "output_type": "stream",
     "text": [
      "Angle: 190 - Shape type: 6: 100%|██████████| 500/500 [00:00<00:00, 1039.97it/s]\n"
     ]
    },
    {
     "name": "stdout",
     "output_type": "stream",
     "text": [
      "Accuracy: 0.35680000000000006\n"
     ]
    },
    {
     "name": "stderr",
     "output_type": "stream",
     "text": [
      "Angle: 190 - Shape type: 7: 100%|██████████| 500/500 [00:00<00:00, 1268.13it/s]\n"
     ]
    },
    {
     "name": "stdout",
     "output_type": "stream",
     "text": [
      "Accuracy: 0.22339950576901696\n"
     ]
    },
    {
     "name": "stderr",
     "output_type": "stream",
     "text": [
      "Angle: 200 - Shape type: 0: 100%|██████████| 500/500 [00:00<00:00, 902.18it/s]\n"
     ]
    },
    {
     "name": "stdout",
     "output_type": "stream",
     "text": [
      "Accuracy: 0.1463408623946641\n"
     ]
    },
    {
     "name": "stderr",
     "output_type": "stream",
     "text": [
      "Angle: 200 - Shape type: 1: 100%|██████████| 500/500 [00:00<00:00, 1014.27it/s]\n"
     ]
    },
    {
     "name": "stdout",
     "output_type": "stream",
     "text": [
      "Accuracy: 0.355347619047619\n"
     ]
    },
    {
     "name": "stderr",
     "output_type": "stream",
     "text": [
      "Angle: 200 - Shape type: 2: 100%|██████████| 500/500 [00:00<00:00, 2968.27it/s]\n"
     ]
    },
    {
     "name": "stdout",
     "output_type": "stream",
     "text": [
      "No matches found.\n"
     ]
    },
    {
     "name": "stderr",
     "output_type": "stream",
     "text": [
      "Angle: 200 - Shape type: 3: 100%|██████████| 500/500 [00:00<00:00, 1030.67it/s]\n"
     ]
    },
    {
     "name": "stdout",
     "output_type": "stream",
     "text": [
      "Accuracy: 0.46756214449100214\n"
     ]
    },
    {
     "name": "stderr",
     "output_type": "stream",
     "text": [
      "Angle: 200 - Shape type: 4: 100%|██████████| 500/500 [00:00<00:00, 864.34it/s]\n"
     ]
    },
    {
     "name": "stdout",
     "output_type": "stream",
     "text": [
      "Accuracy: 0.3205867910753771\n"
     ]
    },
    {
     "name": "stderr",
     "output_type": "stream",
     "text": [
      "Angle: 200 - Shape type: 5: 100%|██████████| 500/500 [-1:59:58<00:00, -245.71it/s]\n"
     ]
    },
    {
     "name": "stdout",
     "output_type": "stream",
     "text": [
      "Accuracy: 0.4870666666666666\n"
     ]
    },
    {
     "name": "stderr",
     "output_type": "stream",
     "text": [
      "Angle: 200 - Shape type: 6: 100%|██████████| 500/500 [00:00<00:00, 1024.17it/s]\n"
     ]
    },
    {
     "name": "stdout",
     "output_type": "stream",
     "text": [
      "Accuracy: 0.3315666666666667\n"
     ]
    },
    {
     "name": "stderr",
     "output_type": "stream",
     "text": [
      "Angle: 200 - Shape type: 7: 100%|██████████| 500/500 [00:00<00:00, 1287.94it/s]\n"
     ]
    },
    {
     "name": "stdout",
     "output_type": "stream",
     "text": [
      "Accuracy: 0.2291868140029905\n"
     ]
    },
    {
     "name": "stderr",
     "output_type": "stream",
     "text": [
      "Angle: 210 - Shape type: 0: 100%|██████████| 500/500 [00:00<00:00, 962.18it/s]\n"
     ]
    },
    {
     "name": "stdout",
     "output_type": "stream",
     "text": [
      "Accuracy: 0.1084390600580906\n"
     ]
    },
    {
     "name": "stderr",
     "output_type": "stream",
     "text": [
      "Angle: 210 - Shape type: 1: 100%|██████████| 500/500 [00:00<00:00, 994.86it/s] \n"
     ]
    },
    {
     "name": "stdout",
     "output_type": "stream",
     "text": [
      "Accuracy: 0.30272380952380945\n"
     ]
    },
    {
     "name": "stderr",
     "output_type": "stream",
     "text": [
      "Angle: 210 - Shape type: 2: 100%|██████████| 500/500 [00:00<00:00, 3000.68it/s]\n"
     ]
    },
    {
     "name": "stdout",
     "output_type": "stream",
     "text": [
      "No matches found.\n"
     ]
    },
    {
     "name": "stderr",
     "output_type": "stream",
     "text": [
      "Angle: 210 - Shape type: 3: 100%|██████████| 500/500 [00:00<00:00, 1026.37it/s]\n"
     ]
    },
    {
     "name": "stdout",
     "output_type": "stream",
     "text": [
      "Accuracy: 0.41748131071778366\n"
     ]
    },
    {
     "name": "stderr",
     "output_type": "stream",
     "text": [
      "Angle: 210 - Shape type: 4: 100%|██████████| 500/500 [00:00<00:00, 896.79it/s]\n"
     ]
    },
    {
     "name": "stdout",
     "output_type": "stream",
     "text": [
      "Accuracy: 0.32966686610598606\n"
     ]
    },
    {
     "name": "stderr",
     "output_type": "stream",
     "text": [
      "Angle: 210 - Shape type: 5: 100%|██████████| 500/500 [00:00<00:00, 1052.97it/s]\n"
     ]
    },
    {
     "name": "stdout",
     "output_type": "stream",
     "text": [
      "Accuracy: 0.5525821596244131\n"
     ]
    },
    {
     "name": "stderr",
     "output_type": "stream",
     "text": [
      "Angle: 210 - Shape type: 6: 100%|██████████| 500/500 [00:00<00:00, 1044.07it/s]\n"
     ]
    },
    {
     "name": "stdout",
     "output_type": "stream",
     "text": [
      "Accuracy: 0.3346\n"
     ]
    },
    {
     "name": "stderr",
     "output_type": "stream",
     "text": [
      "Angle: 210 - Shape type: 7: 100%|██████████| 500/500 [00:00<00:00, 1258.65it/s]\n"
     ]
    },
    {
     "name": "stdout",
     "output_type": "stream",
     "text": [
      "Accuracy: 0.25561922598820186\n"
     ]
    },
    {
     "name": "stderr",
     "output_type": "stream",
     "text": [
      "Angle: 220 - Shape type: 0: 100%|██████████| 500/500 [00:00<00:00, 948.32it/s]\n"
     ]
    },
    {
     "name": "stdout",
     "output_type": "stream",
     "text": [
      "Accuracy: 0.08357453171989294\n"
     ]
    },
    {
     "name": "stderr",
     "output_type": "stream",
     "text": [
      "Angle: 220 - Shape type: 1: 100%|██████████| 500/500 [00:00<00:00, 1032.20it/s]\n"
     ]
    },
    {
     "name": "stdout",
     "output_type": "stream",
     "text": [
      "Accuracy: 0.35713333333333336\n"
     ]
    },
    {
     "name": "stderr",
     "output_type": "stream",
     "text": [
      "Angle: 220 - Shape type: 2: 100%|██████████| 500/500 [00:00<00:00, 2970.99it/s]\n"
     ]
    },
    {
     "name": "stdout",
     "output_type": "stream",
     "text": [
      "No matches found.\n"
     ]
    },
    {
     "name": "stderr",
     "output_type": "stream",
     "text": [
      "Angle: 220 - Shape type: 3: 100%|██████████| 500/500 [00:00<00:00, 1021.74it/s]\n"
     ]
    },
    {
     "name": "stdout",
     "output_type": "stream",
     "text": [
      "Accuracy: 0.3787345586944786\n"
     ]
    },
    {
     "name": "stderr",
     "output_type": "stream",
     "text": [
      "Angle: 220 - Shape type: 4: 100%|██████████| 500/500 [00:00<00:00, 887.79it/s]\n"
     ]
    },
    {
     "name": "stdout",
     "output_type": "stream",
     "text": [
      "Accuracy: 0.3334155013426539\n"
     ]
    },
    {
     "name": "stderr",
     "output_type": "stream",
     "text": [
      "Angle: 220 - Shape type: 5: 100%|██████████| 500/500 [00:00<00:00, 997.73it/s] \n"
     ]
    },
    {
     "name": "stdout",
     "output_type": "stream",
     "text": [
      "Accuracy: 0.6494623655913978\n"
     ]
    },
    {
     "name": "stderr",
     "output_type": "stream",
     "text": [
      "Angle: 220 - Shape type: 6: 100%|██████████| 500/500 [00:00<00:00, 1021.65it/s]\n"
     ]
    },
    {
     "name": "stdout",
     "output_type": "stream",
     "text": [
      "Accuracy: 0.3277333333333333\n"
     ]
    },
    {
     "name": "stderr",
     "output_type": "stream",
     "text": [
      "Angle: 220 - Shape type: 7: 100%|██████████| 500/500 [00:00<00:00, 1286.11it/s]\n"
     ]
    },
    {
     "name": "stdout",
     "output_type": "stream",
     "text": [
      "Accuracy: 0.27038489204142696\n"
     ]
    },
    {
     "name": "stderr",
     "output_type": "stream",
     "text": [
      "Angle: 230 - Shape type: 0: 100%|██████████| 500/500 [00:00<00:00, 936.92it/s]\n"
     ]
    },
    {
     "name": "stdout",
     "output_type": "stream",
     "text": [
      "Accuracy: 0.07952212988244323\n"
     ]
    },
    {
     "name": "stderr",
     "output_type": "stream",
     "text": [
      "Angle: 230 - Shape type: 1: 100%|██████████| 500/500 [00:00<00:00, 1002.59it/s]\n"
     ]
    },
    {
     "name": "stdout",
     "output_type": "stream",
     "text": [
      "Accuracy: 0.4505\n"
     ]
    },
    {
     "name": "stderr",
     "output_type": "stream",
     "text": [
      "Angle: 230 - Shape type: 2: 100%|██████████| 500/500 [00:00<00:00, 3037.84it/s]\n"
     ]
    },
    {
     "name": "stdout",
     "output_type": "stream",
     "text": [
      "No matches found.\n"
     ]
    },
    {
     "name": "stderr",
     "output_type": "stream",
     "text": [
      "Angle: 230 - Shape type: 3: 100%|██████████| 500/500 [00:00<00:00, 1030.77it/s]\n"
     ]
    },
    {
     "name": "stdout",
     "output_type": "stream",
     "text": [
      "Accuracy: 0.3345873398478609\n"
     ]
    },
    {
     "name": "stderr",
     "output_type": "stream",
     "text": [
      "Angle: 230 - Shape type: 4: 100%|██████████| 500/500 [00:00<00:00, 888.12it/s]\n"
     ]
    },
    {
     "name": "stdout",
     "output_type": "stream",
     "text": [
      "Accuracy: 0.3402484134253793\n"
     ]
    },
    {
     "name": "stderr",
     "output_type": "stream",
     "text": [
      "Angle: 230 - Shape type: 5: 100%|██████████| 500/500 [00:00<00:00, 1066.54it/s]\n"
     ]
    },
    {
     "name": "stdout",
     "output_type": "stream",
     "text": [
      "Accuracy: 0.7336375929682216\n"
     ]
    },
    {
     "name": "stderr",
     "output_type": "stream",
     "text": [
      "Angle: 230 - Shape type: 6: 100%|██████████| 500/500 [00:00<00:00, 1024.14it/s]\n"
     ]
    },
    {
     "name": "stdout",
     "output_type": "stream",
     "text": [
      "Accuracy: 0.3384\n"
     ]
    },
    {
     "name": "stderr",
     "output_type": "stream",
     "text": [
      "Angle: 230 - Shape type: 7: 100%|██████████| 500/500 [00:00<00:00, 1285.25it/s]\n"
     ]
    },
    {
     "name": "stdout",
     "output_type": "stream",
     "text": [
      "Accuracy: 0.2708221744585381\n"
     ]
    },
    {
     "name": "stderr",
     "output_type": "stream",
     "text": [
      "Angle: 240 - Shape type: 0: 100%|██████████| 500/500 [00:00<00:00, 947.60it/s]\n"
     ]
    },
    {
     "name": "stdout",
     "output_type": "stream",
     "text": [
      "Accuracy: 0.09549096763728983\n"
     ]
    },
    {
     "name": "stderr",
     "output_type": "stream",
     "text": [
      "Angle: 240 - Shape type: 1: 100%|██████████| 500/500 [00:00<00:00, 1006.74it/s]\n"
     ]
    },
    {
     "name": "stdout",
     "output_type": "stream",
     "text": [
      "Accuracy: 0.4773428571428572\n"
     ]
    },
    {
     "name": "stderr",
     "output_type": "stream",
     "text": [
      "Angle: 240 - Shape type: 2: 100%|██████████| 500/500 [00:00<00:00, 3011.19it/s]\n"
     ]
    },
    {
     "name": "stdout",
     "output_type": "stream",
     "text": [
      "No matches found.\n"
     ]
    },
    {
     "name": "stderr",
     "output_type": "stream",
     "text": [
      "Angle: 240 - Shape type: 3: 100%|██████████| 500/500 [00:00<00:00, 959.84it/s]\n"
     ]
    },
    {
     "name": "stdout",
     "output_type": "stream",
     "text": [
      "Accuracy: 0.3155133019590851\n"
     ]
    },
    {
     "name": "stderr",
     "output_type": "stream",
     "text": [
      "Angle: 240 - Shape type: 4: 100%|██████████| 500/500 [00:00<00:00, 901.08it/s]\n"
     ]
    },
    {
     "name": "stdout",
     "output_type": "stream",
     "text": [
      "Accuracy: 0.335325781250056\n"
     ]
    },
    {
     "name": "stderr",
     "output_type": "stream",
     "text": [
      "Angle: 240 - Shape type: 5: 100%|██████████| 500/500 [00:00<00:00, 1072.53it/s]\n"
     ]
    },
    {
     "name": "stdout",
     "output_type": "stream",
     "text": [
      "Accuracy: 0.7853658536585365\n"
     ]
    },
    {
     "name": "stderr",
     "output_type": "stream",
     "text": [
      "Angle: 240 - Shape type: 6: 100%|██████████| 500/500 [00:00<00:00, 1013.99it/s]\n"
     ]
    },
    {
     "name": "stdout",
     "output_type": "stream",
     "text": [
      "Accuracy: 0.3392\n"
     ]
    },
    {
     "name": "stderr",
     "output_type": "stream",
     "text": [
      "Angle: 240 - Shape type: 7: 100%|██████████| 500/500 [00:00<00:00, 1288.39it/s]\n"
     ]
    },
    {
     "name": "stdout",
     "output_type": "stream",
     "text": [
      "Accuracy: 0.30108325722360807\n"
     ]
    },
    {
     "name": "stderr",
     "output_type": "stream",
     "text": [
      "Angle: 250 - Shape type: 0: 100%|██████████| 500/500 [00:00<00:00, 937.12it/s]\n"
     ]
    },
    {
     "name": "stdout",
     "output_type": "stream",
     "text": [
      "Accuracy: 0.14049044987272857\n"
     ]
    },
    {
     "name": "stderr",
     "output_type": "stream",
     "text": [
      "Angle: 250 - Shape type: 1: 100%|██████████| 500/500 [00:00<00:00, 929.97it/s]\n"
     ]
    },
    {
     "name": "stdout",
     "output_type": "stream",
     "text": [
      "Accuracy: 0.4481095238095238\n"
     ]
    },
    {
     "name": "stderr",
     "output_type": "stream",
     "text": [
      "Angle: 250 - Shape type: 2: 100%|██████████| 500/500 [00:00<00:00, 2909.22it/s]\n"
     ]
    },
    {
     "name": "stdout",
     "output_type": "stream",
     "text": [
      "No matches found.\n"
     ]
    },
    {
     "name": "stderr",
     "output_type": "stream",
     "text": [
      "Angle: 250 - Shape type: 3: 100%|██████████| 500/500 [00:00<00:00, 1020.31it/s]\n"
     ]
    },
    {
     "name": "stdout",
     "output_type": "stream",
     "text": [
      "Accuracy: 0.30170740839754934\n"
     ]
    },
    {
     "name": "stderr",
     "output_type": "stream",
     "text": [
      "Angle: 250 - Shape type: 4: 100%|██████████| 500/500 [00:00<00:00, 908.31it/s]\n"
     ]
    },
    {
     "name": "stdout",
     "output_type": "stream",
     "text": [
      "Accuracy: 0.3430851686531254\n"
     ]
    },
    {
     "name": "stderr",
     "output_type": "stream",
     "text": [
      "Angle: 250 - Shape type: 5: 100%|██████████| 500/500 [00:00<00:00, 1067.43it/s]\n"
     ]
    },
    {
     "name": "stdout",
     "output_type": "stream",
     "text": [
      "Accuracy: 0.7836720867208672\n"
     ]
    },
    {
     "name": "stderr",
     "output_type": "stream",
     "text": [
      "Angle: 250 - Shape type: 6: 100%|██████████| 500/500 [00:00<00:00, 993.00it/s] \n"
     ]
    },
    {
     "name": "stdout",
     "output_type": "stream",
     "text": [
      "Accuracy: 0.3298000000000001\n"
     ]
    },
    {
     "name": "stderr",
     "output_type": "stream",
     "text": [
      "Angle: 250 - Shape type: 7: 100%|██████████| 500/500 [00:00<00:00, 1280.98it/s]\n"
     ]
    },
    {
     "name": "stdout",
     "output_type": "stream",
     "text": [
      "Accuracy: 0.3105911547648836\n"
     ]
    },
    {
     "name": "stderr",
     "output_type": "stream",
     "text": [
      "Angle: 260 - Shape type: 0: 100%|██████████| 500/500 [00:00<00:00, 972.16it/s]\n"
     ]
    },
    {
     "name": "stdout",
     "output_type": "stream",
     "text": [
      "Accuracy: 0.20286491648664662\n"
     ]
    },
    {
     "name": "stderr",
     "output_type": "stream",
     "text": [
      "Angle: 260 - Shape type: 1: 100%|██████████| 500/500 [00:00<00:00, 1027.80it/s]\n"
     ]
    },
    {
     "name": "stdout",
     "output_type": "stream",
     "text": [
      "Accuracy: 0.39163809523809523\n"
     ]
    },
    {
     "name": "stderr",
     "output_type": "stream",
     "text": [
      "Angle: 260 - Shape type: 2: 100%|██████████| 500/500 [00:00<00:00, 2957.93it/s]\n"
     ]
    },
    {
     "name": "stdout",
     "output_type": "stream",
     "text": [
      "No matches found.\n"
     ]
    },
    {
     "name": "stderr",
     "output_type": "stream",
     "text": [
      "Angle: 260 - Shape type: 3: 100%|██████████| 500/500 [00:00<00:00, 1025.26it/s]\n"
     ]
    },
    {
     "name": "stdout",
     "output_type": "stream",
     "text": [
      "Accuracy: 0.2907412339504895\n"
     ]
    },
    {
     "name": "stderr",
     "output_type": "stream",
     "text": [
      "Angle: 260 - Shape type: 4: 100%|██████████| 500/500 [00:00<00:00, 897.28it/s]\n"
     ]
    },
    {
     "name": "stdout",
     "output_type": "stream",
     "text": [
      "Accuracy: 0.3465409581151959\n"
     ]
    },
    {
     "name": "stderr",
     "output_type": "stream",
     "text": [
      "Angle: 260 - Shape type: 5: 100%|██████████| 500/500 [00:00<00:00, 1053.36it/s]\n"
     ]
    },
    {
     "name": "stdout",
     "output_type": "stream",
     "text": [
      "Accuracy: 0.7574224021592442\n"
     ]
    },
    {
     "name": "stderr",
     "output_type": "stream",
     "text": [
      "Angle: 260 - Shape type: 6: 100%|██████████| 500/500 [00:00<00:00, 1018.82it/s]\n"
     ]
    },
    {
     "name": "stdout",
     "output_type": "stream",
     "text": [
      "Accuracy: 0.3274333333333333\n"
     ]
    },
    {
     "name": "stderr",
     "output_type": "stream",
     "text": [
      "Angle: 260 - Shape type: 7: 100%|██████████| 500/500 [00:00<00:00, 1320.59it/s]\n"
     ]
    },
    {
     "name": "stdout",
     "output_type": "stream",
     "text": [
      "Accuracy: 0.33528918058832585\n"
     ]
    },
    {
     "name": "stderr",
     "output_type": "stream",
     "text": [
      "Angle: 270 - Shape type: 0: 100%|██████████| 500/500 [00:00<00:00, 950.58it/s]\n"
     ]
    },
    {
     "name": "stdout",
     "output_type": "stream",
     "text": [
      "Accuracy: 0.2379883182609655\n"
     ]
    },
    {
     "name": "stderr",
     "output_type": "stream",
     "text": [
      "Angle: 270 - Shape type: 1: 100%|██████████| 500/500 [00:00<00:00, 1011.09it/s]\n"
     ]
    },
    {
     "name": "stdout",
     "output_type": "stream",
     "text": [
      "Accuracy: 0.35874285714285714\n"
     ]
    },
    {
     "name": "stderr",
     "output_type": "stream",
     "text": [
      "Angle: 270 - Shape type: 2: 100%|██████████| 500/500 [00:00<00:00, 2989.56it/s]\n"
     ]
    },
    {
     "name": "stdout",
     "output_type": "stream",
     "text": [
      "No matches found.\n"
     ]
    },
    {
     "name": "stderr",
     "output_type": "stream",
     "text": [
      "Angle: 270 - Shape type: 3: 100%|██████████| 500/500 [00:00<00:00, 1034.97it/s]\n"
     ]
    },
    {
     "name": "stdout",
     "output_type": "stream",
     "text": [
      "Accuracy: 0.28516854074082987\n"
     ]
    },
    {
     "name": "stderr",
     "output_type": "stream",
     "text": [
      "Angle: 270 - Shape type: 4: 100%|██████████| 500/500 [00:00<00:00, 870.60it/s]\n"
     ]
    },
    {
     "name": "stdout",
     "output_type": "stream",
     "text": [
      "Accuracy: 0.3402821848471567\n"
     ]
    },
    {
     "name": "stderr",
     "output_type": "stream",
     "text": [
      "Angle: 270 - Shape type: 5: 100%|██████████| 500/500 [00:00<00:00, 1082.94it/s]\n"
     ]
    },
    {
     "name": "stdout",
     "output_type": "stream",
     "text": [
      "Accuracy: 0.6792085848423876\n"
     ]
    },
    {
     "name": "stderr",
     "output_type": "stream",
     "text": [
      "Angle: 270 - Shape type: 6: 100%|██████████| 500/500 [00:00<00:00, 1032.39it/s]\n"
     ]
    },
    {
     "name": "stdout",
     "output_type": "stream",
     "text": [
      "Accuracy: 0.3256\n"
     ]
    },
    {
     "name": "stderr",
     "output_type": "stream",
     "text": [
      "Angle: 270 - Shape type: 7: 100%|██████████| 500/500 [00:00<00:00, 1317.82it/s]\n"
     ]
    },
    {
     "name": "stdout",
     "output_type": "stream",
     "text": [
      "Accuracy: 0.3257261795052493\n"
     ]
    },
    {
     "name": "stderr",
     "output_type": "stream",
     "text": [
      "Angle: 280 - Shape type: 0: 100%|██████████| 500/500 [00:00<00:00, 944.68it/s]\n"
     ]
    },
    {
     "name": "stdout",
     "output_type": "stream",
     "text": [
      "Accuracy: 0.20949197539143743\n"
     ]
    },
    {
     "name": "stderr",
     "output_type": "stream",
     "text": [
      "Angle: 280 - Shape type: 1: 100%|██████████| 500/500 [00:00<00:00, 1000.46it/s]\n"
     ]
    },
    {
     "name": "stdout",
     "output_type": "stream",
     "text": [
      "Accuracy: 0.4022714285714286\n"
     ]
    },
    {
     "name": "stderr",
     "output_type": "stream",
     "text": [
      "Angle: 280 - Shape type: 2: 100%|██████████| 500/500 [00:00<00:00, 2765.31it/s]\n"
     ]
    },
    {
     "name": "stdout",
     "output_type": "stream",
     "text": [
      "No matches found.\n"
     ]
    },
    {
     "name": "stderr",
     "output_type": "stream",
     "text": [
      "Angle: 280 - Shape type: 3: 100%|██████████| 500/500 [00:00<00:00, 845.05it/s]\n"
     ]
    },
    {
     "name": "stdout",
     "output_type": "stream",
     "text": [
      "Accuracy: 0.2855909454606849\n"
     ]
    },
    {
     "name": "stderr",
     "output_type": "stream",
     "text": [
      "Angle: 280 - Shape type: 4: 100%|██████████| 500/500 [00:00<00:00, 828.81it/s]\n"
     ]
    },
    {
     "name": "stdout",
     "output_type": "stream",
     "text": [
      "Accuracy: 0.3516698388287355\n"
     ]
    },
    {
     "name": "stderr",
     "output_type": "stream",
     "text": [
      "Angle: 280 - Shape type: 5: 100%|██████████| 500/500 [00:00<00:00, 977.11it/s] \n"
     ]
    },
    {
     "name": "stdout",
     "output_type": "stream",
     "text": [
      "Accuracy: 0.5698782961460447\n"
     ]
    },
    {
     "name": "stderr",
     "output_type": "stream",
     "text": [
      "Angle: 280 - Shape type: 6: 100%|██████████| 500/500 [00:00<00:00, 939.46it/s]\n"
     ]
    },
    {
     "name": "stdout",
     "output_type": "stream",
     "text": [
      "Accuracy: 0.3315666666666667\n"
     ]
    },
    {
     "name": "stderr",
     "output_type": "stream",
     "text": [
      "Angle: 280 - Shape type: 7: 100%|██████████| 500/500 [00:00<00:00, 1183.48it/s]\n"
     ]
    },
    {
     "name": "stdout",
     "output_type": "stream",
     "text": [
      "Accuracy: 0.3153707239990426\n"
     ]
    },
    {
     "name": "stderr",
     "output_type": "stream",
     "text": [
      "Angle: 290 - Shape type: 0: 100%|██████████| 500/500 [00:00<00:00, 726.77it/s]\n"
     ]
    },
    {
     "name": "stdout",
     "output_type": "stream",
     "text": [
      "Accuracy: 0.14720013044231525\n"
     ]
    },
    {
     "name": "stderr",
     "output_type": "stream",
     "text": [
      "Angle: 290 - Shape type: 1: 100%|██████████| 500/500 [00:00<00:00, 999.34it/s] \n"
     ]
    },
    {
     "name": "stdout",
     "output_type": "stream",
     "text": [
      "Accuracy: 0.4408095238095238\n"
     ]
    },
    {
     "name": "stderr",
     "output_type": "stream",
     "text": [
      "Angle: 290 - Shape type: 2: 100%|██████████| 500/500 [00:00<00:00, 2985.91it/s]\n"
     ]
    },
    {
     "name": "stdout",
     "output_type": "stream",
     "text": [
      "No matches found.\n"
     ]
    },
    {
     "name": "stderr",
     "output_type": "stream",
     "text": [
      "Angle: 290 - Shape type: 3: 100%|██████████| 500/500 [00:00<00:00, 967.11it/s]\n"
     ]
    },
    {
     "name": "stdout",
     "output_type": "stream",
     "text": [
      "Accuracy: 0.28205282804481197\n"
     ]
    },
    {
     "name": "stderr",
     "output_type": "stream",
     "text": [
      "Angle: 290 - Shape type: 4: 100%|██████████| 500/500 [-1:59:59<00:00, -257.80it/s]\n"
     ]
    },
    {
     "name": "stdout",
     "output_type": "stream",
     "text": [
      "Accuracy: 0.36075101723226694\n"
     ]
    },
    {
     "name": "stderr",
     "output_type": "stream",
     "text": [
      "Angle: 290 - Shape type: 5: 100%|██████████| 500/500 [00:00<00:00, 1030.99it/s]\n"
     ]
    },
    {
     "name": "stdout",
     "output_type": "stream",
     "text": [
      "Accuracy: 0.4062078272604588\n"
     ]
    },
    {
     "name": "stderr",
     "output_type": "stream",
     "text": [
      "Angle: 290 - Shape type: 6: 100%|██████████| 500/500 [00:00<00:00, 977.75it/s] \n"
     ]
    },
    {
     "name": "stdout",
     "output_type": "stream",
     "text": [
      "Accuracy: 0.3011333333333333\n"
     ]
    },
    {
     "name": "stderr",
     "output_type": "stream",
     "text": [
      "Angle: 290 - Shape type: 7: 100%|██████████| 500/500 [00:00<00:00, 1206.86it/s]\n"
     ]
    },
    {
     "name": "stdout",
     "output_type": "stream",
     "text": [
      "Accuracy: 0.26100868751926154\n"
     ]
    },
    {
     "name": "stderr",
     "output_type": "stream",
     "text": [
      "Angle: 300 - Shape type: 0: 100%|██████████| 500/500 [00:00<00:00, 888.59it/s]\n"
     ]
    },
    {
     "name": "stdout",
     "output_type": "stream",
     "text": [
      "Accuracy: 0.10200420928404995\n"
     ]
    },
    {
     "name": "stderr",
     "output_type": "stream",
     "text": [
      "Angle: 300 - Shape type: 1: 100%|██████████| 500/500 [00:00<00:00, 966.10it/s]\n"
     ]
    },
    {
     "name": "stdout",
     "output_type": "stream",
     "text": [
      "Accuracy: 0.46052857142857134\n"
     ]
    },
    {
     "name": "stderr",
     "output_type": "stream",
     "text": [
      "Angle: 300 - Shape type: 2: 100%|██████████| 500/500 [00:00<00:00, 2548.93it/s]\n"
     ]
    },
    {
     "name": "stdout",
     "output_type": "stream",
     "text": [
      "No matches found.\n"
     ]
    },
    {
     "name": "stderr",
     "output_type": "stream",
     "text": [
      "Angle: 300 - Shape type: 3: 100%|██████████| 500/500 [00:00<00:00, 1009.55it/s]\n"
     ]
    },
    {
     "name": "stdout",
     "output_type": "stream",
     "text": [
      "Accuracy: 0.32434966699966694\n"
     ]
    },
    {
     "name": "stderr",
     "output_type": "stream",
     "text": [
      "Angle: 300 - Shape type: 4: 100%|██████████| 500/500 [00:00<00:00, 857.05it/s]\n"
     ]
    },
    {
     "name": "stdout",
     "output_type": "stream",
     "text": [
      "Accuracy: 0.3595668729841657\n"
     ]
    },
    {
     "name": "stderr",
     "output_type": "stream",
     "text": [
      "Angle: 300 - Shape type: 5: 100%|██████████| 500/500 [00:00<00:00, 994.51it/s] \n"
     ]
    },
    {
     "name": "stdout",
     "output_type": "stream",
     "text": [
      "Accuracy: 0.23760162601626014\n"
     ]
    },
    {
     "name": "stderr",
     "output_type": "stream",
     "text": [
      "Angle: 300 - Shape type: 6: 100%|██████████| 500/500 [00:00<00:00, 853.35it/s]\n"
     ]
    },
    {
     "name": "stdout",
     "output_type": "stream",
     "text": [
      "Accuracy: 0.31306666666666666\n"
     ]
    },
    {
     "name": "stderr",
     "output_type": "stream",
     "text": [
      "Angle: 300 - Shape type: 7: 100%|██████████| 500/500 [00:00<00:00, 1250.06it/s]\n"
     ]
    },
    {
     "name": "stdout",
     "output_type": "stream",
     "text": [
      "Accuracy: 0.23744311244311245\n"
     ]
    },
    {
     "name": "stderr",
     "output_type": "stream",
     "text": [
      "Angle: 310 - Shape type: 0: 100%|██████████| 500/500 [00:00<00:00, 893.88it/s]\n"
     ]
    },
    {
     "name": "stdout",
     "output_type": "stream",
     "text": [
      "Accuracy: 0.07423398929485733\n"
     ]
    },
    {
     "name": "stderr",
     "output_type": "stream",
     "text": [
      "Angle: 310 - Shape type: 1: 100%|██████████| 500/500 [00:00<00:00, 994.43it/s] \n"
     ]
    },
    {
     "name": "stdout",
     "output_type": "stream",
     "text": [
      "Accuracy: 0.43510952380952383\n"
     ]
    },
    {
     "name": "stderr",
     "output_type": "stream",
     "text": [
      "Angle: 310 - Shape type: 2: 100%|██████████| 500/500 [00:00<00:00, 2929.53it/s]\n"
     ]
    },
    {
     "name": "stdout",
     "output_type": "stream",
     "text": [
      "No matches found.\n"
     ]
    },
    {
     "name": "stderr",
     "output_type": "stream",
     "text": [
      "Angle: 310 - Shape type: 3: 100%|██████████| 500/500 [00:00<00:00, 937.18it/s]\n"
     ]
    },
    {
     "name": "stdout",
     "output_type": "stream",
     "text": [
      "Accuracy: 0.3925526127179434\n"
     ]
    },
    {
     "name": "stderr",
     "output_type": "stream",
     "text": [
      "Angle: 310 - Shape type: 4: 100%|██████████| 500/500 [00:00<00:00, 855.69it/s]\n"
     ]
    },
    {
     "name": "stdout",
     "output_type": "stream",
     "text": [
      "Accuracy: 0.3679140137455339\n"
     ]
    },
    {
     "name": "stderr",
     "output_type": "stream",
     "text": [
      "Angle: 310 - Shape type: 5: 100%|██████████| 500/500 [00:00<00:00, 1066.65it/s]\n"
     ]
    },
    {
     "name": "stdout",
     "output_type": "stream",
     "text": [
      "Accuracy: 0.13195006747638327\n"
     ]
    },
    {
     "name": "stderr",
     "output_type": "stream",
     "text": [
      "Angle: 310 - Shape type: 6: 100%|██████████| 500/500 [00:00<00:00, 1026.80it/s]\n"
     ]
    },
    {
     "name": "stdout",
     "output_type": "stream",
     "text": [
      "Accuracy: 0.33563333333333334\n"
     ]
    },
    {
     "name": "stderr",
     "output_type": "stream",
     "text": [
      "Angle: 310 - Shape type: 7: 100%|██████████| 500/500 [00:00<00:00, 1294.30it/s]\n"
     ]
    },
    {
     "name": "stdout",
     "output_type": "stream",
     "text": [
      "Accuracy: 0.22465550713905982\n"
     ]
    },
    {
     "name": "stderr",
     "output_type": "stream",
     "text": [
      "Angle: 320 - Shape type: 0: 100%|██████████| 500/500 [00:00<00:00, 939.49it/s]\n"
     ]
    },
    {
     "name": "stdout",
     "output_type": "stream",
     "text": [
      "Accuracy: 0.06754554435638468\n"
     ]
    },
    {
     "name": "stderr",
     "output_type": "stream",
     "text": [
      "Angle: 320 - Shape type: 1: 100%|██████████| 500/500 [00:00<00:00, 979.66it/s] \n"
     ]
    },
    {
     "name": "stdout",
     "output_type": "stream",
     "text": [
      "Accuracy: 0.3406523809523809\n"
     ]
    },
    {
     "name": "stderr",
     "output_type": "stream",
     "text": [
      "Angle: 320 - Shape type: 2: 100%|██████████| 500/500 [00:00<00:00, 2785.15it/s]\n"
     ]
    },
    {
     "name": "stdout",
     "output_type": "stream",
     "text": [
      "No matches found.\n"
     ]
    },
    {
     "name": "stderr",
     "output_type": "stream",
     "text": [
      "Angle: 320 - Shape type: 3: 100%|██████████| 500/500 [00:00<00:00, 892.69it/s]\n"
     ]
    },
    {
     "name": "stdout",
     "output_type": "stream",
     "text": [
      "Accuracy: 0.4984802383098976\n"
     ]
    },
    {
     "name": "stderr",
     "output_type": "stream",
     "text": [
      "Angle: 320 - Shape type: 4: 100%|██████████| 500/500 [00:00<00:00, 841.97it/s]\n"
     ]
    },
    {
     "name": "stdout",
     "output_type": "stream",
     "text": [
      "Accuracy: 0.3736780517899863\n"
     ]
    },
    {
     "name": "stderr",
     "output_type": "stream",
     "text": [
      "Angle: 320 - Shape type: 5: 100%|██████████| 500/500 [00:00<00:00, 1053.96it/s]\n"
     ]
    },
    {
     "name": "stdout",
     "output_type": "stream",
     "text": [
      "Accuracy: 0.23775303643724693\n"
     ]
    },
    {
     "name": "stderr",
     "output_type": "stream",
     "text": [
      "Angle: 320 - Shape type: 6: 100%|██████████| 500/500 [00:00<00:00, 1038.14it/s]\n"
     ]
    },
    {
     "name": "stdout",
     "output_type": "stream",
     "text": [
      "Accuracy: 0.41\n"
     ]
    },
    {
     "name": "stderr",
     "output_type": "stream",
     "text": [
      "Angle: 320 - Shape type: 7: 100%|██████████| 500/500 [00:00<00:00, 1279.23it/s]\n"
     ]
    },
    {
     "name": "stdout",
     "output_type": "stream",
     "text": [
      "Accuracy: 0.2700909830909831\n"
     ]
    },
    {
     "name": "stderr",
     "output_type": "stream",
     "text": [
      "Angle: 330 - Shape type: 0: 100%|██████████| 500/500 [00:00<00:00, 919.06it/s]\n"
     ]
    },
    {
     "name": "stdout",
     "output_type": "stream",
     "text": [
      "Accuracy: 0.08489286449305632\n"
     ]
    },
    {
     "name": "stderr",
     "output_type": "stream",
     "text": [
      "Angle: 330 - Shape type: 1: 100%|██████████| 500/500 [00:00<00:00, 1016.69it/s]\n"
     ]
    },
    {
     "name": "stdout",
     "output_type": "stream",
     "text": [
      "Accuracy: 0.2938095238095238\n"
     ]
    },
    {
     "name": "stderr",
     "output_type": "stream",
     "text": [
      "Angle: 330 - Shape type: 2: 100%|██████████| 500/500 [00:00<00:00, 2860.61it/s]\n"
     ]
    },
    {
     "name": "stdout",
     "output_type": "stream",
     "text": [
      "No matches found.\n"
     ]
    },
    {
     "name": "stderr",
     "output_type": "stream",
     "text": [
      "Angle: 330 - Shape type: 3: 100%|██████████| 500/500 [00:00<00:00, 1006.60it/s]\n"
     ]
    },
    {
     "name": "stdout",
     "output_type": "stream",
     "text": [
      "Accuracy: 0.5823700792638667\n"
     ]
    },
    {
     "name": "stderr",
     "output_type": "stream",
     "text": [
      "Angle: 330 - Shape type: 4: 100%|██████████| 500/500 [00:00<00:00, 865.80it/s]\n"
     ]
    },
    {
     "name": "stdout",
     "output_type": "stream",
     "text": [
      "Accuracy: 0.3607497663222689\n"
     ]
    },
    {
     "name": "stderr",
     "output_type": "stream",
     "text": [
      "Angle: 330 - Shape type: 5: 100%|██████████| 500/500 [00:00<00:00, 1042.38it/s]\n"
     ]
    },
    {
     "name": "stdout",
     "output_type": "stream",
     "text": [
      "Accuracy: 0.709926224010731\n"
     ]
    },
    {
     "name": "stderr",
     "output_type": "stream",
     "text": [
      "Angle: 330 - Shape type: 6: 100%|██████████| 500/500 [00:00<00:00, 1032.90it/s]\n"
     ]
    },
    {
     "name": "stdout",
     "output_type": "stream",
     "text": [
      "Accuracy: 0.5712\n"
     ]
    },
    {
     "name": "stderr",
     "output_type": "stream",
     "text": [
      "Angle: 330 - Shape type: 7: 100%|██████████| 500/500 [00:00<00:00, 1273.83it/s]\n"
     ]
    },
    {
     "name": "stdout",
     "output_type": "stream",
     "text": [
      "Accuracy: 0.40242772177988123\n"
     ]
    },
    {
     "name": "stderr",
     "output_type": "stream",
     "text": [
      "Angle: 340 - Shape type: 0: 100%|██████████| 500/500 [00:00<00:00, 916.15it/s]\n"
     ]
    },
    {
     "name": "stdout",
     "output_type": "stream",
     "text": [
      "Accuracy: 0.21478385030843844\n"
     ]
    },
    {
     "name": "stderr",
     "output_type": "stream",
     "text": [
      "Angle: 340 - Shape type: 1: 100%|██████████| 500/500 [00:00<00:00, 974.11it/s] \n"
     ]
    },
    {
     "name": "stdout",
     "output_type": "stream",
     "text": [
      "Accuracy: 0.6709047619047619\n"
     ]
    },
    {
     "name": "stderr",
     "output_type": "stream",
     "text": [
      "Angle: 340 - Shape type: 2: 100%|██████████| 500/500 [00:00<00:00, 2718.11it/s]\n"
     ]
    },
    {
     "name": "stdout",
     "output_type": "stream",
     "text": [
      "No matches found.\n"
     ]
    },
    {
     "name": "stderr",
     "output_type": "stream",
     "text": [
      "Angle: 340 - Shape type: 3: 100%|██████████| 500/500 [00:00<00:00, 993.79it/s]\n"
     ]
    },
    {
     "name": "stdout",
     "output_type": "stream",
     "text": [
      "Accuracy: 0.6923305344765912\n"
     ]
    },
    {
     "name": "stderr",
     "output_type": "stream",
     "text": [
      "Angle: 340 - Shape type: 4: 100%|██████████| 500/500 [00:00<00:00, 909.99it/s]\n"
     ]
    },
    {
     "name": "stdout",
     "output_type": "stream",
     "text": [
      "Accuracy: 0.4012600204996933\n"
     ]
    },
    {
     "name": "stderr",
     "output_type": "stream",
     "text": [
      "Angle: 340 - Shape type: 5: 100%|██████████| 500/500 [00:00<00:00, 965.08it/s]\n"
     ]
    },
    {
     "name": "stdout",
     "output_type": "stream",
     "text": [
      "Accuracy: 0.9694666666666667\n"
     ]
    },
    {
     "name": "stderr",
     "output_type": "stream",
     "text": [
      "Angle: 340 - Shape type: 6: 100%|██████████| 500/500 [00:00<00:00, 1011.15it/s]\n"
     ]
    },
    {
     "name": "stdout",
     "output_type": "stream",
     "text": [
      "Accuracy: 0.8059333333333334\n"
     ]
    },
    {
     "name": "stderr",
     "output_type": "stream",
     "text": [
      "Angle: 340 - Shape type: 7: 100%|██████████| 500/500 [00:00<00:00, 1215.82it/s]\n"
     ]
    },
    {
     "name": "stdout",
     "output_type": "stream",
     "text": [
      "Accuracy: 0.5906992683691712\n"
     ]
    },
    {
     "name": "stderr",
     "output_type": "stream",
     "text": [
      "Angle: 350 - Shape type: 0: 100%|██████████| 500/500 [00:00<00:00, 970.26it/s]\n"
     ]
    },
    {
     "name": "stdout",
     "output_type": "stream",
     "text": [
      "Accuracy: 0.5895946639759818\n"
     ]
    },
    {
     "name": "stderr",
     "output_type": "stream",
     "text": [
      "Angle: 350 - Shape type: 1: 100%|██████████| 500/500 [00:00<00:00, 1035.35it/s]\n"
     ]
    },
    {
     "name": "stdout",
     "output_type": "stream",
     "text": [
      "Accuracy: 0.959304761904762\n"
     ]
    },
    {
     "name": "stderr",
     "output_type": "stream",
     "text": [
      "Angle: 350 - Shape type: 2: 100%|██████████| 500/500 [00:00<00:00, 2829.43it/s]\n"
     ]
    },
    {
     "name": "stdout",
     "output_type": "stream",
     "text": [
      "No matches found.\n"
     ]
    },
    {
     "name": "stderr",
     "output_type": "stream",
     "text": [
      "Angle: 350 - Shape type: 3: 100%|██████████| 500/500 [00:00<00:00, 913.77it/s]\n"
     ]
    },
    {
     "name": "stdout",
     "output_type": "stream",
     "text": [
      "Accuracy: 0.8013203616644794\n"
     ]
    },
    {
     "name": "stderr",
     "output_type": "stream",
     "text": [
      "Angle: 350 - Shape type: 4: 100%|██████████| 500/500 [00:00<00:00, 888.64it/s]\n"
     ]
    },
    {
     "name": "stdout",
     "output_type": "stream",
     "text": [
      "Accuracy: 0.6619494296585126\n"
     ]
    },
    {
     "name": "stderr",
     "output_type": "stream",
     "text": [
      "Angle: 350 - Shape type: 5: 100%|██████████| 500/500 [00:00<00:00, 1055.44it/s]\n"
     ]
    },
    {
     "name": "stdout",
     "output_type": "stream",
     "text": [
      "Accuracy: 0.9950333333333333\n"
     ]
    },
    {
     "name": "stderr",
     "output_type": "stream",
     "text": [
      "Angle: 350 - Shape type: 6: 100%|██████████| 500/500 [00:00<00:00, 959.16it/s] \n"
     ]
    },
    {
     "name": "stdout",
     "output_type": "stream",
     "text": [
      "Accuracy: 0.9640666666666666\n"
     ]
    },
    {
     "name": "stderr",
     "output_type": "stream",
     "text": [
      "Angle: 350 - Shape type: 7: 100%|██████████| 500/500 [00:00<00:00, 1265.33it/s]"
     ]
    },
    {
     "name": "stdout",
     "output_type": "stream",
     "text": [
      "Accuracy: 0.764746238609875\n"
     ]
    },
    {
     "name": "stderr",
     "output_type": "stream",
     "text": [
      "\n"
     ]
    }
   ],
   "source": [
    "sift = cv2.SIFT_create()\n",
    "bf_sift = cv2.BFMatcher(cv2.NORM_L2)\n",
    "accuracy_matches_sift = []\n",
    "\n",
    "for angle in range(0, 360, 10):\n",
    "    accuracy_matches_sift.append([])\n",
    "\n",
    "    for type in range(8):\n",
    "        accuracy_matches_sift[-1].append([])\n",
    "\n",
    "        for i in tqdm(range(500), f\"Angle: {angle} - Shape type: {type}\"):\n",
    "            image, ground_truth = read_image(type, str(i))\n",
    "            gray_scale = cv2.cvtColor(image, cv2.COLOR_BGR2GRAY)\n",
    "            descriptor = cache_sift_descriptors[type][i]\n",
    "\n",
    "            if descriptor is None:\n",
    "                continue\n",
    "\n",
    "            # Rotate the image and the keypoints.\n",
    "            rotated_image = rotate_image(gray_scale, angle)\n",
    "            rotated_keypoints, idx = rotate_keypoints(\n",
    "                (image.shape[1], image.shape[0]), ground_truth, angle\n",
    "            )\n",
    "\n",
    "            # Compute the descriptors of the rotated image.\n",
    "            rotated_descriptor = sift.compute(rotated_image, rotated_keypoints)[1]\n",
    "            if rotated_descriptor is not None:\n",
    "                assert len(rotated_descriptor) == len(rotated_keypoints)\n",
    "            else:\n",
    "                assert len(rotated_keypoints) == 0\n",
    "                continue\n",
    "\n",
    "            # Get the original keypoints and descriptors.\n",
    "            original_descriptor = np.array(descriptor)[idx]\n",
    "\n",
    "            # Match the descriptors of the original and rotated images.\n",
    "            if len(rotated_descriptor) == 1:\n",
    "                accuracy_matches_sift[-1][-1].append(1)\n",
    "            else:\n",
    "                matches = bf_sift.knnMatch(rotated_descriptor, original_descriptor, k=2)\n",
    "                matches = [m for m, n in matches if m.distance < 0.75 * n.distance]\n",
    "                accuracy_matches_sift[-1][-1].append(\n",
    "                    len(matches) / len(original_descriptor)\n",
    "                )\n",
    "\n",
    "        if len(accuracy_matches_sift[-1][-1]) > 0:\n",
    "            print(f\"Accuracy: {np.mean(accuracy_matches_sift[-1][-1])}\")\n",
    "        else:\n",
    "            print(\"No matches found.\")"
   ]
  },
  {
   "cell_type": "code",
   "execution_count": 7,
   "metadata": {},
   "outputs": [
    {
     "name": "stdout",
     "output_type": "stream",
     "text": [
      "Angle: 0\n",
      "Accuracy: 0.99940581098872\n",
      "Angle: 10\n",
      "Accuracy: 0.8235145681615308\n",
      "Angle: 20\n",
      "Accuracy: 0.6226938884247238\n",
      "Angle: 30\n",
      "Accuracy: 0.43811179674688433\n",
      "Angle: 40\n",
      "Accuracy: 0.3146604669856603\n",
      "Angle: 50\n",
      "Accuracy: 0.28553740148898776\n",
      "Angle: 60\n",
      "Accuracy: 0.29886299781863196\n",
      "Angle: 70\n",
      "Accuracy: 0.3199396870015503\n",
      "Angle: 80\n",
      "Accuracy: 0.34469590949583956\n",
      "Angle: 90\n",
      "Accuracy: 0.36709617334934647\n",
      "Angle: 100\n",
      "Accuracy: 0.38117664699102927\n",
      "Angle: 110\n",
      "Accuracy: 0.3834172551508624\n",
      "Angle: 120\n",
      "Accuracy: 0.3826890701767783\n",
      "Angle: 130\n",
      "Accuracy: 0.3680111715598673\n",
      "Angle: 140\n",
      "Accuracy: 0.3440374364559226\n",
      "Angle: 150\n",
      "Accuracy: 0.33281942118418173\n",
      "Angle: 160\n",
      "Accuracy: 0.3355497279444249\n",
      "Angle: 170\n",
      "Accuracy: 0.3597741052325764\n",
      "Angle: 180\n",
      "Accuracy: 0.37339379428086716\n",
      "Angle: 190\n",
      "Accuracy: 0.3660577596904552\n",
      "Angle: 200\n",
      "Accuracy: 0.33893121586927927\n",
      "Angle: 210\n",
      "Accuracy: 0.3321925956290665\n",
      "Angle: 220\n",
      "Accuracy: 0.34627161777019083\n",
      "Angle: 230\n",
      "Accuracy: 0.36795575109652157\n",
      "Angle: 240\n",
      "Accuracy: 0.38120525250936366\n",
      "Angle: 250\n",
      "Accuracy: 0.38175503697119545\n",
      "Angle: 260\n",
      "Accuracy: 0.38018857388186644\n",
      "Angle: 270\n",
      "Accuracy: 0.3662584863225203\n",
      "Angle: 280\n",
      "Accuracy: 0.35360867966066983\n",
      "Angle: 290\n",
      "Accuracy: 0.31671236637744377\n",
      "Angle: 300\n",
      "Accuracy: 0.2937905258324522\n",
      "Angle: 310\n",
      "Accuracy: 0.28383615145328644\n",
      "Angle: 320\n",
      "Accuracy: 0.3167801161230822\n",
      "Angle: 330\n",
      "Accuracy: 0.43066206383202055\n",
      "Angle: 340\n",
      "Accuracy: 0.6224828678918802\n",
      "Angle: 350\n",
      "Accuracy: 0.8222224826856236\n"
     ]
    }
   ],
   "source": [
    "for i in range(36):\n",
    "    print(f\"Angle: {i * 10}\")\n",
    "    flatten = []\n",
    "    for j in range(8):\n",
    "        flatten += accuracy_matches_sift[i][j]\n",
    "    print(f\"Accuracy: {np.mean(flatten)}\")"
   ]
  },
  {
   "cell_type": "markdown",
   "metadata": {},
   "source": [
    "# 4. Get accuracy matching keypoints of ORB\n"
   ]
  },
  {
   "cell_type": "code",
   "execution_count": 8,
   "metadata": {},
   "outputs": [
    {
     "name": "stderr",
     "output_type": "stream",
     "text": [
      "Angle: 0 - Shape type: 0: 100%|██████████| 500/500 [00:00<00:00, 1252.41it/s]\n"
     ]
    },
    {
     "name": "stdout",
     "output_type": "stream",
     "text": [
      "Accuracy: 0.9994561736690857\n"
     ]
    },
    {
     "name": "stderr",
     "output_type": "stream",
     "text": [
      "Angle: 0 - Shape type: 1: 100%|██████████| 500/500 [00:00<00:00, 1521.46it/s]\n"
     ]
    },
    {
     "name": "stdout",
     "output_type": "stream",
     "text": [
      "Accuracy: 1.0\n"
     ]
    },
    {
     "name": "stderr",
     "output_type": "stream",
     "text": [
      "Angle: 0 - Shape type: 2: 100%|██████████| 500/500 [00:00<00:00, 2926.50it/s]\n"
     ]
    },
    {
     "name": "stdout",
     "output_type": "stream",
     "text": [
      "No matches found.\n"
     ]
    },
    {
     "name": "stderr",
     "output_type": "stream",
     "text": [
      "Angle: 0 - Shape type: 3: 100%|██████████| 500/500 [00:00<00:00, 1525.28it/s]\n"
     ]
    },
    {
     "name": "stdout",
     "output_type": "stream",
     "text": [
      "Accuracy: 0.9995499999999999\n"
     ]
    },
    {
     "name": "stderr",
     "output_type": "stream",
     "text": [
      "Angle: 0 - Shape type: 4: 100%|██████████| 500/500 [00:00<00:00, 1320.68it/s]\n"
     ]
    },
    {
     "name": "stdout",
     "output_type": "stream",
     "text": [
      "Accuracy: 0.9992767570422408\n"
     ]
    },
    {
     "name": "stderr",
     "output_type": "stream",
     "text": [
      "Angle: 0 - Shape type: 5: 100%|██████████| 500/500 [00:00<00:00, 1709.19it/s]\n"
     ]
    },
    {
     "name": "stdout",
     "output_type": "stream",
     "text": [
      "Accuracy: 0.9995\n"
     ]
    },
    {
     "name": "stderr",
     "output_type": "stream",
     "text": [
      "Angle: 0 - Shape type: 6: 100%|██████████| 500/500 [00:00<00:00, 1514.38it/s]\n"
     ]
    },
    {
     "name": "stdout",
     "output_type": "stream",
     "text": [
      "Accuracy: 1.0\n"
     ]
    },
    {
     "name": "stderr",
     "output_type": "stream",
     "text": [
      "Angle: 0 - Shape type: 7: 100%|██████████| 500/500 [00:00<00:00, 1884.15it/s]\n"
     ]
    },
    {
     "name": "stdout",
     "output_type": "stream",
     "text": [
      "Accuracy: 0.9995579133510167\n"
     ]
    },
    {
     "name": "stderr",
     "output_type": "stream",
     "text": [
      "Angle: 10 - Shape type: 0: 100%|██████████| 500/500 [00:00<00:00, 1396.43it/s]\n"
     ]
    },
    {
     "name": "stdout",
     "output_type": "stream",
     "text": [
      "Accuracy: 0.6598944654261376\n"
     ]
    },
    {
     "name": "stderr",
     "output_type": "stream",
     "text": [
      "Angle: 10 - Shape type: 1: 100%|██████████| 500/500 [00:00<00:00, 1481.18it/s]\n"
     ]
    },
    {
     "name": "stdout",
     "output_type": "stream",
     "text": [
      "Accuracy: 0.963209523809524\n"
     ]
    },
    {
     "name": "stderr",
     "output_type": "stream",
     "text": [
      "Angle: 10 - Shape type: 2: 100%|██████████| 500/500 [00:00<00:00, 2836.96it/s]\n"
     ]
    },
    {
     "name": "stdout",
     "output_type": "stream",
     "text": [
      "No matches found.\n"
     ]
    },
    {
     "name": "stderr",
     "output_type": "stream",
     "text": [
      "Angle: 10 - Shape type: 3: 100%|██████████| 500/500 [00:00<00:00, 1446.94it/s]\n"
     ]
    },
    {
     "name": "stdout",
     "output_type": "stream",
     "text": [
      "Accuracy: 0.9233650793650793\n"
     ]
    },
    {
     "name": "stderr",
     "output_type": "stream",
     "text": [
      "Angle: 10 - Shape type: 4: 100%|██████████| 500/500 [00:00<00:00, 1290.99it/s]\n"
     ]
    },
    {
     "name": "stdout",
     "output_type": "stream",
     "text": [
      "Accuracy: 0.9489501541552077\n"
     ]
    },
    {
     "name": "stderr",
     "output_type": "stream",
     "text": [
      "Angle: 10 - Shape type: 5: 100%|██████████| 500/500 [00:00<00:00, 1498.12it/s]\n"
     ]
    },
    {
     "name": "stdout",
     "output_type": "stream",
     "text": [
      "Accuracy: 0.9940333333333333\n"
     ]
    },
    {
     "name": "stderr",
     "output_type": "stream",
     "text": [
      "Angle: 10 - Shape type: 6: 100%|██████████| 500/500 [00:00<00:00, 1456.10it/s]\n"
     ]
    },
    {
     "name": "stdout",
     "output_type": "stream",
     "text": [
      "Accuracy: 0.9927666666666667\n"
     ]
    },
    {
     "name": "stderr",
     "output_type": "stream",
     "text": [
      "Angle: 10 - Shape type: 7: 100%|██████████| 500/500 [00:00<00:00, 1908.17it/s]\n"
     ]
    },
    {
     "name": "stdout",
     "output_type": "stream",
     "text": [
      "Accuracy: 0.8468935349838413\n"
     ]
    },
    {
     "name": "stderr",
     "output_type": "stream",
     "text": [
      "Angle: 20 - Shape type: 0: 100%|██████████| 500/500 [00:00<00:00, 1358.22it/s]\n"
     ]
    },
    {
     "name": "stdout",
     "output_type": "stream",
     "text": [
      "Accuracy: 0.44362767095712924\n"
     ]
    },
    {
     "name": "stderr",
     "output_type": "stream",
     "text": [
      "Angle: 20 - Shape type: 1: 100%|██████████| 500/500 [00:00<00:00, 1530.62it/s]\n"
     ]
    },
    {
     "name": "stdout",
     "output_type": "stream",
     "text": [
      "Accuracy: 0.790147619047619\n"
     ]
    },
    {
     "name": "stderr",
     "output_type": "stream",
     "text": [
      "Angle: 20 - Shape type: 2: 100%|██████████| 500/500 [00:00<00:00, 2821.60it/s]\n"
     ]
    },
    {
     "name": "stdout",
     "output_type": "stream",
     "text": [
      "No matches found.\n"
     ]
    },
    {
     "name": "stderr",
     "output_type": "stream",
     "text": [
      "Angle: 20 - Shape type: 3: 100%|██████████| 500/500 [00:00<00:00, 1469.12it/s]\n"
     ]
    },
    {
     "name": "stdout",
     "output_type": "stream",
     "text": [
      "Accuracy: 0.7870144551507278\n"
     ]
    },
    {
     "name": "stderr",
     "output_type": "stream",
     "text": [
      "Angle: 20 - Shape type: 4: 100%|██████████| 500/500 [00:00<00:00, 1329.06it/s]\n"
     ]
    },
    {
     "name": "stdout",
     "output_type": "stream",
     "text": [
      "Accuracy: 0.6725087143552717\n"
     ]
    },
    {
     "name": "stderr",
     "output_type": "stream",
     "text": [
      "Angle: 20 - Shape type: 5: 100%|██████████| 500/500 [00:00<00:00, 1549.90it/s]\n"
     ]
    },
    {
     "name": "stdout",
     "output_type": "stream",
     "text": [
      "Accuracy: 0.9415666666666666\n"
     ]
    },
    {
     "name": "stderr",
     "output_type": "stream",
     "text": [
      "Angle: 20 - Shape type: 6: 100%|██████████| 500/500 [00:00<00:00, 1498.08it/s]\n"
     ]
    },
    {
     "name": "stdout",
     "output_type": "stream",
     "text": [
      "Accuracy: 0.8997333333333334\n"
     ]
    },
    {
     "name": "stderr",
     "output_type": "stream",
     "text": [
      "Angle: 20 - Shape type: 7: 100%|██████████| 500/500 [00:00<00:00, 1781.47it/s]\n"
     ]
    },
    {
     "name": "stdout",
     "output_type": "stream",
     "text": [
      "Accuracy: 0.7342108751494565\n"
     ]
    },
    {
     "name": "stderr",
     "output_type": "stream",
     "text": [
      "Angle: 30 - Shape type: 0: 100%|██████████| 500/500 [00:00<00:00, 1143.91it/s]\n"
     ]
    },
    {
     "name": "stdout",
     "output_type": "stream",
     "text": [
      "Accuracy: 0.3304411919039519\n"
     ]
    },
    {
     "name": "stderr",
     "output_type": "stream",
     "text": [
      "Angle: 30 - Shape type: 1: 100%|██████████| 500/500 [00:00<00:00, 1518.30it/s]\n"
     ]
    },
    {
     "name": "stdout",
     "output_type": "stream",
     "text": [
      "Accuracy: 0.5014571428571428\n"
     ]
    },
    {
     "name": "stderr",
     "output_type": "stream",
     "text": [
      "Angle: 30 - Shape type: 2: 100%|██████████| 500/500 [-1:59:58<00:00, -214.76it/s]\n"
     ]
    },
    {
     "name": "stdout",
     "output_type": "stream",
     "text": [
      "No matches found.\n"
     ]
    },
    {
     "name": "stderr",
     "output_type": "stream",
     "text": [
      "Angle: 30 - Shape type: 3: 100%|██████████| 500/500 [00:00<00:00, 1619.31it/s]\n"
     ]
    },
    {
     "name": "stdout",
     "output_type": "stream",
     "text": [
      "Accuracy: 0.6061740475067128\n"
     ]
    },
    {
     "name": "stderr",
     "output_type": "stream",
     "text": [
      "Angle: 30 - Shape type: 4: 100%|██████████| 500/500 [00:00<00:00, 1139.69it/s]\n"
     ]
    },
    {
     "name": "stdout",
     "output_type": "stream",
     "text": [
      "Accuracy: 0.41440875291321233\n"
     ]
    },
    {
     "name": "stderr",
     "output_type": "stream",
     "text": [
      "Angle: 30 - Shape type: 5: 100%|██████████| 500/500 [00:00<00:00, 1655.75it/s]\n"
     ]
    },
    {
     "name": "stdout",
     "output_type": "stream",
     "text": [
      "Accuracy: 0.7746814218645204\n"
     ]
    },
    {
     "name": "stderr",
     "output_type": "stream",
     "text": [
      "Angle: 30 - Shape type: 6: 100%|██████████| 500/500 [00:00<00:00, 1517.23it/s]\n"
     ]
    },
    {
     "name": "stdout",
     "output_type": "stream",
     "text": [
      "Accuracy: 0.6582333333333333\n"
     ]
    },
    {
     "name": "stderr",
     "output_type": "stream",
     "text": [
      "Angle: 30 - Shape type: 7: 100%|██████████| 500/500 [00:00<00:00, 1887.00it/s]\n"
     ]
    },
    {
     "name": "stdout",
     "output_type": "stream",
     "text": [
      "Accuracy: 0.6324117649418854\n"
     ]
    },
    {
     "name": "stderr",
     "output_type": "stream",
     "text": [
      "Angle: 40 - Shape type: 0: 100%|██████████| 500/500 [00:00<00:00, 1412.29it/s]\n"
     ]
    },
    {
     "name": "stdout",
     "output_type": "stream",
     "text": [
      "Accuracy: 0.29287527120677764\n"
     ]
    },
    {
     "name": "stderr",
     "output_type": "stream",
     "text": [
      "Angle: 40 - Shape type: 1: 100%|██████████| 500/500 [00:00<00:00, 1523.80it/s]\n"
     ]
    },
    {
     "name": "stdout",
     "output_type": "stream",
     "text": [
      "Accuracy: 0.48266190476190474\n"
     ]
    },
    {
     "name": "stderr",
     "output_type": "stream",
     "text": [
      "Angle: 40 - Shape type: 2: 100%|██████████| 500/500 [00:00<00:00, 2846.91it/s]\n"
     ]
    },
    {
     "name": "stdout",
     "output_type": "stream",
     "text": [
      "No matches found.\n"
     ]
    },
    {
     "name": "stderr",
     "output_type": "stream",
     "text": [
      "Angle: 40 - Shape type: 3: 100%|██████████| 500/500 [00:00<00:00, 1549.53it/s]\n"
     ]
    },
    {
     "name": "stdout",
     "output_type": "stream",
     "text": [
      "Accuracy: 0.5570474003840737\n"
     ]
    },
    {
     "name": "stderr",
     "output_type": "stream",
     "text": [
      "Angle: 40 - Shape type: 4: 100%|██████████| 500/500 [00:00<00:00, 1338.40it/s]\n"
     ]
    },
    {
     "name": "stdout",
     "output_type": "stream",
     "text": [
      "Accuracy: 0.38846574325913413\n"
     ]
    },
    {
     "name": "stderr",
     "output_type": "stream",
     "text": [
      "Angle: 40 - Shape type: 5: 100%|██████████| 500/500 [00:00<00:00, 1599.93it/s]\n"
     ]
    },
    {
     "name": "stdout",
     "output_type": "stream",
     "text": [
      "Accuracy: 0.6415322580645161\n"
     ]
    },
    {
     "name": "stderr",
     "output_type": "stream",
     "text": [
      "Angle: 40 - Shape type: 6: 100%|██████████| 500/500 [00:00<00:00, 1531.46it/s]\n"
     ]
    },
    {
     "name": "stdout",
     "output_type": "stream",
     "text": [
      "Accuracy: 0.5548666666666666\n"
     ]
    },
    {
     "name": "stderr",
     "output_type": "stream",
     "text": [
      "Angle: 40 - Shape type: 7: 100%|██████████| 500/500 [00:00<00:00, 1980.14it/s]\n"
     ]
    },
    {
     "name": "stdout",
     "output_type": "stream",
     "text": [
      "Accuracy: 0.5732697646831385\n"
     ]
    },
    {
     "name": "stderr",
     "output_type": "stream",
     "text": [
      "Angle: 50 - Shape type: 0: 100%|██████████| 500/500 [00:00<00:00, 1342.86it/s]\n"
     ]
    },
    {
     "name": "stdout",
     "output_type": "stream",
     "text": [
      "Accuracy: 0.30215058962324\n"
     ]
    },
    {
     "name": "stderr",
     "output_type": "stream",
     "text": [
      "Angle: 50 - Shape type: 1: 100%|██████████| 500/500 [00:00<00:00, 1567.60it/s]\n"
     ]
    },
    {
     "name": "stdout",
     "output_type": "stream",
     "text": [
      "Accuracy: 0.5129809523809524\n"
     ]
    },
    {
     "name": "stderr",
     "output_type": "stream",
     "text": [
      "Angle: 50 - Shape type: 2: 100%|██████████| 500/500 [00:00<00:00, 2961.98it/s]\n"
     ]
    },
    {
     "name": "stdout",
     "output_type": "stream",
     "text": [
      "No matches found.\n"
     ]
    },
    {
     "name": "stderr",
     "output_type": "stream",
     "text": [
      "Angle: 50 - Shape type: 3: 100%|██████████| 500/500 [00:00<00:00, 1517.35it/s]\n"
     ]
    },
    {
     "name": "stdout",
     "output_type": "stream",
     "text": [
      "Accuracy: 0.5483235702173578\n"
     ]
    },
    {
     "name": "stderr",
     "output_type": "stream",
     "text": [
      "Angle: 50 - Shape type: 4: 100%|██████████| 500/500 [00:00<00:00, 1174.39it/s]\n"
     ]
    },
    {
     "name": "stdout",
     "output_type": "stream",
     "text": [
      "Accuracy: 0.39206394842573916\n"
     ]
    },
    {
     "name": "stderr",
     "output_type": "stream",
     "text": [
      "Angle: 50 - Shape type: 5: 100%|██████████| 500/500 [00:00<00:00, 1466.18it/s]\n"
     ]
    },
    {
     "name": "stdout",
     "output_type": "stream",
     "text": [
      "Accuracy: 0.6025016903313049\n"
     ]
    },
    {
     "name": "stderr",
     "output_type": "stream",
     "text": [
      "Angle: 50 - Shape type: 6: 100%|██████████| 500/500 [00:00<00:00, 1546.60it/s]\n"
     ]
    },
    {
     "name": "stdout",
     "output_type": "stream",
     "text": [
      "Accuracy: 0.5397000000000001\n"
     ]
    },
    {
     "name": "stderr",
     "output_type": "stream",
     "text": [
      "Angle: 50 - Shape type: 7: 100%|██████████| 500/500 [00:00<00:00, 1888.48it/s]\n"
     ]
    },
    {
     "name": "stdout",
     "output_type": "stream",
     "text": [
      "Accuracy: 0.5583638205229114\n"
     ]
    },
    {
     "name": "stderr",
     "output_type": "stream",
     "text": [
      "Angle: 60 - Shape type: 0: 100%|██████████| 500/500 [00:00<00:00, 1163.65it/s]\n"
     ]
    },
    {
     "name": "stdout",
     "output_type": "stream",
     "text": [
      "Accuracy: 0.329843516357588\n"
     ]
    },
    {
     "name": "stderr",
     "output_type": "stream",
     "text": [
      "Angle: 60 - Shape type: 1: 100%|██████████| 500/500 [00:00<00:00, 1344.78it/s]\n"
     ]
    },
    {
     "name": "stdout",
     "output_type": "stream",
     "text": [
      "Accuracy: 0.5119047619047619\n"
     ]
    },
    {
     "name": "stderr",
     "output_type": "stream",
     "text": [
      "Angle: 60 - Shape type: 2: 100%|██████████| 500/500 [00:00<00:00, 2683.47it/s]\n"
     ]
    },
    {
     "name": "stdout",
     "output_type": "stream",
     "text": [
      "No matches found.\n"
     ]
    },
    {
     "name": "stderr",
     "output_type": "stream",
     "text": [
      "Angle: 60 - Shape type: 3: 100%|██████████| 500/500 [00:00<00:00, 1385.18it/s]\n"
     ]
    },
    {
     "name": "stdout",
     "output_type": "stream",
     "text": [
      "Accuracy: 0.5497252858698642\n"
     ]
    },
    {
     "name": "stderr",
     "output_type": "stream",
     "text": [
      "Angle: 60 - Shape type: 4: 100%|██████████| 500/500 [00:00<00:00, 1211.99it/s]\n"
     ]
    },
    {
     "name": "stdout",
     "output_type": "stream",
     "text": [
      "Accuracy: 0.3881717823487852\n"
     ]
    },
    {
     "name": "stderr",
     "output_type": "stream",
     "text": [
      "Angle: 60 - Shape type: 5: 100%|██████████| 500/500 [00:00<00:00, 1409.67it/s]\n"
     ]
    },
    {
     "name": "stdout",
     "output_type": "stream",
     "text": [
      "Accuracy: 0.6046409214092141\n"
     ]
    },
    {
     "name": "stderr",
     "output_type": "stream",
     "text": [
      "Angle: 60 - Shape type: 6: 100%|██████████| 500/500 [00:00<00:00, 1044.31it/s]\n"
     ]
    },
    {
     "name": "stdout",
     "output_type": "stream",
     "text": [
      "Accuracy: 0.5250333333333334\n"
     ]
    },
    {
     "name": "stderr",
     "output_type": "stream",
     "text": [
      "Angle: 60 - Shape type: 7: 100%|██████████| 500/500 [00:00<00:00, 1758.62it/s]\n"
     ]
    },
    {
     "name": "stdout",
     "output_type": "stream",
     "text": [
      "Accuracy: 0.5808592804206839\n"
     ]
    },
    {
     "name": "stderr",
     "output_type": "stream",
     "text": [
      "Angle: 70 - Shape type: 0: 100%|██████████| 500/500 [00:00<00:00, 1230.60it/s]\n"
     ]
    },
    {
     "name": "stdout",
     "output_type": "stream",
     "text": [
      "Accuracy: 0.33995767478493555\n"
     ]
    },
    {
     "name": "stderr",
     "output_type": "stream",
     "text": [
      "Angle: 70 - Shape type: 1: 100%|██████████| 500/500 [00:00<00:00, 1304.79it/s]\n"
     ]
    },
    {
     "name": "stdout",
     "output_type": "stream",
     "text": [
      "Accuracy: 0.5187333333333334\n"
     ]
    },
    {
     "name": "stderr",
     "output_type": "stream",
     "text": [
      "Angle: 70 - Shape type: 2: 100%|██████████| 500/500 [00:00<00:00, 2808.94it/s]\n"
     ]
    },
    {
     "name": "stdout",
     "output_type": "stream",
     "text": [
      "No matches found.\n"
     ]
    },
    {
     "name": "stderr",
     "output_type": "stream",
     "text": [
      "Angle: 70 - Shape type: 3: 100%|██████████| 500/500 [00:00<00:00, 1497.37it/s]\n"
     ]
    },
    {
     "name": "stdout",
     "output_type": "stream",
     "text": [
      "Accuracy: 0.5446475221626127\n"
     ]
    },
    {
     "name": "stderr",
     "output_type": "stream",
     "text": [
      "Angle: 70 - Shape type: 4: 100%|██████████| 500/500 [00:00<00:00, 1268.37it/s]\n"
     ]
    },
    {
     "name": "stdout",
     "output_type": "stream",
     "text": [
      "Accuracy: 0.39345263180117607\n"
     ]
    },
    {
     "name": "stderr",
     "output_type": "stream",
     "text": [
      "Angle: 70 - Shape type: 5: 100%|██████████| 500/500 [00:00<00:00, 1434.54it/s]\n"
     ]
    },
    {
     "name": "stdout",
     "output_type": "stream",
     "text": [
      "Accuracy: 0.6214769647696478\n"
     ]
    },
    {
     "name": "stderr",
     "output_type": "stream",
     "text": [
      "Angle: 70 - Shape type: 6: 100%|██████████| 500/500 [00:00<00:00, 1357.47it/s]\n"
     ]
    },
    {
     "name": "stdout",
     "output_type": "stream",
     "text": [
      "Accuracy: 0.5343666666666667\n"
     ]
    },
    {
     "name": "stderr",
     "output_type": "stream",
     "text": [
      "Angle: 70 - Shape type: 7: 100%|██████████| 500/500 [00:00<00:00, 1852.11it/s]\n"
     ]
    },
    {
     "name": "stdout",
     "output_type": "stream",
     "text": [
      "Accuracy: 0.5933467191941768\n"
     ]
    },
    {
     "name": "stderr",
     "output_type": "stream",
     "text": [
      "Angle: 80 - Shape type: 0: 100%|██████████| 500/500 [00:00<00:00, 1395.26it/s]\n"
     ]
    },
    {
     "name": "stdout",
     "output_type": "stream",
     "text": [
      "Accuracy: 0.33879338519388424\n"
     ]
    },
    {
     "name": "stderr",
     "output_type": "stream",
     "text": [
      "Angle: 80 - Shape type: 1: 100%|██████████| 500/500 [00:00<00:00, 1149.23it/s]\n"
     ]
    },
    {
     "name": "stdout",
     "output_type": "stream",
     "text": [
      "Accuracy: 0.5079904761904762\n"
     ]
    },
    {
     "name": "stderr",
     "output_type": "stream",
     "text": [
      "Angle: 80 - Shape type: 2: 100%|██████████| 500/500 [00:00<00:00, 2508.19it/s]\n"
     ]
    },
    {
     "name": "stdout",
     "output_type": "stream",
     "text": [
      "No matches found.\n"
     ]
    },
    {
     "name": "stderr",
     "output_type": "stream",
     "text": [
      "Angle: 80 - Shape type: 3: 100%|██████████| 500/500 [00:00<00:00, 1251.49it/s]\n"
     ]
    },
    {
     "name": "stdout",
     "output_type": "stream",
     "text": [
      "Accuracy: 0.5588004606616277\n"
     ]
    },
    {
     "name": "stderr",
     "output_type": "stream",
     "text": [
      "Angle: 80 - Shape type: 4: 100%|██████████| 500/500 [00:00<00:00, 1331.86it/s]\n"
     ]
    },
    {
     "name": "stdout",
     "output_type": "stream",
     "text": [
      "Accuracy: 0.39835777881452084\n"
     ]
    },
    {
     "name": "stderr",
     "output_type": "stream",
     "text": [
      "Angle: 80 - Shape type: 5: 100%|██████████| 500/500 [00:00<00:00, 1649.77it/s]\n"
     ]
    },
    {
     "name": "stdout",
     "output_type": "stream",
     "text": [
      "Accuracy: 0.6468960863697705\n"
     ]
    },
    {
     "name": "stderr",
     "output_type": "stream",
     "text": [
      "Angle: 80 - Shape type: 6: 100%|██████████| 500/500 [00:00<00:00, 1604.26it/s]\n"
     ]
    },
    {
     "name": "stdout",
     "output_type": "stream",
     "text": [
      "Accuracy: 0.5188333333333333\n"
     ]
    },
    {
     "name": "stderr",
     "output_type": "stream",
     "text": [
      "Angle: 80 - Shape type: 7: 100%|██████████| 500/500 [00:00<00:00, 2010.25it/s]\n"
     ]
    },
    {
     "name": "stdout",
     "output_type": "stream",
     "text": [
      "Accuracy: 0.6155475380902732\n"
     ]
    },
    {
     "name": "stderr",
     "output_type": "stream",
     "text": [
      "Angle: 90 - Shape type: 0: 100%|██████████| 500/500 [00:00<00:00, 1467.41it/s]\n"
     ]
    },
    {
     "name": "stdout",
     "output_type": "stream",
     "text": [
      "Accuracy: 0.34528593164453963\n"
     ]
    },
    {
     "name": "stderr",
     "output_type": "stream",
     "text": [
      "Angle: 90 - Shape type: 1: 100%|██████████| 500/500 [00:00<00:00, 1629.00it/s]\n"
     ]
    },
    {
     "name": "stdout",
     "output_type": "stream",
     "text": [
      "Accuracy: 0.4965523809523809\n"
     ]
    },
    {
     "name": "stderr",
     "output_type": "stream",
     "text": [
      "Angle: 90 - Shape type: 2: 100%|██████████| 500/500 [00:00<00:00, 2899.01it/s]\n"
     ]
    },
    {
     "name": "stdout",
     "output_type": "stream",
     "text": [
      "No matches found.\n"
     ]
    },
    {
     "name": "stderr",
     "output_type": "stream",
     "text": [
      "Angle: 90 - Shape type: 3: 100%|██████████| 500/500 [00:00<00:00, 1368.66it/s]\n"
     ]
    },
    {
     "name": "stdout",
     "output_type": "stream",
     "text": [
      "Accuracy: 0.5691693959766249\n"
     ]
    },
    {
     "name": "stderr",
     "output_type": "stream",
     "text": [
      "Angle: 90 - Shape type: 4: 100%|██████████| 500/500 [00:00<00:00, 1352.49it/s]\n"
     ]
    },
    {
     "name": "stdout",
     "output_type": "stream",
     "text": [
      "Accuracy: 0.39686021909943064\n"
     ]
    },
    {
     "name": "stderr",
     "output_type": "stream",
     "text": [
      "Angle: 90 - Shape type: 5: 100%|██████████| 500/500 [00:00<00:00, 1671.93it/s]\n"
     ]
    },
    {
     "name": "stdout",
     "output_type": "stream",
     "text": [
      "Accuracy: 0.6685110663983903\n"
     ]
    },
    {
     "name": "stderr",
     "output_type": "stream",
     "text": [
      "Angle: 90 - Shape type: 6: 100%|██████████| 500/500 [00:00<00:00, 1598.05it/s]\n"
     ]
    },
    {
     "name": "stdout",
     "output_type": "stream",
     "text": [
      "Accuracy: 0.5184666666666667\n"
     ]
    },
    {
     "name": "stderr",
     "output_type": "stream",
     "text": [
      "Angle: 90 - Shape type: 7: 100%|██████████| 500/500 [00:00<00:00, 2017.79it/s]\n"
     ]
    },
    {
     "name": "stdout",
     "output_type": "stream",
     "text": [
      "Accuracy: 0.6158509126532382\n"
     ]
    },
    {
     "name": "stderr",
     "output_type": "stream",
     "text": [
      "Angle: 100 - Shape type: 0: 100%|██████████| 500/500 [00:00<00:00, 1468.98it/s]\n"
     ]
    },
    {
     "name": "stdout",
     "output_type": "stream",
     "text": [
      "Accuracy: 0.33989484498938033\n"
     ]
    },
    {
     "name": "stderr",
     "output_type": "stream",
     "text": [
      "Angle: 100 - Shape type: 1: 100%|██████████| 500/500 [00:00<00:00, 1551.52it/s]\n"
     ]
    },
    {
     "name": "stdout",
     "output_type": "stream",
     "text": [
      "Accuracy: 0.5243190476190477\n"
     ]
    },
    {
     "name": "stderr",
     "output_type": "stream",
     "text": [
      "Angle: 100 - Shape type: 2: 100%|██████████| 500/500 [00:00<00:00, 2997.57it/s]\n"
     ]
    },
    {
     "name": "stdout",
     "output_type": "stream",
     "text": [
      "No matches found.\n"
     ]
    },
    {
     "name": "stderr",
     "output_type": "stream",
     "text": [
      "Angle: 100 - Shape type: 3: 100%|██████████| 500/500 [00:00<00:00, 1563.39it/s]\n"
     ]
    },
    {
     "name": "stdout",
     "output_type": "stream",
     "text": [
      "Accuracy: 0.5622245378758405\n"
     ]
    },
    {
     "name": "stderr",
     "output_type": "stream",
     "text": [
      "Angle: 100 - Shape type: 4: 100%|██████████| 500/500 [00:00<00:00, 1383.48it/s]\n"
     ]
    },
    {
     "name": "stdout",
     "output_type": "stream",
     "text": [
      "Accuracy: 0.40158827461010627\n"
     ]
    },
    {
     "name": "stderr",
     "output_type": "stream",
     "text": [
      "Angle: 100 - Shape type: 5: 100%|██████████| 500/500 [00:00<00:00, 1696.48it/s]\n"
     ]
    },
    {
     "name": "stdout",
     "output_type": "stream",
     "text": [
      "Accuracy: 0.6662609871534821\n"
     ]
    },
    {
     "name": "stderr",
     "output_type": "stream",
     "text": [
      "Angle: 100 - Shape type: 6: 100%|██████████| 500/500 [00:00<00:00, 1617.42it/s]\n"
     ]
    },
    {
     "name": "stdout",
     "output_type": "stream",
     "text": [
      "Accuracy: 0.5206333333333333\n"
     ]
    },
    {
     "name": "stderr",
     "output_type": "stream",
     "text": [
      "Angle: 100 - Shape type: 7: 100%|██████████| 500/500 [00:00<00:00, 2044.67it/s]\n"
     ]
    },
    {
     "name": "stdout",
     "output_type": "stream",
     "text": [
      "Accuracy: 0.6084048858385142\n"
     ]
    },
    {
     "name": "stderr",
     "output_type": "stream",
     "text": [
      "Angle: 110 - Shape type: 0: 100%|██████████| 500/500 [00:00<00:00, 1430.56it/s]\n"
     ]
    },
    {
     "name": "stdout",
     "output_type": "stream",
     "text": [
      "Accuracy: 0.3407913601917328\n"
     ]
    },
    {
     "name": "stderr",
     "output_type": "stream",
     "text": [
      "Angle: 110 - Shape type: 1: 100%|██████████| 500/500 [00:00<00:00, 1420.42it/s]\n"
     ]
    },
    {
     "name": "stdout",
     "output_type": "stream",
     "text": [
      "Accuracy: 0.5384333333333333\n"
     ]
    },
    {
     "name": "stderr",
     "output_type": "stream",
     "text": [
      "Angle: 110 - Shape type: 2: 100%|██████████| 500/500 [00:00<00:00, 2815.52it/s]\n"
     ]
    },
    {
     "name": "stdout",
     "output_type": "stream",
     "text": [
      "No matches found.\n"
     ]
    },
    {
     "name": "stderr",
     "output_type": "stream",
     "text": [
      "Angle: 110 - Shape type: 3: 100%|██████████| 500/500 [00:00<00:00, 1404.50it/s]\n"
     ]
    },
    {
     "name": "stdout",
     "output_type": "stream",
     "text": [
      "Accuracy: 0.5549933644623024\n"
     ]
    },
    {
     "name": "stderr",
     "output_type": "stream",
     "text": [
      "Angle: 110 - Shape type: 4: 100%|██████████| 500/500 [00:00<00:00, 1176.54it/s]\n"
     ]
    },
    {
     "name": "stdout",
     "output_type": "stream",
     "text": [
      "Accuracy: 0.39127837932023296\n"
     ]
    },
    {
     "name": "stderr",
     "output_type": "stream",
     "text": [
      "Angle: 110 - Shape type: 5: 100%|██████████| 500/500 [00:00<00:00, 1429.43it/s]\n"
     ]
    },
    {
     "name": "stdout",
     "output_type": "stream",
     "text": [
      "Accuracy: 0.6647773279352226\n"
     ]
    },
    {
     "name": "stderr",
     "output_type": "stream",
     "text": [
      "Angle: 110 - Shape type: 6: 100%|██████████| 500/500 [00:00<00:00, 1261.04it/s]\n"
     ]
    },
    {
     "name": "stdout",
     "output_type": "stream",
     "text": [
      "Accuracy: 0.5251666666666667\n"
     ]
    },
    {
     "name": "stderr",
     "output_type": "stream",
     "text": [
      "Angle: 110 - Shape type: 7: 100%|██████████| 500/500 [00:00<00:00, 1650.88it/s]\n"
     ]
    },
    {
     "name": "stdout",
     "output_type": "stream",
     "text": [
      "Accuracy: 0.5916757629748567\n"
     ]
    },
    {
     "name": "stderr",
     "output_type": "stream",
     "text": [
      "Angle: 120 - Shape type: 0: 100%|██████████| 500/500 [00:00<00:00, 1262.32it/s]\n"
     ]
    },
    {
     "name": "stdout",
     "output_type": "stream",
     "text": [
      "Accuracy: 0.3338792598206847\n"
     ]
    },
    {
     "name": "stderr",
     "output_type": "stream",
     "text": [
      "Angle: 120 - Shape type: 1: 100%|██████████| 500/500 [00:00<00:00, 1496.08it/s]\n"
     ]
    },
    {
     "name": "stdout",
     "output_type": "stream",
     "text": [
      "Accuracy: 0.5376142857142856\n"
     ]
    },
    {
     "name": "stderr",
     "output_type": "stream",
     "text": [
      "Angle: 120 - Shape type: 2: 100%|██████████| 500/500 [00:00<00:00, 2782.87it/s]\n"
     ]
    },
    {
     "name": "stdout",
     "output_type": "stream",
     "text": [
      "No matches found.\n"
     ]
    },
    {
     "name": "stderr",
     "output_type": "stream",
     "text": [
      "Angle: 120 - Shape type: 3: 100%|██████████| 500/500 [00:00<00:00, 1366.51it/s]\n"
     ]
    },
    {
     "name": "stdout",
     "output_type": "stream",
     "text": [
      "Accuracy: 0.5418852314352314\n"
     ]
    },
    {
     "name": "stderr",
     "output_type": "stream",
     "text": [
      "Angle: 120 - Shape type: 4: 100%|██████████| 500/500 [00:00<00:00, 1230.78it/s]\n"
     ]
    },
    {
     "name": "stdout",
     "output_type": "stream",
     "text": [
      "Accuracy: 0.4022722033871635\n"
     ]
    },
    {
     "name": "stderr",
     "output_type": "stream",
     "text": [
      "Angle: 120 - Shape type: 5: 100%|██████████| 500/500 [00:00<00:00, 1417.80it/s]\n"
     ]
    },
    {
     "name": "stdout",
     "output_type": "stream",
     "text": [
      "Accuracy: 0.6675135501355013\n"
     ]
    },
    {
     "name": "stderr",
     "output_type": "stream",
     "text": [
      "Angle: 120 - Shape type: 6: 100%|██████████| 500/500 [00:00<00:00, 1608.05it/s]\n"
     ]
    },
    {
     "name": "stdout",
     "output_type": "stream",
     "text": [
      "Accuracy: 0.5421666666666666\n"
     ]
    },
    {
     "name": "stderr",
     "output_type": "stream",
     "text": [
      "Angle: 120 - Shape type: 7: 100%|██████████| 500/500 [00:00<00:00, 1556.21it/s]\n"
     ]
    },
    {
     "name": "stdout",
     "output_type": "stream",
     "text": [
      "Accuracy: 0.5903037502079036\n"
     ]
    },
    {
     "name": "stderr",
     "output_type": "stream",
     "text": [
      "Angle: 130 - Shape type: 0: 100%|██████████| 500/500 [00:00<00:00, 1128.97it/s]\n"
     ]
    },
    {
     "name": "stdout",
     "output_type": "stream",
     "text": [
      "Accuracy: 0.30992107630682425\n"
     ]
    },
    {
     "name": "stderr",
     "output_type": "stream",
     "text": [
      "Angle: 130 - Shape type: 1: 100%|██████████| 500/500 [00:00<00:00, 1551.28it/s]\n"
     ]
    },
    {
     "name": "stdout",
     "output_type": "stream",
     "text": [
      "Accuracy: 0.5215619047619048\n"
     ]
    },
    {
     "name": "stderr",
     "output_type": "stream",
     "text": [
      "Angle: 130 - Shape type: 2: 100%|██████████| 500/500 [00:00<00:00, 2663.94it/s]\n"
     ]
    },
    {
     "name": "stdout",
     "output_type": "stream",
     "text": [
      "No matches found.\n"
     ]
    },
    {
     "name": "stderr",
     "output_type": "stream",
     "text": [
      "Angle: 130 - Shape type: 3: 100%|██████████| 500/500 [00:00<00:00, 1413.76it/s]\n"
     ]
    },
    {
     "name": "stdout",
     "output_type": "stream",
     "text": [
      "Accuracy: 0.5434525616890346\n"
     ]
    },
    {
     "name": "stderr",
     "output_type": "stream",
     "text": [
      "Angle: 130 - Shape type: 4: 100%|██████████| 500/500 [00:00<00:00, 1282.75it/s]\n"
     ]
    },
    {
     "name": "stdout",
     "output_type": "stream",
     "text": [
      "Accuracy: 0.39099375358244637\n"
     ]
    },
    {
     "name": "stderr",
     "output_type": "stream",
     "text": [
      "Angle: 130 - Shape type: 5: 100%|██████████| 500/500 [00:00<00:00, 1382.74it/s]\n"
     ]
    },
    {
     "name": "stdout",
     "output_type": "stream",
     "text": [
      "Accuracy: 0.6653171390013495\n"
     ]
    },
    {
     "name": "stderr",
     "output_type": "stream",
     "text": [
      "Angle: 130 - Shape type: 6: 100%|██████████| 500/500 [00:00<00:00, 1163.30it/s]\n"
     ]
    },
    {
     "name": "stdout",
     "output_type": "stream",
     "text": [
      "Accuracy: 0.5402333333333333\n"
     ]
    },
    {
     "name": "stderr",
     "output_type": "stream",
     "text": [
      "Angle: 130 - Shape type: 7: 100%|██████████| 500/500 [00:00<00:00, 2069.52it/s]\n"
     ]
    },
    {
     "name": "stdout",
     "output_type": "stream",
     "text": [
      "Accuracy: 0.5777286127615074\n"
     ]
    },
    {
     "name": "stderr",
     "output_type": "stream",
     "text": [
      "Angle: 140 - Shape type: 0: 100%|██████████| 500/500 [00:00<00:00, 1371.10it/s]\n"
     ]
    },
    {
     "name": "stdout",
     "output_type": "stream",
     "text": [
      "Accuracy: 0.30528914318063766\n"
     ]
    },
    {
     "name": "stderr",
     "output_type": "stream",
     "text": [
      "Angle: 140 - Shape type: 1: 100%|██████████| 500/500 [00:00<00:00, 1631.06it/s]\n"
     ]
    },
    {
     "name": "stdout",
     "output_type": "stream",
     "text": [
      "Accuracy: 0.496952380952381\n"
     ]
    },
    {
     "name": "stderr",
     "output_type": "stream",
     "text": [
      "Angle: 140 - Shape type: 2: 100%|██████████| 500/500 [00:00<00:00, 2797.01it/s]\n"
     ]
    },
    {
     "name": "stdout",
     "output_type": "stream",
     "text": [
      "No matches found.\n"
     ]
    },
    {
     "name": "stderr",
     "output_type": "stream",
     "text": [
      "Angle: 140 - Shape type: 3: 100%|██████████| 500/500 [00:00<00:00, 1623.82it/s]\n"
     ]
    },
    {
     "name": "stdout",
     "output_type": "stream",
     "text": [
      "Accuracy: 0.545626556698701\n"
     ]
    },
    {
     "name": "stderr",
     "output_type": "stream",
     "text": [
      "Angle: 140 - Shape type: 4: 100%|██████████| 500/500 [00:00<00:00, 1361.31it/s]\n"
     ]
    },
    {
     "name": "stdout",
     "output_type": "stream",
     "text": [
      "Accuracy: 0.3896006203984973\n"
     ]
    },
    {
     "name": "stderr",
     "output_type": "stream",
     "text": [
      "Angle: 140 - Shape type: 5: 100%|██████████| 500/500 [00:00<00:00, 1583.56it/s]\n"
     ]
    },
    {
     "name": "stdout",
     "output_type": "stream",
     "text": [
      "Accuracy: 0.646187584345479\n"
     ]
    },
    {
     "name": "stderr",
     "output_type": "stream",
     "text": [
      "Angle: 140 - Shape type: 6: 100%|██████████| 500/500 [00:00<00:00, 1602.97it/s]\n"
     ]
    },
    {
     "name": "stdout",
     "output_type": "stream",
     "text": [
      "Accuracy: 0.5421333333333334\n"
     ]
    },
    {
     "name": "stderr",
     "output_type": "stream",
     "text": [
      "Angle: 140 - Shape type: 7: 100%|██████████| 500/500 [00:00<00:00, 2056.29it/s]\n"
     ]
    },
    {
     "name": "stdout",
     "output_type": "stream",
     "text": [
      "Accuracy: 0.5726258648758649\n"
     ]
    },
    {
     "name": "stderr",
     "output_type": "stream",
     "text": [
      "Angle: 150 - Shape type: 0: 100%|██████████| 500/500 [00:00<00:00, 1413.84it/s]\n"
     ]
    },
    {
     "name": "stdout",
     "output_type": "stream",
     "text": [
      "Accuracy: 0.32249688228725976\n"
     ]
    },
    {
     "name": "stderr",
     "output_type": "stream",
     "text": [
      "Angle: 150 - Shape type: 1: 100%|██████████| 500/500 [00:00<00:00, 1634.04it/s]\n"
     ]
    },
    {
     "name": "stdout",
     "output_type": "stream",
     "text": [
      "Accuracy: 0.4796761904761904\n"
     ]
    },
    {
     "name": "stderr",
     "output_type": "stream",
     "text": [
      "Angle: 150 - Shape type: 2: 100%|██████████| 500/500 [00:00<00:00, 2211.55it/s]\n"
     ]
    },
    {
     "name": "stdout",
     "output_type": "stream",
     "text": [
      "No matches found.\n"
     ]
    },
    {
     "name": "stderr",
     "output_type": "stream",
     "text": [
      "Angle: 150 - Shape type: 3: 100%|██████████| 500/500 [00:00<00:00, 1599.92it/s]\n"
     ]
    },
    {
     "name": "stdout",
     "output_type": "stream",
     "text": [
      "Accuracy: 0.5428162185176213\n"
     ]
    },
    {
     "name": "stderr",
     "output_type": "stream",
     "text": [
      "Angle: 150 - Shape type: 4: 100%|██████████| 500/500 [00:00<00:00, 1328.28it/s]\n"
     ]
    },
    {
     "name": "stdout",
     "output_type": "stream",
     "text": [
      "Accuracy: 0.385638883864401\n"
     ]
    },
    {
     "name": "stderr",
     "output_type": "stream",
     "text": [
      "Angle: 150 - Shape type: 5: 100%|██████████| 500/500 [00:00<00:00, 1452.78it/s]\n"
     ]
    },
    {
     "name": "stdout",
     "output_type": "stream",
     "text": [
      "Accuracy: 0.6415157612340712\n"
     ]
    },
    {
     "name": "stderr",
     "output_type": "stream",
     "text": [
      "Angle: 150 - Shape type: 6: 100%|██████████| 500/500 [-1:59:58<00:00, -236.08it/s]\n"
     ]
    },
    {
     "name": "stdout",
     "output_type": "stream",
     "text": [
      "Accuracy: 0.5438666666666666\n"
     ]
    },
    {
     "name": "stderr",
     "output_type": "stream",
     "text": [
      "Angle: 150 - Shape type: 7: 100%|██████████| 500/500 [00:00<00:00, 1957.48it/s]\n"
     ]
    },
    {
     "name": "stdout",
     "output_type": "stream",
     "text": [
      "Accuracy: 0.5650658219595096\n"
     ]
    },
    {
     "name": "stderr",
     "output_type": "stream",
     "text": [
      "Angle: 160 - Shape type: 0: 100%|██████████| 500/500 [00:00<00:00, 1442.87it/s]\n"
     ]
    },
    {
     "name": "stdout",
     "output_type": "stream",
     "text": [
      "Accuracy: 0.32738143872349246\n"
     ]
    },
    {
     "name": "stderr",
     "output_type": "stream",
     "text": [
      "Angle: 160 - Shape type: 1: 100%|██████████| 500/500 [00:00<00:00, 1572.40it/s]\n"
     ]
    },
    {
     "name": "stdout",
     "output_type": "stream",
     "text": [
      "Accuracy: 0.48737619047619046\n"
     ]
    },
    {
     "name": "stderr",
     "output_type": "stream",
     "text": [
      "Angle: 160 - Shape type: 2: 100%|██████████| 500/500 [00:00<00:00, 3041.55it/s]\n"
     ]
    },
    {
     "name": "stdout",
     "output_type": "stream",
     "text": [
      "No matches found.\n"
     ]
    },
    {
     "name": "stderr",
     "output_type": "stream",
     "text": [
      "Angle: 160 - Shape type: 3: 100%|██████████| 500/500 [00:00<00:00, 1562.94it/s]\n"
     ]
    },
    {
     "name": "stdout",
     "output_type": "stream",
     "text": [
      "Accuracy: 0.5307975974279169\n"
     ]
    },
    {
     "name": "stderr",
     "output_type": "stream",
     "text": [
      "Angle: 160 - Shape type: 4: 100%|██████████| 500/500 [00:00<00:00, 1158.70it/s]\n"
     ]
    },
    {
     "name": "stdout",
     "output_type": "stream",
     "text": [
      "Accuracy: 0.3853702650995964\n"
     ]
    },
    {
     "name": "stderr",
     "output_type": "stream",
     "text": [
      "Angle: 160 - Shape type: 5: 100%|██████████| 500/500 [00:00<00:00, 1409.20it/s]\n"
     ]
    },
    {
     "name": "stdout",
     "output_type": "stream",
     "text": [
      "Accuracy: 0.6508666666666666\n"
     ]
    },
    {
     "name": "stderr",
     "output_type": "stream",
     "text": [
      "Angle: 160 - Shape type: 6: 100%|██████████| 500/500 [00:00<00:00, 1371.53it/s]\n"
     ]
    },
    {
     "name": "stdout",
     "output_type": "stream",
     "text": [
      "Accuracy: 0.544\n"
     ]
    },
    {
     "name": "stderr",
     "output_type": "stream",
     "text": [
      "Angle: 160 - Shape type: 7: 100%|██████████| 500/500 [00:00<00:00, 1772.00it/s]\n"
     ]
    },
    {
     "name": "stdout",
     "output_type": "stream",
     "text": [
      "Accuracy: 0.5724911460348354\n"
     ]
    },
    {
     "name": "stderr",
     "output_type": "stream",
     "text": [
      "Angle: 170 - Shape type: 0: 100%|██████████| 500/500 [00:00<00:00, 1249.62it/s]\n"
     ]
    },
    {
     "name": "stdout",
     "output_type": "stream",
     "text": [
      "Accuracy: 0.33075389488163626\n"
     ]
    },
    {
     "name": "stderr",
     "output_type": "stream",
     "text": [
      "Angle: 170 - Shape type: 1: 100%|██████████| 500/500 [00:00<00:00, 1528.19it/s]\n"
     ]
    },
    {
     "name": "stdout",
     "output_type": "stream",
     "text": [
      "Accuracy: 0.534347619047619\n"
     ]
    },
    {
     "name": "stderr",
     "output_type": "stream",
     "text": [
      "Angle: 170 - Shape type: 2: 100%|██████████| 500/500 [00:00<00:00, 2049.29it/s]\n"
     ]
    },
    {
     "name": "stdout",
     "output_type": "stream",
     "text": [
      "No matches found.\n"
     ]
    },
    {
     "name": "stderr",
     "output_type": "stream",
     "text": [
      "Angle: 170 - Shape type: 3: 100%|██████████| 500/500 [00:00<00:00, 1349.12it/s]\n"
     ]
    },
    {
     "name": "stdout",
     "output_type": "stream",
     "text": [
      "Accuracy: 0.5505500204044322\n"
     ]
    },
    {
     "name": "stderr",
     "output_type": "stream",
     "text": [
      "Angle: 170 - Shape type: 4: 100%|██████████| 500/500 [00:00<00:00, 1351.99it/s]\n"
     ]
    },
    {
     "name": "stdout",
     "output_type": "stream",
     "text": [
      "Accuracy: 0.39696600253198633\n"
     ]
    },
    {
     "name": "stderr",
     "output_type": "stream",
     "text": [
      "Angle: 170 - Shape type: 5: 100%|██████████| 500/500 [00:00<00:00, 1703.06it/s]\n"
     ]
    },
    {
     "name": "stdout",
     "output_type": "stream",
     "text": [
      "Accuracy: 0.6625\n"
     ]
    },
    {
     "name": "stderr",
     "output_type": "stream",
     "text": [
      "Angle: 170 - Shape type: 6: 100%|██████████| 500/500 [00:00<00:00, 1555.64it/s]\n"
     ]
    },
    {
     "name": "stdout",
     "output_type": "stream",
     "text": [
      "Accuracy: 0.5661999999999999\n"
     ]
    },
    {
     "name": "stderr",
     "output_type": "stream",
     "text": [
      "Angle: 170 - Shape type: 7: 100%|██████████| 500/500 [00:00<00:00, 1988.15it/s]\n"
     ]
    },
    {
     "name": "stdout",
     "output_type": "stream",
     "text": [
      "Accuracy: 0.5863206658661203\n"
     ]
    },
    {
     "name": "stderr",
     "output_type": "stream",
     "text": [
      "Angle: 180 - Shape type: 0: 100%|██████████| 500/500 [00:00<00:00, 1453.26it/s]\n"
     ]
    },
    {
     "name": "stdout",
     "output_type": "stream",
     "text": [
      "Accuracy: 0.35729473097418424\n"
     ]
    },
    {
     "name": "stderr",
     "output_type": "stream",
     "text": [
      "Angle: 180 - Shape type: 1: 100%|██████████| 500/500 [00:00<00:00, 1560.36it/s]\n"
     ]
    },
    {
     "name": "stdout",
     "output_type": "stream",
     "text": [
      "Accuracy: 0.5695666666666666\n"
     ]
    },
    {
     "name": "stderr",
     "output_type": "stream",
     "text": [
      "Angle: 180 - Shape type: 2: 100%|██████████| 500/500 [00:00<00:00, 2447.52it/s]\n"
     ]
    },
    {
     "name": "stdout",
     "output_type": "stream",
     "text": [
      "No matches found.\n"
     ]
    },
    {
     "name": "stderr",
     "output_type": "stream",
     "text": [
      "Angle: 180 - Shape type: 3: 100%|██████████| 500/500 [00:00<00:00, 1066.69it/s]\n"
     ]
    },
    {
     "name": "stdout",
     "output_type": "stream",
     "text": [
      "Accuracy: 0.5687262265512265\n"
     ]
    },
    {
     "name": "stderr",
     "output_type": "stream",
     "text": [
      "Angle: 180 - Shape type: 4: 100%|██████████| 500/500 [00:00<00:00, 968.98it/s] \n"
     ]
    },
    {
     "name": "stdout",
     "output_type": "stream",
     "text": [
      "Accuracy: 0.4072968285656765\n"
     ]
    },
    {
     "name": "stderr",
     "output_type": "stream",
     "text": [
      "Angle: 180 - Shape type: 5: 100%|██████████| 500/500 [00:00<00:00, 1550.70it/s]\n"
     ]
    },
    {
     "name": "stdout",
     "output_type": "stream",
     "text": [
      "Accuracy: 0.6858333333333333\n"
     ]
    },
    {
     "name": "stderr",
     "output_type": "stream",
     "text": [
      "Angle: 180 - Shape type: 6: 100%|██████████| 500/500 [00:00<00:00, 1175.51it/s]\n"
     ]
    },
    {
     "name": "stdout",
     "output_type": "stream",
     "text": [
      "Accuracy: 0.5821333333333333\n"
     ]
    },
    {
     "name": "stderr",
     "output_type": "stream",
     "text": [
      "Angle: 180 - Shape type: 7: 100%|██████████| 500/500 [00:00<00:00, 1399.95it/s]\n"
     ]
    },
    {
     "name": "stdout",
     "output_type": "stream",
     "text": [
      "Accuracy: 0.5906800053976524\n"
     ]
    },
    {
     "name": "stderr",
     "output_type": "stream",
     "text": [
      "Angle: 190 - Shape type: 0: 100%|██████████| 500/500 [00:00<00:00, 1229.17it/s]\n"
     ]
    },
    {
     "name": "stdout",
     "output_type": "stream",
     "text": [
      "Accuracy: 0.34844740766885246\n"
     ]
    },
    {
     "name": "stderr",
     "output_type": "stream",
     "text": [
      "Angle: 190 - Shape type: 1: 100%|██████████| 500/500 [00:00<00:00, 1230.49it/s]\n"
     ]
    },
    {
     "name": "stdout",
     "output_type": "stream",
     "text": [
      "Accuracy: 0.5391666666666667\n"
     ]
    },
    {
     "name": "stderr",
     "output_type": "stream",
     "text": [
      "Angle: 190 - Shape type: 2: 100%|██████████| 500/500 [00:00<00:00, 2348.26it/s]\n"
     ]
    },
    {
     "name": "stdout",
     "output_type": "stream",
     "text": [
      "No matches found.\n"
     ]
    },
    {
     "name": "stderr",
     "output_type": "stream",
     "text": [
      "Angle: 190 - Shape type: 3: 100%|██████████| 500/500 [00:00<00:00, 1450.88it/s]\n"
     ]
    },
    {
     "name": "stdout",
     "output_type": "stream",
     "text": [
      "Accuracy: 0.5500482517482517\n"
     ]
    },
    {
     "name": "stderr",
     "output_type": "stream",
     "text": [
      "Angle: 190 - Shape type: 4: 100%|██████████| 500/500 [00:00<00:00, 1317.99it/s]\n"
     ]
    },
    {
     "name": "stdout",
     "output_type": "stream",
     "text": [
      "Accuracy: 0.39429529533575464\n"
     ]
    },
    {
     "name": "stderr",
     "output_type": "stream",
     "text": [
      "Angle: 190 - Shape type: 5: 100%|██████████| 500/500 [00:00<00:00, 1647.36it/s]\n"
     ]
    },
    {
     "name": "stdout",
     "output_type": "stream",
     "text": [
      "Accuracy: 0.6553999999999999\n"
     ]
    },
    {
     "name": "stderr",
     "output_type": "stream",
     "text": [
      "Angle: 190 - Shape type: 6: 100%|██████████| 500/500 [00:00<00:00, 1620.23it/s]\n"
     ]
    },
    {
     "name": "stdout",
     "output_type": "stream",
     "text": [
      "Accuracy: 0.5640333333333333\n"
     ]
    },
    {
     "name": "stderr",
     "output_type": "stream",
     "text": [
      "Angle: 190 - Shape type: 7: 100%|██████████| 500/500 [00:00<00:00, 1960.91it/s]\n"
     ]
    },
    {
     "name": "stdout",
     "output_type": "stream",
     "text": [
      "Accuracy: 0.5731980624089158\n"
     ]
    },
    {
     "name": "stderr",
     "output_type": "stream",
     "text": [
      "Angle: 200 - Shape type: 0: 100%|██████████| 500/500 [00:00<00:00, 1440.39it/s]\n"
     ]
    },
    {
     "name": "stdout",
     "output_type": "stream",
     "text": [
      "Accuracy: 0.3283466568568525\n"
     ]
    },
    {
     "name": "stderr",
     "output_type": "stream",
     "text": [
      "Angle: 200 - Shape type: 1: 100%|██████████| 500/500 [00:00<00:00, 1627.10it/s]\n"
     ]
    },
    {
     "name": "stdout",
     "output_type": "stream",
     "text": [
      "Accuracy: 0.4957142857142857\n"
     ]
    },
    {
     "name": "stderr",
     "output_type": "stream",
     "text": [
      "Angle: 200 - Shape type: 2: 100%|██████████| 500/500 [00:00<00:00, 2561.07it/s]\n"
     ]
    },
    {
     "name": "stdout",
     "output_type": "stream",
     "text": [
      "No matches found.\n"
     ]
    },
    {
     "name": "stderr",
     "output_type": "stream",
     "text": [
      "Angle: 200 - Shape type: 3: 100%|██████████| 500/500 [00:00<00:00, 1411.17it/s]\n"
     ]
    },
    {
     "name": "stdout",
     "output_type": "stream",
     "text": [
      "Accuracy: 0.5448711831477363\n"
     ]
    },
    {
     "name": "stderr",
     "output_type": "stream",
     "text": [
      "Angle: 200 - Shape type: 4: 100%|██████████| 500/500 [00:00<00:00, 1114.56it/s]\n"
     ]
    },
    {
     "name": "stdout",
     "output_type": "stream",
     "text": [
      "Accuracy: 0.3888313212631123\n"
     ]
    },
    {
     "name": "stderr",
     "output_type": "stream",
     "text": [
      "Angle: 200 - Shape type: 5: 100%|██████████| 500/500 [00:00<00:00, 1189.69it/s]\n"
     ]
    },
    {
     "name": "stdout",
     "output_type": "stream",
     "text": [
      "Accuracy: 0.6435666666666666\n"
     ]
    },
    {
     "name": "stderr",
     "output_type": "stream",
     "text": [
      "Angle: 200 - Shape type: 6: 100%|██████████| 500/500 [00:00<00:00, 1514.41it/s]\n"
     ]
    },
    {
     "name": "stdout",
     "output_type": "stream",
     "text": [
      "Accuracy: 0.5383\n"
     ]
    },
    {
     "name": "stderr",
     "output_type": "stream",
     "text": [
      "Angle: 200 - Shape type: 7: 100%|██████████| 500/500 [00:00<00:00, 1966.84it/s]\n"
     ]
    },
    {
     "name": "stdout",
     "output_type": "stream",
     "text": [
      "Accuracy: 0.5740845844370931\n"
     ]
    },
    {
     "name": "stderr",
     "output_type": "stream",
     "text": [
      "Angle: 210 - Shape type: 0: 100%|██████████| 500/500 [00:00<00:00, 1399.72it/s]\n"
     ]
    },
    {
     "name": "stdout",
     "output_type": "stream",
     "text": [
      "Accuracy: 0.31809749668800724\n"
     ]
    },
    {
     "name": "stderr",
     "output_type": "stream",
     "text": [
      "Angle: 210 - Shape type: 1: 100%|██████████| 500/500 [00:00<00:00, 1574.26it/s]\n"
     ]
    },
    {
     "name": "stdout",
     "output_type": "stream",
     "text": [
      "Accuracy: 0.4876190476190477\n"
     ]
    },
    {
     "name": "stderr",
     "output_type": "stream",
     "text": [
      "Angle: 210 - Shape type: 2: 100%|██████████| 500/500 [00:00<00:00, 2557.91it/s]\n"
     ]
    },
    {
     "name": "stdout",
     "output_type": "stream",
     "text": [
      "No matches found.\n"
     ]
    },
    {
     "name": "stderr",
     "output_type": "stream",
     "text": [
      "Angle: 210 - Shape type: 3: 100%|██████████| 500/500 [00:00<00:00, 1385.47it/s]\n"
     ]
    },
    {
     "name": "stdout",
     "output_type": "stream",
     "text": [
      "Accuracy: 0.5416236179763234\n"
     ]
    },
    {
     "name": "stderr",
     "output_type": "stream",
     "text": [
      "Angle: 210 - Shape type: 4: 100%|██████████| 500/500 [00:00<00:00, 1277.24it/s]\n"
     ]
    },
    {
     "name": "stdout",
     "output_type": "stream",
     "text": [
      "Accuracy: 0.3936671013171661\n"
     ]
    },
    {
     "name": "stderr",
     "output_type": "stream",
     "text": [
      "Angle: 210 - Shape type: 5: 100%|██████████| 500/500 [00:00<00:00, 1490.51it/s]\n"
     ]
    },
    {
     "name": "stdout",
     "output_type": "stream",
     "text": [
      "Accuracy: 0.6513413816230718\n"
     ]
    },
    {
     "name": "stderr",
     "output_type": "stream",
     "text": [
      "Angle: 210 - Shape type: 6: 100%|██████████| 500/500 [00:00<00:00, 1451.01it/s]\n"
     ]
    },
    {
     "name": "stdout",
     "output_type": "stream",
     "text": [
      "Accuracy: 0.5411\n"
     ]
    },
    {
     "name": "stderr",
     "output_type": "stream",
     "text": [
      "Angle: 210 - Shape type: 7: 100%|██████████| 500/500 [00:00<00:00, 1884.50it/s]\n"
     ]
    },
    {
     "name": "stdout",
     "output_type": "stream",
     "text": [
      "Accuracy: 0.5590853089347065\n"
     ]
    },
    {
     "name": "stderr",
     "output_type": "stream",
     "text": [
      "Angle: 220 - Shape type: 0: 100%|██████████| 500/500 [00:00<00:00, 1434.92it/s]\n"
     ]
    },
    {
     "name": "stdout",
     "output_type": "stream",
     "text": [
      "Accuracy: 0.2831425610964625\n"
     ]
    },
    {
     "name": "stderr",
     "output_type": "stream",
     "text": [
      "Angle: 220 - Shape type: 1: 100%|██████████| 500/500 [00:00<00:00, 1509.62it/s]\n"
     ]
    },
    {
     "name": "stdout",
     "output_type": "stream",
     "text": [
      "Accuracy: 0.5199476190476189\n"
     ]
    },
    {
     "name": "stderr",
     "output_type": "stream",
     "text": [
      "Angle: 220 - Shape type: 2: 100%|██████████| 500/500 [00:00<00:00, 2909.99it/s]\n"
     ]
    },
    {
     "name": "stdout",
     "output_type": "stream",
     "text": [
      "No matches found.\n"
     ]
    },
    {
     "name": "stderr",
     "output_type": "stream",
     "text": [
      "Angle: 220 - Shape type: 3: 100%|██████████| 500/500 [00:00<00:00, 1542.06it/s]\n"
     ]
    },
    {
     "name": "stdout",
     "output_type": "stream",
     "text": [
      "Accuracy: 0.5524092473992274\n"
     ]
    },
    {
     "name": "stderr",
     "output_type": "stream",
     "text": [
      "Angle: 220 - Shape type: 4: 100%|██████████| 500/500 [00:00<00:00, 1277.59it/s]\n"
     ]
    },
    {
     "name": "stdout",
     "output_type": "stream",
     "text": [
      "Accuracy: 0.392846728438054\n"
     ]
    },
    {
     "name": "stderr",
     "output_type": "stream",
     "text": [
      "Angle: 220 - Shape type: 5: 100%|██████████| 500/500 [00:00<00:00, 1486.45it/s]\n"
     ]
    },
    {
     "name": "stdout",
     "output_type": "stream",
     "text": [
      "Accuracy: 0.6592405913978495\n"
     ]
    },
    {
     "name": "stderr",
     "output_type": "stream",
     "text": [
      "Angle: 220 - Shape type: 6: 100%|██████████| 500/500 [00:00<00:00, 1324.57it/s]\n"
     ]
    },
    {
     "name": "stdout",
     "output_type": "stream",
     "text": [
      "Accuracy: 0.5418666666666667\n"
     ]
    },
    {
     "name": "stderr",
     "output_type": "stream",
     "text": [
      "Angle: 220 - Shape type: 7: 100%|██████████| 500/500 [00:00<00:00, 1429.53it/s]\n"
     ]
    },
    {
     "name": "stdout",
     "output_type": "stream",
     "text": [
      "Accuracy: 0.5682696103288808\n"
     ]
    },
    {
     "name": "stderr",
     "output_type": "stream",
     "text": [
      "Angle: 230 - Shape type: 0: 100%|██████████| 500/500 [00:00<00:00, 1159.10it/s]\n"
     ]
    },
    {
     "name": "stdout",
     "output_type": "stream",
     "text": [
      "Accuracy: 0.29484709371499385\n"
     ]
    },
    {
     "name": "stderr",
     "output_type": "stream",
     "text": [
      "Angle: 230 - Shape type: 1: 100%|██████████| 500/500 [00:00<00:00, 1336.94it/s]\n"
     ]
    },
    {
     "name": "stdout",
     "output_type": "stream",
     "text": [
      "Accuracy: 0.5450095238095238\n"
     ]
    },
    {
     "name": "stderr",
     "output_type": "stream",
     "text": [
      "Angle: 230 - Shape type: 2: 100%|██████████| 500/500 [00:00<00:00, 2767.35it/s]\n"
     ]
    },
    {
     "name": "stdout",
     "output_type": "stream",
     "text": [
      "No matches found.\n"
     ]
    },
    {
     "name": "stderr",
     "output_type": "stream",
     "text": [
      "Angle: 230 - Shape type: 3: 100%|██████████| 500/500 [00:00<00:00, 1382.54it/s]\n"
     ]
    },
    {
     "name": "stdout",
     "output_type": "stream",
     "text": [
      "Accuracy: 0.5552734784698713\n"
     ]
    },
    {
     "name": "stderr",
     "output_type": "stream",
     "text": [
      "Angle: 230 - Shape type: 4: 100%|██████████| 500/500 [00:00<00:00, 1112.23it/s]\n"
     ]
    },
    {
     "name": "stdout",
     "output_type": "stream",
     "text": [
      "Accuracy: 0.391696438015853\n"
     ]
    },
    {
     "name": "stderr",
     "output_type": "stream",
     "text": [
      "Angle: 230 - Shape type: 5: 100%|██████████| 500/500 [00:00<00:00, 1371.04it/s]\n"
     ]
    },
    {
     "name": "stdout",
     "output_type": "stream",
     "text": [
      "Accuracy: 0.6748816768086544\n"
     ]
    },
    {
     "name": "stderr",
     "output_type": "stream",
     "text": [
      "Angle: 230 - Shape type: 6: 100%|██████████| 500/500 [00:00<00:00, 1498.59it/s]\n"
     ]
    },
    {
     "name": "stdout",
     "output_type": "stream",
     "text": [
      "Accuracy: 0.5334666666666666\n"
     ]
    },
    {
     "name": "stderr",
     "output_type": "stream",
     "text": [
      "Angle: 230 - Shape type: 7: 100%|██████████| 500/500 [00:00<00:00, 1813.20it/s]\n"
     ]
    },
    {
     "name": "stdout",
     "output_type": "stream",
     "text": [
      "Accuracy: 0.5598564650837379\n"
     ]
    },
    {
     "name": "stderr",
     "output_type": "stream",
     "text": [
      "Angle: 240 - Shape type: 0: 100%|██████████| 500/500 [00:00<00:00, 1123.16it/s]\n"
     ]
    },
    {
     "name": "stdout",
     "output_type": "stream",
     "text": [
      "Accuracy: 0.3312792727989845\n"
     ]
    },
    {
     "name": "stderr",
     "output_type": "stream",
     "text": [
      "Angle: 240 - Shape type: 1: 100%|██████████| 500/500 [00:00<00:00, 1382.42it/s]\n"
     ]
    },
    {
     "name": "stdout",
     "output_type": "stream",
     "text": [
      "Accuracy: 0.5512666666666667\n"
     ]
    },
    {
     "name": "stderr",
     "output_type": "stream",
     "text": [
      "Angle: 240 - Shape type: 2: 100%|██████████| 500/500 [00:00<00:00, 2734.15it/s]\n"
     ]
    },
    {
     "name": "stdout",
     "output_type": "stream",
     "text": [
      "No matches found.\n"
     ]
    },
    {
     "name": "stderr",
     "output_type": "stream",
     "text": [
      "Angle: 240 - Shape type: 3: 100%|██████████| 500/500 [00:00<00:00, 1262.05it/s]\n"
     ]
    },
    {
     "name": "stdout",
     "output_type": "stream",
     "text": [
      "Accuracy: 0.5584446064867751\n"
     ]
    },
    {
     "name": "stderr",
     "output_type": "stream",
     "text": [
      "Angle: 240 - Shape type: 4: 100%|██████████| 500/500 [00:00<00:00, 1247.92it/s]\n"
     ]
    },
    {
     "name": "stdout",
     "output_type": "stream",
     "text": [
      "Accuracy: 0.3960725546667983\n"
     ]
    },
    {
     "name": "stderr",
     "output_type": "stream",
     "text": [
      "Angle: 240 - Shape type: 5: 100%|██████████| 500/500 [00:00<00:00, 1472.92it/s]\n"
     ]
    },
    {
     "name": "stdout",
     "output_type": "stream",
     "text": [
      "Accuracy: 0.6817750677506775\n"
     ]
    },
    {
     "name": "stderr",
     "output_type": "stream",
     "text": [
      "Angle: 240 - Shape type: 6: 100%|██████████| 500/500 [00:00<00:00, 1463.78it/s]\n"
     ]
    },
    {
     "name": "stdout",
     "output_type": "stream",
     "text": [
      "Accuracy: 0.5239000000000001\n"
     ]
    },
    {
     "name": "stderr",
     "output_type": "stream",
     "text": [
      "Angle: 240 - Shape type: 7: 100%|██████████| 500/500 [00:00<00:00, 1723.14it/s]\n"
     ]
    },
    {
     "name": "stdout",
     "output_type": "stream",
     "text": [
      "Accuracy: 0.5732713396090588\n"
     ]
    },
    {
     "name": "stderr",
     "output_type": "stream",
     "text": [
      "Angle: 250 - Shape type: 0: 100%|██████████| 500/500 [00:00<00:00, 1379.40it/s]\n"
     ]
    },
    {
     "name": "stdout",
     "output_type": "stream",
     "text": [
      "Accuracy: 0.33726908064356487\n"
     ]
    },
    {
     "name": "stderr",
     "output_type": "stream",
     "text": [
      "Angle: 250 - Shape type: 1: 100%|██████████| 500/500 [00:00<00:00, 1436.69it/s]\n"
     ]
    },
    {
     "name": "stdout",
     "output_type": "stream",
     "text": [
      "Accuracy: 0.5392428571428571\n"
     ]
    },
    {
     "name": "stderr",
     "output_type": "stream",
     "text": [
      "Angle: 250 - Shape type: 2: 100%|██████████| 500/500 [00:00<00:00, 2718.65it/s]\n"
     ]
    },
    {
     "name": "stdout",
     "output_type": "stream",
     "text": [
      "No matches found.\n"
     ]
    },
    {
     "name": "stderr",
     "output_type": "stream",
     "text": [
      "Angle: 250 - Shape type: 3: 100%|██████████| 500/500 [00:00<00:00, 1520.73it/s]\n"
     ]
    },
    {
     "name": "stdout",
     "output_type": "stream",
     "text": [
      "Accuracy: 0.5558212969681783\n"
     ]
    },
    {
     "name": "stderr",
     "output_type": "stream",
     "text": [
      "Angle: 250 - Shape type: 4: 100%|██████████| 500/500 [00:00<00:00, 1095.80it/s]\n"
     ]
    },
    {
     "name": "stdout",
     "output_type": "stream",
     "text": [
      "Accuracy: 0.3980208881772281\n"
     ]
    },
    {
     "name": "stderr",
     "output_type": "stream",
     "text": [
      "Angle: 250 - Shape type: 5: 100%|██████████| 500/500 [00:00<00:00, 1370.48it/s]\n"
     ]
    },
    {
     "name": "stdout",
     "output_type": "stream",
     "text": [
      "Accuracy: 0.6764905149051489\n"
     ]
    },
    {
     "name": "stderr",
     "output_type": "stream",
     "text": [
      "Angle: 250 - Shape type: 6: 100%|██████████| 500/500 [00:00<00:00, 1125.65it/s]\n"
     ]
    },
    {
     "name": "stdout",
     "output_type": "stream",
     "text": [
      "Accuracy: 0.5434333333333333\n"
     ]
    },
    {
     "name": "stderr",
     "output_type": "stream",
     "text": [
      "Angle: 250 - Shape type: 7: 100%|██████████| 500/500 [00:00<00:00, 1927.26it/s]\n"
     ]
    },
    {
     "name": "stdout",
     "output_type": "stream",
     "text": [
      "Accuracy: 0.5671976720705535\n"
     ]
    },
    {
     "name": "stderr",
     "output_type": "stream",
     "text": [
      "Angle: 260 - Shape type: 0: 100%|██████████| 500/500 [00:00<00:00, 1405.45it/s]\n"
     ]
    },
    {
     "name": "stdout",
     "output_type": "stream",
     "text": [
      "Accuracy: 0.33159729256729387\n"
     ]
    },
    {
     "name": "stderr",
     "output_type": "stream",
     "text": [
      "Angle: 260 - Shape type: 1: 100%|██████████| 500/500 [00:00<00:00, 1573.62it/s]\n"
     ]
    },
    {
     "name": "stdout",
     "output_type": "stream",
     "text": [
      "Accuracy: 0.5383047619047618\n"
     ]
    },
    {
     "name": "stderr",
     "output_type": "stream",
     "text": [
      "Angle: 260 - Shape type: 2: 100%|██████████| 500/500 [00:00<00:00, 2765.10it/s]\n"
     ]
    },
    {
     "name": "stdout",
     "output_type": "stream",
     "text": [
      "No matches found.\n"
     ]
    },
    {
     "name": "stderr",
     "output_type": "stream",
     "text": [
      "Angle: 260 - Shape type: 3: 100%|██████████| 500/500 [00:00<00:00, 1594.91it/s]\n"
     ]
    },
    {
     "name": "stdout",
     "output_type": "stream",
     "text": [
      "Accuracy: 0.548004622250095\n"
     ]
    },
    {
     "name": "stderr",
     "output_type": "stream",
     "text": [
      "Angle: 260 - Shape type: 4: 100%|██████████| 500/500 [00:00<00:00, 1191.49it/s]\n"
     ]
    },
    {
     "name": "stdout",
     "output_type": "stream",
     "text": [
      "Accuracy: 0.3994160477824838\n"
     ]
    },
    {
     "name": "stderr",
     "output_type": "stream",
     "text": [
      "Angle: 260 - Shape type: 5: 100%|██████████| 500/500 [00:00<00:00, 1243.50it/s]\n"
     ]
    },
    {
     "name": "stdout",
     "output_type": "stream",
     "text": [
      "Accuracy: 0.6578609986504723\n"
     ]
    },
    {
     "name": "stderr",
     "output_type": "stream",
     "text": [
      "Angle: 260 - Shape type: 6: 100%|██████████| 500/500 [00:00<00:00, 1431.29it/s]\n"
     ]
    },
    {
     "name": "stdout",
     "output_type": "stream",
     "text": [
      "Accuracy: 0.5388666666666667\n"
     ]
    },
    {
     "name": "stderr",
     "output_type": "stream",
     "text": [
      "Angle: 260 - Shape type: 7: 100%|██████████| 500/500 [00:00<00:00, 1751.85it/s]\n"
     ]
    },
    {
     "name": "stdout",
     "output_type": "stream",
     "text": [
      "Accuracy: 0.5952250108233014\n"
     ]
    },
    {
     "name": "stderr",
     "output_type": "stream",
     "text": [
      "Angle: 270 - Shape type: 0: 100%|██████████| 500/500 [00:00<00:00, 1213.00it/s]\n"
     ]
    },
    {
     "name": "stdout",
     "output_type": "stream",
     "text": [
      "Accuracy: 0.3356700015736535\n"
     ]
    },
    {
     "name": "stderr",
     "output_type": "stream",
     "text": [
      "Angle: 270 - Shape type: 1: 100%|██████████| 500/500 [00:00<00:00, 1182.58it/s]\n"
     ]
    },
    {
     "name": "stdout",
     "output_type": "stream",
     "text": [
      "Accuracy: 0.5240190476190476\n"
     ]
    },
    {
     "name": "stderr",
     "output_type": "stream",
     "text": [
      "Angle: 270 - Shape type: 2: 100%|██████████| 500/500 [00:00<00:00, 2716.11it/s]\n"
     ]
    },
    {
     "name": "stdout",
     "output_type": "stream",
     "text": [
      "No matches found.\n"
     ]
    },
    {
     "name": "stderr",
     "output_type": "stream",
     "text": [
      "Angle: 270 - Shape type: 3: 100%|██████████| 500/500 [00:00<00:00, 1268.36it/s]\n"
     ]
    },
    {
     "name": "stdout",
     "output_type": "stream",
     "text": [
      "Accuracy: 0.5619025441314598\n"
     ]
    },
    {
     "name": "stderr",
     "output_type": "stream",
     "text": [
      "Angle: 270 - Shape type: 4: 100%|██████████| 500/500 [00:00<00:00, 1063.18it/s]\n"
     ]
    },
    {
     "name": "stdout",
     "output_type": "stream",
     "text": [
      "Accuracy: 0.39980568006694467\n"
     ]
    },
    {
     "name": "stderr",
     "output_type": "stream",
     "text": [
      "Angle: 270 - Shape type: 5: 100%|██████████| 500/500 [00:00<00:00, 1610.61it/s]\n"
     ]
    },
    {
     "name": "stdout",
     "output_type": "stream",
     "text": [
      "Accuracy: 0.6556673373574781\n"
     ]
    },
    {
     "name": "stderr",
     "output_type": "stream",
     "text": [
      "Angle: 270 - Shape type: 6: 100%|██████████| 500/500 [-1:59:58<00:00, -228.84it/s]\n"
     ]
    },
    {
     "name": "stdout",
     "output_type": "stream",
     "text": [
      "Accuracy: 0.5313\n"
     ]
    },
    {
     "name": "stderr",
     "output_type": "stream",
     "text": [
      "Angle: 270 - Shape type: 7: 100%|██████████| 500/500 [00:00<00:00, 2010.82it/s]\n"
     ]
    },
    {
     "name": "stdout",
     "output_type": "stream",
     "text": [
      "Accuracy: 0.6116155566010217\n"
     ]
    },
    {
     "name": "stderr",
     "output_type": "stream",
     "text": [
      "Angle: 280 - Shape type: 0: 100%|██████████| 500/500 [00:00<00:00, 1261.10it/s]\n"
     ]
    },
    {
     "name": "stdout",
     "output_type": "stream",
     "text": [
      "Accuracy: 0.3365718104422749\n"
     ]
    },
    {
     "name": "stderr",
     "output_type": "stream",
     "text": [
      "Angle: 280 - Shape type: 1: 100%|██████████| 500/500 [00:00<00:00, 1425.42it/s]\n"
     ]
    },
    {
     "name": "stdout",
     "output_type": "stream",
     "text": [
      "Accuracy: 0.5107285714285714\n"
     ]
    },
    {
     "name": "stderr",
     "output_type": "stream",
     "text": [
      "Angle: 280 - Shape type: 2: 100%|██████████| 500/500 [00:00<00:00, 2455.91it/s]\n"
     ]
    },
    {
     "name": "stdout",
     "output_type": "stream",
     "text": [
      "No matches found.\n"
     ]
    },
    {
     "name": "stderr",
     "output_type": "stream",
     "text": [
      "Angle: 280 - Shape type: 3: 100%|██████████| 500/500 [00:00<00:00, 1528.91it/s]\n"
     ]
    },
    {
     "name": "stdout",
     "output_type": "stream",
     "text": [
      "Accuracy: 0.5573615651771964\n"
     ]
    },
    {
     "name": "stderr",
     "output_type": "stream",
     "text": [
      "Angle: 280 - Shape type: 4: 100%|██████████| 500/500 [00:00<00:00, 1352.37it/s]\n"
     ]
    },
    {
     "name": "stdout",
     "output_type": "stream",
     "text": [
      "Accuracy: 0.39820143423338616\n"
     ]
    },
    {
     "name": "stderr",
     "output_type": "stream",
     "text": [
      "Angle: 280 - Shape type: 5: 100%|██████████| 500/500 [00:00<00:00, 1505.23it/s]\n"
     ]
    },
    {
     "name": "stdout",
     "output_type": "stream",
     "text": [
      "Accuracy: 0.6485463150777553\n"
     ]
    },
    {
     "name": "stderr",
     "output_type": "stream",
     "text": [
      "Angle: 280 - Shape type: 6: 100%|██████████| 500/500 [00:00<00:00, 1466.61it/s]\n"
     ]
    },
    {
     "name": "stdout",
     "output_type": "stream",
     "text": [
      "Accuracy: 0.5247666666666666\n"
     ]
    },
    {
     "name": "stderr",
     "output_type": "stream",
     "text": [
      "Angle: 280 - Shape type: 7: 100%|██████████| 500/500 [00:00<00:00, 1772.89it/s]\n"
     ]
    },
    {
     "name": "stdout",
     "output_type": "stream",
     "text": [
      "Accuracy: 0.6006262665554701\n"
     ]
    },
    {
     "name": "stderr",
     "output_type": "stream",
     "text": [
      "Angle: 290 - Shape type: 0: 100%|██████████| 500/500 [00:00<00:00, 1490.74it/s]\n"
     ]
    },
    {
     "name": "stdout",
     "output_type": "stream",
     "text": [
      "Accuracy: 0.33882553858728615\n"
     ]
    },
    {
     "name": "stderr",
     "output_type": "stream",
     "text": [
      "Angle: 290 - Shape type: 1: 100%|██████████| 500/500 [00:00<00:00, 1586.04it/s]\n"
     ]
    },
    {
     "name": "stdout",
     "output_type": "stream",
     "text": [
      "Accuracy: 0.5252761904761905\n"
     ]
    },
    {
     "name": "stderr",
     "output_type": "stream",
     "text": [
      "Angle: 290 - Shape type: 2: 100%|██████████| 500/500 [00:00<00:00, 2904.67it/s]\n"
     ]
    },
    {
     "name": "stdout",
     "output_type": "stream",
     "text": [
      "No matches found.\n"
     ]
    },
    {
     "name": "stderr",
     "output_type": "stream",
     "text": [
      "Angle: 290 - Shape type: 3: 100%|██████████| 500/500 [00:00<00:00, 1497.94it/s]\n"
     ]
    },
    {
     "name": "stdout",
     "output_type": "stream",
     "text": [
      "Accuracy: 0.5415640694197807\n"
     ]
    },
    {
     "name": "stderr",
     "output_type": "stream",
     "text": [
      "Angle: 290 - Shape type: 4: 100%|██████████| 500/500 [00:00<00:00, 1307.30it/s]\n"
     ]
    },
    {
     "name": "stdout",
     "output_type": "stream",
     "text": [
      "Accuracy: 0.3975220232250756\n"
     ]
    },
    {
     "name": "stderr",
     "output_type": "stream",
     "text": [
      "Angle: 290 - Shape type: 5: 100%|██████████| 500/500 [00:00<00:00, 1652.84it/s]\n"
     ]
    },
    {
     "name": "stdout",
     "output_type": "stream",
     "text": [
      "Accuracy: 0.6252699055330634\n"
     ]
    },
    {
     "name": "stderr",
     "output_type": "stream",
     "text": [
      "Angle: 290 - Shape type: 6: 100%|██████████| 500/500 [00:00<00:00, 1558.17it/s]\n"
     ]
    },
    {
     "name": "stdout",
     "output_type": "stream",
     "text": [
      "Accuracy: 0.5347333333333334\n"
     ]
    },
    {
     "name": "stderr",
     "output_type": "stream",
     "text": [
      "Angle: 290 - Shape type: 7: 100%|██████████| 500/500 [00:00<00:00, 2003.07it/s]\n"
     ]
    },
    {
     "name": "stdout",
     "output_type": "stream",
     "text": [
      "Accuracy: 0.5933038680017533\n"
     ]
    },
    {
     "name": "stderr",
     "output_type": "stream",
     "text": [
      "Angle: 300 - Shape type: 0: 100%|██████████| 500/500 [00:00<00:00, 1420.36it/s]\n"
     ]
    },
    {
     "name": "stdout",
     "output_type": "stream",
     "text": [
      "Accuracy: 0.33201809936428306\n"
     ]
    },
    {
     "name": "stderr",
     "output_type": "stream",
     "text": [
      "Angle: 300 - Shape type: 1: 100%|██████████| 500/500 [00:00<00:00, 1591.76it/s]\n"
     ]
    },
    {
     "name": "stdout",
     "output_type": "stream",
     "text": [
      "Accuracy: 0.5072285714285714\n"
     ]
    },
    {
     "name": "stderr",
     "output_type": "stream",
     "text": [
      "Angle: 300 - Shape type: 2: 100%|██████████| 500/500 [00:00<00:00, 2868.18it/s]\n"
     ]
    },
    {
     "name": "stdout",
     "output_type": "stream",
     "text": [
      "No matches found.\n"
     ]
    },
    {
     "name": "stderr",
     "output_type": "stream",
     "text": [
      "Angle: 300 - Shape type: 3: 100%|██████████| 500/500 [00:00<00:00, 1562.75it/s]\n"
     ]
    },
    {
     "name": "stdout",
     "output_type": "stream",
     "text": [
      "Accuracy: 0.549337864912865\n"
     ]
    },
    {
     "name": "stderr",
     "output_type": "stream",
     "text": [
      "Angle: 300 - Shape type: 4: 100%|██████████| 500/500 [00:00<00:00, 1312.42it/s]\n"
     ]
    },
    {
     "name": "stdout",
     "output_type": "stream",
     "text": [
      "Accuracy: 0.39165812676403167\n"
     ]
    },
    {
     "name": "stderr",
     "output_type": "stream",
     "text": [
      "Angle: 300 - Shape type: 5: 100%|██████████| 500/500 [00:00<00:00, 1629.39it/s]\n"
     ]
    },
    {
     "name": "stdout",
     "output_type": "stream",
     "text": [
      "Accuracy: 0.6189363143631436\n"
     ]
    },
    {
     "name": "stderr",
     "output_type": "stream",
     "text": [
      "Angle: 300 - Shape type: 6: 100%|██████████| 500/500 [00:00<00:00, 1318.83it/s]\n"
     ]
    },
    {
     "name": "stdout",
     "output_type": "stream",
     "text": [
      "Accuracy: 0.5408666666666667\n"
     ]
    },
    {
     "name": "stderr",
     "output_type": "stream",
     "text": [
      "Angle: 300 - Shape type: 7: 100%|██████████| 500/500 [00:00<00:00, 2006.18it/s]\n"
     ]
    },
    {
     "name": "stdout",
     "output_type": "stream",
     "text": [
      "Accuracy: 0.587838616832227\n"
     ]
    },
    {
     "name": "stderr",
     "output_type": "stream",
     "text": [
      "Angle: 310 - Shape type: 0: 100%|██████████| 500/500 [00:00<00:00, 1424.08it/s]\n"
     ]
    },
    {
     "name": "stdout",
     "output_type": "stream",
     "text": [
      "Accuracy: 0.30886411012697274\n"
     ]
    },
    {
     "name": "stderr",
     "output_type": "stream",
     "text": [
      "Angle: 310 - Shape type: 1: 100%|██████████| 500/500 [00:00<00:00, 1606.21it/s]\n"
     ]
    },
    {
     "name": "stdout",
     "output_type": "stream",
     "text": [
      "Accuracy: 0.4921\n"
     ]
    },
    {
     "name": "stderr",
     "output_type": "stream",
     "text": [
      "Angle: 310 - Shape type: 2: 100%|██████████| 500/500 [00:00<00:00, 2917.46it/s]\n"
     ]
    },
    {
     "name": "stdout",
     "output_type": "stream",
     "text": [
      "No matches found.\n"
     ]
    },
    {
     "name": "stderr",
     "output_type": "stream",
     "text": [
      "Angle: 310 - Shape type: 3: 100%|██████████| 500/500 [00:00<00:00, 1431.80it/s]\n"
     ]
    },
    {
     "name": "stdout",
     "output_type": "stream",
     "text": [
      "Accuracy: 0.5439248098817238\n"
     ]
    },
    {
     "name": "stderr",
     "output_type": "stream",
     "text": [
      "Angle: 310 - Shape type: 4: 100%|██████████| 500/500 [00:00<00:00, 1284.50it/s]\n"
     ]
    },
    {
     "name": "stdout",
     "output_type": "stream",
     "text": [
      "Accuracy: 0.3936683487643344\n"
     ]
    },
    {
     "name": "stderr",
     "output_type": "stream",
     "text": [
      "Angle: 310 - Shape type: 5: 100%|██████████| 500/500 [00:00<00:00, 1556.00it/s]\n"
     ]
    },
    {
     "name": "stdout",
     "output_type": "stream",
     "text": [
      "Accuracy: 0.6111673414304993\n"
     ]
    },
    {
     "name": "stderr",
     "output_type": "stream",
     "text": [
      "Angle: 310 - Shape type: 6: 100%|██████████| 500/500 [00:00<00:00, 1619.60it/s]\n"
     ]
    },
    {
     "name": "stdout",
     "output_type": "stream",
     "text": [
      "Accuracy: 0.5327\n"
     ]
    },
    {
     "name": "stderr",
     "output_type": "stream",
     "text": [
      "Angle: 310 - Shape type: 7: 100%|██████████| 500/500 [00:00<00:00, 1894.08it/s]\n"
     ]
    },
    {
     "name": "stdout",
     "output_type": "stream",
     "text": [
      "Accuracy: 0.5751496128140864\n"
     ]
    },
    {
     "name": "stderr",
     "output_type": "stream",
     "text": [
      "Angle: 320 - Shape type: 0: 100%|██████████| 500/500 [00:00<00:00, 1416.54it/s]\n"
     ]
    },
    {
     "name": "stdout",
     "output_type": "stream",
     "text": [
      "Accuracy: 0.3069823998940033\n"
     ]
    },
    {
     "name": "stderr",
     "output_type": "stream",
     "text": [
      "Angle: 320 - Shape type: 1: 100%|██████████| 500/500 [00:00<00:00, 1520.89it/s]\n"
     ]
    },
    {
     "name": "stdout",
     "output_type": "stream",
     "text": [
      "Accuracy: 0.46285714285714286\n"
     ]
    },
    {
     "name": "stderr",
     "output_type": "stream",
     "text": [
      "Angle: 320 - Shape type: 2: 100%|██████████| 500/500 [00:00<00:00, 2856.68it/s]\n"
     ]
    },
    {
     "name": "stdout",
     "output_type": "stream",
     "text": [
      "No matches found.\n"
     ]
    },
    {
     "name": "stderr",
     "output_type": "stream",
     "text": [
      "Angle: 320 - Shape type: 3: 100%|██████████| 500/500 [00:00<00:00, 1518.31it/s]\n"
     ]
    },
    {
     "name": "stdout",
     "output_type": "stream",
     "text": [
      "Accuracy: 0.5620199495449997\n"
     ]
    },
    {
     "name": "stderr",
     "output_type": "stream",
     "text": [
      "Angle: 320 - Shape type: 4: 100%|██████████| 500/500 [00:00<00:00, 1349.03it/s]\n"
     ]
    },
    {
     "name": "stdout",
     "output_type": "stream",
     "text": [
      "Accuracy: 0.3917204817810449\n"
     ]
    },
    {
     "name": "stderr",
     "output_type": "stream",
     "text": [
      "Angle: 320 - Shape type: 5: 100%|██████████| 500/500 [00:00<00:00, 1614.90it/s]\n"
     ]
    },
    {
     "name": "stdout",
     "output_type": "stream",
     "text": [
      "Accuracy: 0.6373481781376518\n"
     ]
    },
    {
     "name": "stderr",
     "output_type": "stream",
     "text": [
      "Angle: 320 - Shape type: 6: 100%|██████████| 500/500 [00:00<00:00, 1562.97it/s]\n"
     ]
    },
    {
     "name": "stdout",
     "output_type": "stream",
     "text": [
      "Accuracy: 0.5651999999999999\n"
     ]
    },
    {
     "name": "stderr",
     "output_type": "stream",
     "text": [
      "Angle: 320 - Shape type: 7: 100%|██████████| 500/500 [00:00<00:00, 1945.13it/s]\n"
     ]
    },
    {
     "name": "stdout",
     "output_type": "stream",
     "text": [
      "Accuracy: 0.5967441817441816\n"
     ]
    },
    {
     "name": "stderr",
     "output_type": "stream",
     "text": [
      "Angle: 330 - Shape type: 0: 100%|██████████| 500/500 [00:00<00:00, 1480.90it/s]\n"
     ]
    },
    {
     "name": "stdout",
     "output_type": "stream",
     "text": [
      "Accuracy: 0.34011877279253827\n"
     ]
    },
    {
     "name": "stderr",
     "output_type": "stream",
     "text": [
      "Angle: 330 - Shape type: 1: 100%|██████████| 500/500 [00:00<00:00, 1471.52it/s]\n"
     ]
    },
    {
     "name": "stdout",
     "output_type": "stream",
     "text": [
      "Accuracy: 0.5150285714285715\n"
     ]
    },
    {
     "name": "stderr",
     "output_type": "stream",
     "text": [
      "Angle: 330 - Shape type: 2: 100%|██████████| 500/500 [00:00<00:00, 2715.44it/s]\n"
     ]
    },
    {
     "name": "stdout",
     "output_type": "stream",
     "text": [
      "No matches found.\n"
     ]
    },
    {
     "name": "stderr",
     "output_type": "stream",
     "text": [
      "Angle: 330 - Shape type: 3: 100%|██████████| 500/500 [00:00<00:00, 1510.34it/s]\n"
     ]
    },
    {
     "name": "stdout",
     "output_type": "stream",
     "text": [
      "Accuracy: 0.6191889662330544\n"
     ]
    },
    {
     "name": "stderr",
     "output_type": "stream",
     "text": [
      "Angle: 330 - Shape type: 4: 100%|██████████| 500/500 [00:00<00:00, 1225.90it/s]\n"
     ]
    },
    {
     "name": "stdout",
     "output_type": "stream",
     "text": [
      "Accuracy: 0.41434293338731276\n"
     ]
    },
    {
     "name": "stderr",
     "output_type": "stream",
     "text": [
      "Angle: 330 - Shape type: 5: 100%|██████████| 500/500 [00:00<00:00, 1510.84it/s]\n"
     ]
    },
    {
     "name": "stdout",
     "output_type": "stream",
     "text": [
      "Accuracy: 0.7596579476861166\n"
     ]
    },
    {
     "name": "stderr",
     "output_type": "stream",
     "text": [
      "Angle: 330 - Shape type: 6: 100%|██████████| 500/500 [00:00<00:00, 1567.91it/s]\n"
     ]
    },
    {
     "name": "stdout",
     "output_type": "stream",
     "text": [
      "Accuracy: 0.6514333333333334\n"
     ]
    },
    {
     "name": "stderr",
     "output_type": "stream",
     "text": [
      "Angle: 330 - Shape type: 7: 100%|██████████| 500/500 [00:00<00:00, 1938.16it/s]\n"
     ]
    },
    {
     "name": "stdout",
     "output_type": "stream",
     "text": [
      "Accuracy: 0.6370514498421475\n"
     ]
    },
    {
     "name": "stderr",
     "output_type": "stream",
     "text": [
      "Angle: 340 - Shape type: 0: 100%|██████████| 500/500 [00:00<00:00, 1431.31it/s]\n"
     ]
    },
    {
     "name": "stdout",
     "output_type": "stream",
     "text": [
      "Accuracy: 0.4313885385237821\n"
     ]
    },
    {
     "name": "stderr",
     "output_type": "stream",
     "text": [
      "Angle: 340 - Shape type: 1: 100%|██████████| 500/500 [00:00<00:00, 1459.49it/s]\n"
     ]
    },
    {
     "name": "stdout",
     "output_type": "stream",
     "text": [
      "Accuracy: 0.7978238095238096\n"
     ]
    },
    {
     "name": "stderr",
     "output_type": "stream",
     "text": [
      "Angle: 340 - Shape type: 2: 100%|██████████| 500/500 [00:00<00:00, 2656.37it/s]\n"
     ]
    },
    {
     "name": "stdout",
     "output_type": "stream",
     "text": [
      "No matches found.\n"
     ]
    },
    {
     "name": "stderr",
     "output_type": "stream",
     "text": [
      "Angle: 340 - Shape type: 3: 100%|██████████| 500/500 [00:00<00:00, 1520.29it/s]\n"
     ]
    },
    {
     "name": "stdout",
     "output_type": "stream",
     "text": [
      "Accuracy: 0.7832109227694515\n"
     ]
    },
    {
     "name": "stderr",
     "output_type": "stream",
     "text": [
      "Angle: 340 - Shape type: 4: 100%|██████████| 500/500 [00:00<00:00, 1234.98it/s]\n"
     ]
    },
    {
     "name": "stdout",
     "output_type": "stream",
     "text": [
      "Accuracy: 0.6739088335079557\n"
     ]
    },
    {
     "name": "stderr",
     "output_type": "stream",
     "text": [
      "Angle: 340 - Shape type: 5: 100%|██████████| 500/500 [00:00<00:00, 1531.11it/s]\n"
     ]
    },
    {
     "name": "stdout",
     "output_type": "stream",
     "text": [
      "Accuracy: 0.9459333333333334\n"
     ]
    },
    {
     "name": "stderr",
     "output_type": "stream",
     "text": [
      "Angle: 340 - Shape type: 6: 100%|██████████| 500/500 [00:00<00:00, 1516.98it/s]\n"
     ]
    },
    {
     "name": "stdout",
     "output_type": "stream",
     "text": [
      "Accuracy: 0.8941\n"
     ]
    },
    {
     "name": "stderr",
     "output_type": "stream",
     "text": [
      "Angle: 340 - Shape type: 7: 100%|██████████| 500/500 [00:00<00:00, 1702.69it/s]\n"
     ]
    },
    {
     "name": "stdout",
     "output_type": "stream",
     "text": [
      "Accuracy: 0.7505887585984673\n"
     ]
    },
    {
     "name": "stderr",
     "output_type": "stream",
     "text": [
      "Angle: 350 - Shape type: 0: 100%|██████████| 500/500 [00:00<00:00, 1320.62it/s]\n"
     ]
    },
    {
     "name": "stdout",
     "output_type": "stream",
     "text": [
      "Accuracy: 0.6621689348703285\n"
     ]
    },
    {
     "name": "stderr",
     "output_type": "stream",
     "text": [
      "Angle: 350 - Shape type: 1: 100%|██████████| 500/500 [00:00<00:00, 1437.33it/s]\n"
     ]
    },
    {
     "name": "stdout",
     "output_type": "stream",
     "text": [
      "Accuracy: 0.9666666666666667\n"
     ]
    },
    {
     "name": "stderr",
     "output_type": "stream",
     "text": [
      "Angle: 350 - Shape type: 2: 100%|██████████| 500/500 [00:00<00:00, 2888.66it/s]\n"
     ]
    },
    {
     "name": "stdout",
     "output_type": "stream",
     "text": [
      "No matches found.\n"
     ]
    },
    {
     "name": "stderr",
     "output_type": "stream",
     "text": [
      "Angle: 350 - Shape type: 3: 100%|██████████| 500/500 [00:00<00:00, 1494.10it/s]\n"
     ]
    },
    {
     "name": "stdout",
     "output_type": "stream",
     "text": [
      "Accuracy: 0.9102012074526781\n"
     ]
    },
    {
     "name": "stderr",
     "output_type": "stream",
     "text": [
      "Angle: 350 - Shape type: 4: 100%|██████████| 500/500 [00:00<00:00, 1284.06it/s]\n"
     ]
    },
    {
     "name": "stdout",
     "output_type": "stream",
     "text": [
      "Accuracy: 0.9480716577655892\n"
     ]
    },
    {
     "name": "stderr",
     "output_type": "stream",
     "text": [
      "Angle: 350 - Shape type: 5: 100%|██████████| 500/500 [00:00<00:00, 1637.87it/s]\n"
     ]
    },
    {
     "name": "stdout",
     "output_type": "stream",
     "text": [
      "Accuracy: 0.9917\n"
     ]
    },
    {
     "name": "stderr",
     "output_type": "stream",
     "text": [
      "Angle: 350 - Shape type: 6: 100%|██████████| 500/500 [00:00<00:00, 1374.00it/s]\n"
     ]
    },
    {
     "name": "stdout",
     "output_type": "stream",
     "text": [
      "Accuracy: 0.9956333333333335\n"
     ]
    },
    {
     "name": "stderr",
     "output_type": "stream",
     "text": [
      "Angle: 350 - Shape type: 7: 100%|██████████| 500/500 [00:00<00:00, 1894.52it/s]"
     ]
    },
    {
     "name": "stdout",
     "output_type": "stream",
     "text": [
      "Accuracy: 0.8669428214882761\n"
     ]
    },
    {
     "name": "stderr",
     "output_type": "stream",
     "text": [
      "\n"
     ]
    }
   ],
   "source": [
    "orb = cv2.ORB_create(edgeThreshold=0, fastThreshold=0)\n",
    "bf_orb = cv2.BFMatcher(cv2.NORM_HAMMING, crossCheck=True)\n",
    "accuracy_matches_orb = []\n",
    "\n",
    "for angle in range(0, 360, 10):\n",
    "    accuracy_matches_orb.append([])\n",
    "\n",
    "    for type in range(8):\n",
    "        accuracy_matches_orb[-1].append([])\n",
    "\n",
    "        for i in tqdm(range(500), f\"Angle: {angle} - Shape type: {type}\"):\n",
    "            image, ground_truth = read_image(type, str(i))\n",
    "            gray_scale = cv2.cvtColor(image, cv2.COLOR_BGR2GRAY)\n",
    "            descriptor = cache_orb_descriptors[type][i]\n",
    "\n",
    "            if descriptor is None:\n",
    "                continue\n",
    "\n",
    "            # Rotate the image and the keypoints.\n",
    "            rotated_image = rotate_image(gray_scale, angle)\n",
    "            rotated_keypoints, idx = rotate_keypoints(\n",
    "                (image.shape[1], image.shape[0]), ground_truth, angle\n",
    "            )\n",
    "\n",
    "            # Compute the descriptors of the rotated image.\n",
    "            rotated_descriptor = orb.compute(rotated_image, rotated_keypoints)[1]\n",
    "            if rotated_descriptor is not None:\n",
    "                assert len(rotated_descriptor) == len(rotated_keypoints)\n",
    "            else:\n",
    "                assert len(rotated_keypoints) == 0\n",
    "                continue\n",
    "\n",
    "            # Get the original keypoints and descriptors.\n",
    "            original_descriptor = np.array(descriptor)[idx]\n",
    "\n",
    "            # Match the descriptors of the original and rotated images.\n",
    "            if len(rotated_descriptor) == 1:\n",
    "                accuracy_matches_orb[-1][-1].append(1)\n",
    "            else:\n",
    "                matches = bf_orb.match(rotated_descriptor, original_descriptor)\n",
    "                accuracy_matches_orb[-1][-1].append(\n",
    "                    len(matches) / len(original_descriptor)\n",
    "                )\n",
    "\n",
    "        if len(accuracy_matches_orb[-1][-1]) > 0:\n",
    "            print(f\"Accuracy: {np.mean(accuracy_matches_orb[-1][-1])}\")\n",
    "        else:\n",
    "            print(\"No matches found.\")"
   ]
  },
  {
   "cell_type": "code",
   "execution_count": 9,
   "metadata": {},
   "outputs": [
    {
     "name": "stdout",
     "output_type": "stream",
     "text": [
      "Angle: 0\n",
      "Accuracy: 0.9996223863455721\n",
      "Angle: 10\n",
      "Accuracy: 0.9066339243806969\n",
      "Angle: 20\n",
      "Accuracy: 0.7535621182542792\n",
      "Angle: 30\n",
      "Accuracy: 0.5558078223668997\n",
      "Angle: 40\n",
      "Accuracy: 0.4946471715763078\n",
      "Angle: 50\n",
      "Accuracy: 0.49017296835018703\n",
      "Angle: 60\n",
      "Accuracy: 0.49441089332912175\n",
      "Angle: 70\n",
      "Accuracy: 0.5024697508433382\n",
      "Angle: 80\n",
      "Accuracy: 0.5072816182678902\n",
      "Angle: 90\n",
      "Accuracy: 0.5109708512520462\n",
      "Angle: 100\n",
      "Accuracy: 0.5129041481963077\n",
      "Angle: 110\n",
      "Accuracy: 0.5111375560070245\n",
      "Angle: 120\n",
      "Accuracy: 0.5119789906183833\n",
      "Angle: 130\n",
      "Accuracy: 0.5025277607586435\n",
      "Angle: 140\n",
      "Accuracy: 0.49506827113710977\n",
      "Angle: 150\n",
      "Accuracy: 0.4930611921233538\n",
      "Angle: 160\n",
      "Accuracy: 0.4955456607388959\n",
      "Angle: 170\n",
      "Accuracy: 0.5147581345851822\n",
      "Angle: 180\n",
      "Accuracy: 0.5353868331070607\n",
      "Angle: 190\n",
      "Accuracy: 0.5154041101435454\n",
      "Angle: 200\n",
      "Accuracy: 0.4984902498801409\n",
      "Angle: 210\n",
      "Accuracy: 0.49574669393488136\n",
      "Angle: 220\n",
      "Accuracy: 0.49894646125395625\n",
      "Angle: 230\n",
      "Accuracy: 0.5048346258291043\n",
      "Angle: 240\n",
      "Accuracy: 0.5134624227419778\n",
      "Angle: 250\n",
      "Accuracy: 0.5141631987699627\n",
      "Angle: 260\n",
      "Accuracy: 0.5117767785311826\n",
      "Angle: 270\n",
      "Accuracy: 0.5125747977672082\n",
      "Angle: 280\n",
      "Accuracy: 0.5063354248287326\n",
      "Angle: 290\n",
      "Accuracy: 0.5035156218692319\n",
      "Angle: 300\n",
      "Accuracy: 0.49896061068180414\n",
      "Angle: 310\n",
      "Accuracy: 0.488882880964144\n",
      "Angle: 320\n",
      "Accuracy: 0.49732803571585327\n",
      "Angle: 330\n",
      "Accuracy: 0.5577008146871879\n",
      "Angle: 340\n",
      "Accuracy: 0.7540300587404241\n",
      "Angle: 350\n",
      "Accuracy: 0.9079015108514802\n"
     ]
    }
   ],
   "source": [
    "for i in range(36):\n",
    "    print(f\"Angle: {i * 10}\")\n",
    "    flatten = []\n",
    "    for j in range(8):\n",
    "        flatten += accuracy_matches_orb[i][j]\n",
    "    print(f\"Accuracy: {np.mean(flatten)}\")"
   ]
  },
  {
   "cell_type": "markdown",
   "metadata": {},
   "source": [
    "# 5. Get accuracy matching keypoints of SuperPoint\n"
   ]
  },
  {
   "cell_type": "code",
   "execution_count": 19,
   "metadata": {},
   "outputs": [
    {
     "name": "stderr",
     "output_type": "stream",
     "text": [
      "/home/hazzu/Code/opencv_streamlit/services/keypoint_matching/superpoint.py:79: FutureWarning: You are using `torch.load` with `weights_only=False` (the current default value), which uses the default pickle module implicitly. It is possible to construct malicious pickle data which will execute arbitrary code during unpickling (See https://github.com/pytorch/pytorch/blob/main/SECURITY.md#untrusted-models for more details). In a future release, the default value for `weights_only` will be flipped to `True`. This limits the functions that could be executed during unpickling. Arbitrary objects will no longer be allowed to be loaded via this mode unless they are explicitly allowlisted by the user via `torch.serialization.add_safe_globals`. We recommend you start setting `weights_only=True` for any use case where you don't have full control of the loaded file. Please open an issue on GitHub for any issues related to this experimental feature.\n",
      "  self.net.load_state_dict(torch.load(weights_path))\n"
     ]
    },
    {
     "name": "stdout",
     "output_type": "stream",
     "text": [
      "Run on GPU\n"
     ]
    },
    {
     "name": "stderr",
     "output_type": "stream",
     "text": [
      "Angle: 0 - Shape type: 0:   0%|          | 0/500 [00:00<?, ?it/s]/home/hazzu/anaconda3/envs/opencv_streamlit/lib/python3.12/site-packages/torch/nn/functional.py:4902: UserWarning: Default grid_sample and affine_grid behavior has changed to align_corners=False since 1.3.0. Please specify align_corners=True if the old behavior is desired. See the documentation of grid_sample for details.\n",
      "  warnings.warn(\n",
      "Angle: 0 - Shape type: 0: 100%|██████████| 500/500 [00:02<00:00, 248.96it/s]\n"
     ]
    },
    {
     "name": "stdout",
     "output_type": "stream",
     "text": [
      "Accuracy: 1.0\n"
     ]
    },
    {
     "name": "stderr",
     "output_type": "stream",
     "text": [
      "Angle: 0 - Shape type: 1: 100%|██████████| 500/500 [00:01<00:00, 276.75it/s]\n"
     ]
    },
    {
     "name": "stdout",
     "output_type": "stream",
     "text": [
      "Accuracy: 1.0\n"
     ]
    },
    {
     "name": "stderr",
     "output_type": "stream",
     "text": [
      "Angle: 0 - Shape type: 2: 100%|██████████| 500/500 [00:00<00:00, 3293.78it/s]\n"
     ]
    },
    {
     "name": "stdout",
     "output_type": "stream",
     "text": [
      "No matches found.\n"
     ]
    },
    {
     "name": "stderr",
     "output_type": "stream",
     "text": [
      "Angle: 0 - Shape type: 3: 100%|██████████| 500/500 [00:01<00:00, 288.91it/s]\n"
     ]
    },
    {
     "name": "stdout",
     "output_type": "stream",
     "text": [
      "Accuracy: 1.0\n"
     ]
    },
    {
     "name": "stderr",
     "output_type": "stream",
     "text": [
      "Angle: 0 - Shape type: 4: 100%|██████████| 500/500 [00:01<00:00, 284.27it/s]\n"
     ]
    },
    {
     "name": "stdout",
     "output_type": "stream",
     "text": [
      "Accuracy: 1.0\n"
     ]
    },
    {
     "name": "stderr",
     "output_type": "stream",
     "text": [
      "Angle: 0 - Shape type: 5: 100%|██████████| 500/500 [00:01<00:00, 295.47it/s]\n"
     ]
    },
    {
     "name": "stdout",
     "output_type": "stream",
     "text": [
      "Accuracy: 1.0\n"
     ]
    },
    {
     "name": "stderr",
     "output_type": "stream",
     "text": [
      "Angle: 0 - Shape type: 6: 100%|██████████| 500/500 [00:01<00:00, 300.80it/s]\n"
     ]
    },
    {
     "name": "stdout",
     "output_type": "stream",
     "text": [
      "Accuracy: 1.0\n"
     ]
    },
    {
     "name": "stderr",
     "output_type": "stream",
     "text": [
      "Angle: 0 - Shape type: 7: 100%|██████████| 500/500 [00:01<00:00, 378.98it/s]\n"
     ]
    },
    {
     "name": "stdout",
     "output_type": "stream",
     "text": [
      "Accuracy: 1.0\n"
     ]
    },
    {
     "name": "stderr",
     "output_type": "stream",
     "text": [
      "Angle: 10 - Shape type: 0: 100%|██████████| 500/500 [00:01<00:00, 283.10it/s]\n"
     ]
    },
    {
     "name": "stdout",
     "output_type": "stream",
     "text": [
      "Accuracy: 0.8272598295273041\n"
     ]
    },
    {
     "name": "stderr",
     "output_type": "stream",
     "text": [
      "Angle: 10 - Shape type: 1: 100%|██████████| 500/500 [00:01<00:00, 299.34it/s]\n"
     ]
    },
    {
     "name": "stdout",
     "output_type": "stream",
     "text": [
      "Accuracy: 0.9976285714285714\n"
     ]
    },
    {
     "name": "stderr",
     "output_type": "stream",
     "text": [
      "Angle: 10 - Shape type: 2: 100%|██████████| 500/500 [00:00<00:00, 3355.96it/s]\n"
     ]
    },
    {
     "name": "stdout",
     "output_type": "stream",
     "text": [
      "No matches found.\n"
     ]
    },
    {
     "name": "stderr",
     "output_type": "stream",
     "text": [
      "Angle: 10 - Shape type: 3: 100%|██████████| 500/500 [00:01<00:00, 295.13it/s]\n"
     ]
    },
    {
     "name": "stdout",
     "output_type": "stream",
     "text": [
      "Accuracy: 0.9461311466311466\n"
     ]
    },
    {
     "name": "stderr",
     "output_type": "stream",
     "text": [
      "Angle: 10 - Shape type: 4: 100%|██████████| 500/500 [00:00<00:00, -664.93it/s]\n"
     ]
    },
    {
     "name": "stdout",
     "output_type": "stream",
     "text": [
      "Accuracy: 0.9534221081826908\n"
     ]
    },
    {
     "name": "stderr",
     "output_type": "stream",
     "text": [
      "Angle: 10 - Shape type: 5: 100%|██████████| 500/500 [00:01<00:00, 293.74it/s]\n"
     ]
    },
    {
     "name": "stdout",
     "output_type": "stream",
     "text": [
      "Accuracy: 0.9859666666666667\n"
     ]
    },
    {
     "name": "stderr",
     "output_type": "stream",
     "text": [
      "Angle: 10 - Shape type: 6: 100%|██████████| 500/500 [00:01<00:00, 296.68it/s]\n"
     ]
    },
    {
     "name": "stdout",
     "output_type": "stream",
     "text": [
      "Accuracy: 0.9937333333333334\n"
     ]
    },
    {
     "name": "stderr",
     "output_type": "stream",
     "text": [
      "Angle: 10 - Shape type: 7: 100%|██████████| 500/500 [00:01<00:00, 395.27it/s]\n"
     ]
    },
    {
     "name": "stdout",
     "output_type": "stream",
     "text": [
      "Accuracy: 0.8323751097011247\n"
     ]
    },
    {
     "name": "stderr",
     "output_type": "stream",
     "text": [
      "Angle: 20 - Shape type: 0: 100%|██████████| 500/500 [00:01<00:00, 282.10it/s]\n"
     ]
    },
    {
     "name": "stdout",
     "output_type": "stream",
     "text": [
      "Accuracy: 0.6346325452961428\n"
     ]
    },
    {
     "name": "stderr",
     "output_type": "stream",
     "text": [
      "Angle: 20 - Shape type: 1: 100%|██████████| 500/500 [00:01<00:00, 292.24it/s]\n"
     ]
    },
    {
     "name": "stdout",
     "output_type": "stream",
     "text": [
      "Accuracy: 0.963052380952381\n"
     ]
    },
    {
     "name": "stderr",
     "output_type": "stream",
     "text": [
      "Angle: 20 - Shape type: 2: 100%|██████████| 500/500 [00:00<00:00, 3325.39it/s]\n"
     ]
    },
    {
     "name": "stdout",
     "output_type": "stream",
     "text": [
      "No matches found.\n"
     ]
    },
    {
     "name": "stderr",
     "output_type": "stream",
     "text": [
      "Angle: 20 - Shape type: 3: 100%|██████████| 500/500 [00:01<00:00, 291.18it/s]\n"
     ]
    },
    {
     "name": "stdout",
     "output_type": "stream",
     "text": [
      "Accuracy: 0.8915023631456497\n"
     ]
    },
    {
     "name": "stderr",
     "output_type": "stream",
     "text": [
      "Angle: 20 - Shape type: 4: 100%|██████████| 500/500 [00:01<00:00, 288.28it/s]\n"
     ]
    },
    {
     "name": "stdout",
     "output_type": "stream",
     "text": [
      "Accuracy: 0.8597640822885856\n"
     ]
    },
    {
     "name": "stderr",
     "output_type": "stream",
     "text": [
      "Angle: 20 - Shape type: 5: 100%|██████████| 500/500 [00:01<00:00, 303.93it/s]\n"
     ]
    },
    {
     "name": "stdout",
     "output_type": "stream",
     "text": [
      "Accuracy: 0.9709000000000001\n"
     ]
    },
    {
     "name": "stderr",
     "output_type": "stream",
     "text": [
      "Angle: 20 - Shape type: 6: 100%|██████████| 500/500 [00:01<00:00, 300.27it/s]\n"
     ]
    },
    {
     "name": "stdout",
     "output_type": "stream",
     "text": [
      "Accuracy: 0.9734333333333334\n"
     ]
    },
    {
     "name": "stderr",
     "output_type": "stream",
     "text": [
      "Angle: 20 - Shape type: 7: 100%|██████████| 500/500 [00:01<00:00, 420.34it/s]\n"
     ]
    },
    {
     "name": "stdout",
     "output_type": "stream",
     "text": [
      "Accuracy: 0.669848879254156\n"
     ]
    },
    {
     "name": "stderr",
     "output_type": "stream",
     "text": [
      "Angle: 30 - Shape type: 0: 100%|██████████| 500/500 [00:01<00:00, 283.46it/s]\n"
     ]
    },
    {
     "name": "stdout",
     "output_type": "stream",
     "text": [
      "Accuracy: 0.274798671329823\n"
     ]
    },
    {
     "name": "stderr",
     "output_type": "stream",
     "text": [
      "Angle: 30 - Shape type: 1: 100%|██████████| 500/500 [00:01<00:00, 294.66it/s]\n"
     ]
    },
    {
     "name": "stdout",
     "output_type": "stream",
     "text": [
      "Accuracy: 0.6822047619047619\n"
     ]
    },
    {
     "name": "stderr",
     "output_type": "stream",
     "text": [
      "Angle: 30 - Shape type: 2: 100%|██████████| 500/500 [00:00<00:00, 3311.96it/s]\n"
     ]
    },
    {
     "name": "stdout",
     "output_type": "stream",
     "text": [
      "No matches found.\n"
     ]
    },
    {
     "name": "stderr",
     "output_type": "stream",
     "text": [
      "Angle: 30 - Shape type: 3: 100%|██████████| 500/500 [00:01<00:00, 303.36it/s]\n"
     ]
    },
    {
     "name": "stdout",
     "output_type": "stream",
     "text": [
      "Accuracy: 0.6593789866334956\n"
     ]
    },
    {
     "name": "stderr",
     "output_type": "stream",
     "text": [
      "Angle: 30 - Shape type: 4: 100%|██████████| 500/500 [00:01<00:00, 281.62it/s]\n"
     ]
    },
    {
     "name": "stdout",
     "output_type": "stream",
     "text": [
      "Accuracy: 0.4921643130538472\n"
     ]
    },
    {
     "name": "stderr",
     "output_type": "stream",
     "text": [
      "Angle: 30 - Shape type: 5: 100%|██████████| 500/500 [00:01<00:00, 267.43it/s]\n"
     ]
    },
    {
     "name": "stdout",
     "output_type": "stream",
     "text": [
      "Accuracy: 0.907310529845741\n"
     ]
    },
    {
     "name": "stderr",
     "output_type": "stream",
     "text": [
      "Angle: 30 - Shape type: 6: 100%|██████████| 500/500 [00:01<00:00, 275.50it/s]\n"
     ]
    },
    {
     "name": "stdout",
     "output_type": "stream",
     "text": [
      "Accuracy: 0.8174666666666667\n"
     ]
    },
    {
     "name": "stderr",
     "output_type": "stream",
     "text": [
      "Angle: 30 - Shape type: 7: 100%|██████████| 500/500 [00:01<00:00, 410.17it/s]\n"
     ]
    },
    {
     "name": "stdout",
     "output_type": "stream",
     "text": [
      "Accuracy: 0.37709446259898066\n"
     ]
    },
    {
     "name": "stderr",
     "output_type": "stream",
     "text": [
      "Angle: 40 - Shape type: 0: 100%|██████████| 500/500 [00:01<00:00, 260.91it/s]\n"
     ]
    },
    {
     "name": "stdout",
     "output_type": "stream",
     "text": [
      "Accuracy: 0.07041006505737692\n"
     ]
    },
    {
     "name": "stderr",
     "output_type": "stream",
     "text": [
      "Angle: 40 - Shape type: 1: 100%|██████████| 500/500 [00:00<00:00, -811.46it/s]\n"
     ]
    },
    {
     "name": "stdout",
     "output_type": "stream",
     "text": [
      "Accuracy: 0.2658285714285714\n"
     ]
    },
    {
     "name": "stderr",
     "output_type": "stream",
     "text": [
      "Angle: 40 - Shape type: 2: 100%|██████████| 500/500 [00:00<00:00, 3189.30it/s]\n"
     ]
    },
    {
     "name": "stdout",
     "output_type": "stream",
     "text": [
      "No matches found.\n"
     ]
    },
    {
     "name": "stderr",
     "output_type": "stream",
     "text": [
      "Angle: 40 - Shape type: 3: 100%|██████████| 500/500 [00:01<00:00, 262.40it/s]\n"
     ]
    },
    {
     "name": "stdout",
     "output_type": "stream",
     "text": [
      "Accuracy: 0.37120138823545634\n"
     ]
    },
    {
     "name": "stderr",
     "output_type": "stream",
     "text": [
      "Angle: 40 - Shape type: 4: 100%|██████████| 500/500 [00:01<00:00, 276.58it/s]\n"
     ]
    },
    {
     "name": "stdout",
     "output_type": "stream",
     "text": [
      "Accuracy: 0.10410954744377753\n"
     ]
    },
    {
     "name": "stderr",
     "output_type": "stream",
     "text": [
      "Angle: 40 - Shape type: 5: 100%|██████████| 500/500 [00:01<00:00, 266.43it/s]\n"
     ]
    },
    {
     "name": "stdout",
     "output_type": "stream",
     "text": [
      "Accuracy: 0.6574596774193547\n"
     ]
    },
    {
     "name": "stderr",
     "output_type": "stream",
     "text": [
      "Angle: 40 - Shape type: 6: 100%|██████████| 500/500 [00:01<00:00, 279.53it/s]\n"
     ]
    },
    {
     "name": "stdout",
     "output_type": "stream",
     "text": [
      "Accuracy: 0.405\n"
     ]
    },
    {
     "name": "stderr",
     "output_type": "stream",
     "text": [
      "Angle: 40 - Shape type: 7: 100%|██████████| 500/500 [00:01<00:00, 369.70it/s]\n"
     ]
    },
    {
     "name": "stdout",
     "output_type": "stream",
     "text": [
      "Accuracy: 0.21393954745018579\n"
     ]
    },
    {
     "name": "stderr",
     "output_type": "stream",
     "text": [
      "Angle: 50 - Shape type: 0: 100%|██████████| 500/500 [00:01<00:00, 255.33it/s]\n"
     ]
    },
    {
     "name": "stdout",
     "output_type": "stream",
     "text": [
      "Accuracy: 0.01017813700087106\n"
     ]
    },
    {
     "name": "stderr",
     "output_type": "stream",
     "text": [
      "Angle: 50 - Shape type: 1: 100%|██████████| 500/500 [00:01<00:00, 275.28it/s]\n"
     ]
    },
    {
     "name": "stdout",
     "output_type": "stream",
     "text": [
      "Accuracy: 0.2238095238095238\n"
     ]
    },
    {
     "name": "stderr",
     "output_type": "stream",
     "text": [
      "Angle: 50 - Shape type: 2: 100%|██████████| 500/500 [00:00<00:00, 2881.34it/s]\n"
     ]
    },
    {
     "name": "stdout",
     "output_type": "stream",
     "text": [
      "No matches found.\n"
     ]
    },
    {
     "name": "stderr",
     "output_type": "stream",
     "text": [
      "Angle: 50 - Shape type: 3: 100%|██████████| 500/500 [00:01<00:00, 280.93it/s]\n"
     ]
    },
    {
     "name": "stdout",
     "output_type": "stream",
     "text": [
      "Accuracy: 0.20784900359048655\n"
     ]
    },
    {
     "name": "stderr",
     "output_type": "stream",
     "text": [
      "Angle: 50 - Shape type: 4: 100%|██████████| 500/500 [00:01<00:00, 276.35it/s]\n"
     ]
    },
    {
     "name": "stdout",
     "output_type": "stream",
     "text": [
      "Accuracy: 0.028352495904690977\n"
     ]
    },
    {
     "name": "stderr",
     "output_type": "stream",
     "text": [
      "Angle: 50 - Shape type: 5: 100%|██████████| 500/500 [00:01<00:00, 287.42it/s]\n"
     ]
    },
    {
     "name": "stdout",
     "output_type": "stream",
     "text": [
      "Accuracy: 0.29942528735632185\n"
     ]
    },
    {
     "name": "stderr",
     "output_type": "stream",
     "text": [
      "Angle: 50 - Shape type: 6: 100%|██████████| 500/500 [00:01<00:00, 296.24it/s]\n"
     ]
    },
    {
     "name": "stdout",
     "output_type": "stream",
     "text": [
      "Accuracy: 0.14166666666666666\n"
     ]
    },
    {
     "name": "stderr",
     "output_type": "stream",
     "text": [
      "Angle: 50 - Shape type: 7: 100%|██████████| 500/500 [00:01<00:00, 431.43it/s]\n"
     ]
    },
    {
     "name": "stdout",
     "output_type": "stream",
     "text": [
      "Accuracy: 0.15866522366522365\n"
     ]
    },
    {
     "name": "stderr",
     "output_type": "stream",
     "text": [
      "Angle: 60 - Shape type: 0: 100%|██████████| 500/500 [00:01<00:00, 289.27it/s]\n"
     ]
    },
    {
     "name": "stdout",
     "output_type": "stream",
     "text": [
      "Accuracy: 0.015347512782722427\n"
     ]
    },
    {
     "name": "stderr",
     "output_type": "stream",
     "text": [
      "Angle: 60 - Shape type: 1: 100%|██████████| 500/500 [00:01<00:00, 289.89it/s]\n"
     ]
    },
    {
     "name": "stdout",
     "output_type": "stream",
     "text": [
      "Accuracy: 0.2942190476190476\n"
     ]
    },
    {
     "name": "stderr",
     "output_type": "stream",
     "text": [
      "Angle: 60 - Shape type: 2: 100%|██████████| 500/500 [00:00<00:00, 3252.76it/s]\n"
     ]
    },
    {
     "name": "stdout",
     "output_type": "stream",
     "text": [
      "No matches found.\n"
     ]
    },
    {
     "name": "stderr",
     "output_type": "stream",
     "text": [
      "Angle: 60 - Shape type: 3: 100%|██████████| 500/500 [00:01<00:00, 296.29it/s]\n"
     ]
    },
    {
     "name": "stdout",
     "output_type": "stream",
     "text": [
      "Accuracy: 0.15517306767306766\n"
     ]
    },
    {
     "name": "stderr",
     "output_type": "stream",
     "text": [
      "Angle: 60 - Shape type: 4: 100%|██████████| 500/500 [00:01<00:00, 264.64it/s]\n"
     ]
    },
    {
     "name": "stdout",
     "output_type": "stream",
     "text": [
      "Accuracy: 0.034500328381426366\n"
     ]
    },
    {
     "name": "stderr",
     "output_type": "stream",
     "text": [
      "Angle: 60 - Shape type: 5: 100%|██████████| 500/500 [00:01<00:00, 294.46it/s]\n"
     ]
    },
    {
     "name": "stdout",
     "output_type": "stream",
     "text": [
      "Accuracy: 0.26903794037940376\n"
     ]
    },
    {
     "name": "stderr",
     "output_type": "stream",
     "text": [
      "Angle: 60 - Shape type: 6: 100%|██████████| 500/500 [00:01<00:00, 302.23it/s]\n"
     ]
    },
    {
     "name": "stdout",
     "output_type": "stream",
     "text": [
      "Accuracy: 0.14730000000000001\n"
     ]
    },
    {
     "name": "stderr",
     "output_type": "stream",
     "text": [
      "Angle: 60 - Shape type: 7: 100%|██████████| 500/500 [-1:59:59<00:00, -371.36it/s]\n"
     ]
    },
    {
     "name": "stdout",
     "output_type": "stream",
     "text": [
      "Accuracy: 0.1591130604288499\n"
     ]
    },
    {
     "name": "stderr",
     "output_type": "stream",
     "text": [
      "Angle: 70 - Shape type: 0: 100%|██████████| 500/500 [00:01<00:00, 297.52it/s]\n"
     ]
    },
    {
     "name": "stdout",
     "output_type": "stream",
     "text": [
      "Accuracy: 0.037085079587171575\n"
     ]
    },
    {
     "name": "stderr",
     "output_type": "stream",
     "text": [
      "Angle: 70 - Shape type: 1: 100%|██████████| 500/500 [00:01<00:00, 305.30it/s]\n"
     ]
    },
    {
     "name": "stdout",
     "output_type": "stream",
     "text": [
      "Accuracy: 0.28695238095238096\n"
     ]
    },
    {
     "name": "stderr",
     "output_type": "stream",
     "text": [
      "Angle: 70 - Shape type: 2: 100%|██████████| 500/500 [00:00<00:00, 3234.75it/s]\n"
     ]
    },
    {
     "name": "stdout",
     "output_type": "stream",
     "text": [
      "No matches found.\n"
     ]
    },
    {
     "name": "stderr",
     "output_type": "stream",
     "text": [
      "Angle: 70 - Shape type: 3: 100%|██████████| 500/500 [00:01<00:00, 307.85it/s]\n"
     ]
    },
    {
     "name": "stdout",
     "output_type": "stream",
     "text": [
      "Accuracy: 0.15746237330744373\n"
     ]
    },
    {
     "name": "stderr",
     "output_type": "stream",
     "text": [
      "Angle: 70 - Shape type: 4: 100%|██████████| 500/500 [00:01<00:00, 286.66it/s]\n"
     ]
    },
    {
     "name": "stdout",
     "output_type": "stream",
     "text": [
      "Accuracy: 0.045428299434577026\n"
     ]
    },
    {
     "name": "stderr",
     "output_type": "stream",
     "text": [
      "Angle: 70 - Shape type: 5: 100%|██████████| 500/500 [00:01<00:00, 300.85it/s]\n"
     ]
    },
    {
     "name": "stdout",
     "output_type": "stream",
     "text": [
      "Accuracy: 0.44085365853658537\n"
     ]
    },
    {
     "name": "stderr",
     "output_type": "stream",
     "text": [
      "Angle: 70 - Shape type: 6: 100%|██████████| 500/500 [00:01<00:00, 300.19it/s]\n"
     ]
    },
    {
     "name": "stdout",
     "output_type": "stream",
     "text": [
      "Accuracy: 0.1917333333333333\n"
     ]
    },
    {
     "name": "stderr",
     "output_type": "stream",
     "text": [
      "Angle: 70 - Shape type: 7: 100%|██████████| 500/500 [00:01<00:00, 402.66it/s]\n"
     ]
    },
    {
     "name": "stdout",
     "output_type": "stream",
     "text": [
      "Accuracy: 0.16337099811676084\n"
     ]
    },
    {
     "name": "stderr",
     "output_type": "stream",
     "text": [
      "Angle: 80 - Shape type: 0: 100%|██████████| 500/500 [00:01<00:00, 294.46it/s]\n"
     ]
    },
    {
     "name": "stdout",
     "output_type": "stream",
     "text": [
      "Accuracy: 0.04594217376407528\n"
     ]
    },
    {
     "name": "stderr",
     "output_type": "stream",
     "text": [
      "Angle: 80 - Shape type: 1: 100%|██████████| 500/500 [00:01<00:00, 301.34it/s]\n"
     ]
    },
    {
     "name": "stdout",
     "output_type": "stream",
     "text": [
      "Accuracy: 0.26271428571428573\n"
     ]
    },
    {
     "name": "stderr",
     "output_type": "stream",
     "text": [
      "Angle: 80 - Shape type: 2: 100%|██████████| 500/500 [00:00<00:00, 2983.13it/s]\n"
     ]
    },
    {
     "name": "stdout",
     "output_type": "stream",
     "text": [
      "No matches found.\n"
     ]
    },
    {
     "name": "stderr",
     "output_type": "stream",
     "text": [
      "Angle: 80 - Shape type: 3: 100%|██████████| 500/500 [00:01<00:00, 303.05it/s]\n"
     ]
    },
    {
     "name": "stdout",
     "output_type": "stream",
     "text": [
      "Accuracy: 0.16454684372189401\n"
     ]
    },
    {
     "name": "stderr",
     "output_type": "stream",
     "text": [
      "Angle: 80 - Shape type: 4: 100%|██████████| 500/500 [00:01<00:00, 290.16it/s]\n"
     ]
    },
    {
     "name": "stdout",
     "output_type": "stream",
     "text": [
      "Accuracy: 0.04776349752892975\n"
     ]
    },
    {
     "name": "stderr",
     "output_type": "stream",
     "text": [
      "Angle: 80 - Shape type: 5: 100%|██████████| 500/500 [00:01<00:00, 306.88it/s]\n"
     ]
    },
    {
     "name": "stdout",
     "output_type": "stream",
     "text": [
      "Accuracy: 0.5798582995951416\n"
     ]
    },
    {
     "name": "stderr",
     "output_type": "stream",
     "text": [
      "Angle: 80 - Shape type: 6: 100%|██████████| 500/500 [00:01<00:00, 297.66it/s]\n"
     ]
    },
    {
     "name": "stdout",
     "output_type": "stream",
     "text": [
      "Accuracy: 0.22033333333333333\n"
     ]
    },
    {
     "name": "stderr",
     "output_type": "stream",
     "text": [
      "Angle: 80 - Shape type: 7: 100%|██████████| 500/500 [00:01<00:00, 420.17it/s]\n"
     ]
    },
    {
     "name": "stdout",
     "output_type": "stream",
     "text": [
      "Accuracy: 0.19254510921177587\n"
     ]
    },
    {
     "name": "stderr",
     "output_type": "stream",
     "text": [
      "Angle: 90 - Shape type: 0: 100%|██████████| 500/500 [00:01<00:00, 299.01it/s]\n"
     ]
    },
    {
     "name": "stdout",
     "output_type": "stream",
     "text": [
      "Accuracy: 0.04948224164156667\n"
     ]
    },
    {
     "name": "stderr",
     "output_type": "stream",
     "text": [
      "Angle: 90 - Shape type: 1: 100%|██████████| 500/500 [00:01<00:00, 305.11it/s]\n"
     ]
    },
    {
     "name": "stdout",
     "output_type": "stream",
     "text": [
      "Accuracy: 0.2672142857142857\n"
     ]
    },
    {
     "name": "stderr",
     "output_type": "stream",
     "text": [
      "Angle: 90 - Shape type: 2: 100%|██████████| 500/500 [00:00<00:00, 3333.95it/s]\n"
     ]
    },
    {
     "name": "stdout",
     "output_type": "stream",
     "text": [
      "No matches found.\n"
     ]
    },
    {
     "name": "stderr",
     "output_type": "stream",
     "text": [
      "Angle: 90 - Shape type: 3: 100%|██████████| 500/500 [00:01<00:00, 294.42it/s]\n"
     ]
    },
    {
     "name": "stdout",
     "output_type": "stream",
     "text": [
      "Accuracy: 0.18241628964520534\n"
     ]
    },
    {
     "name": "stderr",
     "output_type": "stream",
     "text": [
      "Angle: 90 - Shape type: 4: 100%|██████████| 500/500 [00:01<00:00, 291.52it/s]\n"
     ]
    },
    {
     "name": "stdout",
     "output_type": "stream",
     "text": [
      "Accuracy: 0.05465912621181446\n"
     ]
    },
    {
     "name": "stderr",
     "output_type": "stream",
     "text": [
      "Angle: 90 - Shape type: 5: 100%|██████████| 500/500 [00:01<00:00, 297.38it/s]\n"
     ]
    },
    {
     "name": "stdout",
     "output_type": "stream",
     "text": [
      "Accuracy: 0.6581824279007378\n"
     ]
    },
    {
     "name": "stderr",
     "output_type": "stream",
     "text": [
      "Angle: 90 - Shape type: 6: 100%|██████████| 500/500 [00:00<00:00, -566.18it/s]\n"
     ]
    },
    {
     "name": "stdout",
     "output_type": "stream",
     "text": [
      "Accuracy: 0.2369\n"
     ]
    },
    {
     "name": "stderr",
     "output_type": "stream",
     "text": [
      "Angle: 90 - Shape type: 7: 100%|██████████| 500/500 [00:01<00:00, 421.23it/s]\n"
     ]
    },
    {
     "name": "stdout",
     "output_type": "stream",
     "text": [
      "Accuracy: 0.20360729386892176\n"
     ]
    },
    {
     "name": "stderr",
     "output_type": "stream",
     "text": [
      "Angle: 100 - Shape type: 0: 100%|██████████| 500/500 [00:01<00:00, 284.53it/s]\n"
     ]
    },
    {
     "name": "stdout",
     "output_type": "stream",
     "text": [
      "Accuracy: 0.04638651640369441\n"
     ]
    },
    {
     "name": "stderr",
     "output_type": "stream",
     "text": [
      "Angle: 100 - Shape type: 1: 100%|██████████| 500/500 [00:01<00:00, 288.15it/s]\n"
     ]
    },
    {
     "name": "stdout",
     "output_type": "stream",
     "text": [
      "Accuracy: 0.3136142857142857\n"
     ]
    },
    {
     "name": "stderr",
     "output_type": "stream",
     "text": [
      "Angle: 100 - Shape type: 2: 100%|██████████| 500/500 [00:00<00:00, 3322.45it/s]\n"
     ]
    },
    {
     "name": "stdout",
     "output_type": "stream",
     "text": [
      "No matches found.\n"
     ]
    },
    {
     "name": "stderr",
     "output_type": "stream",
     "text": [
      "Angle: 100 - Shape type: 3: 100%|██████████| 500/500 [00:01<00:00, 294.68it/s]\n"
     ]
    },
    {
     "name": "stdout",
     "output_type": "stream",
     "text": [
      "Accuracy: 0.184179542345875\n"
     ]
    },
    {
     "name": "stderr",
     "output_type": "stream",
     "text": [
      "Angle: 100 - Shape type: 4: 100%|██████████| 500/500 [00:01<00:00, 300.32it/s]\n"
     ]
    },
    {
     "name": "stdout",
     "output_type": "stream",
     "text": [
      "Accuracy: 0.04969484102878544\n"
     ]
    },
    {
     "name": "stderr",
     "output_type": "stream",
     "text": [
      "Angle: 100 - Shape type: 5: 100%|██████████| 500/500 [00:01<00:00, 309.36it/s]\n"
     ]
    },
    {
     "name": "stdout",
     "output_type": "stream",
     "text": [
      "Accuracy: 0.7101419878296147\n"
     ]
    },
    {
     "name": "stderr",
     "output_type": "stream",
     "text": [
      "Angle: 100 - Shape type: 6: 100%|██████████| 500/500 [00:01<00:00, 300.46it/s]\n"
     ]
    },
    {
     "name": "stdout",
     "output_type": "stream",
     "text": [
      "Accuracy: 0.2397\n"
     ]
    },
    {
     "name": "stderr",
     "output_type": "stream",
     "text": [
      "Angle: 100 - Shape type: 7: 100%|██████████| 500/500 [00:01<00:00, 436.31it/s]\n"
     ]
    },
    {
     "name": "stdout",
     "output_type": "stream",
     "text": [
      "Accuracy: 0.194624713208784\n"
     ]
    },
    {
     "name": "stderr",
     "output_type": "stream",
     "text": [
      "Angle: 110 - Shape type: 0: 100%|██████████| 500/500 [00:01<00:00, 278.28it/s]\n"
     ]
    },
    {
     "name": "stdout",
     "output_type": "stream",
     "text": [
      "Accuracy: 0.03640332936785546\n"
     ]
    },
    {
     "name": "stderr",
     "output_type": "stream",
     "text": [
      "Angle: 110 - Shape type: 1: 100%|██████████| 500/500 [00:01<00:00, 298.17it/s]\n"
     ]
    },
    {
     "name": "stdout",
     "output_type": "stream",
     "text": [
      "Accuracy: 0.3687714285714286\n"
     ]
    },
    {
     "name": "stderr",
     "output_type": "stream",
     "text": [
      "Angle: 110 - Shape type: 2: 100%|██████████| 500/500 [00:00<00:00, 3310.52it/s]\n"
     ]
    },
    {
     "name": "stdout",
     "output_type": "stream",
     "text": [
      "No matches found.\n"
     ]
    },
    {
     "name": "stderr",
     "output_type": "stream",
     "text": [
      "Angle: 110 - Shape type: 3: 100%|██████████| 500/500 [00:01<00:00, 291.91it/s]\n"
     ]
    },
    {
     "name": "stdout",
     "output_type": "stream",
     "text": [
      "Accuracy: 0.15421000175509192\n"
     ]
    },
    {
     "name": "stderr",
     "output_type": "stream",
     "text": [
      "Angle: 110 - Shape type: 4: 100%|██████████| 500/500 [00:01<00:00, 290.85it/s]\n"
     ]
    },
    {
     "name": "stdout",
     "output_type": "stream",
     "text": [
      "Accuracy: 0.05194278660670244\n"
     ]
    },
    {
     "name": "stderr",
     "output_type": "stream",
     "text": [
      "Angle: 110 - Shape type: 5: 100%|██████████| 500/500 [00:01<00:00, 303.61it/s]\n"
     ]
    },
    {
     "name": "stdout",
     "output_type": "stream",
     "text": [
      "Accuracy: 0.7336707152496627\n"
     ]
    },
    {
     "name": "stderr",
     "output_type": "stream",
     "text": [
      "Angle: 110 - Shape type: 6: 100%|██████████| 500/500 [00:01<00:00, 305.94it/s]\n"
     ]
    },
    {
     "name": "stdout",
     "output_type": "stream",
     "text": [
      "Accuracy: 0.22323333333333334\n"
     ]
    },
    {
     "name": "stderr",
     "output_type": "stream",
     "text": [
      "Angle: 110 - Shape type: 7: 100%|██████████| 500/500 [00:01<00:00, 428.76it/s]\n"
     ]
    },
    {
     "name": "stdout",
     "output_type": "stream",
     "text": [
      "Accuracy: 0.1636958710976838\n"
     ]
    },
    {
     "name": "stderr",
     "output_type": "stream",
     "text": [
      "Angle: 120 - Shape type: 0: 100%|██████████| 500/500 [00:01<00:00, 295.78it/s]\n"
     ]
    },
    {
     "name": "stdout",
     "output_type": "stream",
     "text": [
      "Accuracy: 0.018038917443754243\n"
     ]
    },
    {
     "name": "stderr",
     "output_type": "stream",
     "text": [
      "Angle: 120 - Shape type: 1: 100%|██████████| 500/500 [00:01<00:00, 302.18it/s]\n"
     ]
    },
    {
     "name": "stdout",
     "output_type": "stream",
     "text": [
      "Accuracy: 0.39605714285714283\n"
     ]
    },
    {
     "name": "stderr",
     "output_type": "stream",
     "text": [
      "Angle: 120 - Shape type: 2: 100%|██████████| 500/500 [00:00<00:00, 3287.81it/s]\n"
     ]
    },
    {
     "name": "stdout",
     "output_type": "stream",
     "text": [
      "No matches found.\n"
     ]
    },
    {
     "name": "stderr",
     "output_type": "stream",
     "text": [
      "Angle: 120 - Shape type: 3: 100%|██████████| 500/500 [00:01<00:00, 300.97it/s]\n"
     ]
    },
    {
     "name": "stdout",
     "output_type": "stream",
     "text": [
      "Accuracy: 0.15565817515817515\n"
     ]
    },
    {
     "name": "stderr",
     "output_type": "stream",
     "text": [
      "Angle: 120 - Shape type: 4: 100%|██████████| 500/500 [00:01<00:00, 284.13it/s]\n"
     ]
    },
    {
     "name": "stdout",
     "output_type": "stream",
     "text": [
      "Accuracy: 0.05208568491513581\n"
     ]
    },
    {
     "name": "stderr",
     "output_type": "stream",
     "text": [
      "Angle: 120 - Shape type: 5: 100%|██████████| 500/500 [00:00<00:00, -530.25it/s]\n"
     ]
    },
    {
     "name": "stdout",
     "output_type": "stream",
     "text": [
      "Accuracy: 0.7129742547425475\n"
     ]
    },
    {
     "name": "stderr",
     "output_type": "stream",
     "text": [
      "Angle: 120 - Shape type: 6: 100%|██████████| 500/500 [00:01<00:00, 301.52it/s]\n"
     ]
    },
    {
     "name": "stdout",
     "output_type": "stream",
     "text": [
      "Accuracy: 0.21876666666666666\n"
     ]
    },
    {
     "name": "stderr",
     "output_type": "stream",
     "text": [
      "Angle: 120 - Shape type: 7: 100%|██████████| 500/500 [00:01<00:00, 466.69it/s]\n"
     ]
    },
    {
     "name": "stdout",
     "output_type": "stream",
     "text": [
      "Accuracy: 0.1699452304883615\n"
     ]
    },
    {
     "name": "stderr",
     "output_type": "stream",
     "text": [
      "Angle: 130 - Shape type: 0: 100%|██████████| 500/500 [00:01<00:00, 290.65it/s]\n"
     ]
    },
    {
     "name": "stdout",
     "output_type": "stream",
     "text": [
      "Accuracy: 0.007131306520803439\n"
     ]
    },
    {
     "name": "stderr",
     "output_type": "stream",
     "text": [
      "Angle: 130 - Shape type: 1: 100%|██████████| 500/500 [00:01<00:00, 300.51it/s]\n"
     ]
    },
    {
     "name": "stdout",
     "output_type": "stream",
     "text": [
      "Accuracy: 0.36688095238095236\n"
     ]
    },
    {
     "name": "stderr",
     "output_type": "stream",
     "text": [
      "Angle: 130 - Shape type: 2: 100%|██████████| 500/500 [00:00<00:00, 3273.58it/s]\n"
     ]
    },
    {
     "name": "stdout",
     "output_type": "stream",
     "text": [
      "No matches found.\n"
     ]
    },
    {
     "name": "stderr",
     "output_type": "stream",
     "text": [
      "Angle: 130 - Shape type: 3: 100%|██████████| 500/500 [00:01<00:00, 287.87it/s]\n"
     ]
    },
    {
     "name": "stdout",
     "output_type": "stream",
     "text": [
      "Accuracy: 0.1957189437149357\n"
     ]
    },
    {
     "name": "stderr",
     "output_type": "stream",
     "text": [
      "Angle: 130 - Shape type: 4: 100%|██████████| 500/500 [00:01<00:00, 285.94it/s]\n"
     ]
    },
    {
     "name": "stdout",
     "output_type": "stream",
     "text": [
      "Accuracy: 0.047011502844014945\n"
     ]
    },
    {
     "name": "stderr",
     "output_type": "stream",
     "text": [
      "Angle: 130 - Shape type: 5: 100%|██████████| 500/500 [00:01<00:00, 305.53it/s]\n"
     ]
    },
    {
     "name": "stdout",
     "output_type": "stream",
     "text": [
      "Accuracy: 0.6743252361673414\n"
     ]
    },
    {
     "name": "stderr",
     "output_type": "stream",
     "text": [
      "Angle: 130 - Shape type: 6: 100%|██████████| 500/500 [00:01<00:00, 298.91it/s]\n"
     ]
    },
    {
     "name": "stdout",
     "output_type": "stream",
     "text": [
      "Accuracy: 0.22206666666666666\n"
     ]
    },
    {
     "name": "stderr",
     "output_type": "stream",
     "text": [
      "Angle: 130 - Shape type: 7: 100%|██████████| 500/500 [00:01<00:00, 462.98it/s]\n"
     ]
    },
    {
     "name": "stdout",
     "output_type": "stream",
     "text": [
      "Accuracy: 0.16260051169590645\n"
     ]
    },
    {
     "name": "stderr",
     "output_type": "stream",
     "text": [
      "Angle: 140 - Shape type: 0: 100%|██████████| 500/500 [00:01<00:00, 291.19it/s]\n"
     ]
    },
    {
     "name": "stdout",
     "output_type": "stream",
     "text": [
      "Accuracy: 0.01004667679433536\n"
     ]
    },
    {
     "name": "stderr",
     "output_type": "stream",
     "text": [
      "Angle: 140 - Shape type: 1: 100%|██████████| 500/500 [00:01<00:00, 301.18it/s]\n"
     ]
    },
    {
     "name": "stdout",
     "output_type": "stream",
     "text": [
      "Accuracy: 0.24617619047619047\n"
     ]
    },
    {
     "name": "stderr",
     "output_type": "stream",
     "text": [
      "Angle: 140 - Shape type: 2: 100%|██████████| 500/500 [00:00<00:00, 3240.16it/s]\n"
     ]
    },
    {
     "name": "stdout",
     "output_type": "stream",
     "text": [
      "No matches found.\n"
     ]
    },
    {
     "name": "stderr",
     "output_type": "stream",
     "text": [
      "Angle: 140 - Shape type: 3: 100%|██████████| 500/500 [00:01<00:00, 298.36it/s]\n"
     ]
    },
    {
     "name": "stdout",
     "output_type": "stream",
     "text": [
      "Accuracy: 0.23158960834311534\n"
     ]
    },
    {
     "name": "stderr",
     "output_type": "stream",
     "text": [
      "Angle: 140 - Shape type: 4: 100%|██████████| 500/500 [00:01<00:00, 288.78it/s]\n"
     ]
    },
    {
     "name": "stdout",
     "output_type": "stream",
     "text": [
      "Accuracy: 0.03996407100368578\n"
     ]
    },
    {
     "name": "stderr",
     "output_type": "stream",
     "text": [
      "Angle: 140 - Shape type: 5: 100%|██████████| 500/500 [00:01<00:00, 288.59it/s]\n"
     ]
    },
    {
     "name": "stdout",
     "output_type": "stream",
     "text": [
      "Accuracy: 0.6357624831309041\n"
     ]
    },
    {
     "name": "stderr",
     "output_type": "stream",
     "text": [
      "Angle: 140 - Shape type: 6: 100%|██████████| 500/500 [00:01<00:00, 301.15it/s]\n"
     ]
    },
    {
     "name": "stdout",
     "output_type": "stream",
     "text": [
      "Accuracy: 0.21833333333333332\n"
     ]
    },
    {
     "name": "stderr",
     "output_type": "stream",
     "text": [
      "Angle: 140 - Shape type: 7: 100%|██████████| 500/500 [00:01<00:00, 450.49it/s]\n"
     ]
    },
    {
     "name": "stdout",
     "output_type": "stream",
     "text": [
      "Accuracy: 0.17212301587301587\n"
     ]
    },
    {
     "name": "stderr",
     "output_type": "stream",
     "text": [
      "Angle: 150 - Shape type: 0: 100%|██████████| 500/500 [00:01<00:00, 277.11it/s]\n"
     ]
    },
    {
     "name": "stdout",
     "output_type": "stream",
     "text": [
      "Accuracy: 0.029348494214491674\n"
     ]
    },
    {
     "name": "stderr",
     "output_type": "stream",
     "text": [
      "Angle: 150 - Shape type: 1: 100%|██████████| 500/500 [00:01<00:00, 298.64it/s]\n"
     ]
    },
    {
     "name": "stdout",
     "output_type": "stream",
     "text": [
      "Accuracy: 0.21291428571428572\n"
     ]
    },
    {
     "name": "stderr",
     "output_type": "stream",
     "text": [
      "Angle: 150 - Shape type: 2: 100%|██████████| 500/500 [00:00<00:00, 3040.88it/s]\n"
     ]
    },
    {
     "name": "stdout",
     "output_type": "stream",
     "text": [
      "No matches found.\n"
     ]
    },
    {
     "name": "stderr",
     "output_type": "stream",
     "text": [
      "Angle: 150 - Shape type: 3: 100%|██████████| 500/500 [00:00<00:00, -662.96it/s]\n"
     ]
    },
    {
     "name": "stdout",
     "output_type": "stream",
     "text": [
      "Accuracy: 0.2555540318065368\n"
     ]
    },
    {
     "name": "stderr",
     "output_type": "stream",
     "text": [
      "Angle: 150 - Shape type: 4: 100%|██████████| 500/500 [00:01<00:00, 280.45it/s]\n"
     ]
    },
    {
     "name": "stdout",
     "output_type": "stream",
     "text": [
      "Accuracy: 0.03663850794869853\n"
     ]
    },
    {
     "name": "stderr",
     "output_type": "stream",
     "text": [
      "Angle: 150 - Shape type: 5: 100%|██████████| 500/500 [00:01<00:00, 309.11it/s]\n"
     ]
    },
    {
     "name": "stdout",
     "output_type": "stream",
     "text": [
      "Accuracy: 0.5909121395036888\n"
     ]
    },
    {
     "name": "stderr",
     "output_type": "stream",
     "text": [
      "Angle: 150 - Shape type: 6: 100%|██████████| 500/500 [00:01<00:00, 301.04it/s]\n"
     ]
    },
    {
     "name": "stdout",
     "output_type": "stream",
     "text": [
      "Accuracy: 0.1938666666666667\n"
     ]
    },
    {
     "name": "stderr",
     "output_type": "stream",
     "text": [
      "Angle: 150 - Shape type: 7: 100%|██████████| 500/500 [00:01<00:00, 470.56it/s]\n"
     ]
    },
    {
     "name": "stdout",
     "output_type": "stream",
     "text": [
      "Accuracy: 0.16793900082936628\n"
     ]
    },
    {
     "name": "stderr",
     "output_type": "stream",
     "text": [
      "Angle: 160 - Shape type: 0: 100%|██████████| 500/500 [00:01<00:00, 287.04it/s]\n"
     ]
    },
    {
     "name": "stdout",
     "output_type": "stream",
     "text": [
      "Accuracy: 0.07168566857295161\n"
     ]
    },
    {
     "name": "stderr",
     "output_type": "stream",
     "text": [
      "Angle: 160 - Shape type: 1: 100%|██████████| 500/500 [00:01<00:00, 293.25it/s]\n"
     ]
    },
    {
     "name": "stdout",
     "output_type": "stream",
     "text": [
      "Accuracy: 0.3111190476190476\n"
     ]
    },
    {
     "name": "stderr",
     "output_type": "stream",
     "text": [
      "Angle: 160 - Shape type: 2: 100%|██████████| 500/500 [00:00<00:00, 3300.83it/s]\n"
     ]
    },
    {
     "name": "stdout",
     "output_type": "stream",
     "text": [
      "No matches found.\n"
     ]
    },
    {
     "name": "stderr",
     "output_type": "stream",
     "text": [
      "Angle: 160 - Shape type: 3: 100%|██████████| 500/500 [00:01<00:00, 296.77it/s]\n"
     ]
    },
    {
     "name": "stdout",
     "output_type": "stream",
     "text": [
      "Accuracy: 0.3007165791233928\n"
     ]
    },
    {
     "name": "stderr",
     "output_type": "stream",
     "text": [
      "Angle: 160 - Shape type: 4: 100%|██████████| 500/500 [00:01<00:00, 292.11it/s]\n"
     ]
    },
    {
     "name": "stdout",
     "output_type": "stream",
     "text": [
      "Accuracy: 0.043201374712279854\n"
     ]
    },
    {
     "name": "stderr",
     "output_type": "stream",
     "text": [
      "Angle: 160 - Shape type: 5: 100%|██████████| 500/500 [00:01<00:00, 300.85it/s]\n"
     ]
    },
    {
     "name": "stdout",
     "output_type": "stream",
     "text": [
      "Accuracy: 0.4857666666666666\n"
     ]
    },
    {
     "name": "stderr",
     "output_type": "stream",
     "text": [
      "Angle: 160 - Shape type: 6: 100%|██████████| 500/500 [00:01<00:00, 289.73it/s]\n"
     ]
    },
    {
     "name": "stdout",
     "output_type": "stream",
     "text": [
      "Accuracy: 0.1862333333333333\n"
     ]
    },
    {
     "name": "stderr",
     "output_type": "stream",
     "text": [
      "Angle: 160 - Shape type: 7: 100%|██████████| 500/500 [00:01<00:00, 464.47it/s]\n"
     ]
    },
    {
     "name": "stdout",
     "output_type": "stream",
     "text": [
      "Accuracy: 0.17177779969042106\n"
     ]
    },
    {
     "name": "stderr",
     "output_type": "stream",
     "text": [
      "Angle: 170 - Shape type: 0: 100%|██████████| 500/500 [00:01<00:00, 293.19it/s]\n"
     ]
    },
    {
     "name": "stdout",
     "output_type": "stream",
     "text": [
      "Accuracy: 0.10164808901418872\n"
     ]
    },
    {
     "name": "stderr",
     "output_type": "stream",
     "text": [
      "Angle: 170 - Shape type: 1: 100%|██████████| 500/500 [00:01<00:00, 297.76it/s]\n"
     ]
    },
    {
     "name": "stdout",
     "output_type": "stream",
     "text": [
      "Accuracy: 0.41413809523809525\n"
     ]
    },
    {
     "name": "stderr",
     "output_type": "stream",
     "text": [
      "Angle: 170 - Shape type: 2: 100%|██████████| 500/500 [00:00<00:00, 2834.17it/s]\n"
     ]
    },
    {
     "name": "stdout",
     "output_type": "stream",
     "text": [
      "No matches found.\n"
     ]
    },
    {
     "name": "stderr",
     "output_type": "stream",
     "text": [
      "Angle: 170 - Shape type: 3: 100%|██████████| 500/500 [00:01<00:00, 296.89it/s]\n"
     ]
    },
    {
     "name": "stdout",
     "output_type": "stream",
     "text": [
      "Accuracy: 0.3263390304140304\n"
     ]
    },
    {
     "name": "stderr",
     "output_type": "stream",
     "text": [
      "Angle: 170 - Shape type: 4: 100%|██████████| 500/500 [00:01<00:00, 286.50it/s]\n"
     ]
    },
    {
     "name": "stdout",
     "output_type": "stream",
     "text": [
      "Accuracy: 0.05300469277894748\n"
     ]
    },
    {
     "name": "stderr",
     "output_type": "stream",
     "text": [
      "Angle: 170 - Shape type: 5: 100%|██████████| 500/500 [00:01<00:00, 303.26it/s]\n"
     ]
    },
    {
     "name": "stdout",
     "output_type": "stream",
     "text": [
      "Accuracy: 0.40373333333333333\n"
     ]
    },
    {
     "name": "stderr",
     "output_type": "stream",
     "text": [
      "Angle: 170 - Shape type: 6: 100%|██████████| 500/500 [00:01<00:00, 293.28it/s]\n"
     ]
    },
    {
     "name": "stdout",
     "output_type": "stream",
     "text": [
      "Accuracy: 0.19743333333333335\n"
     ]
    },
    {
     "name": "stderr",
     "output_type": "stream",
     "text": [
      "Angle: 170 - Shape type: 7: 100%|██████████| 500/500 [00:01<00:00, 394.87it/s]\n"
     ]
    },
    {
     "name": "stdout",
     "output_type": "stream",
     "text": [
      "Accuracy: 0.1541840735022553\n"
     ]
    },
    {
     "name": "stderr",
     "output_type": "stream",
     "text": [
      "Angle: 180 - Shape type: 0: 100%|██████████| 500/500 [00:01<00:00, 258.46it/s]\n"
     ]
    },
    {
     "name": "stdout",
     "output_type": "stream",
     "text": [
      "Accuracy: 0.12331750767262363\n"
     ]
    },
    {
     "name": "stderr",
     "output_type": "stream",
     "text": [
      "Angle: 180 - Shape type: 1: 100%|██████████| 500/500 [00:00<00:00, -632.63it/s]\n"
     ]
    },
    {
     "name": "stdout",
     "output_type": "stream",
     "text": [
      "Accuracy: 0.4593809523809524\n"
     ]
    },
    {
     "name": "stderr",
     "output_type": "stream",
     "text": [
      "Angle: 180 - Shape type: 2: 100%|██████████| 500/500 [00:00<00:00, 3058.58it/s]\n"
     ]
    },
    {
     "name": "stdout",
     "output_type": "stream",
     "text": [
      "No matches found.\n"
     ]
    },
    {
     "name": "stderr",
     "output_type": "stream",
     "text": [
      "Angle: 180 - Shape type: 3: 100%|██████████| 500/500 [00:01<00:00, 266.20it/s]\n"
     ]
    },
    {
     "name": "stdout",
     "output_type": "stream",
     "text": [
      "Accuracy: 0.33814101731601726\n"
     ]
    },
    {
     "name": "stderr",
     "output_type": "stream",
     "text": [
      "Angle: 180 - Shape type: 4: 100%|██████████| 500/500 [00:01<00:00, 271.71it/s]\n"
     ]
    },
    {
     "name": "stdout",
     "output_type": "stream",
     "text": [
      "Accuracy: 0.057912470463946805\n"
     ]
    },
    {
     "name": "stderr",
     "output_type": "stream",
     "text": [
      "Angle: 180 - Shape type: 5: 100%|██████████| 500/500 [00:01<00:00, 266.10it/s]\n"
     ]
    },
    {
     "name": "stdout",
     "output_type": "stream",
     "text": [
      "Accuracy: 0.3800333333333333\n"
     ]
    },
    {
     "name": "stderr",
     "output_type": "stream",
     "text": [
      "Angle: 180 - Shape type: 6: 100%|██████████| 500/500 [00:01<00:00, 288.10it/s]\n"
     ]
    },
    {
     "name": "stdout",
     "output_type": "stream",
     "text": [
      "Accuracy: 0.20520000000000002\n"
     ]
    },
    {
     "name": "stderr",
     "output_type": "stream",
     "text": [
      "Angle: 180 - Shape type: 7: 100%|██████████| 500/500 [00:01<00:00, 369.93it/s]\n"
     ]
    },
    {
     "name": "stdout",
     "output_type": "stream",
     "text": [
      "Accuracy: 0.16086677135500663\n"
     ]
    },
    {
     "name": "stderr",
     "output_type": "stream",
     "text": [
      "Angle: 190 - Shape type: 0: 100%|██████████| 500/500 [00:01<00:00, 275.23it/s]\n"
     ]
    },
    {
     "name": "stdout",
     "output_type": "stream",
     "text": [
      "Accuracy: 0.1053446864403438\n"
     ]
    },
    {
     "name": "stderr",
     "output_type": "stream",
     "text": [
      "Angle: 190 - Shape type: 1: 100%|██████████| 500/500 [00:01<00:00, 305.21it/s]\n"
     ]
    },
    {
     "name": "stdout",
     "output_type": "stream",
     "text": [
      "Accuracy: 0.4224142857142857\n"
     ]
    },
    {
     "name": "stderr",
     "output_type": "stream",
     "text": [
      "Angle: 190 - Shape type: 2: 100%|██████████| 500/500 [00:00<00:00, 3304.67it/s]\n"
     ]
    },
    {
     "name": "stdout",
     "output_type": "stream",
     "text": [
      "No matches found.\n"
     ]
    },
    {
     "name": "stderr",
     "output_type": "stream",
     "text": [
      "Angle: 190 - Shape type: 3: 100%|██████████| 500/500 [00:01<00:00, 299.32it/s]\n"
     ]
    },
    {
     "name": "stdout",
     "output_type": "stream",
     "text": [
      "Accuracy: 0.3336923076923077\n"
     ]
    },
    {
     "name": "stderr",
     "output_type": "stream",
     "text": [
      "Angle: 190 - Shape type: 4: 100%|██████████| 500/500 [00:01<00:00, 280.27it/s]\n"
     ]
    },
    {
     "name": "stdout",
     "output_type": "stream",
     "text": [
      "Accuracy: 0.05012554987886375\n"
     ]
    },
    {
     "name": "stderr",
     "output_type": "stream",
     "text": [
      "Angle: 190 - Shape type: 5: 100%|██████████| 500/500 [00:01<00:00, 261.42it/s]\n"
     ]
    },
    {
     "name": "stdout",
     "output_type": "stream",
     "text": [
      "Accuracy: 0.39776666666666666\n"
     ]
    },
    {
     "name": "stderr",
     "output_type": "stream",
     "text": [
      "Angle: 190 - Shape type: 6: 100%|██████████| 500/500 [00:01<00:00, 269.15it/s]\n"
     ]
    },
    {
     "name": "stdout",
     "output_type": "stream",
     "text": [
      "Accuracy: 0.19936666666666666\n"
     ]
    },
    {
     "name": "stderr",
     "output_type": "stream",
     "text": [
      "Angle: 190 - Shape type: 7: 100%|██████████| 500/500 [00:01<00:00, 387.59it/s]\n"
     ]
    },
    {
     "name": "stdout",
     "output_type": "stream",
     "text": [
      "Accuracy: 0.15643447434458205\n"
     ]
    },
    {
     "name": "stderr",
     "output_type": "stream",
     "text": [
      "Angle: 200 - Shape type: 0: 100%|██████████| 500/500 [00:01<00:00, 276.28it/s]\n"
     ]
    },
    {
     "name": "stdout",
     "output_type": "stream",
     "text": [
      "Accuracy: 0.07334435015372402\n"
     ]
    },
    {
     "name": "stderr",
     "output_type": "stream",
     "text": [
      "Angle: 200 - Shape type: 1: 100%|██████████| 500/500 [00:01<00:00, 292.89it/s]\n"
     ]
    },
    {
     "name": "stdout",
     "output_type": "stream",
     "text": [
      "Accuracy: 0.3265619047619048\n"
     ]
    },
    {
     "name": "stderr",
     "output_type": "stream",
     "text": [
      "Angle: 200 - Shape type: 2: 100%|██████████| 500/500 [00:00<00:00, 3227.65it/s]\n"
     ]
    },
    {
     "name": "stdout",
     "output_type": "stream",
     "text": [
      "No matches found.\n"
     ]
    },
    {
     "name": "stderr",
     "output_type": "stream",
     "text": [
      "Angle: 200 - Shape type: 3: 100%|██████████| 500/500 [00:01<00:00, 289.26it/s]\n"
     ]
    },
    {
     "name": "stdout",
     "output_type": "stream",
     "text": [
      "Accuracy: 0.3163069673590716\n"
     ]
    },
    {
     "name": "stderr",
     "output_type": "stream",
     "text": [
      "Angle: 200 - Shape type: 4: 100%|██████████| 500/500 [00:01<00:00, 275.38it/s]\n"
     ]
    },
    {
     "name": "stdout",
     "output_type": "stream",
     "text": [
      "Accuracy: 0.044700766235130925\n"
     ]
    },
    {
     "name": "stderr",
     "output_type": "stream",
     "text": [
      "Angle: 200 - Shape type: 5: 100%|██████████| 500/500 [00:01<00:00, 286.39it/s]\n"
     ]
    },
    {
     "name": "stdout",
     "output_type": "stream",
     "text": [
      "Accuracy: 0.45489999999999997\n"
     ]
    },
    {
     "name": "stderr",
     "output_type": "stream",
     "text": [
      "Angle: 200 - Shape type: 6: 100%|██████████| 500/500 [00:01<00:00, 278.50it/s]\n"
     ]
    },
    {
     "name": "stdout",
     "output_type": "stream",
     "text": [
      "Accuracy: 0.19586666666666666\n"
     ]
    },
    {
     "name": "stderr",
     "output_type": "stream",
     "text": [
      "Angle: 200 - Shape type: 7: 100%|██████████| 500/500 [-1:59:59<00:00, -387.82it/s]\n"
     ]
    },
    {
     "name": "stdout",
     "output_type": "stream",
     "text": [
      "Accuracy: 0.16755393299510946\n"
     ]
    },
    {
     "name": "stderr",
     "output_type": "stream",
     "text": [
      "Angle: 210 - Shape type: 0: 100%|██████████| 500/500 [00:01<00:00, 281.18it/s]\n"
     ]
    },
    {
     "name": "stdout",
     "output_type": "stream",
     "text": [
      "Accuracy: 0.03639267409933846\n"
     ]
    },
    {
     "name": "stderr",
     "output_type": "stream",
     "text": [
      "Angle: 210 - Shape type: 1: 100%|██████████| 500/500 [00:01<00:00, 280.89it/s]\n"
     ]
    },
    {
     "name": "stdout",
     "output_type": "stream",
     "text": [
      "Accuracy: 0.21843809523809524\n"
     ]
    },
    {
     "name": "stderr",
     "output_type": "stream",
     "text": [
      "Angle: 210 - Shape type: 2: 100%|██████████| 500/500 [00:00<00:00, 3114.99it/s]\n"
     ]
    },
    {
     "name": "stdout",
     "output_type": "stream",
     "text": [
      "No matches found.\n"
     ]
    },
    {
     "name": "stderr",
     "output_type": "stream",
     "text": [
      "Angle: 210 - Shape type: 3: 100%|██████████| 500/500 [00:01<00:00, 289.30it/s]\n"
     ]
    },
    {
     "name": "stdout",
     "output_type": "stream",
     "text": [
      "Accuracy: 0.2796405887588252\n"
     ]
    },
    {
     "name": "stderr",
     "output_type": "stream",
     "text": [
      "Angle: 210 - Shape type: 4: 100%|██████████| 500/500 [00:01<00:00, 276.51it/s]\n"
     ]
    },
    {
     "name": "stdout",
     "output_type": "stream",
     "text": [
      "Accuracy: 0.03483242674025308\n"
     ]
    },
    {
     "name": "stderr",
     "output_type": "stream",
     "text": [
      "Angle: 210 - Shape type: 5: 100%|██████████| 500/500 [00:01<00:00, 293.64it/s]\n"
     ]
    },
    {
     "name": "stdout",
     "output_type": "stream",
     "text": [
      "Accuracy: 0.562206572769953\n"
     ]
    },
    {
     "name": "stderr",
     "output_type": "stream",
     "text": [
      "Angle: 210 - Shape type: 6: 100%|██████████| 500/500 [00:01<00:00, 294.47it/s]\n"
     ]
    },
    {
     "name": "stdout",
     "output_type": "stream",
     "text": [
      "Accuracy: 0.19743333333333335\n"
     ]
    },
    {
     "name": "stderr",
     "output_type": "stream",
     "text": [
      "Angle: 210 - Shape type: 7: 100%|██████████| 500/500 [00:01<00:00, 436.15it/s]\n"
     ]
    },
    {
     "name": "stdout",
     "output_type": "stream",
     "text": [
      "Accuracy: 0.1751250130391697\n"
     ]
    },
    {
     "name": "stderr",
     "output_type": "stream",
     "text": [
      "Angle: 220 - Shape type: 0: 100%|██████████| 500/500 [00:01<00:00, 284.16it/s]\n"
     ]
    },
    {
     "name": "stdout",
     "output_type": "stream",
     "text": [
      "Accuracy: 0.014509732389144804\n"
     ]
    },
    {
     "name": "stderr",
     "output_type": "stream",
     "text": [
      "Angle: 220 - Shape type: 1: 100%|██████████| 500/500 [00:01<00:00, 284.61it/s]\n"
     ]
    },
    {
     "name": "stdout",
     "output_type": "stream",
     "text": [
      "Accuracy: 0.2407\n"
     ]
    },
    {
     "name": "stderr",
     "output_type": "stream",
     "text": [
      "Angle: 220 - Shape type: 2: 100%|██████████| 500/500 [00:00<00:00, 3277.55it/s]\n"
     ]
    },
    {
     "name": "stdout",
     "output_type": "stream",
     "text": [
      "No matches found.\n"
     ]
    },
    {
     "name": "stderr",
     "output_type": "stream",
     "text": [
      "Angle: 220 - Shape type: 3: 100%|██████████| 500/500 [00:01<00:00, 290.61it/s]\n"
     ]
    },
    {
     "name": "stdout",
     "output_type": "stream",
     "text": [
      "Accuracy: 0.22648588886063836\n"
     ]
    },
    {
     "name": "stderr",
     "output_type": "stream",
     "text": [
      "Angle: 220 - Shape type: 4: 100%|██████████| 500/500 [00:01<00:00, 277.96it/s]\n"
     ]
    },
    {
     "name": "stdout",
     "output_type": "stream",
     "text": [
      "Accuracy: 0.037801024989114085\n"
     ]
    },
    {
     "name": "stderr",
     "output_type": "stream",
     "text": [
      "Angle: 220 - Shape type: 5: 100%|██████████| 500/500 [00:01<00:00, 304.76it/s]\n"
     ]
    },
    {
     "name": "stdout",
     "output_type": "stream",
     "text": [
      "Accuracy: 0.6415658602150538\n"
     ]
    },
    {
     "name": "stderr",
     "output_type": "stream",
     "text": [
      "Angle: 220 - Shape type: 6: 100%|██████████| 500/500 [00:01<00:00, 302.21it/s]\n"
     ]
    },
    {
     "name": "stdout",
     "output_type": "stream",
     "text": [
      "Accuracy: 0.21183333333333337\n"
     ]
    },
    {
     "name": "stderr",
     "output_type": "stream",
     "text": [
      "Angle: 220 - Shape type: 7: 100%|██████████| 500/500 [00:01<00:00, 429.42it/s]\n"
     ]
    },
    {
     "name": "stdout",
     "output_type": "stream",
     "text": [
      "Accuracy: 0.16497322333188594\n"
     ]
    },
    {
     "name": "stderr",
     "output_type": "stream",
     "text": [
      "Angle: 230 - Shape type: 0: 100%|██████████| 500/500 [00:01<00:00, 279.98it/s]\n"
     ]
    },
    {
     "name": "stdout",
     "output_type": "stream",
     "text": [
      "Accuracy: 0.00782431217372075\n"
     ]
    },
    {
     "name": "stderr",
     "output_type": "stream",
     "text": [
      "Angle: 230 - Shape type: 1: 100%|██████████| 500/500 [00:01<00:00, 293.13it/s]\n"
     ]
    },
    {
     "name": "stdout",
     "output_type": "stream",
     "text": [
      "Accuracy: 0.3697095238095238\n"
     ]
    },
    {
     "name": "stderr",
     "output_type": "stream",
     "text": [
      "Angle: 230 - Shape type: 2: 100%|██████████| 500/500 [00:00<00:00, 3165.65it/s]\n"
     ]
    },
    {
     "name": "stdout",
     "output_type": "stream",
     "text": [
      "No matches found.\n"
     ]
    },
    {
     "name": "stderr",
     "output_type": "stream",
     "text": [
      "Angle: 230 - Shape type: 3: 100%|██████████| 500/500 [00:01<00:00, 294.87it/s]\n"
     ]
    },
    {
     "name": "stdout",
     "output_type": "stream",
     "text": [
      "Accuracy: 0.19282182969557718\n"
     ]
    },
    {
     "name": "stderr",
     "output_type": "stream",
     "text": [
      "Angle: 230 - Shape type: 4: 100%|██████████| 500/500 [00:01<00:00, 276.72it/s]\n"
     ]
    },
    {
     "name": "stdout",
     "output_type": "stream",
     "text": [
      "Accuracy: 0.044921133164584036\n"
     ]
    },
    {
     "name": "stderr",
     "output_type": "stream",
     "text": [
      "Angle: 230 - Shape type: 5: 100%|██████████| 500/500 [00:00<00:00, -603.34it/s]\n"
     ]
    },
    {
     "name": "stdout",
     "output_type": "stream",
     "text": [
      "Accuracy: 0.6858350236646383\n"
     ]
    },
    {
     "name": "stderr",
     "output_type": "stream",
     "text": [
      "Angle: 230 - Shape type: 6: 100%|██████████| 500/500 [00:01<00:00, 300.80it/s]\n"
     ]
    },
    {
     "name": "stdout",
     "output_type": "stream",
     "text": [
      "Accuracy: 0.22093333333333334\n"
     ]
    },
    {
     "name": "stderr",
     "output_type": "stream",
     "text": [
      "Angle: 230 - Shape type: 7: 100%|██████████| 500/500 [00:01<00:00, 437.77it/s]\n"
     ]
    },
    {
     "name": "stdout",
     "output_type": "stream",
     "text": [
      "Accuracy: 0.15607004107004105\n"
     ]
    },
    {
     "name": "stderr",
     "output_type": "stream",
     "text": [
      "Angle: 240 - Shape type: 0: 100%|██████████| 500/500 [00:01<00:00, 285.22it/s]\n"
     ]
    },
    {
     "name": "stdout",
     "output_type": "stream",
     "text": [
      "Accuracy: 0.015594255439677589\n"
     ]
    },
    {
     "name": "stderr",
     "output_type": "stream",
     "text": [
      "Angle: 240 - Shape type: 1: 100%|██████████| 500/500 [00:01<00:00, 301.71it/s]\n"
     ]
    },
    {
     "name": "stdout",
     "output_type": "stream",
     "text": [
      "Accuracy: 0.40697142857142854\n"
     ]
    },
    {
     "name": "stderr",
     "output_type": "stream",
     "text": [
      "Angle: 240 - Shape type: 2: 100%|██████████| 500/500 [00:00<00:00, 3227.07it/s]\n"
     ]
    },
    {
     "name": "stdout",
     "output_type": "stream",
     "text": [
      "No matches found.\n"
     ]
    },
    {
     "name": "stderr",
     "output_type": "stream",
     "text": [
      "Angle: 240 - Shape type: 3: 100%|██████████| 500/500 [00:01<00:00, 294.46it/s]\n"
     ]
    },
    {
     "name": "stdout",
     "output_type": "stream",
     "text": [
      "Accuracy: 0.15665561569176026\n"
     ]
    },
    {
     "name": "stderr",
     "output_type": "stream",
     "text": [
      "Angle: 240 - Shape type: 4: 100%|██████████| 500/500 [00:01<00:00, 286.31it/s]\n"
     ]
    },
    {
     "name": "stdout",
     "output_type": "stream",
     "text": [
      "Accuracy: 0.04559654828677567\n"
     ]
    },
    {
     "name": "stderr",
     "output_type": "stream",
     "text": [
      "Angle: 240 - Shape type: 5: 100%|██████████| 500/500 [00:01<00:00, 285.74it/s]\n"
     ]
    },
    {
     "name": "stdout",
     "output_type": "stream",
     "text": [
      "Accuracy: 0.698340108401084\n"
     ]
    },
    {
     "name": "stderr",
     "output_type": "stream",
     "text": [
      "Angle: 240 - Shape type: 6: 100%|██████████| 500/500 [00:01<00:00, 285.47it/s]\n"
     ]
    },
    {
     "name": "stdout",
     "output_type": "stream",
     "text": [
      "Accuracy: 0.22056666666666666\n"
     ]
    },
    {
     "name": "stderr",
     "output_type": "stream",
     "text": [
      "Angle: 240 - Shape type: 7: 100%|██████████| 500/500 [00:01<00:00, 409.61it/s]\n"
     ]
    },
    {
     "name": "stdout",
     "output_type": "stream",
     "text": [
      "Accuracy: 0.1632366171839856\n"
     ]
    },
    {
     "name": "stderr",
     "output_type": "stream",
     "text": [
      "Angle: 250 - Shape type: 0: 100%|██████████| 500/500 [00:01<00:00, 279.32it/s]\n"
     ]
    },
    {
     "name": "stdout",
     "output_type": "stream",
     "text": [
      "Accuracy: 0.03780724006360421\n"
     ]
    },
    {
     "name": "stderr",
     "output_type": "stream",
     "text": [
      "Angle: 250 - Shape type: 1: 100%|██████████| 500/500 [00:01<00:00, 279.23it/s]\n"
     ]
    },
    {
     "name": "stdout",
     "output_type": "stream",
     "text": [
      "Accuracy: 0.37885238095238094\n"
     ]
    },
    {
     "name": "stderr",
     "output_type": "stream",
     "text": [
      "Angle: 250 - Shape type: 2: 100%|██████████| 500/500 [00:00<00:00, 3234.49it/s]\n"
     ]
    },
    {
     "name": "stdout",
     "output_type": "stream",
     "text": [
      "No matches found.\n"
     ]
    },
    {
     "name": "stderr",
     "output_type": "stream",
     "text": [
      "Angle: 250 - Shape type: 3: 100%|██████████| 500/500 [00:01<00:00, 291.24it/s]\n"
     ]
    },
    {
     "name": "stdout",
     "output_type": "stream",
     "text": [
      "Accuracy: 0.16756464528094303\n"
     ]
    },
    {
     "name": "stderr",
     "output_type": "stream",
     "text": [
      "Angle: 250 - Shape type: 4: 100%|██████████| 500/500 [00:01<00:00, 281.38it/s]\n"
     ]
    },
    {
     "name": "stdout",
     "output_type": "stream",
     "text": [
      "Accuracy: 0.04999131130143992\n"
     ]
    },
    {
     "name": "stderr",
     "output_type": "stream",
     "text": [
      "Angle: 250 - Shape type: 5: 100%|██████████| 500/500 [00:01<00:00, 292.05it/s]\n"
     ]
    },
    {
     "name": "stdout",
     "output_type": "stream",
     "text": [
      "Accuracy: 0.7213075880758807\n"
     ]
    },
    {
     "name": "stderr",
     "output_type": "stream",
     "text": [
      "Angle: 250 - Shape type: 6: 100%|██████████| 500/500 [00:01<00:00, 301.24it/s]\n"
     ]
    },
    {
     "name": "stdout",
     "output_type": "stream",
     "text": [
      "Accuracy: 0.22746666666666665\n"
     ]
    },
    {
     "name": "stderr",
     "output_type": "stream",
     "text": [
      "Angle: 250 - Shape type: 7: 100%|██████████| 500/500 [00:01<00:00, 418.38it/s]\n"
     ]
    },
    {
     "name": "stdout",
     "output_type": "stream",
     "text": [
      "Accuracy: 0.16443032015065911\n"
     ]
    },
    {
     "name": "stderr",
     "output_type": "stream",
     "text": [
      "Angle: 260 - Shape type: 0: 100%|██████████| 500/500 [00:01<00:00, 288.54it/s]\n"
     ]
    },
    {
     "name": "stdout",
     "output_type": "stream",
     "text": [
      "Accuracy: 0.044694865849799\n"
     ]
    },
    {
     "name": "stderr",
     "output_type": "stream",
     "text": [
      "Angle: 260 - Shape type: 1: 100%|██████████| 500/500 [00:01<00:00, 277.40it/s]\n"
     ]
    },
    {
     "name": "stdout",
     "output_type": "stream",
     "text": [
      "Accuracy: 0.3087809523809524\n"
     ]
    },
    {
     "name": "stderr",
     "output_type": "stream",
     "text": [
      "Angle: 260 - Shape type: 2: 100%|██████████| 500/500 [00:00<00:00, 3196.45it/s]\n"
     ]
    },
    {
     "name": "stdout",
     "output_type": "stream",
     "text": [
      "No matches found.\n"
     ]
    },
    {
     "name": "stderr",
     "output_type": "stream",
     "text": [
      "Angle: 260 - Shape type: 3: 100%|██████████| 500/500 [00:00<00:00, -667.57it/s]\n"
     ]
    },
    {
     "name": "stdout",
     "output_type": "stream",
     "text": [
      "Accuracy: 0.17093894815222782\n"
     ]
    },
    {
     "name": "stderr",
     "output_type": "stream",
     "text": [
      "Angle: 260 - Shape type: 4: 100%|██████████| 500/500 [00:01<00:00, 288.94it/s]\n"
     ]
    },
    {
     "name": "stdout",
     "output_type": "stream",
     "text": [
      "Accuracy: 0.0517026322606886\n"
     ]
    },
    {
     "name": "stderr",
     "output_type": "stream",
     "text": [
      "Angle: 260 - Shape type: 5: 100%|██████████| 500/500 [00:01<00:00, 296.79it/s]\n"
     ]
    },
    {
     "name": "stdout",
     "output_type": "stream",
     "text": [
      "Accuracy: 0.7116734143049931\n"
     ]
    },
    {
     "name": "stderr",
     "output_type": "stream",
     "text": [
      "Angle: 260 - Shape type: 6: 100%|██████████| 500/500 [00:01<00:00, 291.58it/s]\n"
     ]
    },
    {
     "name": "stdout",
     "output_type": "stream",
     "text": [
      "Accuracy: 0.22176666666666664\n"
     ]
    },
    {
     "name": "stderr",
     "output_type": "stream",
     "text": [
      "Angle: 260 - Shape type: 7: 100%|██████████| 500/500 [00:01<00:00, 422.17it/s]\n"
     ]
    },
    {
     "name": "stdout",
     "output_type": "stream",
     "text": [
      "Accuracy: 0.1901687818354485\n"
     ]
    },
    {
     "name": "stderr",
     "output_type": "stream",
     "text": [
      "Angle: 270 - Shape type: 0: 100%|██████████| 500/500 [00:01<00:00, 289.71it/s]\n"
     ]
    },
    {
     "name": "stdout",
     "output_type": "stream",
     "text": [
      "Accuracy: 0.04922493922985179\n"
     ]
    },
    {
     "name": "stderr",
     "output_type": "stream",
     "text": [
      "Angle: 270 - Shape type: 1: 100%|██████████| 500/500 [00:01<00:00, 296.14it/s]\n"
     ]
    },
    {
     "name": "stdout",
     "output_type": "stream",
     "text": [
      "Accuracy: 0.2687952380952381\n"
     ]
    },
    {
     "name": "stderr",
     "output_type": "stream",
     "text": [
      "Angle: 270 - Shape type: 2: 100%|██████████| 500/500 [00:00<00:00, 3264.29it/s]\n"
     ]
    },
    {
     "name": "stdout",
     "output_type": "stream",
     "text": [
      "No matches found.\n"
     ]
    },
    {
     "name": "stderr",
     "output_type": "stream",
     "text": [
      "Angle: 270 - Shape type: 3: 100%|██████████| 500/500 [00:01<00:00, 293.12it/s]\n"
     ]
    },
    {
     "name": "stdout",
     "output_type": "stream",
     "text": [
      "Accuracy: 0.1839832635013358\n"
     ]
    },
    {
     "name": "stderr",
     "output_type": "stream",
     "text": [
      "Angle: 270 - Shape type: 4: 100%|██████████| 500/500 [00:01<00:00, 285.48it/s]\n"
     ]
    },
    {
     "name": "stdout",
     "output_type": "stream",
     "text": [
      "Accuracy: 0.049804026590821095\n"
     ]
    },
    {
     "name": "stderr",
     "output_type": "stream",
     "text": [
      "Angle: 270 - Shape type: 5: 100%|██████████| 500/500 [00:01<00:00, 289.92it/s]\n"
     ]
    },
    {
     "name": "stdout",
     "output_type": "stream",
     "text": [
      "Accuracy: 0.6803822937625754\n"
     ]
    },
    {
     "name": "stderr",
     "output_type": "stream",
     "text": [
      "Angle: 270 - Shape type: 6: 100%|██████████| 500/500 [00:01<00:00, 290.48it/s]\n"
     ]
    },
    {
     "name": "stdout",
     "output_type": "stream",
     "text": [
      "Accuracy: 0.22783333333333336\n"
     ]
    },
    {
     "name": "stderr",
     "output_type": "stream",
     "text": [
      "Angle: 270 - Shape type: 7: 100%|██████████| 500/500 [00:01<00:00, 427.17it/s]\n"
     ]
    },
    {
     "name": "stdout",
     "output_type": "stream",
     "text": [
      "Accuracy: 0.20364987080103358\n"
     ]
    },
    {
     "name": "stderr",
     "output_type": "stream",
     "text": [
      "Angle: 280 - Shape type: 0: 100%|██████████| 500/500 [00:01<00:00, 288.43it/s]\n"
     ]
    },
    {
     "name": "stdout",
     "output_type": "stream",
     "text": [
      "Accuracy: 0.046500599531016124\n"
     ]
    },
    {
     "name": "stderr",
     "output_type": "stream",
     "text": [
      "Angle: 280 - Shape type: 1: 100%|██████████| 500/500 [00:01<00:00, 286.89it/s]\n"
     ]
    },
    {
     "name": "stdout",
     "output_type": "stream",
     "text": [
      "Accuracy: 0.2680666666666667\n"
     ]
    },
    {
     "name": "stderr",
     "output_type": "stream",
     "text": [
      "Angle: 280 - Shape type: 2: 100%|██████████| 500/500 [00:00<00:00, 3315.83it/s]\n"
     ]
    },
    {
     "name": "stdout",
     "output_type": "stream",
     "text": [
      "No matches found.\n"
     ]
    },
    {
     "name": "stderr",
     "output_type": "stream",
     "text": [
      "Angle: 280 - Shape type: 3: 100%|██████████| 500/500 [00:01<00:00, 290.77it/s]\n"
     ]
    },
    {
     "name": "stdout",
     "output_type": "stream",
     "text": [
      "Accuracy: 0.16695261429730365\n"
     ]
    },
    {
     "name": "stderr",
     "output_type": "stream",
     "text": [
      "Angle: 280 - Shape type: 4: 100%|██████████| 500/500 [00:01<00:00, 289.44it/s]\n"
     ]
    },
    {
     "name": "stdout",
     "output_type": "stream",
     "text": [
      "Accuracy: 0.04800956939084454\n"
     ]
    },
    {
     "name": "stderr",
     "output_type": "stream",
     "text": [
      "Angle: 280 - Shape type: 5: 100%|██████████| 500/500 [00:01<00:00, 298.05it/s]\n"
     ]
    },
    {
     "name": "stdout",
     "output_type": "stream",
     "text": [
      "Accuracy: 0.6025354969574037\n"
     ]
    },
    {
     "name": "stderr",
     "output_type": "stream",
     "text": [
      "Angle: 280 - Shape type: 6: 100%|██████████| 500/500 [00:01<00:00, 297.08it/s]\n"
     ]
    },
    {
     "name": "stdout",
     "output_type": "stream",
     "text": [
      "Accuracy: 0.21500000000000002\n"
     ]
    },
    {
     "name": "stderr",
     "output_type": "stream",
     "text": [
      "Angle: 280 - Shape type: 7: 100%|██████████| 500/500 [00:01<00:00, 414.97it/s]\n"
     ]
    },
    {
     "name": "stdout",
     "output_type": "stream",
     "text": [
      "Accuracy: 0.19895116355293346\n"
     ]
    },
    {
     "name": "stderr",
     "output_type": "stream",
     "text": [
      "Angle: 290 - Shape type: 0: 100%|██████████| 500/500 [00:01<00:00, 286.84it/s]\n"
     ]
    },
    {
     "name": "stdout",
     "output_type": "stream",
     "text": [
      "Accuracy: 0.03355744406977247\n"
     ]
    },
    {
     "name": "stderr",
     "output_type": "stream",
     "text": [
      "Angle: 290 - Shape type: 1: 100%|██████████| 500/500 [00:00<00:00, -622.55it/s]\n"
     ]
    },
    {
     "name": "stdout",
     "output_type": "stream",
     "text": [
      "Accuracy: 0.28688571428571424\n"
     ]
    },
    {
     "name": "stderr",
     "output_type": "stream",
     "text": [
      "Angle: 290 - Shape type: 2: 100%|██████████| 500/500 [00:00<00:00, 3276.88it/s]\n"
     ]
    },
    {
     "name": "stdout",
     "output_type": "stream",
     "text": [
      "No matches found.\n"
     ]
    },
    {
     "name": "stderr",
     "output_type": "stream",
     "text": [
      "Angle: 290 - Shape type: 3: 100%|██████████| 500/500 [00:01<00:00, 303.12it/s]\n"
     ]
    },
    {
     "name": "stdout",
     "output_type": "stream",
     "text": [
      "Accuracy: 0.14048804123954423\n"
     ]
    },
    {
     "name": "stderr",
     "output_type": "stream",
     "text": [
      "Angle: 290 - Shape type: 4: 100%|██████████| 500/500 [00:01<00:00, 283.98it/s]\n"
     ]
    },
    {
     "name": "stdout",
     "output_type": "stream",
     "text": [
      "Accuracy: 0.045710080808146224\n"
     ]
    },
    {
     "name": "stderr",
     "output_type": "stream",
     "text": [
      "Angle: 290 - Shape type: 5: 100%|██████████| 500/500 [00:01<00:00, 299.93it/s]\n"
     ]
    },
    {
     "name": "stdout",
     "output_type": "stream",
     "text": [
      "Accuracy: 0.45232793522267206\n"
     ]
    },
    {
     "name": "stderr",
     "output_type": "stream",
     "text": [
      "Angle: 290 - Shape type: 6: 100%|██████████| 500/500 [00:01<00:00, 300.10it/s]\n"
     ]
    },
    {
     "name": "stdout",
     "output_type": "stream",
     "text": [
      "Accuracy: 0.182\n"
     ]
    },
    {
     "name": "stderr",
     "output_type": "stream",
     "text": [
      "Angle: 290 - Shape type: 7: 100%|██████████| 500/500 [00:01<00:00, 442.49it/s]\n"
     ]
    },
    {
     "name": "stdout",
     "output_type": "stream",
     "text": [
      "Accuracy: 0.16376300772071162\n"
     ]
    },
    {
     "name": "stderr",
     "output_type": "stream",
     "text": [
      "Angle: 300 - Shape type: 0: 100%|██████████| 500/500 [00:01<00:00, 288.57it/s]\n"
     ]
    },
    {
     "name": "stdout",
     "output_type": "stream",
     "text": [
      "Accuracy: 0.014530634931895759\n"
     ]
    },
    {
     "name": "stderr",
     "output_type": "stream",
     "text": [
      "Angle: 300 - Shape type: 1: 100%|██████████| 500/500 [00:01<00:00, 299.41it/s]\n"
     ]
    },
    {
     "name": "stdout",
     "output_type": "stream",
     "text": [
      "Accuracy: 0.30158095238095234\n"
     ]
    },
    {
     "name": "stderr",
     "output_type": "stream",
     "text": [
      "Angle: 300 - Shape type: 2: 100%|██████████| 500/500 [00:00<00:00, 3055.54it/s]\n"
     ]
    },
    {
     "name": "stdout",
     "output_type": "stream",
     "text": [
      "No matches found.\n"
     ]
    },
    {
     "name": "stderr",
     "output_type": "stream",
     "text": [
      "Angle: 300 - Shape type: 3: 100%|██████████| 500/500 [00:01<00:00, 276.28it/s]\n"
     ]
    },
    {
     "name": "stdout",
     "output_type": "stream",
     "text": [
      "Accuracy: 0.1425180597180597\n"
     ]
    },
    {
     "name": "stderr",
     "output_type": "stream",
     "text": [
      "Angle: 300 - Shape type: 4: 100%|██████████| 500/500 [00:01<00:00, 288.32it/s]\n"
     ]
    },
    {
     "name": "stdout",
     "output_type": "stream",
     "text": [
      "Accuracy: 0.037153855725135326\n"
     ]
    },
    {
     "name": "stderr",
     "output_type": "stream",
     "text": [
      "Angle: 300 - Shape type: 5: 100%|██████████| 500/500 [00:01<00:00, 293.79it/s]\n"
     ]
    },
    {
     "name": "stdout",
     "output_type": "stream",
     "text": [
      "Accuracy: 0.2618563685636856\n"
     ]
    },
    {
     "name": "stderr",
     "output_type": "stream",
     "text": [
      "Angle: 300 - Shape type: 6: 100%|██████████| 500/500 [00:01<00:00, 295.33it/s]\n"
     ]
    },
    {
     "name": "stdout",
     "output_type": "stream",
     "text": [
      "Accuracy: 0.13686666666666666\n"
     ]
    },
    {
     "name": "stderr",
     "output_type": "stream",
     "text": [
      "Angle: 300 - Shape type: 7: 100%|██████████| 500/500 [00:01<00:00, 442.07it/s]\n"
     ]
    },
    {
     "name": "stdout",
     "output_type": "stream",
     "text": [
      "Accuracy: 0.16289833701974277\n"
     ]
    },
    {
     "name": "stderr",
     "output_type": "stream",
     "text": [
      "Angle: 310 - Shape type: 0: 100%|██████████| 500/500 [00:01<00:00, 288.92it/s]\n"
     ]
    },
    {
     "name": "stdout",
     "output_type": "stream",
     "text": [
      "Accuracy: 0.011137371343723047\n"
     ]
    },
    {
     "name": "stderr",
     "output_type": "stream",
     "text": [
      "Angle: 310 - Shape type: 1: 100%|██████████| 500/500 [00:01<00:00, 302.77it/s]\n"
     ]
    },
    {
     "name": "stdout",
     "output_type": "stream",
     "text": [
      "Accuracy: 0.22126666666666664\n"
     ]
    },
    {
     "name": "stderr",
     "output_type": "stream",
     "text": [
      "Angle: 310 - Shape type: 2: 100%|██████████| 500/500 [00:00<00:00, 3348.64it/s]\n"
     ]
    },
    {
     "name": "stdout",
     "output_type": "stream",
     "text": [
      "No matches found.\n"
     ]
    },
    {
     "name": "stderr",
     "output_type": "stream",
     "text": [
      "Angle: 310 - Shape type: 3: 100%|██████████| 500/500 [00:01<00:00, 304.25it/s]\n"
     ]
    },
    {
     "name": "stdout",
     "output_type": "stream",
     "text": [
      "Accuracy: 0.21761776967187785\n"
     ]
    },
    {
     "name": "stderr",
     "output_type": "stream",
     "text": [
      "Angle: 310 - Shape type: 4: 100%|██████████| 500/500 [00:01<00:00, 291.65it/s]\n"
     ]
    },
    {
     "name": "stdout",
     "output_type": "stream",
     "text": [
      "Accuracy: 0.03136312052517583\n"
     ]
    },
    {
     "name": "stderr",
     "output_type": "stream",
     "text": [
      "Angle: 310 - Shape type: 5: 100%|██████████| 500/500 [00:01<00:00, 303.58it/s]\n"
     ]
    },
    {
     "name": "stdout",
     "output_type": "stream",
     "text": [
      "Accuracy: 0.29966261808367073\n"
     ]
    },
    {
     "name": "stderr",
     "output_type": "stream",
     "text": [
      "Angle: 310 - Shape type: 6: 100%|██████████| 500/500 [00:01<00:00, 299.64it/s]\n"
     ]
    },
    {
     "name": "stdout",
     "output_type": "stream",
     "text": [
      "Accuracy: 0.15239999999999998\n"
     ]
    },
    {
     "name": "stderr",
     "output_type": "stream",
     "text": [
      "Angle: 310 - Shape type: 7: 100%|██████████| 500/500 [00:01<00:00, 473.48it/s]\n"
     ]
    },
    {
     "name": "stdout",
     "output_type": "stream",
     "text": [
      "Accuracy: 0.16557017543859648\n"
     ]
    },
    {
     "name": "stderr",
     "output_type": "stream",
     "text": [
      "Angle: 320 - Shape type: 0: 100%|██████████| 500/500 [00:00<00:00, -602.03it/s]\n"
     ]
    },
    {
     "name": "stdout",
     "output_type": "stream",
     "text": [
      "Accuracy: 0.07024265686624624\n"
     ]
    },
    {
     "name": "stderr",
     "output_type": "stream",
     "text": [
      "Angle: 320 - Shape type: 1: 100%|██████████| 500/500 [00:01<00:00, 301.12it/s]\n"
     ]
    },
    {
     "name": "stdout",
     "output_type": "stream",
     "text": [
      "Accuracy: 0.2876380952380952\n"
     ]
    },
    {
     "name": "stderr",
     "output_type": "stream",
     "text": [
      "Angle: 320 - Shape type: 2: 100%|██████████| 500/500 [00:00<00:00, 3282.36it/s]\n"
     ]
    },
    {
     "name": "stdout",
     "output_type": "stream",
     "text": [
      "No matches found.\n"
     ]
    },
    {
     "name": "stderr",
     "output_type": "stream",
     "text": [
      "Angle: 320 - Shape type: 3: 100%|██████████| 500/500 [00:01<00:00, 300.79it/s]\n"
     ]
    },
    {
     "name": "stdout",
     "output_type": "stream",
     "text": [
      "Accuracy: 0.40423363654826583\n"
     ]
    },
    {
     "name": "stderr",
     "output_type": "stream",
     "text": [
      "Angle: 320 - Shape type: 4: 100%|██████████| 500/500 [00:01<00:00, 289.71it/s]\n"
     ]
    },
    {
     "name": "stdout",
     "output_type": "stream",
     "text": [
      "Accuracy: 0.10700975828342459\n"
     ]
    },
    {
     "name": "stderr",
     "output_type": "stream",
     "text": [
      "Angle: 320 - Shape type: 5: 100%|██████████| 500/500 [00:01<00:00, 301.30it/s]\n"
     ]
    },
    {
     "name": "stdout",
     "output_type": "stream",
     "text": [
      "Accuracy: 0.670748987854251\n"
     ]
    },
    {
     "name": "stderr",
     "output_type": "stream",
     "text": [
      "Angle: 320 - Shape type: 6: 100%|██████████| 500/500 [00:01<00:00, 298.49it/s]\n"
     ]
    },
    {
     "name": "stdout",
     "output_type": "stream",
     "text": [
      "Accuracy: 0.4771333333333333\n"
     ]
    },
    {
     "name": "stderr",
     "output_type": "stream",
     "text": [
      "Angle: 320 - Shape type: 7: 100%|██████████| 500/500 [00:01<00:00, 470.39it/s]\n"
     ]
    },
    {
     "name": "stdout",
     "output_type": "stream",
     "text": [
      "Accuracy: 0.22537810337810338\n"
     ]
    },
    {
     "name": "stderr",
     "output_type": "stream",
     "text": [
      "Angle: 330 - Shape type: 0: 100%|██████████| 500/500 [00:01<00:00, 288.99it/s]\n"
     ]
    },
    {
     "name": "stdout",
     "output_type": "stream",
     "text": [
      "Accuracy: 0.2705320870509546\n"
     ]
    },
    {
     "name": "stderr",
     "output_type": "stream",
     "text": [
      "Angle: 330 - Shape type: 1: 100%|██████████| 500/500 [00:01<00:00, 294.51it/s]\n"
     ]
    },
    {
     "name": "stdout",
     "output_type": "stream",
     "text": [
      "Accuracy: 0.6795523809523809\n"
     ]
    },
    {
     "name": "stderr",
     "output_type": "stream",
     "text": [
      "Angle: 330 - Shape type: 2: 100%|██████████| 500/500 [00:00<00:00, 3287.63it/s]\n"
     ]
    },
    {
     "name": "stdout",
     "output_type": "stream",
     "text": [
      "No matches found.\n"
     ]
    },
    {
     "name": "stderr",
     "output_type": "stream",
     "text": [
      "Angle: 330 - Shape type: 3: 100%|██████████| 500/500 [00:01<00:00, 293.38it/s]\n"
     ]
    },
    {
     "name": "stdout",
     "output_type": "stream",
     "text": [
      "Accuracy: 0.6377793771581347\n"
     ]
    },
    {
     "name": "stderr",
     "output_type": "stream",
     "text": [
      "Angle: 330 - Shape type: 4: 100%|██████████| 500/500 [00:01<00:00, 283.93it/s]\n"
     ]
    },
    {
     "name": "stdout",
     "output_type": "stream",
     "text": [
      "Accuracy: 0.43119290528588794\n"
     ]
    },
    {
     "name": "stderr",
     "output_type": "stream",
     "text": [
      "Angle: 330 - Shape type: 5: 100%|██████████| 500/500 [00:01<00:00, 305.45it/s]\n"
     ]
    },
    {
     "name": "stdout",
     "output_type": "stream",
     "text": [
      "Accuracy: 0.8921864520456069\n"
     ]
    },
    {
     "name": "stderr",
     "output_type": "stream",
     "text": [
      "Angle: 330 - Shape type: 6: 100%|██████████| 500/500 [00:01<00:00, 299.18it/s]\n"
     ]
    },
    {
     "name": "stdout",
     "output_type": "stream",
     "text": [
      "Accuracy: 0.8074\n"
     ]
    },
    {
     "name": "stderr",
     "output_type": "stream",
     "text": [
      "Angle: 330 - Shape type: 7: 100%|██████████| 500/500 [00:01<00:00, 455.10it/s]\n"
     ]
    },
    {
     "name": "stdout",
     "output_type": "stream",
     "text": [
      "Accuracy: 0.3913957489538885\n"
     ]
    },
    {
     "name": "stderr",
     "output_type": "stream",
     "text": [
      "Angle: 340 - Shape type: 0: 100%|██████████| 500/500 [00:01<00:00, 288.54it/s]\n"
     ]
    },
    {
     "name": "stdout",
     "output_type": "stream",
     "text": [
      "Accuracy: 0.6680253832922345\n"
     ]
    },
    {
     "name": "stderr",
     "output_type": "stream",
     "text": [
      "Angle: 340 - Shape type: 1: 100%|██████████| 500/500 [00:01<00:00, 295.51it/s]\n"
     ]
    },
    {
     "name": "stdout",
     "output_type": "stream",
     "text": [
      "Accuracy: 0.9602619047619048\n"
     ]
    },
    {
     "name": "stderr",
     "output_type": "stream",
     "text": [
      "Angle: 340 - Shape type: 2: 100%|██████████| 500/500 [00:00<00:00, 3348.53it/s]\n"
     ]
    },
    {
     "name": "stdout",
     "output_type": "stream",
     "text": [
      "No matches found.\n"
     ]
    },
    {
     "name": "stderr",
     "output_type": "stream",
     "text": [
      "Angle: 340 - Shape type: 3: 100%|██████████| 500/500 [00:01<00:00, 299.71it/s]\n"
     ]
    },
    {
     "name": "stdout",
     "output_type": "stream",
     "text": [
      "Accuracy: 0.8661695024950948\n"
     ]
    },
    {
     "name": "stderr",
     "output_type": "stream",
     "text": [
      "Angle: 340 - Shape type: 4: 100%|██████████| 500/500 [00:01<00:00, 292.21it/s]\n"
     ]
    },
    {
     "name": "stdout",
     "output_type": "stream",
     "text": [
      "Accuracy: 0.839367831031324\n"
     ]
    },
    {
     "name": "stderr",
     "output_type": "stream",
     "text": [
      "Angle: 340 - Shape type: 5: 100%|██████████| 500/500 [00:01<00:00, 295.87it/s]\n"
     ]
    },
    {
     "name": "stdout",
     "output_type": "stream",
     "text": [
      "Accuracy: 0.9694\n"
     ]
    },
    {
     "name": "stderr",
     "output_type": "stream",
     "text": [
      "Angle: 340 - Shape type: 6: 100%|██████████| 500/500 [00:01<00:00, 299.89it/s]\n"
     ]
    },
    {
     "name": "stdout",
     "output_type": "stream",
     "text": [
      "Accuracy: 0.9627\n"
     ]
    },
    {
     "name": "stderr",
     "output_type": "stream",
     "text": [
      "Angle: 340 - Shape type: 7: 100%|██████████| 500/500 [-1:59:59<00:00, -347.11it/s]\n"
     ]
    },
    {
     "name": "stdout",
     "output_type": "stream",
     "text": [
      "Accuracy: 0.6837931216571993\n"
     ]
    },
    {
     "name": "stderr",
     "output_type": "stream",
     "text": [
      "Angle: 350 - Shape type: 0: 100%|██████████| 500/500 [00:01<00:00, 295.62it/s]\n"
     ]
    },
    {
     "name": "stdout",
     "output_type": "stream",
     "text": [
      "Accuracy: 0.8392718783604843\n"
     ]
    },
    {
     "name": "stderr",
     "output_type": "stream",
     "text": [
      "Angle: 350 - Shape type: 1: 100%|██████████| 500/500 [00:01<00:00, 295.08it/s]\n"
     ]
    },
    {
     "name": "stdout",
     "output_type": "stream",
     "text": [
      "Accuracy: 0.9982619047619048\n"
     ]
    },
    {
     "name": "stderr",
     "output_type": "stream",
     "text": [
      "Angle: 350 - Shape type: 2: 100%|██████████| 500/500 [00:00<00:00, 3344.19it/s]\n"
     ]
    },
    {
     "name": "stdout",
     "output_type": "stream",
     "text": [
      "No matches found.\n"
     ]
    },
    {
     "name": "stderr",
     "output_type": "stream",
     "text": [
      "Angle: 350 - Shape type: 3: 100%|██████████| 500/500 [00:01<00:00, 306.91it/s]\n"
     ]
    },
    {
     "name": "stdout",
     "output_type": "stream",
     "text": [
      "Accuracy: 0.9443771767448238\n"
     ]
    },
    {
     "name": "stderr",
     "output_type": "stream",
     "text": [
      "Angle: 350 - Shape type: 4: 100%|██████████| 500/500 [00:01<00:00, 289.26it/s]\n"
     ]
    },
    {
     "name": "stdout",
     "output_type": "stream",
     "text": [
      "Accuracy: 0.9504352591726831\n"
     ]
    },
    {
     "name": "stderr",
     "output_type": "stream",
     "text": [
      "Angle: 350 - Shape type: 5: 100%|██████████| 500/500 [00:01<00:00, 298.34it/s]\n"
     ]
    },
    {
     "name": "stdout",
     "output_type": "stream",
     "text": [
      "Accuracy: 0.9841666666666667\n"
     ]
    },
    {
     "name": "stderr",
     "output_type": "stream",
     "text": [
      "Angle: 350 - Shape type: 6: 100%|██████████| 500/500 [00:01<00:00, 291.88it/s]\n"
     ]
    },
    {
     "name": "stdout",
     "output_type": "stream",
     "text": [
      "Accuracy: 0.9933\n"
     ]
    },
    {
     "name": "stderr",
     "output_type": "stream",
     "text": [
      "Angle: 350 - Shape type: 7: 100%|██████████| 500/500 [00:01<00:00, 446.55it/s]"
     ]
    },
    {
     "name": "stdout",
     "output_type": "stream",
     "text": [
      "Accuracy: 0.8316574755211119\n"
     ]
    },
    {
     "name": "stderr",
     "output_type": "stream",
     "text": [
      "\n"
     ]
    }
   ],
   "source": [
    "from services.keypoint_matching.superpoint import SuperPointFrontend\n",
    "\n",
    "fe = SuperPointFrontend(\n",
    "    weights_path=\"./services/keypoint_matching/superpoint_v1.pth\",\n",
    "    nms_dist=4,\n",
    "    conf_thresh=0.015,\n",
    "    nn_thresh=0.7,\n",
    "    cuda=True,\n",
    ")\n",
    "bf_sift = cv2.BFMatcher(cv2.NORM_L2)\n",
    "accuracy_matches_superpoint = []\n",
    "\n",
    "for angle in range(0, 360, 10):\n",
    "    accuracy_matches_superpoint.append([])\n",
    "\n",
    "    for type in range(8):\n",
    "        accuracy_matches_superpoint[-1].append([])\n",
    "\n",
    "        for i in tqdm(range(500), f\"Angle: {angle} - Shape type: {type}\"):\n",
    "            image, ground_truth = read_image(type, str(i))\n",
    "            gray_scale = cv2.cvtColor(image, cv2.COLOR_BGR2GRAY)\n",
    "            gray_scale = gray_scale.astype(np.float32) / 255.0\n",
    "            descriptor = cache_superpoint_descriptors[type][i]\n",
    "\n",
    "            if descriptor is None:\n",
    "                continue\n",
    "\n",
    "            # Rotate the image and the keypoints.\n",
    "            rotated_image = rotate_image(gray_scale, angle)\n",
    "            rotated_keypoints, idx = rotate_keypoints(\n",
    "                (image.shape[1], image.shape[0]), ground_truth, angle\n",
    "            )\n",
    "\n",
    "            # Compute the descriptors of the rotated image.\n",
    "            rotated_descriptor = fe.compute(rotated_image, rotated_keypoints)[1]\n",
    "            if rotated_descriptor is not None:\n",
    "                assert len(rotated_descriptor) == len(rotated_keypoints)\n",
    "            else:\n",
    "                assert len(rotated_keypoints) == 0\n",
    "                continue\n",
    "\n",
    "            # Get the original keypoints and descriptors.\n",
    "            original_descriptor = np.array(descriptor)[idx]\n",
    "\n",
    "            # Match the descriptors of the original and rotated images.\n",
    "            if len(rotated_descriptor) == 1:\n",
    "                accuracy_matches_superpoint[-1][-1].append(1)\n",
    "            else:\n",
    "                matches = bf_sift.knnMatch(rotated_descriptor, original_descriptor, k=2)\n",
    "                matches = [m for m, n in matches if m.distance < 0.75 * n.distance]\n",
    "                accuracy_matches_superpoint[-1][-1].append(\n",
    "                    len(matches) / len(original_descriptor)\n",
    "                )\n",
    "\n",
    "        if len(accuracy_matches_superpoint[-1][-1]) > 0:\n",
    "            print(f\"Accuracy: {np.mean(accuracy_matches_superpoint[-1][-1])}\")\n",
    "        else:\n",
    "            print(\"No matches found.\")"
   ]
  },
  {
   "cell_type": "code",
   "execution_count": 20,
   "metadata": {},
   "outputs": [
    {
     "name": "stdout",
     "output_type": "stream",
     "text": [
      "Angle: 0\n",
      "Accuracy: 1.0\n",
      "Angle: 10\n",
      "Accuracy: 0.9381710854929227\n",
      "Angle: 20\n",
      "Accuracy: 0.860586843094134\n",
      "Angle: 30\n",
      "Accuracy: 0.6125228412631787\n",
      "Angle: 40\n",
      "Accuracy: 0.30216296504376255\n",
      "Angle: 50\n",
      "Accuracy: 0.15222644640539418\n",
      "Angle: 60\n",
      "Accuracy: 0.1529840832611402\n",
      "Angle: 70\n",
      "Accuracy: 0.18952787302448829\n",
      "Angle: 80\n",
      "Accuracy: 0.21669352478558548\n",
      "Angle: 90\n",
      "Accuracy: 0.23723531440093487\n",
      "Angle: 100\n",
      "Accuracy: 0.24997934283450984\n",
      "Angle: 110\n",
      "Accuracy: 0.2508251794470871\n",
      "Angle: 120\n",
      "Accuracy: 0.2494037773060901\n",
      "Angle: 130\n",
      "Accuracy: 0.24317749145956744\n",
      "Angle: 140\n",
      "Accuracy: 0.22427176489388356\n",
      "Angle: 150\n",
      "Accuracy: 0.21478265445147277\n",
      "Angle: 160\n",
      "Accuracy: 0.22736999955835926\n",
      "Angle: 170\n",
      "Accuracy: 0.2399486580515641\n",
      "Angle: 180\n",
      "Accuracy: 0.249575608841945\n",
      "Angle: 190\n",
      "Accuracy: 0.2413977108560041\n",
      "Angle: 200\n",
      "Accuracy: 0.22835949620821414\n",
      "Angle: 210\n",
      "Accuracy: 0.2165405917944215\n",
      "Angle: 220\n",
      "Accuracy: 0.22200101114323462\n",
      "Angle: 230\n",
      "Accuracy: 0.24308610008382125\n",
      "Angle: 240\n",
      "Accuracy: 0.2466354149180754\n",
      "Angle: 250\n",
      "Accuracy: 0.2522973660973202\n",
      "Angle: 260\n",
      "Accuracy: 0.2443881283368102\n",
      "Angle: 270\n",
      "Accuracy: 0.23889128164236087\n",
      "Angle: 280\n",
      "Accuracy: 0.2211324577523454\n",
      "Angle: 290\n",
      "Accuracy: 0.18707452097349717\n",
      "Angle: 300\n",
      "Accuracy: 0.1501196966813518\n",
      "Angle: 310\n",
      "Accuracy: 0.15621519957558888\n",
      "Angle: 320\n",
      "Accuracy: 0.32544425676026884\n",
      "Angle: 330\n",
      "Accuracy: 0.5986707257956652\n",
      "Angle: 340\n",
      "Accuracy: 0.8595490374485667\n",
      "Angle: 350\n",
      "Accuracy: 0.9397457687012758\n"
     ]
    }
   ],
   "source": [
    "for i in range(36):\n",
    "    print(f\"Angle: {i * 10}\")\n",
    "    flatten = []\n",
    "    for j in range(8):\n",
    "        flatten += accuracy_matches_superpoint[i][j]\n",
    "    print(f\"Accuracy: {np.mean(flatten)}\")"
   ]
  },
  {
   "cell_type": "markdown",
   "metadata": {},
   "source": [
    "# 6. Convert result to Numpy array\n"
   ]
  },
  {
   "cell_type": "code",
   "execution_count": 21,
   "metadata": {},
   "outputs": [],
   "source": [
    "# results_sift = []\n",
    "# results_orb = []\n",
    "results_superpoint = []\n",
    "\n",
    "for i in range(36):\n",
    "    # flatten = []\n",
    "    # for j in range(8):\n",
    "    #     flatten += accuracy_matches_sift[i][j]\n",
    "    # results_sift.append(np.mean(flatten))\n",
    "\n",
    "    # flatten = []\n",
    "    # for j in range(8):\n",
    "    #     flatten += accuracy_matches_orb[i][j]\n",
    "    # results_orb.append(np.mean(flatten))\n",
    "\n",
    "    flatten = []\n",
    "    for j in range(8):\n",
    "        flatten += accuracy_matches_superpoint[i][j]\n",
    "    results_superpoint.append(np.mean(flatten))\n",
    "\n",
    "# np.save(\"./services/keypoint_matching/results_sift.npy\", results_sift)\n",
    "# np.save(\"./services/keypoint_matching/results_orb.npy\", results_orb)\n",
    "np.save(\"./services/keypoint_matching/results_superpoint.npy\", results_superpoint)"
   ]
  }
 ],
 "metadata": {
  "kernelspec": {
   "display_name": "opencv_streamlit",
   "language": "python",
   "name": "python3"
  },
  "language_info": {
   "codemirror_mode": {
    "name": "ipython",
    "version": 3
   },
   "file_extension": ".py",
   "mimetype": "text/x-python",
   "name": "python",
   "nbconvert_exporter": "python",
   "pygments_lexer": "ipython3",
   "version": "3.12.5"
  }
 },
 "nbformat": 4,
 "nbformat_minor": 2
}
