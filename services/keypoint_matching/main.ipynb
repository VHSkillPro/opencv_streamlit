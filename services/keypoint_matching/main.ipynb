{
 "cells": [
  {
   "cell_type": "code",
   "execution_count": 39,
   "metadata": {},
   "outputs": [
    {
     "name": "stdout",
     "output_type": "stream",
     "text": [
      "The autoreload extension is already loaded. To reload it, use:\n",
      "  %reload_ext autoreload\n"
     ]
    }
   ],
   "source": [
    "%load_ext autoreload\n",
    "%autoreload 2"
   ]
  },
  {
   "cell_type": "code",
   "execution_count": 2,
   "metadata": {},
   "outputs": [
    {
     "name": "stdout",
     "output_type": "stream",
     "text": [
      "/home/hazzu/Code/opencv_streamlit\n"
     ]
    }
   ],
   "source": [
    "%cd \"../..\""
   ]
  },
  {
   "cell_type": "code",
   "execution_count": 86,
   "metadata": {},
   "outputs": [
    {
     "name": "stderr",
     "output_type": "stream",
     "text": [
      "Cache data of type 0:   0%|          | 0/500 [00:00<?, ?it/s]"
     ]
    },
    {
     "name": "stderr",
     "output_type": "stream",
     "text": [
      "Cache data of type 0: 100%|██████████| 500/500 [00:00<00:00, 1058.26it/s]\n",
      "Cache data of type 1: 100%|██████████| 500/500 [00:00<00:00, 1178.37it/s]\n",
      "Cache data of type 2: 100%|██████████| 500/500 [00:00<00:00, 638.41it/s]\n",
      "Cache data of type 3: 100%|██████████| 500/500 [00:00<00:00, 672.68it/s]\n",
      "Cache data of type 4: 100%|██████████| 500/500 [00:00<00:00, 611.17it/s]\n",
      "Cache data of type 5: 100%|██████████| 500/500 [00:00<00:00, 607.50it/s]\n",
      "Cache data of type 6: 100%|██████████| 500/500 [00:00<00:00, 591.87it/s]\n",
      "Cache data of type 7: 100%|██████████| 500/500 [00:00<00:00, 654.64it/s]\n"
     ]
    }
   ],
   "source": [
    "import cv2, os\n",
    "import numpy as np\n",
    "from tqdm import tqdm\n",
    "from services.semantic_keypoint_detection.services import DATATYPES\n",
    "\n",
    "orb = cv2.ORB_create(edgeThreshold=0, fastThreshold=0)\n",
    "sift = cv2.SIFT_create()\n",
    "\n",
    "cache_orb_descriptors = []\n",
    "cache_sift_descriptors = []\n",
    "\n",
    "for i in range(8):\n",
    "    cache_orb_descriptors.append([])\n",
    "    cache_sift_descriptors.append([])\n",
    "\n",
    "    for j in tqdm(range(500), f\"Cache data of type {i}\"):\n",
    "        image = cv2.imread(os.path.join(DATATYPES[i], \"images\", f\"{j}.png\"))\n",
    "        gray_scale = cv2.cvtColor(image, cv2.COLOR_BGR2GRAY)\n",
    "\n",
    "        ground_truth = np.load(os.path.join(DATATYPES[i], \"points\", f\"{j}.npy\"))\n",
    "        ground_truth = [cv2.KeyPoint(y, x, 1) for x, y in ground_truth]\n",
    "\n",
    "        orb_descriptors = orb.compute(gray_scale, ground_truth)[1]\n",
    "        sift_descriptors = sift.compute(gray_scale, ground_truth)[1]\n",
    "\n",
    "        cache_orb_descriptors[i].append(orb_descriptors)\n",
    "        cache_sift_descriptors[i].append(sift_descriptors)"
   ]
  },
  {
   "cell_type": "code",
   "execution_count": 99,
   "metadata": {},
   "outputs": [
    {
     "name": "stderr",
     "output_type": "stream",
     "text": [
      "Caculate similarity of type 0 with alpha 0:   0%|          | 0/500 [00:00<?, ?it/s]"
     ]
    },
    {
     "name": "stderr",
     "output_type": "stream",
     "text": [
      "Caculate similarity of type 0 with alpha 0: 100%|██████████| 500/500 [00:05<00:00, 91.24it/s]\n",
      "Caculate similarity of type 1 with alpha 0: 100%|██████████| 500/500 [00:02<00:00, 246.64it/s]\n",
      "Caculate similarity of type 2 with alpha 0: 100%|██████████| 500/500 [00:00<00:00, 2240.62it/s]\n",
      "Caculate similarity of type 3 with alpha 0: 100%|██████████| 500/500 [00:02<00:00, 232.76it/s]\n",
      "Caculate similarity of type 4 with alpha 0: 100%|██████████| 500/500 [00:06<00:00, 77.88it/s]\n",
      "Caculate similarity of type 5 with alpha 0: 100%|██████████| 500/500 [00:01<00:00, 364.44it/s]\n",
      "Caculate similarity of type 6 with alpha 0: 100%|██████████| 500/500 [00:01<00:00, 277.53it/s]\n",
      "Caculate similarity of type 7 with alpha 0: 100%|██████████| 500/500 [00:01<00:00, 388.86it/s]\n"
     ]
    },
    {
     "name": "stdout",
     "output_type": "stream",
     "text": [
      "Alpha: 0, ORB: 0.9998736895288619, SIFT: 0.999873697757721\n"
     ]
    },
    {
     "name": "stderr",
     "output_type": "stream",
     "text": [
      "Caculate similarity of type 0 with alpha 10: 100%|██████████| 500/500 [00:27<00:00, 18.33it/s]\n",
      "Caculate similarity of type 1 with alpha 10: 100%|██████████| 500/500 [-1:59:40<00:00, -24.95it/s]\n",
      "Caculate similarity of type 2 with alpha 10: 100%|██████████| 500/500 [00:00<00:00, 2224.47it/s]\n",
      "Caculate similarity of type 3 with alpha 10: 100%|██████████| 500/500 [00:02<00:00, 244.75it/s]\n",
      "Caculate similarity of type 4 with alpha 10: 100%|██████████| 500/500 [00:06<00:00, 78.41it/s]\n",
      "Caculate similarity of type 5 with alpha 10: 100%|██████████| 500/500 [00:01<00:00, 366.00it/s]\n",
      "Caculate similarity of type 6 with alpha 10: 100%|██████████| 500/500 [00:01<00:00, 281.74it/s]\n",
      "Caculate similarity of type 7 with alpha 10: 100%|██████████| 500/500 [00:23<00:00, 21.51it/s] \n"
     ]
    },
    {
     "name": "stdout",
     "output_type": "stream",
     "text": [
      "Alpha: 10, ORB: 0.9117091660386952, SIFT: 0.8884617686271667\n"
     ]
    },
    {
     "name": "stderr",
     "output_type": "stream",
     "text": [
      "Caculate similarity of type 0 with alpha 20: 100%|██████████| 500/500 [00:05<00:00, 97.93it/s]\n",
      "Caculate similarity of type 1 with alpha 20: 100%|██████████| 500/500 [-1:59:40<00:00, -24.92it/s]\n",
      "Caculate similarity of type 2 with alpha 20: 100%|██████████| 500/500 [00:00<00:00, 2185.78it/s]\n",
      "Caculate similarity of type 3 with alpha 20: 100%|██████████| 500/500 [00:01<00:00, 254.00it/s]\n",
      "Caculate similarity of type 4 with alpha 20: 100%|██████████| 500/500 [00:06<00:00, 78.66it/s]\n",
      "Caculate similarity of type 5 with alpha 20: 100%|██████████| 500/500 [00:01<00:00, 356.50it/s]\n",
      "Caculate similarity of type 6 with alpha 20: 100%|██████████| 500/500 [00:01<00:00, 281.35it/s]\n",
      "Caculate similarity of type 7 with alpha 20: 100%|██████████| 500/500 [00:01<00:00, 446.52it/s]\n"
     ]
    },
    {
     "name": "stdout",
     "output_type": "stream",
     "text": [
      "Alpha: 20, ORB: 0.8594678051761758, SIFT: 0.7584408521652222\n"
     ]
    },
    {
     "name": "stderr",
     "output_type": "stream",
     "text": [
      "Caculate similarity of type 0 with alpha 30: 100%|██████████| 500/500 [00:27<00:00, 18.42it/s]\n",
      "Caculate similarity of type 1 with alpha 30: 100%|██████████| 500/500 [-1:59:41<00:00, -25.06it/s]\n",
      "Caculate similarity of type 2 with alpha 30: 100%|██████████| 500/500 [00:00<00:00, 2069.57it/s]\n",
      "Caculate similarity of type 3 with alpha 30: 100%|██████████| 500/500 [00:02<00:00, 249.10it/s]\n",
      "Caculate similarity of type 4 with alpha 30: 100%|██████████| 500/500 [00:06<00:00, 80.67it/s]\n",
      "Caculate similarity of type 5 with alpha 30: 100%|██████████| 500/500 [00:01<00:00, 362.58it/s]\n",
      "Caculate similarity of type 6 with alpha 30: 100%|██████████| 500/500 [00:01<00:00, 285.39it/s]\n",
      "Caculate similarity of type 7 with alpha 30: 100%|██████████| 500/500 [00:01<00:00, 465.14it/s]\n"
     ]
    },
    {
     "name": "stdout",
     "output_type": "stream",
     "text": [
      "Alpha: 30, ORB: 0.8172283693171841, SIFT: 0.6036996245384216\n"
     ]
    },
    {
     "name": "stderr",
     "output_type": "stream",
     "text": [
      "Caculate similarity of type 0 with alpha 40: 100%|██████████| 500/500 [00:04<00:00, 102.57it/s]\n",
      "Caculate similarity of type 1 with alpha 40: 100%|██████████| 500/500 [00:02<00:00, 249.98it/s]\n",
      "Caculate similarity of type 2 with alpha 40: 100%|██████████| 500/500 [00:00<00:00, 2223.38it/s]\n",
      "Caculate similarity of type 3 with alpha 40: 100%|██████████| 500/500 [00:01<00:00, 271.29it/s]\n",
      "Caculate similarity of type 4 with alpha 40: 100%|██████████| 500/500 [00:06<00:00, 82.72it/s]\n",
      "Caculate similarity of type 5 with alpha 40: 100%|██████████| 500/500 [00:01<00:00, 335.04it/s]\n",
      "Caculate similarity of type 6 with alpha 40: 100%|██████████| 500/500 [00:01<00:00, 278.41it/s]\n",
      "Caculate similarity of type 7 with alpha 40: 100%|██████████| 500/500 [00:01<00:00, 460.06it/s]\n"
     ]
    },
    {
     "name": "stdout",
     "output_type": "stream",
     "text": [
      "Alpha: 40, ORB: 0.7840118166739231, SIFT: 0.45435136556625366\n"
     ]
    },
    {
     "name": "stderr",
     "output_type": "stream",
     "text": [
      "Caculate similarity of type 0 with alpha 50: 100%|██████████| 500/500 [00:05<00:00, 98.87it/s]\n",
      "Caculate similarity of type 1 with alpha 50: 100%|██████████| 500/500 [00:02<00:00, 237.53it/s]\n",
      "Caculate similarity of type 2 with alpha 50: 100%|██████████| 500/500 [00:00<00:00, 2157.67it/s]\n",
      "Caculate similarity of type 3 with alpha 50: 100%|██████████| 500/500 [00:01<00:00, 270.54it/s]\n",
      "Caculate similarity of type 4 with alpha 50: 100%|██████████| 500/500 [00:05<00:00, 83.74it/s]\n",
      "Caculate similarity of type 5 with alpha 50: 100%|██████████| 500/500 [00:01<00:00, 372.27it/s]\n",
      "Caculate similarity of type 6 with alpha 50: 100%|██████████| 500/500 [00:01<00:00, 284.59it/s]\n",
      "Caculate similarity of type 7 with alpha 50: 100%|██████████| 500/500 [00:01<00:00, 471.93it/s]\n"
     ]
    },
    {
     "name": "stdout",
     "output_type": "stream",
     "text": [
      "Alpha: 50, ORB: 0.7568371917716534, SIFT: 0.3327408730983734\n"
     ]
    },
    {
     "name": "stderr",
     "output_type": "stream",
     "text": [
      "Caculate similarity of type 0 with alpha 60: 100%|██████████| 500/500 [00:05<00:00, 98.20it/s]\n",
      "Caculate similarity of type 1 with alpha 60: 100%|██████████| 500/500 [00:02<00:00, 246.25it/s]\n",
      "Caculate similarity of type 2 with alpha 60: 100%|██████████| 500/500 [00:00<00:00, 2145.51it/s]\n",
      "Caculate similarity of type 3 with alpha 60: 100%|██████████| 500/500 [00:01<00:00, 266.52it/s]\n",
      "Caculate similarity of type 4 with alpha 60: 100%|██████████| 500/500 [00:06<00:00, 83.02it/s]\n",
      "Caculate similarity of type 5 with alpha 60: 100%|██████████| 500/500 [00:01<00:00, 329.77it/s]\n",
      "Caculate similarity of type 6 with alpha 60: 100%|██████████| 500/500 [00:01<00:00, 257.32it/s]\n",
      "Caculate similarity of type 7 with alpha 60: 100%|██████████| 500/500 [00:01<00:00, 394.85it/s]\n"
     ]
    },
    {
     "name": "stdout",
     "output_type": "stream",
     "text": [
      "Alpha: 60, ORB: 0.7353517538581374, SIFT: 0.2453789860010147\n"
     ]
    },
    {
     "name": "stderr",
     "output_type": "stream",
     "text": [
      "Caculate similarity of type 0 with alpha 70: 100%|██████████| 500/500 [00:05<00:00, 97.13it/s]\n",
      "Caculate similarity of type 1 with alpha 70: 100%|██████████| 500/500 [00:01<00:00, 250.09it/s]\n",
      "Caculate similarity of type 2 with alpha 70: 100%|██████████| 500/500 [00:00<00:00, 2245.71it/s]\n",
      "Caculate similarity of type 3 with alpha 70: 100%|██████████| 500/500 [00:01<00:00, 263.99it/s]\n",
      "Caculate similarity of type 4 with alpha 70: 100%|██████████| 500/500 [00:06<00:00, 82.72it/s]\n",
      "Caculate similarity of type 5 with alpha 70: 100%|██████████| 500/500 [00:23<00:00, 21.32it/s] \n",
      "Caculate similarity of type 6 with alpha 70: 100%|██████████| 500/500 [-1:59:40<00:00, -24.56it/s]\n",
      "Caculate similarity of type 7 with alpha 70: 100%|██████████| 500/500 [00:01<00:00, 441.08it/s]\n"
     ]
    },
    {
     "name": "stdout",
     "output_type": "stream",
     "text": [
      "Alpha: 70, ORB: 0.7214674663684099, SIFT: 0.18779198825359344\n"
     ]
    },
    {
     "name": "stderr",
     "output_type": "stream",
     "text": [
      "Caculate similarity of type 0 with alpha 80: 100%|██████████| 500/500 [00:04<00:00, 106.31it/s]\n",
      "Caculate similarity of type 1 with alpha 80: 100%|██████████| 500/500 [00:02<00:00, 244.18it/s]\n",
      "Caculate similarity of type 2 with alpha 80: 100%|██████████| 500/500 [00:22<00:00, 22.39it/s]  \n",
      "Caculate similarity of type 3 with alpha 80: 100%|██████████| 500/500 [-1:59:40<00:00, -24.64it/s]\n",
      "Caculate similarity of type 4 with alpha 80: 100%|██████████| 500/500 [00:05<00:00, 86.41it/s]\n",
      "Caculate similarity of type 5 with alpha 80: 100%|██████████| 500/500 [00:01<00:00, 367.98it/s]\n",
      "Caculate similarity of type 6 with alpha 80: 100%|██████████| 500/500 [00:01<00:00, 293.85it/s]\n",
      "Caculate similarity of type 7 with alpha 80: 100%|██████████| 500/500 [00:01<00:00, 397.19it/s]\n"
     ]
    },
    {
     "name": "stdout",
     "output_type": "stream",
     "text": [
      "Alpha: 80, ORB: 0.7113273280514301, SIFT: 0.1524467170238495\n"
     ]
    },
    {
     "name": "stderr",
     "output_type": "stream",
     "text": [
      "Caculate similarity of type 0 with alpha 90: 100%|██████████| 500/500 [00:05<00:00, 85.88it/s]\n",
      "Caculate similarity of type 1 with alpha 90: 100%|██████████| 500/500 [00:02<00:00, 193.55it/s]\n",
      "Caculate similarity of type 2 with alpha 90: 100%|██████████| 500/500 [00:00<00:00, 1751.69it/s]\n",
      "Caculate similarity of type 3 with alpha 90: 100%|██████████| 500/500 [00:02<00:00, 236.83it/s]\n",
      "Caculate similarity of type 4 with alpha 90: 100%|██████████| 500/500 [00:06<00:00, 76.97it/s]\n",
      "Caculate similarity of type 5 with alpha 90: 100%|██████████| 500/500 [00:01<00:00, 338.47it/s]\n",
      "Caculate similarity of type 6 with alpha 90: 100%|██████████| 500/500 [00:01<00:00, 279.81it/s]\n",
      "Caculate similarity of type 7 with alpha 90: 100%|██████████| 500/500 [00:01<00:00, 452.50it/s]\n"
     ]
    },
    {
     "name": "stdout",
     "output_type": "stream",
     "text": [
      "Alpha: 90, ORB: 0.7031521393729875, SIFT: 0.1291361004114151\n"
     ]
    },
    {
     "name": "stderr",
     "output_type": "stream",
     "text": [
      "Caculate similarity of type 0 with alpha 100: 100%|██████████| 500/500 [00:04<00:00, 105.65it/s]\n",
      "Caculate similarity of type 1 with alpha 100: 100%|██████████| 500/500 [00:02<00:00, 248.96it/s]\n",
      "Caculate similarity of type 2 with alpha 100: 100%|██████████| 500/500 [00:00<00:00, 2147.93it/s]\n",
      "Caculate similarity of type 3 with alpha 100: 100%|██████████| 500/500 [00:01<00:00, 273.05it/s]\n",
      "Caculate similarity of type 4 with alpha 100: 100%|██████████| 500/500 [00:05<00:00, 84.72it/s]\n",
      "Caculate similarity of type 5 with alpha 100: 100%|██████████| 500/500 [00:01<00:00, 373.25it/s]\n",
      "Caculate similarity of type 6 with alpha 100: 100%|██████████| 500/500 [00:01<00:00, 288.34it/s]\n",
      "Caculate similarity of type 7 with alpha 100: 100%|██████████| 500/500 [00:01<00:00, 457.39it/s]\n"
     ]
    },
    {
     "name": "stdout",
     "output_type": "stream",
     "text": [
      "Alpha: 100, ORB: 0.7028082275232432, SIFT: 0.11721224337816238\n"
     ]
    },
    {
     "name": "stderr",
     "output_type": "stream",
     "text": [
      "Caculate similarity of type 0 with alpha 110: 100%|██████████| 500/500 [00:04<00:00, 104.26it/s]\n",
      "Caculate similarity of type 1 with alpha 110: 100%|██████████| 500/500 [00:01<00:00, 250.36it/s]\n",
      "Caculate similarity of type 2 with alpha 110: 100%|██████████| 500/500 [00:00<00:00, 2085.30it/s]\n",
      "Caculate similarity of type 3 with alpha 110: 100%|██████████| 500/500 [00:01<00:00, 274.84it/s]\n",
      "Caculate similarity of type 4 with alpha 110: 100%|██████████| 500/500 [00:05<00:00, 84.15it/s]\n",
      "Caculate similarity of type 5 with alpha 110: 100%|██████████| 500/500 [00:01<00:00, 347.62it/s]\n",
      "Caculate similarity of type 6 with alpha 110: 100%|██████████| 500/500 [00:01<00:00, 283.42it/s]\n",
      "Caculate similarity of type 7 with alpha 110: 100%|██████████| 500/500 [00:01<00:00, 409.52it/s]\n"
     ]
    },
    {
     "name": "stdout",
     "output_type": "stream",
     "text": [
      "Alpha: 110, ORB: 0.702118798247964, SIFT: 0.1082560196518898\n"
     ]
    },
    {
     "name": "stderr",
     "output_type": "stream",
     "text": [
      "Caculate similarity of type 0 with alpha 120: 100%|██████████| 500/500 [00:06<00:00, 83.30it/s]\n",
      "Caculate similarity of type 1 with alpha 120: 100%|██████████| 500/500 [00:24<00:00, 20.35it/s] \n",
      "Caculate similarity of type 2 with alpha 120: 100%|██████████| 500/500 [-1:59:39<00:00, -22.97it/s]\n",
      "Caculate similarity of type 3 with alpha 120: 100%|██████████| 500/500 [00:02<00:00, 219.77it/s]\n",
      "Caculate similarity of type 4 with alpha 120: 100%|██████████| 500/500 [00:06<00:00, 81.73it/s]\n",
      "Caculate similarity of type 5 with alpha 120: 100%|██████████| 500/500 [00:23<00:00, 21.34it/s] \n",
      "Caculate similarity of type 6 with alpha 120: 100%|██████████| 500/500 [-1:59:40<00:00, -24.58it/s]\n",
      "Caculate similarity of type 7 with alpha 120: 100%|██████████| 500/500 [00:01<00:00, 432.50it/s]\n"
     ]
    },
    {
     "name": "stdout",
     "output_type": "stream",
     "text": [
      "Alpha: 120, ORB: 0.7024968590715165, SIFT: 0.10314025729894638\n"
     ]
    },
    {
     "name": "stderr",
     "output_type": "stream",
     "text": [
      "Caculate similarity of type 0 with alpha 130: 100%|██████████| 500/500 [00:05<00:00, 99.24it/s] \n",
      "Caculate similarity of type 1 with alpha 130: 100%|██████████| 500/500 [00:24<00:00, 20.74it/s] \n",
      "Caculate similarity of type 2 with alpha 130: 100%|██████████| 500/500 [-1:59:39<00:00, -22.87it/s]\n",
      "Caculate similarity of type 3 with alpha 130: 100%|██████████| 500/500 [00:01<00:00, 259.38it/s]\n",
      "Caculate similarity of type 4 with alpha 130: 100%|██████████| 500/500 [00:06<00:00, 80.23it/s]\n",
      "Caculate similarity of type 5 with alpha 130: 100%|██████████| 500/500 [00:23<00:00, 21.19it/s] \n",
      "Caculate similarity of type 6 with alpha 130: 100%|██████████| 500/500 [-1:59:40<00:00, -24.68it/s]\n",
      "Caculate similarity of type 7 with alpha 130: 100%|██████████| 500/500 [00:01<00:00, 455.95it/s]\n"
     ]
    },
    {
     "name": "stdout",
     "output_type": "stream",
     "text": [
      "Alpha: 130, ORB: 0.702827490836461, SIFT: 0.1001565083861351\n"
     ]
    },
    {
     "name": "stderr",
     "output_type": "stream",
     "text": [
      "Caculate similarity of type 0 with alpha 140: 100%|██████████| 500/500 [00:05<00:00, 99.57it/s]\n",
      "Caculate similarity of type 1 with alpha 140: 100%|██████████| 500/500 [00:24<00:00, 20.65it/s] \n",
      "Caculate similarity of type 2 with alpha 140: 100%|██████████| 500/500 [-1:59:39<00:00, -22.91it/s]\n",
      "Caculate similarity of type 3 with alpha 140: 100%|██████████| 500/500 [00:02<00:00, 248.84it/s]\n",
      "Caculate similarity of type 4 with alpha 140: 100%|██████████| 500/500 [00:06<00:00, 79.07it/s]\n",
      "Caculate similarity of type 5 with alpha 140: 100%|██████████| 500/500 [00:01<00:00, 322.40it/s]\n",
      "Caculate similarity of type 6 with alpha 140: 100%|██████████| 500/500 [00:01<00:00, 260.73it/s]\n",
      "Caculate similarity of type 7 with alpha 140: 100%|██████████| 500/500 [00:01<00:00, 485.38it/s]\n"
     ]
    },
    {
     "name": "stdout",
     "output_type": "stream",
     "text": [
      "Alpha: 140, ORB: 0.7035955373272328, SIFT: 0.10052990168333054\n"
     ]
    },
    {
     "name": "stderr",
     "output_type": "stream",
     "text": [
      "Caculate similarity of type 0 with alpha 150: 100%|██████████| 500/500 [00:05<00:00, 98.19it/s]\n",
      "Caculate similarity of type 1 with alpha 150: 100%|██████████| 500/500 [00:02<00:00, 232.58it/s]\n",
      "Caculate similarity of type 2 with alpha 150: 100%|██████████| 500/500 [00:00<00:00, 2164.77it/s]\n",
      "Caculate similarity of type 3 with alpha 150: 100%|██████████| 500/500 [00:02<00:00, 244.58it/s]\n",
      "Caculate similarity of type 4 with alpha 150: 100%|██████████| 500/500 [00:06<00:00, 77.91it/s]\n",
      "Caculate similarity of type 5 with alpha 150: 100%|██████████| 500/500 [00:01<00:00, 342.01it/s]\n",
      "Caculate similarity of type 6 with alpha 150: 100%|██████████| 500/500 [00:01<00:00, 261.66it/s]\n",
      "Caculate similarity of type 7 with alpha 150: 100%|██████████| 500/500 [00:01<00:00, 489.38it/s]\n"
     ]
    },
    {
     "name": "stdout",
     "output_type": "stream",
     "text": [
      "Alpha: 150, ORB: 0.705348169563331, SIFT: 0.10196266323328018\n"
     ]
    },
    {
     "name": "stderr",
     "output_type": "stream",
     "text": [
      "Caculate similarity of type 0 with alpha 160: 100%|██████████| 500/500 [00:05<00:00, 95.18it/s]\n",
      "Caculate similarity of type 1 with alpha 160: 100%|██████████| 500/500 [00:02<00:00, 225.61it/s]\n",
      "Caculate similarity of type 2 with alpha 160: 100%|██████████| 500/500 [00:00<00:00, 2140.67it/s]\n",
      "Caculate similarity of type 3 with alpha 160: 100%|██████████| 500/500 [00:02<00:00, 226.78it/s]\n",
      "Caculate similarity of type 4 with alpha 160: 100%|██████████| 500/500 [00:06<00:00, 75.87it/s]\n",
      "Caculate similarity of type 5 with alpha 160: 100%|██████████| 500/500 [00:01<00:00, 355.57it/s]\n",
      "Caculate similarity of type 6 with alpha 160: 100%|██████████| 500/500 [00:01<00:00, 272.12it/s]\n",
      "Caculate similarity of type 7 with alpha 160: 100%|██████████| 500/500 [00:01<00:00, 464.67it/s]\n"
     ]
    },
    {
     "name": "stdout",
     "output_type": "stream",
     "text": [
      "Alpha: 160, ORB: 0.7069912095463454, SIFT: 0.10329004377126694\n"
     ]
    },
    {
     "name": "stderr",
     "output_type": "stream",
     "text": [
      "Caculate similarity of type 0 with alpha 170: 100%|██████████| 500/500 [00:05<00:00, 94.34it/s]\n",
      "Caculate similarity of type 1 with alpha 170: 100%|██████████| 500/500 [00:02<00:00, 239.30it/s]\n",
      "Caculate similarity of type 2 with alpha 170: 100%|██████████| 500/500 [00:00<00:00, 1642.25it/s]\n",
      "Caculate similarity of type 3 with alpha 170: 100%|██████████| 500/500 [00:02<00:00, 203.05it/s]\n",
      "Caculate similarity of type 4 with alpha 170: 100%|██████████| 500/500 [00:06<00:00, 74.07it/s]\n",
      "Caculate similarity of type 5 with alpha 170: 100%|██████████| 500/500 [00:01<00:00, 312.56it/s]\n",
      "Caculate similarity of type 6 with alpha 170: 100%|██████████| 500/500 [00:02<00:00, 240.72it/s]\n",
      "Caculate similarity of type 7 with alpha 170: 100%|██████████| 500/500 [00:01<00:00, 391.56it/s]\n"
     ]
    },
    {
     "name": "stdout",
     "output_type": "stream",
     "text": [
      "Alpha: 170, ORB: 0.7085547154762899, SIFT: 0.10452201217412949\n"
     ]
    },
    {
     "name": "stderr",
     "output_type": "stream",
     "text": [
      "Caculate similarity of type 0 with alpha 180: 100%|██████████| 500/500 [00:06<00:00, 76.60it/s]\n",
      "Caculate similarity of type 1 with alpha 180: 100%|██████████| 500/500 [00:02<00:00, 215.24it/s]\n",
      "Caculate similarity of type 2 with alpha 180: 100%|██████████| 500/500 [00:00<00:00, 1961.75it/s]\n",
      "Caculate similarity of type 3 with alpha 180: 100%|██████████| 500/500 [00:02<00:00, 204.61it/s]\n",
      "Caculate similarity of type 4 with alpha 180: 100%|██████████| 500/500 [00:07<00:00, 70.22it/s]\n",
      "Caculate similarity of type 5 with alpha 180: 100%|██████████| 500/500 [00:01<00:00, 337.09it/s]\n",
      "Caculate similarity of type 6 with alpha 180: 100%|██████████| 500/500 [00:01<00:00, 274.72it/s]\n",
      "Caculate similarity of type 7 with alpha 180: 100%|██████████| 500/500 [00:01<00:00, 378.26it/s]\n"
     ]
    },
    {
     "name": "stdout",
     "output_type": "stream",
     "text": [
      "Alpha: 180, ORB: 0.7093780879907438, SIFT: 0.10223539173603058\n"
     ]
    },
    {
     "name": "stderr",
     "output_type": "stream",
     "text": [
      "Caculate similarity of type 0 with alpha 190: 100%|██████████| 500/500 [00:27<00:00, 17.97it/s]\n",
      "Caculate similarity of type 1 with alpha 190: 100%|██████████| 500/500 [-1:59:41<00:00, -25.16it/s]\n",
      "Caculate similarity of type 2 with alpha 190: 100%|██████████| 500/500 [00:00<00:00, 1873.87it/s]\n",
      "Caculate similarity of type 3 with alpha 190: 100%|██████████| 500/500 [00:24<00:00, 20.42it/s] \n",
      "Caculate similarity of type 4 with alpha 190: 100%|██████████| 500/500 [-1:59:45<00:00, -32.35it/s]\n",
      "Caculate similarity of type 5 with alpha 190: 100%|██████████| 500/500 [00:01<00:00, 346.17it/s]\n",
      "Caculate similarity of type 6 with alpha 190: 100%|██████████| 500/500 [00:01<00:00, 276.77it/s]\n",
      "Caculate similarity of type 7 with alpha 190: 100%|██████████| 500/500 [00:01<00:00, 409.02it/s]\n"
     ]
    },
    {
     "name": "stdout",
     "output_type": "stream",
     "text": [
      "Alpha: 190, ORB: 0.7105861858324677, SIFT: 0.10349670797586441\n"
     ]
    },
    {
     "name": "stderr",
     "output_type": "stream",
     "text": [
      "Caculate similarity of type 0 with alpha 200: 100%|██████████| 500/500 [00:05<00:00, 94.92it/s] \n",
      "Caculate similarity of type 1 with alpha 200: 100%|██████████| 500/500 [00:02<00:00, 228.19it/s]\n",
      "Caculate similarity of type 2 with alpha 200: 100%|██████████| 500/500 [00:00<00:00, 1245.76it/s]\n",
      "Caculate similarity of type 3 with alpha 200: 100%|██████████| 500/500 [00:02<00:00, 230.47it/s]\n",
      "Caculate similarity of type 4 with alpha 200: 100%|██████████| 500/500 [00:06<00:00, 71.74it/s]\n",
      "Caculate similarity of type 5 with alpha 200: 100%|██████████| 500/500 [00:01<00:00, 339.46it/s]\n",
      "Caculate similarity of type 6 with alpha 200: 100%|██████████| 500/500 [00:01<00:00, 256.85it/s]\n",
      "Caculate similarity of type 7 with alpha 200: 100%|██████████| 500/500 [00:01<00:00, 392.08it/s]\n"
     ]
    },
    {
     "name": "stdout",
     "output_type": "stream",
     "text": [
      "Alpha: 200, ORB: 0.7084697523920453, SIFT: 0.1030968651175499\n"
     ]
    },
    {
     "name": "stderr",
     "output_type": "stream",
     "text": [
      "Caculate similarity of type 0 with alpha 210: 100%|██████████| 500/500 [00:05<00:00, 84.43it/s]\n",
      "Caculate similarity of type 1 with alpha 210: 100%|██████████| 500/500 [00:02<00:00, 243.94it/s]\n",
      "Caculate similarity of type 2 with alpha 210: 100%|██████████| 500/500 [00:00<00:00, 2156.32it/s]\n",
      "Caculate similarity of type 3 with alpha 210: 100%|██████████| 500/500 [00:02<00:00, 230.00it/s]\n",
      "Caculate similarity of type 4 with alpha 210: 100%|██████████| 500/500 [00:06<00:00, 76.30it/s]\n",
      "Caculate similarity of type 5 with alpha 210: 100%|██████████| 500/500 [00:01<00:00, 337.29it/s]\n",
      "Caculate similarity of type 6 with alpha 210: 100%|██████████| 500/500 [00:01<00:00, 260.63it/s]\n",
      "Caculate similarity of type 7 with alpha 210: 100%|██████████| 500/500 [00:01<00:00, 443.41it/s]\n"
     ]
    },
    {
     "name": "stdout",
     "output_type": "stream",
     "text": [
      "Alpha: 210, ORB: 0.705279893666191, SIFT: 0.10060763359069824\n"
     ]
    },
    {
     "name": "stderr",
     "output_type": "stream",
     "text": [
      "Caculate similarity of type 0 with alpha 220: 100%|██████████| 500/500 [00:04<00:00, 100.25it/s]\n",
      "Caculate similarity of type 1 with alpha 220: 100%|██████████| 500/500 [00:02<00:00, 238.08it/s]\n",
      "Caculate similarity of type 2 with alpha 220: 100%|██████████| 500/500 [00:00<00:00, 2213.58it/s]\n",
      "Caculate similarity of type 3 with alpha 220: 100%|██████████| 500/500 [00:01<00:00, 264.58it/s]\n",
      "Caculate similarity of type 4 with alpha 220: 100%|██████████| 500/500 [00:06<00:00, 81.68it/s]\n",
      "Caculate similarity of type 5 with alpha 220: 100%|██████████| 500/500 [00:01<00:00, 360.74it/s]\n",
      "Caculate similarity of type 6 with alpha 220: 100%|██████████| 500/500 [00:01<00:00, 278.06it/s]\n",
      "Caculate similarity of type 7 with alpha 220: 100%|██████████| 500/500 [00:01<00:00, 425.28it/s]\n"
     ]
    },
    {
     "name": "stdout",
     "output_type": "stream",
     "text": [
      "Alpha: 220, ORB: 0.7031183432878169, SIFT: 0.09945539385080338\n"
     ]
    },
    {
     "name": "stderr",
     "output_type": "stream",
     "text": [
      "Caculate similarity of type 0 with alpha 230: 100%|██████████| 500/500 [00:05<00:00, 89.95it/s]\n",
      "Caculate similarity of type 1 with alpha 230: 100%|██████████| 500/500 [00:01<00:00, 253.74it/s]\n",
      "Caculate similarity of type 2 with alpha 230: 100%|██████████| 500/500 [00:00<00:00, 2196.47it/s]\n",
      "Caculate similarity of type 3 with alpha 230: 100%|██████████| 500/500 [00:01<00:00, 264.70it/s]\n",
      "Caculate similarity of type 4 with alpha 230: 100%|██████████| 500/500 [00:06<00:00, 82.74it/s]\n",
      "Caculate similarity of type 5 with alpha 230: 100%|██████████| 500/500 [00:01<00:00, 365.22it/s]\n",
      "Caculate similarity of type 6 with alpha 230: 100%|██████████| 500/500 [00:01<00:00, 284.14it/s]\n",
      "Caculate similarity of type 7 with alpha 230: 100%|██████████| 500/500 [00:01<00:00, 467.74it/s]\n"
     ]
    },
    {
     "name": "stdout",
     "output_type": "stream",
     "text": [
      "Alpha: 230, ORB: 0.7016391179968748, SIFT: 0.09957162290811539\n"
     ]
    },
    {
     "name": "stderr",
     "output_type": "stream",
     "text": [
      "Caculate similarity of type 0 with alpha 240: 100%|██████████| 500/500 [00:05<00:00, 99.71it/s]\n",
      "Caculate similarity of type 1 with alpha 240: 100%|██████████| 500/500 [00:02<00:00, 237.24it/s]\n",
      "Caculate similarity of type 2 with alpha 240: 100%|██████████| 500/500 [00:00<00:00, 2071.58it/s]\n",
      "Caculate similarity of type 3 with alpha 240: 100%|██████████| 500/500 [00:01<00:00, 257.34it/s]\n",
      "Caculate similarity of type 4 with alpha 240: 100%|██████████| 500/500 [00:05<00:00, 83.93it/s]\n",
      "Caculate similarity of type 5 with alpha 240: 100%|██████████| 500/500 [00:01<00:00, 362.35it/s]\n",
      "Caculate similarity of type 6 with alpha 240: 100%|██████████| 500/500 [00:01<00:00, 275.86it/s]\n",
      "Caculate similarity of type 7 with alpha 240: 100%|██████████| 500/500 [00:01<00:00, 449.68it/s]\n"
     ]
    },
    {
     "name": "stdout",
     "output_type": "stream",
     "text": [
      "Alpha: 240, ORB: 0.7015912314398852, SIFT: 0.10274811834096909\n"
     ]
    },
    {
     "name": "stderr",
     "output_type": "stream",
     "text": [
      "Caculate similarity of type 0 with alpha 250: 100%|██████████| 500/500 [00:04<00:00, 102.07it/s]\n",
      "Caculate similarity of type 1 with alpha 250: 100%|██████████| 500/500 [00:02<00:00, 245.37it/s]\n",
      "Caculate similarity of type 2 with alpha 250: 100%|██████████| 500/500 [00:00<00:00, 2129.84it/s]\n",
      "Caculate similarity of type 3 with alpha 250: 100%|██████████| 500/500 [00:01<00:00, 269.10it/s]\n",
      "Caculate similarity of type 4 with alpha 250: 100%|██████████| 500/500 [00:06<00:00, 82.53it/s]\n",
      "Caculate similarity of type 5 with alpha 250: 100%|██████████| 500/500 [00:23<00:00, 21.14it/s] \n",
      "Caculate similarity of type 6 with alpha 250: 100%|██████████| 500/500 [-1:59:40<00:00, -24.68it/s]\n",
      "Caculate similarity of type 7 with alpha 250: 100%|██████████| 500/500 [00:01<00:00, 446.15it/s]\n"
     ]
    },
    {
     "name": "stdout",
     "output_type": "stream",
     "text": [
      "Alpha: 250, ORB: 0.7014002122969121, SIFT: 0.10797320306301117\n"
     ]
    },
    {
     "name": "stderr",
     "output_type": "stream",
     "text": [
      "Caculate similarity of type 0 with alpha 260: 100%|██████████| 500/500 [00:05<00:00, 91.55it/s]\n",
      "Caculate similarity of type 1 with alpha 260: 100%|██████████| 500/500 [00:02<00:00, 227.31it/s]\n",
      "Caculate similarity of type 2 with alpha 260: 100%|██████████| 500/500 [00:00<00:00, 2033.99it/s]\n",
      "Caculate similarity of type 3 with alpha 260: 100%|██████████| 500/500 [00:02<00:00, 238.68it/s]\n",
      "Caculate similarity of type 4 with alpha 260: 100%|██████████| 500/500 [00:06<00:00, 79.35it/s]\n",
      "Caculate similarity of type 5 with alpha 260: 100%|██████████| 500/500 [00:01<00:00, 373.41it/s]\n",
      "Caculate similarity of type 6 with alpha 260: 100%|██████████| 500/500 [00:01<00:00, 276.85it/s]\n",
      "Caculate similarity of type 7 with alpha 260: 100%|██████████| 500/500 [00:01<00:00, 446.51it/s]\n"
     ]
    },
    {
     "name": "stdout",
     "output_type": "stream",
     "text": [
      "Alpha: 260, ORB: 0.7004741383263003, SIFT: 0.11591864377260208\n"
     ]
    },
    {
     "name": "stderr",
     "output_type": "stream",
     "text": [
      "Caculate similarity of type 0 with alpha 270:  23%|██▎       | 116/500 [00:01<00:04, 95.20it/s] \n"
     ]
    },
    {
     "ename": "KeyboardInterrupt",
     "evalue": "",
     "output_type": "error",
     "traceback": [
      "\u001b[0;31m---------------------------------------------------------------------------\u001b[0m",
      "\u001b[0;31mKeyboardInterrupt\u001b[0m                         Traceback (most recent call last)",
      "Cell \u001b[0;32mIn[99], line 78\u001b[0m\n\u001b[1;32m     74\u001b[0m                 orb_cosine_similarity \u001b[38;5;241m=\u001b[39m \u001b[38;5;241m0\u001b[39m\n\u001b[1;32m     75\u001b[0m                 \u001b[38;5;28;01mfor\u001b[39;00m descriptor, descriptor_rotated \u001b[38;5;129;01min\u001b[39;00m \u001b[38;5;28mzip\u001b[39m(\n\u001b[1;32m     76\u001b[0m                     orb_descriptors, orb_descriptors_rotated\n\u001b[1;32m     77\u001b[0m                 ):\n\u001b[0;32m---> 78\u001b[0m                     orb_cosine_similarity \u001b[38;5;241m+\u001b[39m\u001b[38;5;241m=\u001b[39m \u001b[43mcosine_similarity\u001b[49m\u001b[43m(\u001b[49m\n\u001b[1;32m     79\u001b[0m \u001b[43m                        \u001b[49m\u001b[43m[\u001b[49m\u001b[43mdescriptor\u001b[49m\u001b[43m]\u001b[49m\u001b[43m,\u001b[49m\u001b[43m \u001b[49m\u001b[43m[\u001b[49m\u001b[43mdescriptor_rotated\u001b[49m\u001b[43m]\u001b[49m\n\u001b[1;32m     80\u001b[0m \u001b[43m                    \u001b[49m\u001b[43m)\u001b[49m[\u001b[38;5;241m0\u001b[39m][\u001b[38;5;241m0\u001b[39m]\n\u001b[1;32m     81\u001b[0m                 similarity_orb[i]\u001b[38;5;241m.\u001b[39mappend(orb_cosine_similarity \u001b[38;5;241m/\u001b[39m \u001b[38;5;28mlen\u001b[39m(indices))\n\u001b[1;32m     83\u001b[0m similarity_orb_rotation\u001b[38;5;241m.\u001b[39mappend(similarity_orb)\n",
      "File \u001b[0;32m~/anaconda3/envs/opencv_streamlit/lib/python3.12/site-packages/sklearn/utils/_param_validation.py:208\u001b[0m, in \u001b[0;36mvalidate_params.<locals>.decorator.<locals>.wrapper\u001b[0;34m(*args, **kwargs)\u001b[0m\n\u001b[1;32m    203\u001b[0m validate_parameter_constraints(\n\u001b[1;32m    204\u001b[0m     parameter_constraints, params, caller_name\u001b[38;5;241m=\u001b[39mfunc\u001b[38;5;241m.\u001b[39m\u001b[38;5;18m__qualname__\u001b[39m\n\u001b[1;32m    205\u001b[0m )\n\u001b[1;32m    207\u001b[0m \u001b[38;5;28;01mtry\u001b[39;00m:\n\u001b[0;32m--> 208\u001b[0m \u001b[43m    \u001b[49m\u001b[38;5;28;43;01mwith\u001b[39;49;00m\u001b[43m \u001b[49m\u001b[43mconfig_context\u001b[49m\u001b[43m(\u001b[49m\n\u001b[1;32m    209\u001b[0m \u001b[43m        \u001b[49m\u001b[43mskip_parameter_validation\u001b[49m\u001b[38;5;241;43m=\u001b[39;49m\u001b[43m(\u001b[49m\n\u001b[1;32m    210\u001b[0m \u001b[43m            \u001b[49m\u001b[43mprefer_skip_nested_validation\u001b[49m\u001b[43m \u001b[49m\u001b[38;5;129;43;01mor\u001b[39;49;00m\u001b[43m \u001b[49m\u001b[43mglobal_skip_validation\u001b[49m\n\u001b[1;32m    211\u001b[0m \u001b[43m        \u001b[49m\u001b[43m)\u001b[49m\n\u001b[1;32m    212\u001b[0m \u001b[43m    \u001b[49m\u001b[43m)\u001b[49m\u001b[43m:\u001b[49m\n\u001b[1;32m    213\u001b[0m \u001b[43m        \u001b[49m\u001b[38;5;28;43;01mreturn\u001b[39;49;00m\u001b[43m \u001b[49m\u001b[43mfunc\u001b[49m\u001b[43m(\u001b[49m\u001b[38;5;241;43m*\u001b[39;49m\u001b[43margs\u001b[49m\u001b[43m,\u001b[49m\u001b[43m \u001b[49m\u001b[38;5;241;43m*\u001b[39;49m\u001b[38;5;241;43m*\u001b[39;49m\u001b[43mkwargs\u001b[49m\u001b[43m)\u001b[49m\n\u001b[1;32m    214\u001b[0m \u001b[38;5;28;01mexcept\u001b[39;00m InvalidParameterError \u001b[38;5;28;01mas\u001b[39;00m e:\n\u001b[1;32m    215\u001b[0m     \u001b[38;5;66;03m# When the function is just a wrapper around an estimator, we allow\u001b[39;00m\n\u001b[1;32m    216\u001b[0m     \u001b[38;5;66;03m# the function to delegate validation to the estimator, but we replace\u001b[39;00m\n\u001b[1;32m    217\u001b[0m     \u001b[38;5;66;03m# the name of the estimator by the name of the function in the error\u001b[39;00m\n\u001b[1;32m    218\u001b[0m     \u001b[38;5;66;03m# message to avoid confusion.\u001b[39;00m\n",
      "File \u001b[0;32m~/anaconda3/envs/opencv_streamlit/lib/python3.12/contextlib.py:137\u001b[0m, in \u001b[0;36m_GeneratorContextManager.__enter__\u001b[0;34m(self)\u001b[0m\n\u001b[1;32m    135\u001b[0m \u001b[38;5;28;01mdel\u001b[39;00m \u001b[38;5;28mself\u001b[39m\u001b[38;5;241m.\u001b[39margs, \u001b[38;5;28mself\u001b[39m\u001b[38;5;241m.\u001b[39mkwds, \u001b[38;5;28mself\u001b[39m\u001b[38;5;241m.\u001b[39mfunc\n\u001b[1;32m    136\u001b[0m \u001b[38;5;28;01mtry\u001b[39;00m:\n\u001b[0;32m--> 137\u001b[0m     \u001b[38;5;28;01mreturn\u001b[39;00m \u001b[38;5;28;43mnext\u001b[39;49m\u001b[43m(\u001b[49m\u001b[38;5;28;43mself\u001b[39;49m\u001b[38;5;241;43m.\u001b[39;49m\u001b[43mgen\u001b[49m\u001b[43m)\u001b[49m\n\u001b[1;32m    138\u001b[0m \u001b[38;5;28;01mexcept\u001b[39;00m \u001b[38;5;167;01mStopIteration\u001b[39;00m:\n\u001b[1;32m    139\u001b[0m     \u001b[38;5;28;01mraise\u001b[39;00m \u001b[38;5;167;01mRuntimeError\u001b[39;00m(\u001b[38;5;124m\"\u001b[39m\u001b[38;5;124mgenerator didn\u001b[39m\u001b[38;5;124m'\u001b[39m\u001b[38;5;124mt yield\u001b[39m\u001b[38;5;124m\"\u001b[39m) \u001b[38;5;28;01mfrom\u001b[39;00m \u001b[38;5;28;01mNone\u001b[39;00m\n",
      "File \u001b[0;32m~/anaconda3/envs/opencv_streamlit/lib/python3.12/site-packages/sklearn/_config.py:356\u001b[0m, in \u001b[0;36mconfig_context\u001b[0;34m(assume_finite, working_memory, print_changed_only, display, pairwise_dist_chunk_size, enable_cython_pairwise_dist, array_api_dispatch, transform_output, enable_metadata_routing, skip_parameter_validation)\u001b[0m\n\u001b[1;32m    211\u001b[0m \u001b[38;5;129m@contextmanager\u001b[39m\n\u001b[1;32m    212\u001b[0m \u001b[38;5;28;01mdef\u001b[39;00m \u001b[38;5;21mconfig_context\u001b[39m(\n\u001b[1;32m    213\u001b[0m     \u001b[38;5;241m*\u001b[39m,\n\u001b[0;32m   (...)\u001b[0m\n\u001b[1;32m    223\u001b[0m     skip_parameter_validation\u001b[38;5;241m=\u001b[39m\u001b[38;5;28;01mNone\u001b[39;00m,\n\u001b[1;32m    224\u001b[0m ):\n\u001b[1;32m    225\u001b[0m \u001b[38;5;250m    \u001b[39m\u001b[38;5;124;03m\"\"\"Context manager for global scikit-learn configuration.\u001b[39;00m\n\u001b[1;32m    226\u001b[0m \n\u001b[1;32m    227\u001b[0m \u001b[38;5;124;03m    Parameters\u001b[39;00m\n\u001b[0;32m   (...)\u001b[0m\n\u001b[1;32m    354\u001b[0m \u001b[38;5;124;03m    ValueError: Input contains NaN...\u001b[39;00m\n\u001b[1;32m    355\u001b[0m \u001b[38;5;124;03m    \"\"\"\u001b[39;00m\n\u001b[0;32m--> 356\u001b[0m     old_config \u001b[38;5;241m=\u001b[39m \u001b[43mget_config\u001b[49m\u001b[43m(\u001b[49m\u001b[43m)\u001b[49m\n\u001b[1;32m    357\u001b[0m     set_config(\n\u001b[1;32m    358\u001b[0m         assume_finite\u001b[38;5;241m=\u001b[39massume_finite,\n\u001b[1;32m    359\u001b[0m         working_memory\u001b[38;5;241m=\u001b[39mworking_memory,\n\u001b[0;32m   (...)\u001b[0m\n\u001b[1;32m    367\u001b[0m         skip_parameter_validation\u001b[38;5;241m=\u001b[39mskip_parameter_validation,\n\u001b[1;32m    368\u001b[0m     )\n\u001b[1;32m    370\u001b[0m     \u001b[38;5;28;01mtry\u001b[39;00m:\n",
      "File \u001b[0;32m~/anaconda3/envs/opencv_streamlit/lib/python3.12/site-packages/sklearn/_config.py:54\u001b[0m, in \u001b[0;36mget_config\u001b[0;34m()\u001b[0m\n\u001b[1;32m     33\u001b[0m \u001b[38;5;250m\u001b[39m\u001b[38;5;124;03m\"\"\"Retrieve current values for configuration set by :func:`set_config`.\u001b[39;00m\n\u001b[1;32m     34\u001b[0m \n\u001b[1;32m     35\u001b[0m \u001b[38;5;124;03mReturns\u001b[39;00m\n\u001b[0;32m   (...)\u001b[0m\n\u001b[1;32m     50\u001b[0m \u001b[38;5;124;03mdict_keys([...])\u001b[39;00m\n\u001b[1;32m     51\u001b[0m \u001b[38;5;124;03m\"\"\"\u001b[39;00m\n\u001b[1;32m     52\u001b[0m \u001b[38;5;66;03m# Return a copy of the threadlocal configuration so that users will\u001b[39;00m\n\u001b[1;32m     53\u001b[0m \u001b[38;5;66;03m# not be able to modify the configuration with the returned dict.\u001b[39;00m\n\u001b[0;32m---> 54\u001b[0m \u001b[38;5;28;01mreturn\u001b[39;00m \u001b[43m_get_threadlocal_config\u001b[49m\u001b[43m(\u001b[49m\u001b[43m)\u001b[49m\u001b[38;5;241m.\u001b[39mcopy()\n",
      "File \u001b[0;32m~/anaconda3/envs/opencv_streamlit/lib/python3.12/site-packages/sklearn/_config.py:27\u001b[0m, in \u001b[0;36m_get_threadlocal_config\u001b[0;34m()\u001b[0m\n\u001b[1;32m     24\u001b[0m \u001b[38;5;28;01mdef\u001b[39;00m \u001b[38;5;21m_get_threadlocal_config\u001b[39m():\n\u001b[1;32m     25\u001b[0m \u001b[38;5;250m    \u001b[39m\u001b[38;5;124;03m\"\"\"Get a threadlocal **mutable** configuration. If the configuration\u001b[39;00m\n\u001b[1;32m     26\u001b[0m \u001b[38;5;124;03m    does not exist, copy the default global configuration.\"\"\"\u001b[39;00m\n\u001b[0;32m---> 27\u001b[0m     \u001b[38;5;28;01mif\u001b[39;00m \u001b[38;5;129;01mnot\u001b[39;00m \u001b[38;5;28;43mhasattr\u001b[39;49m\u001b[43m(\u001b[49m\u001b[43m_threadlocal\u001b[49m\u001b[43m,\u001b[49m\u001b[43m \u001b[49m\u001b[38;5;124;43m\"\u001b[39;49m\u001b[38;5;124;43mglobal_config\u001b[39;49m\u001b[38;5;124;43m\"\u001b[39;49m\u001b[43m)\u001b[49m:\n\u001b[1;32m     28\u001b[0m         _threadlocal\u001b[38;5;241m.\u001b[39mglobal_config \u001b[38;5;241m=\u001b[39m _global_config\u001b[38;5;241m.\u001b[39mcopy()\n\u001b[1;32m     29\u001b[0m     \u001b[38;5;28;01mreturn\u001b[39;00m _threadlocal\u001b[38;5;241m.\u001b[39mglobal_config\n",
      "\u001b[0;31mKeyboardInterrupt\u001b[0m: "
     ]
    }
   ],
   "source": [
    "from matplotlib import pyplot as plt\n",
    "from sklearn.metrics.pairwise import cosine_similarity\n",
    "\n",
    "orb = cv2.ORB_create(edgeThreshold=0, fastThreshold=0)\n",
    "sift = cv2.SIFT_create()\n",
    "\n",
    "similarity_orb_rotation = []\n",
    "similarity_sift_rotation = []\n",
    "\n",
    "for alpha in range(0, 360, 10):\n",
    "    similarity_orb = []\n",
    "    similarity_sift = []\n",
    "\n",
    "    for i in range(8):\n",
    "        similarity_orb.append([])\n",
    "        similarity_sift.append([])\n",
    "\n",
    "        for j in tqdm(\n",
    "            range(500), f\"Caculate similarity of type {i} with alpha {alpha}\"\n",
    "        ):\n",
    "            # Read image and rotate it\n",
    "            image = cv2.imread(os.path.join(DATATYPES[i], \"images\", f\"{j}.png\"))\n",
    "            h, w = image.shape[:2]\n",
    "            matrix_rotation = cv2.getRotationMatrix2D(\n",
    "                (image.shape[1] / 2, image.shape[0] / 2), alpha, 1\n",
    "            )\n",
    "            rotated_image = cv2.warpAffine(\n",
    "                image, matrix_rotation, (image.shape[1], image.shape[0])\n",
    "            )\n",
    "            gray_scale = cv2.cvtColor(rotated_image, cv2.COLOR_BGR2GRAY)\n",
    "\n",
    "            # Get ground truth and rotate it\n",
    "            ground_truth = np.load(os.path.join(DATATYPES[i], \"points\", f\"{j}.npy\"))\n",
    "            if len(ground_truth) > 0:\n",
    "                ground_truth = np.array([[y, x] for x, y in ground_truth])\n",
    "                ground_truth_X = np.concatenate(\n",
    "                    (ground_truth, np.ones((ground_truth.shape[0], 1))), axis=1\n",
    "                ).T\n",
    "\n",
    "                indices = []\n",
    "                ground_truth_rotated = (matrix_rotation @ ground_truth_X).T\n",
    "                for id, (x, y) in enumerate(ground_truth_rotated):\n",
    "                    if 0 <= x < w and 0 <= y < h:\n",
    "                        indices.append(id)\n",
    "\n",
    "                if len(indices) > 0:\n",
    "                    sift_descriptors = np.array(cache_sift_descriptors[i][j])[indices]\n",
    "                    sift_descriptors_rotated = sift.compute(\n",
    "                        gray_scale,\n",
    "                        [\n",
    "                            cv2.KeyPoint(x, y, 1)\n",
    "                            for x, y in ground_truth_rotated[indices]\n",
    "                        ],\n",
    "                    )[1]\n",
    "\n",
    "                    sift_cosine_similarity = 0\n",
    "                    for descriptor, descriptor_rotated in zip(\n",
    "                        sift_descriptors, sift_descriptors_rotated\n",
    "                    ):\n",
    "                        sift_cosine_similarity += cosine_similarity(\n",
    "                            [descriptor], [descriptor_rotated]\n",
    "                        )[0][0]\n",
    "                    similarity_sift[i].append(sift_cosine_similarity / len(indices))\n",
    "\n",
    "                    orb_descriptors = np.array(cache_orb_descriptors[i][j])[indices]\n",
    "                    orb_descriptors_rotated = orb.compute(\n",
    "                        gray_scale,\n",
    "                        [\n",
    "                            cv2.KeyPoint(x, y, 1)\n",
    "                            for x, y in ground_truth_rotated[indices]\n",
    "                        ],\n",
    "                    )[1]\n",
    "\n",
    "                    orb_cosine_similarity = 0\n",
    "                    for descriptor, descriptor_rotated in zip(\n",
    "                        orb_descriptors, orb_descriptors_rotated\n",
    "                    ):\n",
    "                        orb_cosine_similarity += cosine_similarity(\n",
    "                            [descriptor], [descriptor_rotated]\n",
    "                        )[0][0]\n",
    "                    similarity_orb[i].append(orb_cosine_similarity / len(indices))\n",
    "\n",
    "    similarity_orb_rotation.append(similarity_orb)\n",
    "    similarity_sift_rotation.append(similarity_sift)\n",
    "\n",
    "    sum_1, sum_2 = 0, 0\n",
    "    for i in range(8):\n",
    "        if len(similarity_orb[i]) == 0:\n",
    "            continue\n",
    "        sum_1 += np.mean(similarity_orb[i])\n",
    "        sum_2 += np.mean(similarity_sift[i])\n",
    "\n",
    "    print(f\"Alpha: {alpha}, ORB: {sum_1 / 7}, SIFT: {sum_2 / 7}\")"
   ]
  }
 ],
 "metadata": {
  "kernelspec": {
   "display_name": "opencv_streamlit",
   "language": "python",
   "name": "python3"
  },
  "language_info": {
   "codemirror_mode": {
    "name": "ipython",
    "version": 3
   },
   "file_extension": ".py",
   "mimetype": "text/x-python",
   "name": "python",
   "nbconvert_exporter": "python",
   "pygments_lexer": "ipython3",
   "version": "3.12.5"
  }
 },
 "nbformat": 4,
 "nbformat_minor": 2
}
